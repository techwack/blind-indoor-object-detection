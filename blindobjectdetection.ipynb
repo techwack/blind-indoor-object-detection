{
  "nbformat": 4,
  "nbformat_minor": 0,
  "metadata": {
    "colab": {
      "provenance": [],
      "gpuType": "T4",
      "include_colab_link": true
    },
    "kernelspec": {
      "name": "python3",
      "display_name": "Python 3"
    },
    "language_info": {
      "name": "python"
    },
    "accelerator": "GPU"
  },
  "cells": [
    {
      "cell_type": "markdown",
      "metadata": {
        "id": "view-in-github",
        "colab_type": "text"
      },
      "source": [
        "<a href=\"https://colab.research.google.com/github/techwack/blind-indoor-object-detection/blob/main/blindobjectdetection.ipynb\" target=\"_parent\"><img src=\"https://colab.research.google.com/assets/colab-badge.svg\" alt=\"Open In Colab\"/></a>"
      ]
    },
    {
      "cell_type": "code",
      "source": [
        "!pip install ultralytics"
      ],
      "metadata": {
        "colab": {
          "base_uri": "https://localhost:8080/"
        },
        "collapsed": true,
        "id": "krKKLVEfqdTh",
        "outputId": "51aeec7b-5e6b-48f4-de27-0b82ef616e31"
      },
      "execution_count": 1,
      "outputs": [
        {
          "output_type": "stream",
          "name": "stdout",
          "text": [
            "Collecting ultralytics\n",
            "  Downloading ultralytics-8.3.80-py3-none-any.whl.metadata (35 kB)\n",
            "Requirement already satisfied: numpy<=2.1.1,>=1.23.0 in /usr/local/lib/python3.11/dist-packages (from ultralytics) (1.26.4)\n",
            "Requirement already satisfied: matplotlib>=3.3.0 in /usr/local/lib/python3.11/dist-packages (from ultralytics) (3.10.0)\n",
            "Requirement already satisfied: opencv-python>=4.6.0 in /usr/local/lib/python3.11/dist-packages (from ultralytics) (4.11.0.86)\n",
            "Requirement already satisfied: pillow>=7.1.2 in /usr/local/lib/python3.11/dist-packages (from ultralytics) (11.1.0)\n",
            "Requirement already satisfied: pyyaml>=5.3.1 in /usr/local/lib/python3.11/dist-packages (from ultralytics) (6.0.2)\n",
            "Requirement already satisfied: requests>=2.23.0 in /usr/local/lib/python3.11/dist-packages (from ultralytics) (2.32.3)\n",
            "Requirement already satisfied: scipy>=1.4.1 in /usr/local/lib/python3.11/dist-packages (from ultralytics) (1.13.1)\n",
            "Requirement already satisfied: torch>=1.8.0 in /usr/local/lib/python3.11/dist-packages (from ultralytics) (2.5.1+cu124)\n",
            "Requirement already satisfied: torchvision>=0.9.0 in /usr/local/lib/python3.11/dist-packages (from ultralytics) (0.20.1+cu124)\n",
            "Requirement already satisfied: tqdm>=4.64.0 in /usr/local/lib/python3.11/dist-packages (from ultralytics) (4.67.1)\n",
            "Requirement already satisfied: psutil in /usr/local/lib/python3.11/dist-packages (from ultralytics) (5.9.5)\n",
            "Requirement already satisfied: py-cpuinfo in /usr/local/lib/python3.11/dist-packages (from ultralytics) (9.0.0)\n",
            "Requirement already satisfied: pandas>=1.1.4 in /usr/local/lib/python3.11/dist-packages (from ultralytics) (2.2.2)\n",
            "Requirement already satisfied: seaborn>=0.11.0 in /usr/local/lib/python3.11/dist-packages (from ultralytics) (0.13.2)\n",
            "Collecting ultralytics-thop>=2.0.0 (from ultralytics)\n",
            "  Downloading ultralytics_thop-2.0.14-py3-none-any.whl.metadata (9.4 kB)\n",
            "Requirement already satisfied: contourpy>=1.0.1 in /usr/local/lib/python3.11/dist-packages (from matplotlib>=3.3.0->ultralytics) (1.3.1)\n",
            "Requirement already satisfied: cycler>=0.10 in /usr/local/lib/python3.11/dist-packages (from matplotlib>=3.3.0->ultralytics) (0.12.1)\n",
            "Requirement already satisfied: fonttools>=4.22.0 in /usr/local/lib/python3.11/dist-packages (from matplotlib>=3.3.0->ultralytics) (4.56.0)\n",
            "Requirement already satisfied: kiwisolver>=1.3.1 in /usr/local/lib/python3.11/dist-packages (from matplotlib>=3.3.0->ultralytics) (1.4.8)\n",
            "Requirement already satisfied: packaging>=20.0 in /usr/local/lib/python3.11/dist-packages (from matplotlib>=3.3.0->ultralytics) (24.2)\n",
            "Requirement already satisfied: pyparsing>=2.3.1 in /usr/local/lib/python3.11/dist-packages (from matplotlib>=3.3.0->ultralytics) (3.2.1)\n",
            "Requirement already satisfied: python-dateutil>=2.7 in /usr/local/lib/python3.11/dist-packages (from matplotlib>=3.3.0->ultralytics) (2.8.2)\n",
            "Requirement already satisfied: pytz>=2020.1 in /usr/local/lib/python3.11/dist-packages (from pandas>=1.1.4->ultralytics) (2025.1)\n",
            "Requirement already satisfied: tzdata>=2022.7 in /usr/local/lib/python3.11/dist-packages (from pandas>=1.1.4->ultralytics) (2025.1)\n",
            "Requirement already satisfied: charset-normalizer<4,>=2 in /usr/local/lib/python3.11/dist-packages (from requests>=2.23.0->ultralytics) (3.4.1)\n",
            "Requirement already satisfied: idna<4,>=2.5 in /usr/local/lib/python3.11/dist-packages (from requests>=2.23.0->ultralytics) (3.10)\n",
            "Requirement already satisfied: urllib3<3,>=1.21.1 in /usr/local/lib/python3.11/dist-packages (from requests>=2.23.0->ultralytics) (2.3.0)\n",
            "Requirement already satisfied: certifi>=2017.4.17 in /usr/local/lib/python3.11/dist-packages (from requests>=2.23.0->ultralytics) (2025.1.31)\n",
            "Requirement already satisfied: filelock in /usr/local/lib/python3.11/dist-packages (from torch>=1.8.0->ultralytics) (3.17.0)\n",
            "Requirement already satisfied: typing-extensions>=4.8.0 in /usr/local/lib/python3.11/dist-packages (from torch>=1.8.0->ultralytics) (4.12.2)\n",
            "Requirement already satisfied: networkx in /usr/local/lib/python3.11/dist-packages (from torch>=1.8.0->ultralytics) (3.4.2)\n",
            "Requirement already satisfied: jinja2 in /usr/local/lib/python3.11/dist-packages (from torch>=1.8.0->ultralytics) (3.1.5)\n",
            "Requirement already satisfied: fsspec in /usr/local/lib/python3.11/dist-packages (from torch>=1.8.0->ultralytics) (2024.10.0)\n",
            "Collecting nvidia-cuda-nvrtc-cu12==12.4.127 (from torch>=1.8.0->ultralytics)\n",
            "  Downloading nvidia_cuda_nvrtc_cu12-12.4.127-py3-none-manylinux2014_x86_64.whl.metadata (1.5 kB)\n",
            "Collecting nvidia-cuda-runtime-cu12==12.4.127 (from torch>=1.8.0->ultralytics)\n",
            "  Downloading nvidia_cuda_runtime_cu12-12.4.127-py3-none-manylinux2014_x86_64.whl.metadata (1.5 kB)\n",
            "Collecting nvidia-cuda-cupti-cu12==12.4.127 (from torch>=1.8.0->ultralytics)\n",
            "  Downloading nvidia_cuda_cupti_cu12-12.4.127-py3-none-manylinux2014_x86_64.whl.metadata (1.6 kB)\n",
            "Collecting nvidia-cudnn-cu12==9.1.0.70 (from torch>=1.8.0->ultralytics)\n",
            "  Downloading nvidia_cudnn_cu12-9.1.0.70-py3-none-manylinux2014_x86_64.whl.metadata (1.6 kB)\n",
            "Collecting nvidia-cublas-cu12==12.4.5.8 (from torch>=1.8.0->ultralytics)\n",
            "  Downloading nvidia_cublas_cu12-12.4.5.8-py3-none-manylinux2014_x86_64.whl.metadata (1.5 kB)\n",
            "Collecting nvidia-cufft-cu12==11.2.1.3 (from torch>=1.8.0->ultralytics)\n",
            "  Downloading nvidia_cufft_cu12-11.2.1.3-py3-none-manylinux2014_x86_64.whl.metadata (1.5 kB)\n",
            "Collecting nvidia-curand-cu12==10.3.5.147 (from torch>=1.8.0->ultralytics)\n",
            "  Downloading nvidia_curand_cu12-10.3.5.147-py3-none-manylinux2014_x86_64.whl.metadata (1.5 kB)\n",
            "Collecting nvidia-cusolver-cu12==11.6.1.9 (from torch>=1.8.0->ultralytics)\n",
            "  Downloading nvidia_cusolver_cu12-11.6.1.9-py3-none-manylinux2014_x86_64.whl.metadata (1.6 kB)\n",
            "Collecting nvidia-cusparse-cu12==12.3.1.170 (from torch>=1.8.0->ultralytics)\n",
            "  Downloading nvidia_cusparse_cu12-12.3.1.170-py3-none-manylinux2014_x86_64.whl.metadata (1.6 kB)\n",
            "Requirement already satisfied: nvidia-nccl-cu12==2.21.5 in /usr/local/lib/python3.11/dist-packages (from torch>=1.8.0->ultralytics) (2.21.5)\n",
            "Requirement already satisfied: nvidia-nvtx-cu12==12.4.127 in /usr/local/lib/python3.11/dist-packages (from torch>=1.8.0->ultralytics) (12.4.127)\n",
            "Collecting nvidia-nvjitlink-cu12==12.4.127 (from torch>=1.8.0->ultralytics)\n",
            "  Downloading nvidia_nvjitlink_cu12-12.4.127-py3-none-manylinux2014_x86_64.whl.metadata (1.5 kB)\n",
            "Requirement already satisfied: triton==3.1.0 in /usr/local/lib/python3.11/dist-packages (from torch>=1.8.0->ultralytics) (3.1.0)\n",
            "Requirement already satisfied: sympy==1.13.1 in /usr/local/lib/python3.11/dist-packages (from torch>=1.8.0->ultralytics) (1.13.1)\n",
            "Requirement already satisfied: mpmath<1.4,>=1.1.0 in /usr/local/lib/python3.11/dist-packages (from sympy==1.13.1->torch>=1.8.0->ultralytics) (1.3.0)\n",
            "Requirement already satisfied: six>=1.5 in /usr/local/lib/python3.11/dist-packages (from python-dateutil>=2.7->matplotlib>=3.3.0->ultralytics) (1.17.0)\n",
            "Requirement already satisfied: MarkupSafe>=2.0 in /usr/local/lib/python3.11/dist-packages (from jinja2->torch>=1.8.0->ultralytics) (3.0.2)\n",
            "Downloading ultralytics-8.3.80-py3-none-any.whl (921 kB)\n",
            "\u001b[2K   \u001b[90m━━━━━━━━━━━━━━━━━━━━━━━━━━━━━━━━━━━━━━━━\u001b[0m \u001b[32m921.9/921.9 kB\u001b[0m \u001b[31m12.1 MB/s\u001b[0m eta \u001b[36m0:00:00\u001b[0m\n",
            "\u001b[?25hDownloading nvidia_cublas_cu12-12.4.5.8-py3-none-manylinux2014_x86_64.whl (363.4 MB)\n",
            "\u001b[2K   \u001b[90m━━━━━━━━━━━━━━━━━━━━━━━━━━━━━━━━━━━━━━━━\u001b[0m \u001b[32m363.4/363.4 MB\u001b[0m \u001b[31m4.1 MB/s\u001b[0m eta \u001b[36m0:00:00\u001b[0m\n",
            "\u001b[?25hDownloading nvidia_cuda_cupti_cu12-12.4.127-py3-none-manylinux2014_x86_64.whl (13.8 MB)\n",
            "\u001b[2K   \u001b[90m━━━━━━━━━━━━━━━━━━━━━━━━━━━━━━━━━━━━━━━━\u001b[0m \u001b[32m13.8/13.8 MB\u001b[0m \u001b[31m73.9 MB/s\u001b[0m eta \u001b[36m0:00:00\u001b[0m\n",
            "\u001b[?25hDownloading nvidia_cuda_nvrtc_cu12-12.4.127-py3-none-manylinux2014_x86_64.whl (24.6 MB)\n",
            "\u001b[2K   \u001b[90m━━━━━━━━━━━━━━━━━━━━━━━━━━━━━━━━━━━━━━━━\u001b[0m \u001b[32m24.6/24.6 MB\u001b[0m \u001b[31m75.5 MB/s\u001b[0m eta \u001b[36m0:00:00\u001b[0m\n",
            "\u001b[?25hDownloading nvidia_cuda_runtime_cu12-12.4.127-py3-none-manylinux2014_x86_64.whl (883 kB)\n",
            "\u001b[2K   \u001b[90m━━━━━━━━━━━━━━━━━━━━━━━━━━━━━━━━━━━━━━━━\u001b[0m \u001b[32m883.7/883.7 kB\u001b[0m \u001b[31m51.5 MB/s\u001b[0m eta \u001b[36m0:00:00\u001b[0m\n",
            "\u001b[?25hDownloading nvidia_cudnn_cu12-9.1.0.70-py3-none-manylinux2014_x86_64.whl (664.8 MB)\n",
            "\u001b[2K   \u001b[90m━━━━━━━━━━━━━━━━━━━━━━━━━━━━━━━━━━━━━━━━\u001b[0m \u001b[32m664.8/664.8 MB\u001b[0m \u001b[31m2.8 MB/s\u001b[0m eta \u001b[36m0:00:00\u001b[0m\n",
            "\u001b[?25hDownloading nvidia_cufft_cu12-11.2.1.3-py3-none-manylinux2014_x86_64.whl (211.5 MB)\n",
            "\u001b[2K   \u001b[90m━━━━━━━━━━━━━━━━━━━━━━━━━━━━━━━━━━━━━━━━\u001b[0m \u001b[32m211.5/211.5 MB\u001b[0m \u001b[31m7.3 MB/s\u001b[0m eta \u001b[36m0:00:00\u001b[0m\n",
            "\u001b[?25hDownloading nvidia_curand_cu12-10.3.5.147-py3-none-manylinux2014_x86_64.whl (56.3 MB)\n",
            "\u001b[2K   \u001b[90m━━━━━━━━━━━━━━━━━━━━━━━━━━━━━━━━━━━━━━━━\u001b[0m \u001b[32m56.3/56.3 MB\u001b[0m \u001b[31m12.0 MB/s\u001b[0m eta \u001b[36m0:00:00\u001b[0m\n",
            "\u001b[?25hDownloading nvidia_cusolver_cu12-11.6.1.9-py3-none-manylinux2014_x86_64.whl (127.9 MB)\n",
            "\u001b[2K   \u001b[90m━━━━━━━━━━━━━━━━━━━━━━━━━━━━━━━━━━━━━━━━\u001b[0m \u001b[32m127.9/127.9 MB\u001b[0m \u001b[31m7.2 MB/s\u001b[0m eta \u001b[36m0:00:00\u001b[0m\n",
            "\u001b[?25hDownloading nvidia_cusparse_cu12-12.3.1.170-py3-none-manylinux2014_x86_64.whl (207.5 MB)\n",
            "\u001b[2K   \u001b[90m━━━━━━━━━━━━━━━━━━━━━━━━━━━━━━━━━━━━━━━━\u001b[0m \u001b[32m207.5/207.5 MB\u001b[0m \u001b[31m5.7 MB/s\u001b[0m eta \u001b[36m0:00:00\u001b[0m\n",
            "\u001b[?25hDownloading nvidia_nvjitlink_cu12-12.4.127-py3-none-manylinux2014_x86_64.whl (21.1 MB)\n",
            "\u001b[2K   \u001b[90m━━━━━━━━━━━━━━━━━━━━━━━━━━━━━━━━━━━━━━━━\u001b[0m \u001b[32m21.1/21.1 MB\u001b[0m \u001b[31m78.6 MB/s\u001b[0m eta \u001b[36m0:00:00\u001b[0m\n",
            "\u001b[?25hDownloading ultralytics_thop-2.0.14-py3-none-any.whl (26 kB)\n",
            "Installing collected packages: nvidia-nvjitlink-cu12, nvidia-curand-cu12, nvidia-cufft-cu12, nvidia-cuda-runtime-cu12, nvidia-cuda-nvrtc-cu12, nvidia-cuda-cupti-cu12, nvidia-cublas-cu12, nvidia-cusparse-cu12, nvidia-cudnn-cu12, nvidia-cusolver-cu12, ultralytics-thop, ultralytics\n",
            "  Attempting uninstall: nvidia-nvjitlink-cu12\n",
            "    Found existing installation: nvidia-nvjitlink-cu12 12.5.82\n",
            "    Uninstalling nvidia-nvjitlink-cu12-12.5.82:\n",
            "      Successfully uninstalled nvidia-nvjitlink-cu12-12.5.82\n",
            "  Attempting uninstall: nvidia-curand-cu12\n",
            "    Found existing installation: nvidia-curand-cu12 10.3.6.82\n",
            "    Uninstalling nvidia-curand-cu12-10.3.6.82:\n",
            "      Successfully uninstalled nvidia-curand-cu12-10.3.6.82\n",
            "  Attempting uninstall: nvidia-cufft-cu12\n",
            "    Found existing installation: nvidia-cufft-cu12 11.2.3.61\n",
            "    Uninstalling nvidia-cufft-cu12-11.2.3.61:\n",
            "      Successfully uninstalled nvidia-cufft-cu12-11.2.3.61\n",
            "  Attempting uninstall: nvidia-cuda-runtime-cu12\n",
            "    Found existing installation: nvidia-cuda-runtime-cu12 12.5.82\n",
            "    Uninstalling nvidia-cuda-runtime-cu12-12.5.82:\n",
            "      Successfully uninstalled nvidia-cuda-runtime-cu12-12.5.82\n",
            "  Attempting uninstall: nvidia-cuda-nvrtc-cu12\n",
            "    Found existing installation: nvidia-cuda-nvrtc-cu12 12.5.82\n",
            "    Uninstalling nvidia-cuda-nvrtc-cu12-12.5.82:\n",
            "      Successfully uninstalled nvidia-cuda-nvrtc-cu12-12.5.82\n",
            "  Attempting uninstall: nvidia-cuda-cupti-cu12\n",
            "    Found existing installation: nvidia-cuda-cupti-cu12 12.5.82\n",
            "    Uninstalling nvidia-cuda-cupti-cu12-12.5.82:\n",
            "      Successfully uninstalled nvidia-cuda-cupti-cu12-12.5.82\n",
            "  Attempting uninstall: nvidia-cublas-cu12\n",
            "    Found existing installation: nvidia-cublas-cu12 12.5.3.2\n",
            "    Uninstalling nvidia-cublas-cu12-12.5.3.2:\n",
            "      Successfully uninstalled nvidia-cublas-cu12-12.5.3.2\n",
            "  Attempting uninstall: nvidia-cusparse-cu12\n",
            "    Found existing installation: nvidia-cusparse-cu12 12.5.1.3\n",
            "    Uninstalling nvidia-cusparse-cu12-12.5.1.3:\n",
            "      Successfully uninstalled nvidia-cusparse-cu12-12.5.1.3\n",
            "  Attempting uninstall: nvidia-cudnn-cu12\n",
            "    Found existing installation: nvidia-cudnn-cu12 9.3.0.75\n",
            "    Uninstalling nvidia-cudnn-cu12-9.3.0.75:\n",
            "      Successfully uninstalled nvidia-cudnn-cu12-9.3.0.75\n",
            "  Attempting uninstall: nvidia-cusolver-cu12\n",
            "    Found existing installation: nvidia-cusolver-cu12 11.6.3.83\n",
            "    Uninstalling nvidia-cusolver-cu12-11.6.3.83:\n",
            "      Successfully uninstalled nvidia-cusolver-cu12-11.6.3.83\n",
            "Successfully installed nvidia-cublas-cu12-12.4.5.8 nvidia-cuda-cupti-cu12-12.4.127 nvidia-cuda-nvrtc-cu12-12.4.127 nvidia-cuda-runtime-cu12-12.4.127 nvidia-cudnn-cu12-9.1.0.70 nvidia-cufft-cu12-11.2.1.3 nvidia-curand-cu12-10.3.5.147 nvidia-cusolver-cu12-11.6.1.9 nvidia-cusparse-cu12-12.3.1.170 nvidia-nvjitlink-cu12-12.4.127 ultralytics-8.3.80 ultralytics-thop-2.0.14\n"
          ]
        }
      ]
    },
    {
      "cell_type": "code",
      "source": [
        "!pip install kaggle"
      ],
      "metadata": {
        "colab": {
          "base_uri": "https://localhost:8080/"
        },
        "collapsed": true,
        "id": "gwUao3vgCNSJ",
        "outputId": "0f55d872-efc0-458e-ba90-399a62838c1c"
      },
      "execution_count": 2,
      "outputs": [
        {
          "output_type": "stream",
          "name": "stdout",
          "text": [
            "Requirement already satisfied: kaggle in /usr/local/lib/python3.11/dist-packages (1.6.17)\n",
            "Requirement already satisfied: six>=1.10 in /usr/local/lib/python3.11/dist-packages (from kaggle) (1.17.0)\n",
            "Requirement already satisfied: certifi>=2023.7.22 in /usr/local/lib/python3.11/dist-packages (from kaggle) (2025.1.31)\n",
            "Requirement already satisfied: python-dateutil in /usr/local/lib/python3.11/dist-packages (from kaggle) (2.8.2)\n",
            "Requirement already satisfied: requests in /usr/local/lib/python3.11/dist-packages (from kaggle) (2.32.3)\n",
            "Requirement already satisfied: tqdm in /usr/local/lib/python3.11/dist-packages (from kaggle) (4.67.1)\n",
            "Requirement already satisfied: python-slugify in /usr/local/lib/python3.11/dist-packages (from kaggle) (8.0.4)\n",
            "Requirement already satisfied: urllib3 in /usr/local/lib/python3.11/dist-packages (from kaggle) (2.3.0)\n",
            "Requirement already satisfied: bleach in /usr/local/lib/python3.11/dist-packages (from kaggle) (6.2.0)\n",
            "Requirement already satisfied: webencodings in /usr/local/lib/python3.11/dist-packages (from bleach->kaggle) (0.5.1)\n",
            "Requirement already satisfied: text-unidecode>=1.3 in /usr/local/lib/python3.11/dist-packages (from python-slugify->kaggle) (1.3)\n",
            "Requirement already satisfied: charset-normalizer<4,>=2 in /usr/local/lib/python3.11/dist-packages (from requests->kaggle) (3.4.1)\n",
            "Requirement already satisfied: idna<4,>=2.5 in /usr/local/lib/python3.11/dist-packages (from requests->kaggle) (3.10)\n"
          ]
        }
      ]
    },
    {
      "cell_type": "code",
      "source": [
        "from tqdm.notebook import tqdm"
      ],
      "metadata": {
        "id": "xPLcAzAgnyK_"
      },
      "execution_count": 3,
      "outputs": []
    },
    {
      "cell_type": "code",
      "source": [
        "!pip install gTTS"
      ],
      "metadata": {
        "colab": {
          "base_uri": "https://localhost:8080/"
        },
        "id": "f70e4v2MO0zp",
        "outputId": "1187c871-3937-4bd0-cf54-6c75e8f8b001",
        "collapsed": true
      },
      "execution_count": 4,
      "outputs": [
        {
          "output_type": "stream",
          "name": "stdout",
          "text": [
            "Collecting gTTS\n",
            "  Downloading gTTS-2.5.4-py3-none-any.whl.metadata (4.1 kB)\n",
            "Requirement already satisfied: requests<3,>=2.27 in /usr/local/lib/python3.11/dist-packages (from gTTS) (2.32.3)\n",
            "Requirement already satisfied: click<8.2,>=7.1 in /usr/local/lib/python3.11/dist-packages (from gTTS) (8.1.8)\n",
            "Requirement already satisfied: charset-normalizer<4,>=2 in /usr/local/lib/python3.11/dist-packages (from requests<3,>=2.27->gTTS) (3.4.1)\n",
            "Requirement already satisfied: idna<4,>=2.5 in /usr/local/lib/python3.11/dist-packages (from requests<3,>=2.27->gTTS) (3.10)\n",
            "Requirement already satisfied: urllib3<3,>=1.21.1 in /usr/local/lib/python3.11/dist-packages (from requests<3,>=2.27->gTTS) (2.3.0)\n",
            "Requirement already satisfied: certifi>=2017.4.17 in /usr/local/lib/python3.11/dist-packages (from requests<3,>=2.27->gTTS) (2025.1.31)\n",
            "Downloading gTTS-2.5.4-py3-none-any.whl (29 kB)\n",
            "Installing collected packages: gTTS\n",
            "Successfully installed gTTS-2.5.4\n"
          ]
        }
      ]
    },
    {
      "cell_type": "code",
      "source": [
        "from gtts import gTTS\n",
        "from IPython.display import Audio, display"
      ],
      "metadata": {
        "id": "jaXjgLFkPHpV"
      },
      "execution_count": 5,
      "outputs": []
    },
    {
      "cell_type": "code",
      "source": [
        "def text_to_speech(text, filename='output.mp3'):\n",
        "    tts = gTTS(text=text, lang='en')\n",
        "    tts.save(filename)\n",
        "    return filename\n"
      ],
      "metadata": {
        "id": "ztjJ1d-APMIg"
      },
      "execution_count": 6,
      "outputs": []
    },
    {
      "cell_type": "code",
      "source": [
        "from ultralytics import YOLO\n",
        "print(\"YOLOv8 installed successfully!\")"
      ],
      "metadata": {
        "colab": {
          "base_uri": "https://localhost:8080/"
        },
        "collapsed": true,
        "id": "-zG-0kDc-kb5",
        "outputId": "5a2b3623-dc2c-4547-a0cc-77c9dd5a9dd1"
      },
      "execution_count": 7,
      "outputs": [
        {
          "output_type": "stream",
          "name": "stdout",
          "text": [
            "Creating new Ultralytics Settings v0.0.6 file ✅ \n",
            "View Ultralytics Settings with 'yolo settings' or at '/root/.config/Ultralytics/settings.json'\n",
            "Update Settings with 'yolo settings key=value', i.e. 'yolo settings runs_dir=path/to/dir'. For help see https://docs.ultralytics.com/quickstart/#ultralytics-settings.\n",
            "YOLOv8 installed successfully!\n"
          ]
        }
      ]
    },
    {
      "cell_type": "code",
      "source": [
        "from google.colab import files\n",
        "files.upload()  # This will prompt you to upload the kaggle.json file"
      ],
      "metadata": {
        "colab": {
          "base_uri": "https://localhost:8080/",
          "height": 90
        },
        "collapsed": true,
        "id": "cHhuMZfUDfsL",
        "outputId": "908c994f-9e43-4646-9dbf-270cd5ff46dd"
      },
      "execution_count": 8,
      "outputs": [
        {
          "output_type": "display_data",
          "data": {
            "text/plain": [
              "<IPython.core.display.HTML object>"
            ],
            "text/html": [
              "\n",
              "     <input type=\"file\" id=\"files-588599e7-3596-4079-8928-238ec927e99e\" name=\"files[]\" multiple disabled\n",
              "        style=\"border:none\" />\n",
              "     <output id=\"result-588599e7-3596-4079-8928-238ec927e99e\">\n",
              "      Upload widget is only available when the cell has been executed in the\n",
              "      current browser session. Please rerun this cell to enable.\n",
              "      </output>\n",
              "      <script>// Copyright 2017 Google LLC\n",
              "//\n",
              "// Licensed under the Apache License, Version 2.0 (the \"License\");\n",
              "// you may not use this file except in compliance with the License.\n",
              "// You may obtain a copy of the License at\n",
              "//\n",
              "//      http://www.apache.org/licenses/LICENSE-2.0\n",
              "//\n",
              "// Unless required by applicable law or agreed to in writing, software\n",
              "// distributed under the License is distributed on an \"AS IS\" BASIS,\n",
              "// WITHOUT WARRANTIES OR CONDITIONS OF ANY KIND, either express or implied.\n",
              "// See the License for the specific language governing permissions and\n",
              "// limitations under the License.\n",
              "\n",
              "/**\n",
              " * @fileoverview Helpers for google.colab Python module.\n",
              " */\n",
              "(function(scope) {\n",
              "function span(text, styleAttributes = {}) {\n",
              "  const element = document.createElement('span');\n",
              "  element.textContent = text;\n",
              "  for (const key of Object.keys(styleAttributes)) {\n",
              "    element.style[key] = styleAttributes[key];\n",
              "  }\n",
              "  return element;\n",
              "}\n",
              "\n",
              "// Max number of bytes which will be uploaded at a time.\n",
              "const MAX_PAYLOAD_SIZE = 100 * 1024;\n",
              "\n",
              "function _uploadFiles(inputId, outputId) {\n",
              "  const steps = uploadFilesStep(inputId, outputId);\n",
              "  const outputElement = document.getElementById(outputId);\n",
              "  // Cache steps on the outputElement to make it available for the next call\n",
              "  // to uploadFilesContinue from Python.\n",
              "  outputElement.steps = steps;\n",
              "\n",
              "  return _uploadFilesContinue(outputId);\n",
              "}\n",
              "\n",
              "// This is roughly an async generator (not supported in the browser yet),\n",
              "// where there are multiple asynchronous steps and the Python side is going\n",
              "// to poll for completion of each step.\n",
              "// This uses a Promise to block the python side on completion of each step,\n",
              "// then passes the result of the previous step as the input to the next step.\n",
              "function _uploadFilesContinue(outputId) {\n",
              "  const outputElement = document.getElementById(outputId);\n",
              "  const steps = outputElement.steps;\n",
              "\n",
              "  const next = steps.next(outputElement.lastPromiseValue);\n",
              "  return Promise.resolve(next.value.promise).then((value) => {\n",
              "    // Cache the last promise value to make it available to the next\n",
              "    // step of the generator.\n",
              "    outputElement.lastPromiseValue = value;\n",
              "    return next.value.response;\n",
              "  });\n",
              "}\n",
              "\n",
              "/**\n",
              " * Generator function which is called between each async step of the upload\n",
              " * process.\n",
              " * @param {string} inputId Element ID of the input file picker element.\n",
              " * @param {string} outputId Element ID of the output display.\n",
              " * @return {!Iterable<!Object>} Iterable of next steps.\n",
              " */\n",
              "function* uploadFilesStep(inputId, outputId) {\n",
              "  const inputElement = document.getElementById(inputId);\n",
              "  inputElement.disabled = false;\n",
              "\n",
              "  const outputElement = document.getElementById(outputId);\n",
              "  outputElement.innerHTML = '';\n",
              "\n",
              "  const pickedPromise = new Promise((resolve) => {\n",
              "    inputElement.addEventListener('change', (e) => {\n",
              "      resolve(e.target.files);\n",
              "    });\n",
              "  });\n",
              "\n",
              "  const cancel = document.createElement('button');\n",
              "  inputElement.parentElement.appendChild(cancel);\n",
              "  cancel.textContent = 'Cancel upload';\n",
              "  const cancelPromise = new Promise((resolve) => {\n",
              "    cancel.onclick = () => {\n",
              "      resolve(null);\n",
              "    };\n",
              "  });\n",
              "\n",
              "  // Wait for the user to pick the files.\n",
              "  const files = yield {\n",
              "    promise: Promise.race([pickedPromise, cancelPromise]),\n",
              "    response: {\n",
              "      action: 'starting',\n",
              "    }\n",
              "  };\n",
              "\n",
              "  cancel.remove();\n",
              "\n",
              "  // Disable the input element since further picks are not allowed.\n",
              "  inputElement.disabled = true;\n",
              "\n",
              "  if (!files) {\n",
              "    return {\n",
              "      response: {\n",
              "        action: 'complete',\n",
              "      }\n",
              "    };\n",
              "  }\n",
              "\n",
              "  for (const file of files) {\n",
              "    const li = document.createElement('li');\n",
              "    li.append(span(file.name, {fontWeight: 'bold'}));\n",
              "    li.append(span(\n",
              "        `(${file.type || 'n/a'}) - ${file.size} bytes, ` +\n",
              "        `last modified: ${\n",
              "            file.lastModifiedDate ? file.lastModifiedDate.toLocaleDateString() :\n",
              "                                    'n/a'} - `));\n",
              "    const percent = span('0% done');\n",
              "    li.appendChild(percent);\n",
              "\n",
              "    outputElement.appendChild(li);\n",
              "\n",
              "    const fileDataPromise = new Promise((resolve) => {\n",
              "      const reader = new FileReader();\n",
              "      reader.onload = (e) => {\n",
              "        resolve(e.target.result);\n",
              "      };\n",
              "      reader.readAsArrayBuffer(file);\n",
              "    });\n",
              "    // Wait for the data to be ready.\n",
              "    let fileData = yield {\n",
              "      promise: fileDataPromise,\n",
              "      response: {\n",
              "        action: 'continue',\n",
              "      }\n",
              "    };\n",
              "\n",
              "    // Use a chunked sending to avoid message size limits. See b/62115660.\n",
              "    let position = 0;\n",
              "    do {\n",
              "      const length = Math.min(fileData.byteLength - position, MAX_PAYLOAD_SIZE);\n",
              "      const chunk = new Uint8Array(fileData, position, length);\n",
              "      position += length;\n",
              "\n",
              "      const base64 = btoa(String.fromCharCode.apply(null, chunk));\n",
              "      yield {\n",
              "        response: {\n",
              "          action: 'append',\n",
              "          file: file.name,\n",
              "          data: base64,\n",
              "        },\n",
              "      };\n",
              "\n",
              "      let percentDone = fileData.byteLength === 0 ?\n",
              "          100 :\n",
              "          Math.round((position / fileData.byteLength) * 100);\n",
              "      percent.textContent = `${percentDone}% done`;\n",
              "\n",
              "    } while (position < fileData.byteLength);\n",
              "  }\n",
              "\n",
              "  // All done.\n",
              "  yield {\n",
              "    response: {\n",
              "      action: 'complete',\n",
              "    }\n",
              "  };\n",
              "}\n",
              "\n",
              "scope.google = scope.google || {};\n",
              "scope.google.colab = scope.google.colab || {};\n",
              "scope.google.colab._files = {\n",
              "  _uploadFiles,\n",
              "  _uploadFilesContinue,\n",
              "};\n",
              "})(self);\n",
              "</script> "
            ]
          },
          "metadata": {}
        },
        {
          "output_type": "stream",
          "name": "stdout",
          "text": [
            "Saving kaggle.json to kaggle.json\n"
          ]
        },
        {
          "output_type": "execute_result",
          "data": {
            "text/plain": [
              "{'kaggle.json': b'{\"username\":\"dj0535\",\"key\":\"9caddce2c584c492b0cb4de43192d921\"}'}"
            ]
          },
          "metadata": {},
          "execution_count": 8
        }
      ]
    },
    {
      "cell_type": "code",
      "source": [
        "# Create a directory for Kaggle\n",
        "!mkdir -p ~/.kaggle\n",
        "\n",
        "# Move the kaggle.json file to the correct location\n",
        "!cp kaggle.json ~/.kaggle/\n",
        "\n",
        "# Change the permissions of the kaggle.json file\n",
        "!chmod 600 ~/.kaggle/kaggle.json"
      ],
      "metadata": {
        "id": "KKd_0Pr4bySQ"
      },
      "execution_count": 9,
      "outputs": []
    },
    {
      "cell_type": "code",
      "source": [
        "!kaggle datasets download -d thepbordin/indoor-object-detection"
      ],
      "metadata": {
        "colab": {
          "base_uri": "https://localhost:8080/"
        },
        "id": "CWPyXjqMb2Zo",
        "outputId": "d0c64f8b-fba5-4ea6-b4c6-4f5fefb287bd",
        "collapsed": true
      },
      "execution_count": 10,
      "outputs": [
        {
          "output_type": "stream",
          "name": "stdout",
          "text": [
            "Dataset URL: https://www.kaggle.com/datasets/thepbordin/indoor-object-detection\n",
            "License(s): GNU Lesser General Public License 3.0\n",
            "Downloading indoor-object-detection.zip to /content\n",
            " 99% 362M/367M [00:02<00:00, 183MB/s]\n",
            "100% 367M/367M [00:02<00:00, 148MB/s]\n"
          ]
        }
      ]
    },
    {
      "cell_type": "code",
      "source": [
        "!unzip indoor-object-detection.zip -d /content/indoor-object-detection"
      ],
      "metadata": {
        "colab": {
          "base_uri": "https://localhost:8080/"
        },
        "collapsed": true,
        "id": "Ci6b42tadNVQ",
        "outputId": "6159b6ab-0adc-465e-b94a-e0ab9aa70256"
      },
      "execution_count": 11,
      "outputs": [
        {
          "output_type": "stream",
          "name": "stdout",
          "text": [
            "Archive:  indoor-object-detection.zip\n",
            "  inflating: /content/indoor-object-detection/data.yaml  \n",
            "  inflating: /content/indoor-object-detection/test/images/1003.png  \n",
            "  inflating: /content/indoor-object-detection/test/images/1014.png  \n",
            "  inflating: /content/indoor-object-detection/test/images/1015.png  \n",
            "  inflating: /content/indoor-object-detection/test/images/1020.png  \n",
            "  inflating: /content/indoor-object-detection/test/images/1021.png  \n",
            "  inflating: /content/indoor-object-detection/test/images/1023.png  \n",
            "  inflating: /content/indoor-object-detection/test/images/1026.png  \n",
            "  inflating: /content/indoor-object-detection/test/images/1027.png  \n",
            "  inflating: /content/indoor-object-detection/test/images/1028.png  \n",
            "  inflating: /content/indoor-object-detection/test/images/1029.png  \n",
            "  inflating: /content/indoor-object-detection/test/images/1032.png  \n",
            "  inflating: /content/indoor-object-detection/test/images/1034.png  \n",
            "  inflating: /content/indoor-object-detection/test/images/1040.png  \n",
            "  inflating: /content/indoor-object-detection/test/images/1043.png  \n",
            "  inflating: /content/indoor-object-detection/test/images/1045.png  \n",
            "  inflating: /content/indoor-object-detection/test/images/1047.png  \n",
            "  inflating: /content/indoor-object-detection/test/images/1048.png  \n",
            "  inflating: /content/indoor-object-detection/test/images/1052.png  \n",
            "  inflating: /content/indoor-object-detection/test/images/1054.png  \n",
            "  inflating: /content/indoor-object-detection/test/images/1055.png  \n",
            "  inflating: /content/indoor-object-detection/test/images/1058.png  \n",
            "  inflating: /content/indoor-object-detection/test/images/1065.png  \n",
            "  inflating: /content/indoor-object-detection/test/images/1069.png  \n",
            "  inflating: /content/indoor-object-detection/test/images/1071.png  \n",
            "  inflating: /content/indoor-object-detection/test/images/1079.png  \n",
            "  inflating: /content/indoor-object-detection/test/images/1081.png  \n",
            "  inflating: /content/indoor-object-detection/test/images/1089.png  \n",
            "  inflating: /content/indoor-object-detection/test/images/109.png  \n",
            "  inflating: /content/indoor-object-detection/test/images/1093.png  \n",
            "  inflating: /content/indoor-object-detection/test/images/1095.png  \n",
            "  inflating: /content/indoor-object-detection/test/images/110.png  \n",
            "  inflating: /content/indoor-object-detection/test/images/1101.png  \n",
            "  inflating: /content/indoor-object-detection/test/images/1104.png  \n",
            "  inflating: /content/indoor-object-detection/test/images/1111.png  \n",
            "  inflating: /content/indoor-object-detection/test/images/1112.png  \n",
            "  inflating: /content/indoor-object-detection/test/images/1113.png  \n",
            "  inflating: /content/indoor-object-detection/test/images/1116.png  \n",
            "  inflating: /content/indoor-object-detection/test/images/1119.png  \n",
            "  inflating: /content/indoor-object-detection/test/images/1122.png  \n",
            "  inflating: /content/indoor-object-detection/test/images/1123.png  \n",
            "  inflating: /content/indoor-object-detection/test/images/1125.png  \n",
            "  inflating: /content/indoor-object-detection/test/images/1133.png  \n",
            "  inflating: /content/indoor-object-detection/test/images/1137.png  \n",
            "  inflating: /content/indoor-object-detection/test/images/1138.png  \n",
            "  inflating: /content/indoor-object-detection/test/images/1139.png  \n",
            "  inflating: /content/indoor-object-detection/test/images/1145.png  \n",
            "  inflating: /content/indoor-object-detection/test/images/1154.png  \n",
            "  inflating: /content/indoor-object-detection/test/images/1158.png  \n",
            "  inflating: /content/indoor-object-detection/test/images/116.png  \n",
            "  inflating: /content/indoor-object-detection/test/images/1160.png  \n",
            "  inflating: /content/indoor-object-detection/test/images/1167.png  \n",
            "  inflating: /content/indoor-object-detection/test/images/1171.png  \n",
            "  inflating: /content/indoor-object-detection/test/images/1174.png  \n",
            "  inflating: /content/indoor-object-detection/test/images/1176.png  \n",
            "  inflating: /content/indoor-object-detection/test/images/118.png  \n",
            "  inflating: /content/indoor-object-detection/test/images/1186.png  \n",
            "  inflating: /content/indoor-object-detection/test/images/1187.png  \n",
            "  inflating: /content/indoor-object-detection/test/images/1195.png  \n",
            "  inflating: /content/indoor-object-detection/test/images/12.png  \n",
            "  inflating: /content/indoor-object-detection/test/images/1206.png  \n",
            "  inflating: /content/indoor-object-detection/test/images/1207.png  \n",
            "  inflating: /content/indoor-object-detection/test/images/1209.png  \n",
            "  inflating: /content/indoor-object-detection/test/images/1217.png  \n",
            "  inflating: /content/indoor-object-detection/test/images/1232.png  \n",
            "  inflating: /content/indoor-object-detection/test/images/1239.png  \n",
            "  inflating: /content/indoor-object-detection/test/images/124.png  \n",
            "  inflating: /content/indoor-object-detection/test/images/1245.png  \n",
            "  inflating: /content/indoor-object-detection/test/images/1251.png  \n",
            "  inflating: /content/indoor-object-detection/test/images/1253.png  \n",
            "  inflating: /content/indoor-object-detection/test/images/1256.png  \n",
            "  inflating: /content/indoor-object-detection/test/images/126.png  \n",
            "  inflating: /content/indoor-object-detection/test/images/1269.png  \n",
            "  inflating: /content/indoor-object-detection/test/images/127.png  \n",
            "  inflating: /content/indoor-object-detection/test/images/1278.png  \n",
            "  inflating: /content/indoor-object-detection/test/images/1280.png  \n",
            "  inflating: /content/indoor-object-detection/test/images/1281.png  \n",
            "  inflating: /content/indoor-object-detection/test/images/1287.png  \n",
            "  inflating: /content/indoor-object-detection/test/images/1290.png  \n",
            "  inflating: /content/indoor-object-detection/test/images/1295.png  \n",
            "  inflating: /content/indoor-object-detection/test/images/1300.png  \n",
            "  inflating: /content/indoor-object-detection/test/images/1302.png  \n",
            "  inflating: /content/indoor-object-detection/test/images/1310.png  \n",
            "  inflating: /content/indoor-object-detection/test/images/1311.png  \n",
            "  inflating: /content/indoor-object-detection/test/images/1315.png  \n",
            "  inflating: /content/indoor-object-detection/test/images/1320.png  \n",
            "  inflating: /content/indoor-object-detection/test/images/1323.png  \n",
            "  inflating: /content/indoor-object-detection/test/images/1329.png  \n",
            "  inflating: /content/indoor-object-detection/test/images/133.png  \n",
            "  inflating: /content/indoor-object-detection/test/images/1333.png  \n",
            "  inflating: /content/indoor-object-detection/test/images/1337.png  \n",
            "  inflating: /content/indoor-object-detection/test/images/1338.png  \n",
            "  inflating: /content/indoor-object-detection/test/images/1339.png  \n",
            "  inflating: /content/indoor-object-detection/test/images/1342.png  \n",
            "  inflating: /content/indoor-object-detection/test/images/1344.png  \n",
            "  inflating: /content/indoor-object-detection/test/images/1345.png  \n",
            "  inflating: /content/indoor-object-detection/test/images/1352.png  \n",
            "  inflating: /content/indoor-object-detection/test/images/1357.png  \n",
            "  inflating: /content/indoor-object-detection/test/images/1382.png  \n",
            "  inflating: /content/indoor-object-detection/test/images/831.png  \n",
            "  inflating: /content/indoor-object-detection/test/images/888.png  \n",
            "  inflating: /content/indoor-object-detection/test/images/908.png  \n",
            "  inflating: /content/indoor-object-detection/test/images/921.png  \n",
            "  inflating: /content/indoor-object-detection/test/images/923.png  \n",
            "  inflating: /content/indoor-object-detection/test/images/925.png  \n",
            "  inflating: /content/indoor-object-detection/test/images/954.png  \n",
            "  inflating: /content/indoor-object-detection/test/images/998.png  \n",
            "  inflating: /content/indoor-object-detection/test/images/999.png  \n",
            "  inflating: /content/indoor-object-detection/test/labels/1003.txt  \n",
            "  inflating: /content/indoor-object-detection/test/labels/1014.txt  \n",
            "  inflating: /content/indoor-object-detection/test/labels/1015.txt  \n",
            "  inflating: /content/indoor-object-detection/test/labels/1020.txt  \n",
            "  inflating: /content/indoor-object-detection/test/labels/1021.txt  \n",
            "  inflating: /content/indoor-object-detection/test/labels/1023.txt  \n",
            "  inflating: /content/indoor-object-detection/test/labels/1026.txt  \n",
            "  inflating: /content/indoor-object-detection/test/labels/1027.txt  \n",
            "  inflating: /content/indoor-object-detection/test/labels/1028.txt  \n",
            "  inflating: /content/indoor-object-detection/test/labels/1029.txt  \n",
            "  inflating: /content/indoor-object-detection/test/labels/1032.txt  \n",
            "  inflating: /content/indoor-object-detection/test/labels/1034.txt  \n",
            "  inflating: /content/indoor-object-detection/test/labels/1040.txt  \n",
            "  inflating: /content/indoor-object-detection/test/labels/1043.txt  \n",
            "  inflating: /content/indoor-object-detection/test/labels/1045.txt  \n",
            "  inflating: /content/indoor-object-detection/test/labels/1047.txt  \n",
            "  inflating: /content/indoor-object-detection/test/labels/1048.txt  \n",
            "  inflating: /content/indoor-object-detection/test/labels/1052.txt  \n",
            "  inflating: /content/indoor-object-detection/test/labels/1054.txt  \n",
            "  inflating: /content/indoor-object-detection/test/labels/1055.txt  \n",
            "  inflating: /content/indoor-object-detection/test/labels/1058.txt  \n",
            "  inflating: /content/indoor-object-detection/test/labels/1065.txt  \n",
            "  inflating: /content/indoor-object-detection/test/labels/1069.txt  \n",
            "  inflating: /content/indoor-object-detection/test/labels/1071.txt  \n",
            "  inflating: /content/indoor-object-detection/test/labels/1079.txt  \n",
            "  inflating: /content/indoor-object-detection/test/labels/1081.txt  \n",
            "  inflating: /content/indoor-object-detection/test/labels/1089.txt  \n",
            "  inflating: /content/indoor-object-detection/test/labels/109.txt  \n",
            "  inflating: /content/indoor-object-detection/test/labels/1093.txt  \n",
            "  inflating: /content/indoor-object-detection/test/labels/1095.txt  \n",
            "  inflating: /content/indoor-object-detection/test/labels/110.txt  \n",
            "  inflating: /content/indoor-object-detection/test/labels/1101.txt  \n",
            "  inflating: /content/indoor-object-detection/test/labels/1104.txt  \n",
            "  inflating: /content/indoor-object-detection/test/labels/1111.txt  \n",
            "  inflating: /content/indoor-object-detection/test/labels/1112.txt  \n",
            "  inflating: /content/indoor-object-detection/test/labels/1113.txt  \n",
            "  inflating: /content/indoor-object-detection/test/labels/1116.txt  \n",
            "  inflating: /content/indoor-object-detection/test/labels/1119.txt  \n",
            "  inflating: /content/indoor-object-detection/test/labels/1122.txt  \n",
            "  inflating: /content/indoor-object-detection/test/labels/1123.txt  \n",
            "  inflating: /content/indoor-object-detection/test/labels/1125.txt  \n",
            "  inflating: /content/indoor-object-detection/test/labels/1133.txt  \n",
            "  inflating: /content/indoor-object-detection/test/labels/1137.txt  \n",
            "  inflating: /content/indoor-object-detection/test/labels/1138.txt  \n",
            "  inflating: /content/indoor-object-detection/test/labels/1145.txt  \n",
            "  inflating: /content/indoor-object-detection/test/labels/1154.txt  \n",
            "  inflating: /content/indoor-object-detection/test/labels/1158.txt  \n",
            "  inflating: /content/indoor-object-detection/test/labels/116.txt  \n",
            "  inflating: /content/indoor-object-detection/test/labels/1160.txt  \n",
            "  inflating: /content/indoor-object-detection/test/labels/1171.txt  \n",
            "  inflating: /content/indoor-object-detection/test/labels/1174.txt  \n",
            "  inflating: /content/indoor-object-detection/test/labels/1176.txt  \n",
            "  inflating: /content/indoor-object-detection/test/labels/118.txt  \n",
            "  inflating: /content/indoor-object-detection/test/labels/1186.txt  \n",
            "  inflating: /content/indoor-object-detection/test/labels/1187.txt  \n",
            "  inflating: /content/indoor-object-detection/test/labels/1195.txt  \n",
            "  inflating: /content/indoor-object-detection/test/labels/12.txt  \n",
            "  inflating: /content/indoor-object-detection/test/labels/1206.txt  \n",
            "  inflating: /content/indoor-object-detection/test/labels/1207.txt  \n",
            "  inflating: /content/indoor-object-detection/test/labels/1209.txt  \n",
            "  inflating: /content/indoor-object-detection/test/labels/1217.txt  \n",
            "  inflating: /content/indoor-object-detection/test/labels/1232.txt  \n",
            "  inflating: /content/indoor-object-detection/test/labels/1239.txt  \n",
            "  inflating: /content/indoor-object-detection/test/labels/124.txt  \n",
            "  inflating: /content/indoor-object-detection/test/labels/1245.txt  \n",
            "  inflating: /content/indoor-object-detection/test/labels/1251.txt  \n",
            "  inflating: /content/indoor-object-detection/test/labels/1253.txt  \n",
            "  inflating: /content/indoor-object-detection/test/labels/1256.txt  \n",
            "  inflating: /content/indoor-object-detection/test/labels/126.txt  \n",
            "  inflating: /content/indoor-object-detection/test/labels/1269.txt  \n",
            "  inflating: /content/indoor-object-detection/test/labels/127.txt  \n",
            "  inflating: /content/indoor-object-detection/test/labels/1278.txt  \n",
            "  inflating: /content/indoor-object-detection/test/labels/1280.txt  \n",
            "  inflating: /content/indoor-object-detection/test/labels/1281.txt  \n",
            "  inflating: /content/indoor-object-detection/test/labels/1287.txt  \n",
            "  inflating: /content/indoor-object-detection/test/labels/1290.txt  \n",
            "  inflating: /content/indoor-object-detection/test/labels/1295.txt  \n",
            "  inflating: /content/indoor-object-detection/test/labels/1300.txt  \n",
            "  inflating: /content/indoor-object-detection/test/labels/1302.txt  \n",
            "  inflating: /content/indoor-object-detection/test/labels/1310.txt  \n",
            "  inflating: /content/indoor-object-detection/test/labels/1311.txt  \n",
            "  inflating: /content/indoor-object-detection/test/labels/1315.txt  \n",
            "  inflating: /content/indoor-object-detection/test/labels/1320.txt  \n",
            "  inflating: /content/indoor-object-detection/test/labels/1323.txt  \n",
            "  inflating: /content/indoor-object-detection/test/labels/1329.txt  \n",
            "  inflating: /content/indoor-object-detection/test/labels/133.txt  \n",
            "  inflating: /content/indoor-object-detection/test/labels/1333.txt  \n",
            "  inflating: /content/indoor-object-detection/test/labels/1337.txt  \n",
            "  inflating: /content/indoor-object-detection/test/labels/1338.txt  \n",
            "  inflating: /content/indoor-object-detection/test/labels/1339.txt  \n",
            "  inflating: /content/indoor-object-detection/test/labels/1342.txt  \n",
            "  inflating: /content/indoor-object-detection/test/labels/1344.txt  \n",
            "  inflating: /content/indoor-object-detection/test/labels/1345.txt  \n",
            "  inflating: /content/indoor-object-detection/test/labels/1352.txt  \n",
            "  inflating: /content/indoor-object-detection/test/labels/1357.txt  \n",
            "  inflating: /content/indoor-object-detection/test/labels/1382.txt  \n",
            "  inflating: /content/indoor-object-detection/test/labels/888.txt  \n",
            "  inflating: /content/indoor-object-detection/test/labels/908.txt  \n",
            "  inflating: /content/indoor-object-detection/test/labels/921.txt  \n",
            "  inflating: /content/indoor-object-detection/test/labels/923.txt  \n",
            "  inflating: /content/indoor-object-detection/test/labels/925.txt  \n",
            "  inflating: /content/indoor-object-detection/test/labels/954.txt  \n",
            "  inflating: /content/indoor-object-detection/test/labels/998.txt  \n",
            "  inflating: /content/indoor-object-detection/test/labels/999.txt  \n",
            "  inflating: /content/indoor-object-detection/train/images/0001cb734adac2ee.jpg  \n",
            "  inflating: /content/indoor-object-detection/train/images/000bf0ddff4c7310.jpg  \n",
            "  inflating: /content/indoor-object-detection/train/images/000c052bb4b882c4.jpg  \n",
            "  inflating: /content/indoor-object-detection/train/images/000c66e044e850f7.jpg  \n",
            "  inflating: /content/indoor-object-detection/train/images/000c9e454bbf6d0d.jpg  \n",
            "  inflating: /content/indoor-object-detection/train/images/000cd0b046e4390b.jpg  \n",
            "  inflating: /content/indoor-object-detection/train/images/000ceb7c62a21547.jpg  \n",
            "  inflating: /content/indoor-object-detection/train/images/000d9c77f5749561.jpg  \n",
            "  inflating: /content/indoor-object-detection/train/images/000da932ca7e68e4.jpg  \n",
            "  inflating: /content/indoor-object-detection/train/images/000e80d9cf37daf3.jpg  \n",
            "  inflating: /content/indoor-object-detection/train/images/001bdfc9d80eead2.jpg  \n",
            "  inflating: /content/indoor-object-detection/train/images/0071e79693904a8f.jpg  \n",
            "  inflating: /content/indoor-object-detection/train/images/0072bdea7fb5b94a.jpg  \n",
            "  inflating: /content/indoor-object-detection/train/images/007427672a3d5264.jpg  \n",
            "  inflating: /content/indoor-object-detection/train/images/007821b7c578c94a.jpg  \n",
            "  inflating: /content/indoor-object-detection/train/images/007a4e97abc192b9.jpg  \n",
            "  inflating: /content/indoor-object-detection/train/images/007bae2adf43dd31.jpg  \n",
            "  inflating: /content/indoor-object-detection/train/images/009ae3d6fd97c1fc.jpg  \n",
            "  inflating: /content/indoor-object-detection/train/images/00a1675e670756a1.jpg  \n",
            "  inflating: /content/indoor-object-detection/train/images/00a5be32d303e480.jpg  \n",
            "  inflating: /content/indoor-object-detection/train/images/00a60d051d75144f.jpg  \n",
            "  inflating: /content/indoor-object-detection/train/images/00a76212dad599aa.jpg  \n",
            "  inflating: /content/indoor-object-detection/train/images/00bb60b91c5335b1.jpg  \n",
            "  inflating: /content/indoor-object-detection/train/images/00bccfe3f3c8ae6b.jpg  \n",
            "  inflating: /content/indoor-object-detection/train/images/00bfcd25320fd354.jpg  \n",
            "  inflating: /content/indoor-object-detection/train/images/00bfeaa4a297dd65.jpg  \n",
            "  inflating: /content/indoor-object-detection/train/images/00c06121b63b755a.jpg  \n",
            "  inflating: /content/indoor-object-detection/train/images/00c1bb3fd0f8c041.jpg  \n",
            "  inflating: /content/indoor-object-detection/train/images/00c2c198953fc6d6.jpg  \n",
            "  inflating: /content/indoor-object-detection/train/images/00c4da254151ea38.jpg  \n",
            "  inflating: /content/indoor-object-detection/train/images/00ca2179c6ccfc86.jpg  \n",
            "  inflating: /content/indoor-object-detection/train/images/00cbc7f343eb90ec.jpg  \n",
            "  inflating: /content/indoor-object-detection/train/images/00ce536d4536805d.jpg  \n",
            "  inflating: /content/indoor-object-detection/train/images/00d0ed2f962c1a74.jpg  \n",
            "  inflating: /content/indoor-object-detection/train/images/00d343d4a829121c.jpg  \n",
            "  inflating: /content/indoor-object-detection/train/images/00d3fcbc86861f4a.jpg  \n",
            "  inflating: /content/indoor-object-detection/train/images/00d4a6c8831ca56c.jpg  \n",
            "  inflating: /content/indoor-object-detection/train/images/00d82cf94121d6c1.jpg  \n",
            "  inflating: /content/indoor-object-detection/train/images/00d8dd6d2ce6fc70.jpg  \n",
            "  inflating: /content/indoor-object-detection/train/images/00da8827b3288d89.jpg  \n",
            "  inflating: /content/indoor-object-detection/train/images/00db6b59d3880145.jpg  \n",
            "  inflating: /content/indoor-object-detection/train/images/00db839f935b5829.jpg  \n",
            "  inflating: /content/indoor-object-detection/train/images/00e5c93e53ada7cd.jpg  \n",
            "  inflating: /content/indoor-object-detection/train/images/00e844f581963e31.jpg  \n",
            "  inflating: /content/indoor-object-detection/train/images/00eb261110ac46c5.jpg  \n",
            "  inflating: /content/indoor-object-detection/train/images/00ebbe86769979a4.jpg  \n",
            "  inflating: /content/indoor-object-detection/train/images/00ec888df1bd1aad.jpg  \n",
            "  inflating: /content/indoor-object-detection/train/images/00f0152f65a68569.jpg  \n",
            "  inflating: /content/indoor-object-detection/train/images/00f0f43aca411ec9.jpg  \n",
            "  inflating: /content/indoor-object-detection/train/images/00f6a80e7f1a229a.jpg  \n",
            "  inflating: /content/indoor-object-detection/train/images/01017856bd2da59b.jpg  \n",
            "  inflating: /content/indoor-object-detection/train/images/012570c9ec60f9c4.jpg  \n",
            "  inflating: /content/indoor-object-detection/train/images/0146a6b07d6b3160.jpg  \n",
            "  inflating: /content/indoor-object-detection/train/images/0149f0d7768cbc98.jpg  \n",
            "  inflating: /content/indoor-object-detection/train/images/01a430b5379fe42c.jpg  \n",
            "  inflating: /content/indoor-object-detection/train/images/01b15d5fcabae5b0.jpg  \n",
            "  inflating: /content/indoor-object-detection/train/images/01b8f3f2d2cf7613.jpg  \n",
            "  inflating: /content/indoor-object-detection/train/images/01f460320a53fc91.jpg  \n",
            "  inflating: /content/indoor-object-detection/train/images/0204ffb00eba164b.jpg  \n",
            "  inflating: /content/indoor-object-detection/train/images/0231d1c677d693a4.jpg  \n",
            "  inflating: /content/indoor-object-detection/train/images/023b447cac3b3557.jpg  \n",
            "  inflating: /content/indoor-object-detection/train/images/02719a20199eaf3f.jpg  \n",
            "  inflating: /content/indoor-object-detection/train/images/029123ba6d20f9b1.jpg  \n",
            "  inflating: /content/indoor-object-detection/train/images/02a9c760af8f7a08.jpg  \n",
            "  inflating: /content/indoor-object-detection/train/images/02b7497bfae4a59f.jpg  \n",
            "  inflating: /content/indoor-object-detection/train/images/02cbf03c95c9c8dd.jpg  \n",
            "  inflating: /content/indoor-object-detection/train/images/02e80ea9ff2add79.jpg  \n",
            "  inflating: /content/indoor-object-detection/train/images/02ef3baaf3950a6f.jpg  \n",
            "  inflating: /content/indoor-object-detection/train/images/03105c0683526d25.jpg  \n",
            "  inflating: /content/indoor-object-detection/train/images/0322fade74e6a40d.jpg  \n",
            "  inflating: /content/indoor-object-detection/train/images/03776c806e842674.jpg  \n",
            "  inflating: /content/indoor-object-detection/train/images/03b377e1ea46fde9.jpg  \n",
            "  inflating: /content/indoor-object-detection/train/images/03bac5448c5b00ee.jpg  \n",
            "  inflating: /content/indoor-object-detection/train/images/03ec91fe0cd40911.jpg  \n",
            "  inflating: /content/indoor-object-detection/train/images/0410943ef1919f80.jpg  \n",
            "  inflating: /content/indoor-object-detection/train/images/041926a4858c0a9a.jpg  \n",
            "  inflating: /content/indoor-object-detection/train/images/042534f23997f148.jpg  \n",
            "  inflating: /content/indoor-object-detection/train/images/049a2a3be2638bdd.jpg  \n",
            "  inflating: /content/indoor-object-detection/train/images/04d2b124f5bff6ce.jpg  \n",
            "  inflating: /content/indoor-object-detection/train/images/04fe0d2194377b61.jpg  \n",
            "  inflating: /content/indoor-object-detection/train/images/05867de435365596.jpg  \n",
            "  inflating: /content/indoor-object-detection/train/images/05ac83beab435e3a.jpg  \n",
            "  inflating: /content/indoor-object-detection/train/images/05ad81d9486f4ad4.jpg  \n",
            "  inflating: /content/indoor-object-detection/train/images/060b6662cc9a1d5d.jpg  \n",
            "  inflating: /content/indoor-object-detection/train/images/067b31e56323505d.jpg  \n",
            "  inflating: /content/indoor-object-detection/train/images/06844a396f74ecab.jpg  \n",
            "  inflating: /content/indoor-object-detection/train/images/0690d2b21c098ebc.jpg  \n",
            "  inflating: /content/indoor-object-detection/train/images/0693f25ad57f7e14.jpg  \n",
            "  inflating: /content/indoor-object-detection/train/images/06b7db73a7e952fc.jpg  \n",
            "  inflating: /content/indoor-object-detection/train/images/06bbc09333b6a542.jpg  \n",
            "  inflating: /content/indoor-object-detection/train/images/06c1ae62a6d168a4.jpg  \n",
            "  inflating: /content/indoor-object-detection/train/images/06d3587094d5c496.jpg  \n",
            "  inflating: /content/indoor-object-detection/train/images/06fd633136a92428.jpg  \n",
            "  inflating: /content/indoor-object-detection/train/images/0779f34fe1c7970c.jpg  \n",
            "  inflating: /content/indoor-object-detection/train/images/078460e79cf23e5d.jpg  \n",
            "  inflating: /content/indoor-object-detection/train/images/07c7da6ee633bac1.jpg  \n",
            "  inflating: /content/indoor-object-detection/train/images/07d963c889fe0158.jpg  \n",
            "  inflating: /content/indoor-object-detection/train/images/082d92e88891536a.jpg  \n",
            "  inflating: /content/indoor-object-detection/train/images/08380c1be6830cf7.jpg  \n",
            "  inflating: /content/indoor-object-detection/train/images/088f1b6d8222a73b.jpg  \n",
            "  inflating: /content/indoor-object-detection/train/images/089f139ac3ecde3b.jpg  \n",
            "  inflating: /content/indoor-object-detection/train/images/0934a6117d4ff7b3.jpg  \n",
            "  inflating: /content/indoor-object-detection/train/images/0941c98ad83fb227.jpg  \n",
            "  inflating: /content/indoor-object-detection/train/images/09481f2c338108a3.jpg  \n",
            "  inflating: /content/indoor-object-detection/train/images/094c8f781c8411e0.jpg  \n",
            "  inflating: /content/indoor-object-detection/train/images/09dcaaf01c06516b.jpg  \n",
            "  inflating: /content/indoor-object-detection/train/images/0a41d984fa6937ca.jpg  \n",
            "  inflating: /content/indoor-object-detection/train/images/0a604ed4883b45e5.jpg  \n",
            "  inflating: /content/indoor-object-detection/train/images/0a68ceae0ff06341.jpg  \n",
            "  inflating: /content/indoor-object-detection/train/images/0a6acb71e9635072.jpg  \n",
            "  inflating: /content/indoor-object-detection/train/images/0a76ce8df7ea43ba.jpg  \n",
            "  inflating: /content/indoor-object-detection/train/images/0a98e4fe3ec5592e.jpg  \n",
            "  inflating: /content/indoor-object-detection/train/images/0a9999a432bd9e50.jpg  \n",
            "  inflating: /content/indoor-object-detection/train/images/0ae42210e7fc02af.jpg  \n",
            "  inflating: /content/indoor-object-detection/train/images/0af254143bf95706.jpg  \n",
            "  inflating: /content/indoor-object-detection/train/images/0af40c0e840098a9.jpg  \n",
            "  inflating: /content/indoor-object-detection/train/images/0afd7c29633fe699.jpg  \n",
            "  inflating: /content/indoor-object-detection/train/images/0b126561e29676e1.jpg  \n",
            "  inflating: /content/indoor-object-detection/train/images/0b581e0f018c7f78.jpg  \n",
            "  inflating: /content/indoor-object-detection/train/images/0b5ad6c1ff290b52.jpg  \n",
            "  inflating: /content/indoor-object-detection/train/images/0b60b0c918ad6879.jpg  \n",
            "  inflating: /content/indoor-object-detection/train/images/0b84642b319af1f3.jpg  \n",
            "  inflating: /content/indoor-object-detection/train/images/0bafa9469a8047f7.jpg  \n",
            "  inflating: /content/indoor-object-detection/train/images/0bb4903984e44915.jpg  \n",
            "  inflating: /content/indoor-object-detection/train/images/0bb80f98e936566d.jpg  \n",
            "  inflating: /content/indoor-object-detection/train/images/0bc37b99b3e65f06.jpg  \n",
            "  inflating: /content/indoor-object-detection/train/images/0bc9d9520fed2dee.jpg  \n",
            "  inflating: /content/indoor-object-detection/train/images/0bca4202cbffa259.jpg  \n",
            "  inflating: /content/indoor-object-detection/train/images/0bda614ac5f8d5bb.jpg  \n",
            "  inflating: /content/indoor-object-detection/train/images/0bdde2f91df4c85a.jpg  \n",
            "  inflating: /content/indoor-object-detection/train/images/0be48767aff43b0b.jpg  \n",
            "  inflating: /content/indoor-object-detection/train/images/0be68c7d864c20c0.jpg  \n",
            "  inflating: /content/indoor-object-detection/train/images/0be849b02c044301.jpg  \n",
            "  inflating: /content/indoor-object-detection/train/images/0be9159e4b4bc747.jpg  \n",
            "  inflating: /content/indoor-object-detection/train/images/0beb9cbe0c770abf.jpg  \n",
            "  inflating: /content/indoor-object-detection/train/images/0bed30d0d60d70e5.jpg  \n",
            "  inflating: /content/indoor-object-detection/train/images/0bed85c3c590d016.jpg  \n",
            "  inflating: /content/indoor-object-detection/train/images/0bf01ee25888cb45.jpg  \n",
            "  inflating: /content/indoor-object-detection/train/images/0bf34fddae48b0ab.jpg  \n",
            "  inflating: /content/indoor-object-detection/train/images/0bf4138d0f052cf6.jpg  \n",
            "  inflating: /content/indoor-object-detection/train/images/0bf588f9e87c71ff.jpg  \n",
            "  inflating: /content/indoor-object-detection/train/images/0bf98072f26753f8.jpg  \n",
            "  inflating: /content/indoor-object-detection/train/images/0c00aa9759d5b636.jpg  \n",
            "  inflating: /content/indoor-object-detection/train/images/0c01e89a58eb20a2.jpg  \n",
            "  inflating: /content/indoor-object-detection/train/images/0c02c70c3d8d70e5.jpg  \n",
            "  inflating: /content/indoor-object-detection/train/images/0c04f73a2916eece.jpg  \n",
            "  inflating: /content/indoor-object-detection/train/images/0c07aa933834dbc1.jpg  \n",
            "  inflating: /content/indoor-object-detection/train/images/0c0edea113b641c3.jpg  \n",
            "  inflating: /content/indoor-object-detection/train/images/0c10599382349e7e.jpg  \n",
            "  inflating: /content/indoor-object-detection/train/images/0c134d543aa58495.jpg  \n",
            "  inflating: /content/indoor-object-detection/train/images/0c135555f209015b.jpg  \n",
            "  inflating: /content/indoor-object-detection/train/images/0c1783b09ee05447.jpg  \n",
            "  inflating: /content/indoor-object-detection/train/images/0c190b039c66efee.jpg  \n",
            "  inflating: /content/indoor-object-detection/train/images/0c1ede902091b79f.jpg  \n",
            "  inflating: /content/indoor-object-detection/train/images/0c21d3029041dcca.jpg  \n",
            "  inflating: /content/indoor-object-detection/train/images/0c2273e5f9ab0e67.jpg  \n",
            "  inflating: /content/indoor-object-detection/train/images/0c2594d3710ac469.jpg  \n",
            "  inflating: /content/indoor-object-detection/train/images/0c29cab1caddfc83.jpg  \n",
            "  inflating: /content/indoor-object-detection/train/images/0c2d5a23371dd746.jpg  \n",
            "  inflating: /content/indoor-object-detection/train/images/0c30772b7ea51745.jpg  \n",
            "  inflating: /content/indoor-object-detection/train/images/0c3276102427c9c8.jpg  \n",
            "  inflating: /content/indoor-object-detection/train/images/0c3673f52f7fbe00.jpg  \n",
            "  inflating: /content/indoor-object-detection/train/images/0c40051d1c73fa59.jpg  \n",
            "  inflating: /content/indoor-object-detection/train/images/0c40c79955aed671.jpg  \n",
            "  inflating: /content/indoor-object-detection/train/images/0c41800d0c91812f.jpg  \n",
            "  inflating: /content/indoor-object-detection/train/images/0c49829dd1e2d32f.jpg  \n",
            "  inflating: /content/indoor-object-detection/train/images/0c4acd50c4430066.jpg  \n",
            "  inflating: /content/indoor-object-detection/train/images/0c4eb8de33034f6c.jpg  \n",
            "  inflating: /content/indoor-object-detection/train/images/0c60baa351dbaaf3.jpg  \n",
            "  inflating: /content/indoor-object-detection/train/images/0c62ce6c7096f295.jpg  \n",
            "  inflating: /content/indoor-object-detection/train/images/0c66ca8a2c7536b0.jpg  \n",
            "  inflating: /content/indoor-object-detection/train/images/0c697169b1207217.jpg  \n",
            "  inflating: /content/indoor-object-detection/train/images/0c6ca56a6104ee69.jpg  \n",
            "  inflating: /content/indoor-object-detection/train/images/0c6d76c010c29ef5.jpg  \n",
            "  inflating: /content/indoor-object-detection/train/images/0c74e6f9fdd25d03.jpg  \n",
            "  inflating: /content/indoor-object-detection/train/images/0c752e55cc3e6cc0.jpg  \n",
            "  inflating: /content/indoor-object-detection/train/images/0c77673996e69163.jpg  \n",
            "  inflating: /content/indoor-object-detection/train/images/0c7af5598adff074.jpg  \n",
            "  inflating: /content/indoor-object-detection/train/images/0c89be4d66633ce4.jpg  \n",
            "  inflating: /content/indoor-object-detection/train/images/0c8ebd9431edd552.jpg  \n",
            "  inflating: /content/indoor-object-detection/train/images/0c8fea6749954c4c.jpg  \n",
            "  inflating: /content/indoor-object-detection/train/images/0c9d28cd2da44ccf.jpg  \n",
            "  inflating: /content/indoor-object-detection/train/images/0ca09360855f2b45.jpg  \n",
            "  inflating: /content/indoor-object-detection/train/images/0ca1db52353feee8.jpg  \n",
            "  inflating: /content/indoor-object-detection/train/images/0ca1e90f230f7fee.jpg  \n",
            "  inflating: /content/indoor-object-detection/train/images/0ca5149ec7da08e1.jpg  \n",
            "  inflating: /content/indoor-object-detection/train/images/0ca6e18939996903.jpg  \n",
            "  inflating: /content/indoor-object-detection/train/images/0ca97b08bb473346.jpg  \n",
            "  inflating: /content/indoor-object-detection/train/images/0caf1d7eb9af4449.jpg  \n",
            "  inflating: /content/indoor-object-detection/train/images/0cb3741255649fbc.jpg  \n",
            "  inflating: /content/indoor-object-detection/train/images/0cbe9775007a3f53.jpg  \n",
            "  inflating: /content/indoor-object-detection/train/images/0cbefb4eef9e1f02.jpg  \n",
            "  inflating: /content/indoor-object-detection/train/images/0cc04ceab034a0bc.jpg  \n",
            "  inflating: /content/indoor-object-detection/train/images/0cc0d4d0bf52e7fc.jpg  \n",
            "  inflating: /content/indoor-object-detection/train/images/0cc1bbc28fe24df0.jpg  \n",
            "  inflating: /content/indoor-object-detection/train/images/0cc35169dd5ac02f.jpg  \n",
            "  inflating: /content/indoor-object-detection/train/images/0cc3d0c94666272e.jpg  \n",
            "  inflating: /content/indoor-object-detection/train/images/0cc6f8b9e3087114.jpg  \n",
            "  inflating: /content/indoor-object-detection/train/images/0cc938deed7254e2.jpg  \n",
            "  inflating: /content/indoor-object-detection/train/images/0cc9ed0f1d55ad74.jpg  \n",
            "  inflating: /content/indoor-object-detection/train/images/0ccca12b5aaa0ebc.jpg  \n",
            "  inflating: /content/indoor-object-detection/train/images/0cda59918e7dee1c.jpg  \n",
            "  inflating: /content/indoor-object-detection/train/images/0cda6729b57a32e6.jpg  \n",
            "  inflating: /content/indoor-object-detection/train/images/0cddd3b472bc04cc.jpg  \n",
            "  inflating: /content/indoor-object-detection/train/images/0ce502937920c74a.jpg  \n",
            "  inflating: /content/indoor-object-detection/train/images/0ce5be35e1140b92.jpg  \n",
            "  inflating: /content/indoor-object-detection/train/images/0ce830f1e03e9ec3.jpg  \n",
            "  inflating: /content/indoor-object-detection/train/images/0ceb42b98417b88c.jpg  \n",
            "  inflating: /content/indoor-object-detection/train/images/0cf216bef1ec8e21.jpg  \n",
            "  inflating: /content/indoor-object-detection/train/images/0d0179a3ee895b81.jpg  \n",
            "  inflating: /content/indoor-object-detection/train/images/0d01ee60fc82c415.jpg  \n",
            "  inflating: /content/indoor-object-detection/train/images/0d065e63cc8f31f6.jpg  \n",
            "  inflating: /content/indoor-object-detection/train/images/0d120a5f5b1011d1.jpg  \n",
            "  inflating: /content/indoor-object-detection/train/images/0d1b8d2541c99a0a.jpg  \n",
            "  inflating: /content/indoor-object-detection/train/images/0d2090ea279cafee.jpg  \n",
            "  inflating: /content/indoor-object-detection/train/images/0d21891a9b98ee85.jpg  \n",
            "  inflating: /content/indoor-object-detection/train/images/0d238ce3cf35573d.jpg  \n",
            "  inflating: /content/indoor-object-detection/train/images/0d24ce32e3068ed1.jpg  \n",
            "  inflating: /content/indoor-object-detection/train/images/0d289d83a71e8042.jpg  \n",
            "  inflating: /content/indoor-object-detection/train/images/0d2dfc3c5325f672.jpg  \n",
            "  inflating: /content/indoor-object-detection/train/images/0d2e49086e83c259.jpg  \n",
            "  inflating: /content/indoor-object-detection/train/images/0d34c6ef6030ef6c.jpg  \n",
            "  inflating: /content/indoor-object-detection/train/images/0d35451340e0ca84.jpg  \n",
            "  inflating: /content/indoor-object-detection/train/images/0d3dfbc4ebcd01be.jpg  \n",
            "  inflating: /content/indoor-object-detection/train/images/0d48650c19108b75.jpg  \n",
            "  inflating: /content/indoor-object-detection/train/images/0d48ba24443fb53a.jpg  \n",
            "  inflating: /content/indoor-object-detection/train/images/0d57d247bfb1be21.jpg  \n",
            "  inflating: /content/indoor-object-detection/train/images/0d5c075e91b9309e.jpg  \n",
            "  inflating: /content/indoor-object-detection/train/images/0d5fc81161830bb0.jpg  \n",
            "  inflating: /content/indoor-object-detection/train/images/0d5fe284d37c8c1c.jpg  \n",
            "  inflating: /content/indoor-object-detection/train/images/0d6642763decf970.jpg  \n",
            "  inflating: /content/indoor-object-detection/train/images/0d6d668e47f2938c.jpg  \n",
            "  inflating: /content/indoor-object-detection/train/images/0d6d7ccce3428409.jpg  \n",
            "  inflating: /content/indoor-object-detection/train/images/0d6ef63f9b522465.jpg  \n",
            "  inflating: /content/indoor-object-detection/train/images/0d75f4d0712d4dd7.jpg  \n",
            "  inflating: /content/indoor-object-detection/train/images/0d7b29e9f8911bde.jpg  \n",
            "  inflating: /content/indoor-object-detection/train/images/0d927008502de357.jpg  \n",
            "  inflating: /content/indoor-object-detection/train/images/0d95e4d82e5ff70a.jpg  \n",
            "  inflating: /content/indoor-object-detection/train/images/0d9a27555510c6c2.jpg  \n",
            "  inflating: /content/indoor-object-detection/train/images/0d9ded3ee3f70959.jpg  \n",
            "  inflating: /content/indoor-object-detection/train/images/0db9d88d9eb1992a.jpg  \n",
            "  inflating: /content/indoor-object-detection/train/images/0dba02432495d47a.jpg  \n",
            "  inflating: /content/indoor-object-detection/train/images/0dbae2ad6cb64fbe.jpg  \n",
            "  inflating: /content/indoor-object-detection/train/images/0dbb2f1e7703f5ed.jpg  \n",
            "  inflating: /content/indoor-object-detection/train/images/0dbbd004c90cddf6.jpg  \n",
            "  inflating: /content/indoor-object-detection/train/images/0dbe084a8367a1a2.jpg  \n",
            "  inflating: /content/indoor-object-detection/train/images/0dc08fe92b930864.jpg  \n",
            "  inflating: /content/indoor-object-detection/train/images/0dc660f9d10b8e64.jpg  \n",
            "  inflating: /content/indoor-object-detection/train/images/0dd1c9c6a34eba7c.jpg  \n",
            "  inflating: /content/indoor-object-detection/train/images/0ddb6788a404cfb0.jpg  \n",
            "  inflating: /content/indoor-object-detection/train/images/0ddf7e608a00bab6.jpg  \n",
            "  inflating: /content/indoor-object-detection/train/images/0de53728ccfe3ef6.jpg  \n",
            "  inflating: /content/indoor-object-detection/train/images/0de6911bfc786546.jpg  \n",
            "  inflating: /content/indoor-object-detection/train/images/0df12f74a8fcc05e.jpg  \n",
            "  inflating: /content/indoor-object-detection/train/images/0df32ca61a984d84.jpg  \n",
            "  inflating: /content/indoor-object-detection/train/images/0df8cb86b756c8b6.jpg  \n",
            "  inflating: /content/indoor-object-detection/train/images/0e0121237012f0cb.jpg  \n",
            "  inflating: /content/indoor-object-detection/train/images/0e04873f64e61c1d.jpg  \n",
            "  inflating: /content/indoor-object-detection/train/images/0e04b7fb9fa3c60c.jpg  \n",
            "  inflating: /content/indoor-object-detection/train/images/0e13104a636f5321.jpg  \n",
            "  inflating: /content/indoor-object-detection/train/images/0e1c63e30964dc3b.jpg  \n",
            "  inflating: /content/indoor-object-detection/train/images/0e2208875afa89ca.jpg  \n",
            "  inflating: /content/indoor-object-detection/train/images/0e251034924e90e6.jpg  \n",
            "  inflating: /content/indoor-object-detection/train/images/0e271dcff55afea7.jpg  \n",
            "  inflating: /content/indoor-object-detection/train/images/0e332233f4825d0c.jpg  \n",
            "  inflating: /content/indoor-object-detection/train/images/0e3b7f3fa56e1837.jpg  \n",
            "  inflating: /content/indoor-object-detection/train/images/0e47126559819116.jpg  \n",
            "  inflating: /content/indoor-object-detection/train/images/0e5136e572fda862.jpg  \n",
            "  inflating: /content/indoor-object-detection/train/images/0e527e05c80b2555.jpg  \n",
            "  inflating: /content/indoor-object-detection/train/images/0e59af35fd02431a.jpg  \n",
            "  inflating: /content/indoor-object-detection/train/images/0e5a7c9a1bba1740.jpg  \n",
            "  inflating: /content/indoor-object-detection/train/images/0e5ad4351dedeb0f.jpg  \n",
            "  inflating: /content/indoor-object-detection/train/images/0e5eb7939c00eadf.jpg  \n",
            "  inflating: /content/indoor-object-detection/train/images/0e61cd4a43b03b48.jpg  \n",
            "  inflating: /content/indoor-object-detection/train/images/0e65809d7dfb4af4.jpg  \n",
            "  inflating: /content/indoor-object-detection/train/images/0e7007958c4ba791.jpg  \n",
            "  inflating: /content/indoor-object-detection/train/images/0e723b03f0e74675.jpg  \n",
            "  inflating: /content/indoor-object-detection/train/images/0e759e74589524b3.jpg  \n",
            "  inflating: /content/indoor-object-detection/train/images/0e8139635a72ecb8.jpg  \n",
            "  inflating: /content/indoor-object-detection/train/images/0e82514df72dd3aa.jpg  \n",
            "  inflating: /content/indoor-object-detection/train/images/0e82670d579afccb.jpg  \n",
            "  inflating: /content/indoor-object-detection/train/images/0e8458a440a5a54b.jpg  \n",
            "  inflating: /content/indoor-object-detection/train/images/0e872e10f2531364.jpg  \n",
            "  inflating: /content/indoor-object-detection/train/images/0e87814cbe9dd3c6.jpg  \n",
            "  inflating: /content/indoor-object-detection/train/images/0e8a150cacc30e88.jpg  \n",
            "  inflating: /content/indoor-object-detection/train/images/0e8a380f9b9511c9.jpg  \n",
            "  inflating: /content/indoor-object-detection/train/images/0e9191e310909562.jpg  \n",
            "  inflating: /content/indoor-object-detection/train/images/0e95ed44c4d9d9a6.jpg  \n",
            "  inflating: /content/indoor-object-detection/train/images/0e9c2994fae6f7c4.jpg  \n",
            "  inflating: /content/indoor-object-detection/train/images/0e9cc189512f1913.jpg  \n",
            "  inflating: /content/indoor-object-detection/train/images/0ea71c0967f66a86.jpg  \n",
            "  inflating: /content/indoor-object-detection/train/images/0ea7c53ce3250e8b.jpg  \n",
            "  inflating: /content/indoor-object-detection/train/images/0eae0b36fa39d844.jpg  \n",
            "  inflating: /content/indoor-object-detection/train/images/0eb1595ccaca0013.jpg  \n",
            "  inflating: /content/indoor-object-detection/train/images/0eb20efcc6d11e51.jpg  \n",
            "  inflating: /content/indoor-object-detection/train/images/0eb2c146387764c3.jpg  \n",
            "  inflating: /content/indoor-object-detection/train/images/0eb31e09509587fc.jpg  \n",
            "  inflating: /content/indoor-object-detection/train/images/0eb80289f63b0ea0.jpg  \n",
            "  inflating: /content/indoor-object-detection/train/images/0eb8277c7e986728.jpg  \n",
            "  inflating: /content/indoor-object-detection/train/images/0eb96447e34f087d.jpg  \n",
            "  inflating: /content/indoor-object-detection/train/images/0ec4f09ebbb22648.jpg  \n",
            "  inflating: /content/indoor-object-detection/train/images/0ec87d84a014e1e7.jpg  \n",
            "  inflating: /content/indoor-object-detection/train/images/0ecd790e25be8411.jpg  \n",
            "  inflating: /content/indoor-object-detection/train/images/0ecffef63f024f60.jpg  \n",
            "  inflating: /content/indoor-object-detection/train/images/0ed2e0651308a1e2.jpg  \n",
            "  inflating: /content/indoor-object-detection/train/images/0eec6ad82781383a.jpg  \n",
            "  inflating: /content/indoor-object-detection/train/images/0f238c501cc1f25b.jpg  \n",
            "  inflating: /content/indoor-object-detection/train/images/0f3e5d607d82e4e9.jpg  \n",
            "  inflating: /content/indoor-object-detection/train/images/0f6337a1ea2b6cc2.jpg  \n",
            "  inflating: /content/indoor-object-detection/train/images/0f8745a73f8973ce.jpg  \n",
            "  inflating: /content/indoor-object-detection/train/images/0f9adcc7c8017fa0.jpg  \n",
            "  inflating: /content/indoor-object-detection/train/images/0fa2960d145c66b8.jpg  \n",
            "  inflating: /content/indoor-object-detection/train/images/0faf26cfc4897c22.jpg  \n",
            "  inflating: /content/indoor-object-detection/train/images/0fbe10829d6d74c7.jpg  \n",
            "  inflating: /content/indoor-object-detection/train/images/0fc768a1c637427e.jpg  \n",
            "  inflating: /content/indoor-object-detection/train/images/0fc7a6152fb61259.jpg  \n",
            "  inflating: /content/indoor-object-detection/train/images/0fc8334c3b65dcf0.jpg  \n",
            "  inflating: /content/indoor-object-detection/train/images/0fed17bace91bec5.jpg  \n",
            "  inflating: /content/indoor-object-detection/train/images/10085be0a892b552.jpg  \n",
            "  inflating: /content/indoor-object-detection/train/images/101188062833d608.jpg  \n",
            "  inflating: /content/indoor-object-detection/train/images/105d6a2a63f7ce3c.jpg  \n",
            "  inflating: /content/indoor-object-detection/train/images/10cbf3715b2bcf72.jpg  \n",
            "  inflating: /content/indoor-object-detection/train/images/11739cf765a3f3d5.jpg  \n",
            "  inflating: /content/indoor-object-detection/train/images/120c69125d2577bc.jpg  \n",
            "  inflating: /content/indoor-object-detection/train/images/126b61892259c81b.jpg  \n",
            "  inflating: /content/indoor-object-detection/train/images/12715afbcec55ada.jpg  \n",
            "  inflating: /content/indoor-object-detection/train/images/1288d0c57fdb4463.jpg  \n",
            "  inflating: /content/indoor-object-detection/train/images/129ce8f7369def54.jpg  \n",
            "  inflating: /content/indoor-object-detection/train/images/130071b5f0ee3fee.jpg  \n",
            "  inflating: /content/indoor-object-detection/train/images/131907ba425c3dea.jpg  \n",
            "  inflating: /content/indoor-object-detection/train/images/134a5612209dcdb0.jpg  \n",
            "  inflating: /content/indoor-object-detection/train/images/140e5fc6a1e41e5a.jpg  \n",
            "  inflating: /content/indoor-object-detection/train/images/142745fd0af3aae6.jpg  \n",
            "  inflating: /content/indoor-object-detection/train/images/1437aea69b64e0da.jpg  \n",
            "  inflating: /content/indoor-object-detection/train/images/1529630afc3d553c.jpg  \n",
            "  inflating: /content/indoor-object-detection/train/images/153249ece51160fc.jpg  \n",
            "  inflating: /content/indoor-object-detection/train/images/153cf986ce87c169.jpg  \n",
            "  inflating: /content/indoor-object-detection/train/images/157e5ab3d1edeeba.jpg  \n",
            "  inflating: /content/indoor-object-detection/train/images/159aae161d6b60ff.jpg  \n",
            "  inflating: /content/indoor-object-detection/train/images/159dd40a40630821.jpg  \n",
            "  inflating: /content/indoor-object-detection/train/images/1620ec0a72f1407c.jpg  \n",
            "  inflating: /content/indoor-object-detection/train/images/16233e1005afe696.jpg  \n",
            "  inflating: /content/indoor-object-detection/train/images/163bb8d48332438f.jpg  \n",
            "  inflating: /content/indoor-object-detection/train/images/163ced3084c0d06f.jpg  \n",
            "  inflating: /content/indoor-object-detection/train/images/166207aac94d75ad.jpg  \n",
            "  inflating: /content/indoor-object-detection/train/images/1664c338a8380c25.jpg  \n",
            "  inflating: /content/indoor-object-detection/train/images/169d890f952c3446.jpg  \n",
            "  inflating: /content/indoor-object-detection/train/images/16f7251ee8768470.jpg  \n",
            "  inflating: /content/indoor-object-detection/train/images/17083d5cea0b2bde.jpg  \n",
            "  inflating: /content/indoor-object-detection/train/images/17930a007017e66d.jpg  \n",
            "  inflating: /content/indoor-object-detection/train/images/17a19273286e8b0d.jpg  \n",
            "  inflating: /content/indoor-object-detection/train/images/180e41660f6d6b59.jpg  \n",
            "  inflating: /content/indoor-object-detection/train/images/1874dc5efc12d957.jpg  \n",
            "  inflating: /content/indoor-object-detection/train/images/187fef6c8b9b9429.jpg  \n",
            "  inflating: /content/indoor-object-detection/train/images/195c37710249a08b.jpg  \n",
            "  inflating: /content/indoor-object-detection/train/images/19ee86fe4f079747.jpg  \n",
            "  inflating: /content/indoor-object-detection/train/images/1a0b468e0a8e9526.jpg  \n",
            "  inflating: /content/indoor-object-detection/train/images/1a0dd0f52cd4b067.jpg  \n",
            "  inflating: /content/indoor-object-detection/train/images/1a16454e64199304.jpg  \n",
            "  inflating: /content/indoor-object-detection/train/images/1a1dc4f649c70562.jpg  \n",
            "  inflating: /content/indoor-object-detection/train/images/1a29a20810c42b11.jpg  \n",
            "  inflating: /content/indoor-object-detection/train/images/1a676cb4af696ae8.jpg  \n",
            "  inflating: /content/indoor-object-detection/train/images/1a6fb9d88119d454.jpg  \n",
            "  inflating: /content/indoor-object-detection/train/images/1a7a1723ca12cd46.jpg  \n",
            "  inflating: /content/indoor-object-detection/train/images/1a8f7e65a3ffba8e.jpg  \n",
            "  inflating: /content/indoor-object-detection/train/images/1aab7723fb953996.jpg  \n",
            "  inflating: /content/indoor-object-detection/train/images/1adffb670386a3fd.jpg  \n",
            "  inflating: /content/indoor-object-detection/train/images/1ae7acb4547d5bc0.jpg  \n",
            "  inflating: /content/indoor-object-detection/train/images/1b05c6608e880d1a.jpg  \n",
            "  inflating: /content/indoor-object-detection/train/images/1b476d930e8f73d3.jpg  \n",
            "  inflating: /content/indoor-object-detection/train/images/1b8116a074361a4c.jpg  \n",
            "  inflating: /content/indoor-object-detection/train/images/1bcf4a78296ab8c2.jpg  \n",
            "  inflating: /content/indoor-object-detection/train/images/1bec3b4fca18fed7.jpg  \n",
            "  inflating: /content/indoor-object-detection/train/images/1c058e55368fcd1e.jpg  \n",
            "  inflating: /content/indoor-object-detection/train/images/1c23b05368657306.jpg  \n",
            "  inflating: /content/indoor-object-detection/train/images/1c2868141487ec3c.jpg  \n",
            "  inflating: /content/indoor-object-detection/train/images/1c88726ef503b432.jpg  \n",
            "  inflating: /content/indoor-object-detection/train/images/1c982d27b6c36e2f.jpg  \n",
            "  inflating: /content/indoor-object-detection/train/images/1ca132ffcf81607a.jpg  \n",
            "  inflating: /content/indoor-object-detection/train/images/1ccba45e8e4491a3.jpg  \n",
            "  inflating: /content/indoor-object-detection/train/images/1d624eb29f35af59.jpg  \n",
            "  inflating: /content/indoor-object-detection/train/images/1f043dcedff676ee.jpg  \n",
            "  inflating: /content/indoor-object-detection/train/images/1f481ece45be4cb9.jpg  \n",
            "  inflating: /content/indoor-object-detection/train/images/1f64ae7c9ddade84.jpg  \n",
            "  inflating: /content/indoor-object-detection/train/images/1fdd6001d3da9c56.jpg  \n",
            "  inflating: /content/indoor-object-detection/train/images/1feb783eb3e933aa.jpg  \n",
            "  inflating: /content/indoor-object-detection/train/images/20393a271a3547f0.jpg  \n",
            "  inflating: /content/indoor-object-detection/train/images/20755e349ac81f0c.jpg  \n",
            "  inflating: /content/indoor-object-detection/train/images/2100e86484efda14.jpg  \n",
            "  inflating: /content/indoor-object-detection/train/images/221a39fae7027bea.jpg  \n",
            "  inflating: /content/indoor-object-detection/train/images/22544ddbf28eb989.jpg  \n",
            "  inflating: /content/indoor-object-detection/train/images/226ca7062160972c.jpg  \n",
            "  inflating: /content/indoor-object-detection/train/images/22aa40cd91b4c259.jpg  \n",
            "  inflating: /content/indoor-object-detection/train/images/232b254322144b9b.jpg  \n",
            "  inflating: /content/indoor-object-detection/train/images/233e41a2f2f4b6ae.jpg  \n",
            "  inflating: /content/indoor-object-detection/train/images/233f6a449cf54d20.jpg  \n",
            "  inflating: /content/indoor-object-detection/train/images/235fdb5d486a95a9.jpg  \n",
            "  inflating: /content/indoor-object-detection/train/images/236a3e3f89a05843.jpg  \n",
            "  inflating: /content/indoor-object-detection/train/images/2390034133887c6d.jpg  \n",
            "  inflating: /content/indoor-object-detection/train/images/23e9876d80301685.jpg  \n",
            "  inflating: /content/indoor-object-detection/train/images/246092384ee2655c.jpg  \n",
            "  inflating: /content/indoor-object-detection/train/images/246b474d6ea03d80.jpg  \n",
            "  inflating: /content/indoor-object-detection/train/images/24d85bfa05316aa6.jpg  \n",
            "  inflating: /content/indoor-object-detection/train/images/24eb3cd134fae0aa.jpg  \n",
            "  inflating: /content/indoor-object-detection/train/images/24f0338f385a4482.jpg  \n",
            "  inflating: /content/indoor-object-detection/train/images/259cffd5e01c616c.jpg  \n",
            "  inflating: /content/indoor-object-detection/train/images/25c2f9a7fad20c4b.jpg  \n",
            "  inflating: /content/indoor-object-detection/train/images/25d512338c0d8027.jpg  \n",
            "  inflating: /content/indoor-object-detection/train/images/25e37eb384c326d1.jpg  \n",
            "  inflating: /content/indoor-object-detection/train/images/262dd05d50281235.jpg  \n",
            "  inflating: /content/indoor-object-detection/train/images/263523d1754e3381.jpg  \n",
            "  inflating: /content/indoor-object-detection/train/images/26791f7f58b801e5.jpg  \n",
            "  inflating: /content/indoor-object-detection/train/images/2692f108680f1daf.jpg  \n",
            "  inflating: /content/indoor-object-detection/train/images/26d06e8c8e325e33.jpg  \n",
            "  inflating: /content/indoor-object-detection/train/images/26e5dff94b5672cc.jpg  \n",
            "  inflating: /content/indoor-object-detection/train/images/27a6bcd97e626d69.jpg  \n",
            "  inflating: /content/indoor-object-detection/train/images/288e1b6c95a3fafb.jpg  \n",
            "  inflating: /content/indoor-object-detection/train/images/28c53bd27cc21733.jpg  \n",
            "  inflating: /content/indoor-object-detection/train/images/28e00ee6e869b29a.jpg  \n",
            "  inflating: /content/indoor-object-detection/train/images/2924756d0c31e5b1.jpg  \n",
            "  inflating: /content/indoor-object-detection/train/images/29f810a3baa576e9.jpg  \n",
            "  inflating: /content/indoor-object-detection/train/images/2a4ba364c35f5eb4.jpg  \n",
            "  inflating: /content/indoor-object-detection/train/images/2ae027b4be8f51cd.jpg  \n",
            "  inflating: /content/indoor-object-detection/train/images/2b14997b1b16a397.jpg  \n",
            "  inflating: /content/indoor-object-detection/train/images/2b301b7bbec2ac71.jpg  \n",
            "  inflating: /content/indoor-object-detection/train/images/2b87340ff50deb6f.jpg  \n",
            "  inflating: /content/indoor-object-detection/train/images/2ba0dbc88f47be4f.jpg  \n",
            "  inflating: /content/indoor-object-detection/train/images/2bbb8c43a3380316.jpg  \n",
            "  inflating: /content/indoor-object-detection/train/images/2bedb89760b9aec1.jpg  \n",
            "  inflating: /content/indoor-object-detection/train/images/2bedf10fd4f91cb5.jpg  \n",
            "  inflating: /content/indoor-object-detection/train/images/2d468bcf407e1bb7.jpg  \n",
            "  inflating: /content/indoor-object-detection/train/images/2d8c5de6b51f0218.jpg  \n",
            "  inflating: /content/indoor-object-detection/train/images/2dbb38375dfccd4c.jpg  \n",
            "  inflating: /content/indoor-object-detection/train/images/2dd3c69f6fc9f507.jpg  \n",
            "  inflating: /content/indoor-object-detection/train/images/2df986f499124b4d.jpg  \n",
            "  inflating: /content/indoor-object-detection/train/images/2e193eef6f6a4561.jpg  \n",
            "  inflating: /content/indoor-object-detection/train/images/2ebe6cb84c45521d.jpg  \n",
            "  inflating: /content/indoor-object-detection/train/images/304bb3a9e63f9e61.jpg  \n",
            "  inflating: /content/indoor-object-detection/train/images/31780c088d1708b4.jpg  \n",
            "  inflating: /content/indoor-object-detection/train/images/326fcb1f54d4419b.jpg  \n",
            "  inflating: /content/indoor-object-detection/train/images/329eb1c79bca4679.jpg  \n",
            "  inflating: /content/indoor-object-detection/train/images/32a5a75aff331bbc.jpg  \n",
            "  inflating: /content/indoor-object-detection/train/images/33504d37e7a2553c.jpg  \n",
            "  inflating: /content/indoor-object-detection/train/images/3351f25dbcbbc567.jpg  \n",
            "  inflating: /content/indoor-object-detection/train/images/337943b28eb19de0.jpg  \n",
            "  inflating: /content/indoor-object-detection/train/images/33af4d41ba6bf2d0.jpg  \n",
            "  inflating: /content/indoor-object-detection/train/images/33afe4d6bf179557.jpg  \n",
            "  inflating: /content/indoor-object-detection/train/images/33f5984924e1a395.jpg  \n",
            "  inflating: /content/indoor-object-detection/train/images/35168644edae9d03.jpg  \n",
            "  inflating: /content/indoor-object-detection/train/images/353c23e5755fa4ae.jpg  \n",
            "  inflating: /content/indoor-object-detection/train/images/354ed4678a4c3714.jpg  \n",
            "  inflating: /content/indoor-object-detection/train/images/35e319bc1fb875a6.jpg  \n",
            "  inflating: /content/indoor-object-detection/train/images/363ca9571e4863dc.jpg  \n",
            "  inflating: /content/indoor-object-detection/train/images/364.png  \n",
            "  inflating: /content/indoor-object-detection/train/images/365185d0df5934ae.jpg  \n",
            "  inflating: /content/indoor-object-detection/train/images/373f67ed902f026e.jpg  \n",
            "  inflating: /content/indoor-object-detection/train/images/383b3d43f4b1e55a.jpg  \n",
            "  inflating: /content/indoor-object-detection/train/images/385.png  \n",
            "  inflating: /content/indoor-object-detection/train/images/386644a72691a05a.jpg  \n",
            "  inflating: /content/indoor-object-detection/train/images/3867a43bb5f81650.jpg  \n",
            "  inflating: /content/indoor-object-detection/train/images/387.png  \n",
            "  inflating: /content/indoor-object-detection/train/images/387e9cd2e5d4ea7d.jpg  \n",
            "  inflating: /content/indoor-object-detection/train/images/38a7fa0a0fb6ffe6.jpg  \n",
            "  inflating: /content/indoor-object-detection/train/images/38e1f50b06675a3002db05142cd17f66.jpg  \n",
            "  inflating: /content/indoor-object-detection/train/images/392132dff3b498a0.jpg  \n",
            "  inflating: /content/indoor-object-detection/train/images/393.png  \n",
            "  inflating: /content/indoor-object-detection/train/images/39532c6b940f7180.jpg  \n",
            "  inflating: /content/indoor-object-detection/train/images/397.png  \n",
            "  inflating: /content/indoor-object-detection/train/images/397841a27847b8fb.jpg  \n",
            "  inflating: /content/indoor-object-detection/train/images/398.png  \n",
            "  inflating: /content/indoor-object-detection/train/images/398259f32f14d105.jpg  \n",
            "  inflating: /content/indoor-object-detection/train/images/3993068ec38edcda.jpg  \n",
            "  inflating: /content/indoor-object-detection/train/images/39988dc3a63d8751.jpg  \n",
            "  inflating: /content/indoor-object-detection/train/images/39e7a25a724c9e8d.jpg  \n",
            "  inflating: /content/indoor-object-detection/train/images/3a34cb02ae02ffaf.jpg  \n",
            "  inflating: /content/indoor-object-detection/train/images/3a4aa6f2e2d333cc.jpg  \n",
            "  inflating: /content/indoor-object-detection/train/images/3a74f7cdfb3c9a10.jpg  \n",
            "  inflating: /content/indoor-object-detection/train/images/3a88570f0f1b6ac9.jpg  \n",
            "  inflating: /content/indoor-object-detection/train/images/3bcc3adf863d920f.jpg  \n",
            "  inflating: /content/indoor-object-detection/train/images/3c027963e04af26b.jpg  \n",
            "  inflating: /content/indoor-object-detection/train/images/3c2358db7a020ba6.jpg  \n",
            "  inflating: /content/indoor-object-detection/train/images/3c90babc7fdb6047.jpg  \n",
            "  inflating: /content/indoor-object-detection/train/images/3d0e9fdb22c5d471.jpg  \n",
            "  inflating: /content/indoor-object-detection/train/images/3d1e219b64f04223.jpg  \n",
            "  inflating: /content/indoor-object-detection/train/images/3d1e24df80f31791.jpg  \n",
            "  inflating: /content/indoor-object-detection/train/images/3d37bb6b541a1479.jpg  \n",
            "  inflating: /content/indoor-object-detection/train/images/3d94428eaf8808c2.jpg  \n",
            "  inflating: /content/indoor-object-detection/train/images/3df127ff760a9b10.jpg  \n",
            "  inflating: /content/indoor-object-detection/train/images/3faeb802f7270ce5.jpg  \n",
            "  inflating: /content/indoor-object-detection/train/images/3ffc848a9657bfac.jpg  \n",
            "  inflating: /content/indoor-object-detection/train/images/401524b30fa05ab1.jpg  \n",
            "  inflating: /content/indoor-object-detection/train/images/401d7aae63c3b63c.jpg  \n",
            "  inflating: /content/indoor-object-detection/train/images/403.png  \n",
            "  inflating: /content/indoor-object-detection/train/images/4076c48b2cd6bdce.jpg  \n",
            "  inflating: /content/indoor-object-detection/train/images/40803bdda76313b9.jpg  \n",
            "  inflating: /content/indoor-object-detection/train/images/40bc03bdddd567c3.jpg  \n",
            "  inflating: /content/indoor-object-detection/train/images/415de5fd4c5877ac.jpg  \n",
            "  inflating: /content/indoor-object-detection/train/images/41fed52ee5654113.jpg  \n",
            "  inflating: /content/indoor-object-detection/train/images/4267079863bd27fa.jpg  \n",
            "  inflating: /content/indoor-object-detection/train/images/426def0b17a5c492.jpg  \n",
            "  inflating: /content/indoor-object-detection/train/images/42c35b8fdfdd2d12.jpg  \n",
            "  inflating: /content/indoor-object-detection/train/images/4413ebcc67201cff.jpg  \n",
            "  inflating: /content/indoor-object-detection/train/images/443866e9d68f90f3.jpg  \n",
            "  inflating: /content/indoor-object-detection/train/images/4491c47e3ef1d2ae.jpg  \n",
            "  inflating: /content/indoor-object-detection/train/images/44d007381712ad26.jpg  \n",
            "  inflating: /content/indoor-object-detection/train/images/4508de4f680374a7.jpg  \n",
            "  inflating: /content/indoor-object-detection/train/images/456b98a5010e4258.jpg  \n",
            "  inflating: /content/indoor-object-detection/train/images/459eb80a93786a39.jpg  \n",
            "  inflating: /content/indoor-object-detection/train/images/45b9e344eaabc194.jpg  \n",
            "  inflating: /content/indoor-object-detection/train/images/466fc40cb767a4b8.jpg  \n",
            "  inflating: /content/indoor-object-detection/train/images/46dccf0478d760a5.jpg  \n",
            "  inflating: /content/indoor-object-detection/train/images/4736100d6746b54f.jpg  \n",
            "  inflating: /content/indoor-object-detection/train/images/475c07fa76126b67.jpg  \n",
            "  inflating: /content/indoor-object-detection/train/images/475fa21801be09c8.jpg  \n",
            "  inflating: /content/indoor-object-detection/train/images/47c21befdabb119e.jpg  \n",
            "  inflating: /content/indoor-object-detection/train/images/47f612a6c7cc8a11.jpg  \n",
            "  inflating: /content/indoor-object-detection/train/images/4841959e5e9278ef.jpg  \n",
            "  inflating: /content/indoor-object-detection/train/images/4906acaa9d04d415.jpg  \n",
            "  inflating: /content/indoor-object-detection/train/images/4956ccee7130b88c.jpg  \n",
            "  inflating: /content/indoor-object-detection/train/images/4959b7c9afc20cd4.jpg  \n",
            "  inflating: /content/indoor-object-detection/train/images/497b8adaaacd41d6.jpg  \n",
            "  inflating: /content/indoor-object-detection/train/images/4a4ed2e67f034405.jpg  \n",
            "  inflating: /content/indoor-object-detection/train/images/4a89d557495fd302.jpg  \n",
            "  inflating: /content/indoor-object-detection/train/images/4ad2b99ef5fb838c.jpg  \n",
            "  inflating: /content/indoor-object-detection/train/images/4b0373749941c8b8.jpg  \n",
            "  inflating: /content/indoor-object-detection/train/images/4c97a04e77fbb839.jpg  \n",
            "  inflating: /content/indoor-object-detection/train/images/4d04388521138c9a.jpg  \n",
            "  inflating: /content/indoor-object-detection/train/images/4d3d3cdcf68ae183.jpg  \n",
            "  inflating: /content/indoor-object-detection/train/images/4d550dc12b4d59f8.jpg  \n",
            "  inflating: /content/indoor-object-detection/train/images/4dc6f94c7720fda8.jpg  \n",
            "  inflating: /content/indoor-object-detection/train/images/4e555579acbb6b6f.jpg  \n",
            "  inflating: /content/indoor-object-detection/train/images/4e908bcaf9999ab2.jpg  \n",
            "  inflating: /content/indoor-object-detection/train/images/4e9b6116d0225860.jpg  \n",
            "  inflating: /content/indoor-object-detection/train/images/4f5cb2b206085851.jpg  \n",
            "  inflating: /content/indoor-object-detection/train/images/501f8211256ad97d.jpg  \n",
            "  inflating: /content/indoor-object-detection/train/images/506bd74062053978.jpg  \n",
            "  inflating: /content/indoor-object-detection/train/images/50e85d3e78a16fef.jpg  \n",
            "  inflating: /content/indoor-object-detection/train/images/50fa7f3914b3d38c.jpg  \n",
            "  inflating: /content/indoor-object-detection/train/images/5117b754613a09a9.jpg  \n",
            "  inflating: /content/indoor-object-detection/train/images/512e763b23503a34.jpg  \n",
            "  inflating: /content/indoor-object-detection/train/images/514.png  \n",
            "  inflating: /content/indoor-object-detection/train/images/515.png  \n",
            "  inflating: /content/indoor-object-detection/train/images/51bdb40a3f51cce3.jpg  \n",
            "  inflating: /content/indoor-object-detection/train/images/51e33ffbe112a894.jpg  \n",
            "  inflating: /content/indoor-object-detection/train/images/51ecff8aaf1259ee.jpg  \n",
            "  inflating: /content/indoor-object-detection/train/images/51fc0cf2342e5d27.jpg  \n",
            "  inflating: /content/indoor-object-detection/train/images/520.png  \n",
            "  inflating: /content/indoor-object-detection/train/images/520492e209ebc73a.jpg  \n",
            "  inflating: /content/indoor-object-detection/train/images/523.png  \n",
            "  inflating: /content/indoor-object-detection/train/images/524.png  \n",
            "  inflating: /content/indoor-object-detection/train/images/52b15cf19d8257e2.jpg  \n",
            "  inflating: /content/indoor-object-detection/train/images/52f7e4f43ef61dd5.jpg  \n",
            "  inflating: /content/indoor-object-detection/train/images/536016aff24a055e.jpg  \n",
            "  inflating: /content/indoor-object-detection/train/images/5370bbe2b9812ad5.jpg  \n",
            "  inflating: /content/indoor-object-detection/train/images/539d933aefb44a68.jpg  \n",
            "  inflating: /content/indoor-object-detection/train/images/53fe1fd9e2520c59.jpg  \n",
            "  inflating: /content/indoor-object-detection/train/images/558dca00c6176f20.jpg  \n",
            "  inflating: /content/indoor-object-detection/train/images/55bf2e82882b5470.jpg  \n",
            "  inflating: /content/indoor-object-detection/train/images/55e95a2fb13f7017.jpg  \n",
            "  inflating: /content/indoor-object-detection/train/images/563dcdcfc82b9d71.jpg  \n",
            "  inflating: /content/indoor-object-detection/train/images/56a4134de515693b.jpg  \n",
            "  inflating: /content/indoor-object-detection/train/images/57cea5606fb7fdc4.jpg  \n",
            "  inflating: /content/indoor-object-detection/train/images/57da1fb96266fe9d.jpg  \n",
            "  inflating: /content/indoor-object-detection/train/images/57e67f96c54757d6.jpg  \n",
            "  inflating: /content/indoor-object-detection/train/images/58b547e7ce3ca583.jpg  \n",
            "  inflating: /content/indoor-object-detection/train/images/5a2c27a3dfb3ddae.jpg  \n",
            "  inflating: /content/indoor-object-detection/train/images/5a36fdbd295c085e.jpg  \n",
            "  inflating: /content/indoor-object-detection/train/images/5b2e84d553d0f898.jpg  \n",
            "  inflating: /content/indoor-object-detection/train/images/5bd7f210fa544a9f.jpg  \n",
            "  inflating: /content/indoor-object-detection/train/images/5c230f99fb6acb59.jpg  \n",
            "  inflating: /content/indoor-object-detection/train/images/5cc695cd54ad90a8.jpg  \n",
            "  inflating: /content/indoor-object-detection/train/images/5ccf71d7e2a93e7d.jpg  \n",
            "  inflating: /content/indoor-object-detection/train/images/5d01f4dc0aebf2fa.jpg  \n",
            "  inflating: /content/indoor-object-detection/train/images/5d59b6e0d5470c44.jpg  \n",
            "  inflating: /content/indoor-object-detection/train/images/5de300995c93ef8b.jpg  \n",
            "  inflating: /content/indoor-object-detection/train/images/5dee23ea41a3f27e.jpg  \n",
            "  inflating: /content/indoor-object-detection/train/images/5e3b17a53c5bc62f.jpg  \n",
            "  inflating: /content/indoor-object-detection/train/images/5e40cdc400798d34.jpg  \n",
            "  inflating: /content/indoor-object-detection/train/images/5e4a3a21836fdd9b.jpg  \n",
            "  inflating: /content/indoor-object-detection/train/images/5f0f35817611bdac.jpg  \n",
            "  inflating: /content/indoor-object-detection/train/images/5f91ad235094ae04.jpg  \n",
            "  inflating: /content/indoor-object-detection/train/images/603dd33e938d9611.jpg  \n",
            "  inflating: /content/indoor-object-detection/train/images/60b0562e30e0c69a.jpg  \n",
            "  inflating: /content/indoor-object-detection/train/images/60b3c35003cfb3d9.jpg  \n",
            "  inflating: /content/indoor-object-detection/train/images/60fcfa435c20a830.jpg  \n",
            "  inflating: /content/indoor-object-detection/train/images/610.png  \n",
            "  inflating: /content/indoor-object-detection/train/images/614.png  \n",
            "  inflating: /content/indoor-object-detection/train/images/615.png  \n",
            "  inflating: /content/indoor-object-detection/train/images/619a66a0a8e51846.jpg  \n",
            "  inflating: /content/indoor-object-detection/train/images/61f154d20d8b9bf5.jpg  \n",
            "  inflating: /content/indoor-object-detection/train/images/625cad7128855737.jpg  \n",
            "  inflating: /content/indoor-object-detection/train/images/628.png  \n",
            "  inflating: /content/indoor-object-detection/train/images/629678c55bd096a9.jpg  \n",
            "  inflating: /content/indoor-object-detection/train/images/62f8e1541ed4c442.jpg  \n",
            "  inflating: /content/indoor-object-detection/train/images/62fbb8ea21b31940.jpg  \n",
            "  inflating: /content/indoor-object-detection/train/images/638720894bbb926a.jpg  \n",
            "  inflating: /content/indoor-object-detection/train/images/63c54ace54e70f70.jpg  \n",
            "  inflating: /content/indoor-object-detection/train/images/655c336ab92f9502.jpg  \n",
            "  inflating: /content/indoor-object-detection/train/images/65fd844bc8bc5666.jpg  \n",
            "  inflating: /content/indoor-object-detection/train/images/669c4c7bbe75cb0b.jpg  \n",
            "  inflating: /content/indoor-object-detection/train/images/66fa65d19adaa351.jpg  \n",
            "  inflating: /content/indoor-object-detection/train/images/677369d3bce9d2e1.jpg  \n",
            "  inflating: /content/indoor-object-detection/train/images/67cb83d74dc0b231.jpg  \n",
            "  inflating: /content/indoor-object-detection/train/images/6819a34f934a686a.jpg  \n",
            "  inflating: /content/indoor-object-detection/train/images/6837b091e0f14ade.jpg  \n",
            "  inflating: /content/indoor-object-detection/train/images/68ad1ac2ca33c9d6.jpg  \n",
            "  inflating: /content/indoor-object-detection/train/images/68f42c5bd9fec4a7.jpg  \n",
            "  inflating: /content/indoor-object-detection/train/images/69754330275d587b.jpg  \n",
            "  inflating: /content/indoor-object-detection/train/images/698fd32de47964e2.jpg  \n",
            "  inflating: /content/indoor-object-detection/train/images/69b2a3bd238c5ff8.jpg  \n",
            "  inflating: /content/indoor-object-detection/train/images/69d2b0cab2cdef8b.jpg  \n",
            "  inflating: /content/indoor-object-detection/train/images/69fd9bee1947f0e8.jpg  \n",
            "  inflating: /content/indoor-object-detection/train/images/6a6c4348e1313a0d.jpg  \n",
            "  inflating: /content/indoor-object-detection/train/images/6a895268f06332ec.jpg  \n",
            "  inflating: /content/indoor-object-detection/train/images/6ac770706bc0e3f6.jpg  \n",
            "  inflating: /content/indoor-object-detection/train/images/6b28eb14694415df.jpg  \n",
            "  inflating: /content/indoor-object-detection/train/images/6bfd56bd4442737d.jpg  \n",
            "  inflating: /content/indoor-object-detection/train/images/6c074283d073b1ef.jpg  \n",
            "  inflating: /content/indoor-object-detection/train/images/6c57df42d6f0e545.jpg  \n",
            "  inflating: /content/indoor-object-detection/train/images/6d2b0a5c859562a5.jpg  \n",
            "  inflating: /content/indoor-object-detection/train/images/6d6237b4241c320a.jpg  \n",
            "  inflating: /content/indoor-object-detection/train/images/6d8001ea79c02334.jpg  \n",
            "  inflating: /content/indoor-object-detection/train/images/6f6de5cebeda8cf7.jpg  \n",
            "  inflating: /content/indoor-object-detection/train/images/703903cbe9c1b9e5.jpg  \n",
            "  inflating: /content/indoor-object-detection/train/images/709f5e46880ba7cf.jpg  \n",
            "  inflating: /content/indoor-object-detection/train/images/70b48f6cd2605f4e.jpg  \n",
            "  inflating: /content/indoor-object-detection/train/images/70b557082dfe6b98.jpg  \n",
            "  inflating: /content/indoor-object-detection/train/images/7102abdbcecd48ee.jpg  \n",
            "  inflating: /content/indoor-object-detection/train/images/717ccd7e5deaf318.jpg  \n",
            "  inflating: /content/indoor-object-detection/train/images/71b2d221719fbef9.jpg  \n",
            "  inflating: /content/indoor-object-detection/train/images/71b3bea110ee810c.jpg  \n",
            "  inflating: /content/indoor-object-detection/train/images/72180cf6a7b2b492.jpg  \n",
            "  inflating: /content/indoor-object-detection/train/images/7226f21fb81bddfd.jpg  \n",
            "  inflating: /content/indoor-object-detection/train/images/7262c70b22d6c572.jpg  \n",
            "  inflating: /content/indoor-object-detection/train/images/72f43bd47ba46d06.jpg  \n",
            "  inflating: /content/indoor-object-detection/train/images/737b6903c9a4234d.jpg  \n",
            "  inflating: /content/indoor-object-detection/train/images/742b8684073d6fd6.jpg  \n",
            "  inflating: /content/indoor-object-detection/train/images/74ba74d74949e187.jpg  \n",
            "  inflating: /content/indoor-object-detection/train/images/74ef0ee56eb13129.jpg  \n",
            "  inflating: /content/indoor-object-detection/train/images/7590d47a051a5dfd.jpg  \n",
            "  inflating: /content/indoor-object-detection/train/images/75e4e8ab47a77499.jpg  \n",
            "  inflating: /content/indoor-object-detection/train/images/7684a73c8bf42d32.jpg  \n",
            "  inflating: /content/indoor-object-detection/train/images/76a2724a2725d4e7.jpg  \n",
            "  inflating: /content/indoor-object-detection/train/images/76c6d0cca62ba225.jpg  \n",
            "  inflating: /content/indoor-object-detection/train/images/76daa79117fc7d19.jpg  \n",
            "  inflating: /content/indoor-object-detection/train/images/7749d3d4904ce2c7.jpg  \n",
            "  inflating: /content/indoor-object-detection/train/images/775e077de67c6250.jpg  \n",
            "  inflating: /content/indoor-object-detection/train/images/7771c64fca6089d2.jpg  \n",
            "  inflating: /content/indoor-object-detection/train/images/7784d6ecb97ecf84.jpg  \n",
            "  inflating: /content/indoor-object-detection/train/images/78387993904abdee.jpg  \n",
            "  inflating: /content/indoor-object-detection/train/images/798e136c7712ae9c.jpg  \n",
            "  inflating: /content/indoor-object-detection/train/images/7a2b01b452bdb117.jpg  \n",
            "  inflating: /content/indoor-object-detection/train/images/7a712afa2bff3b26.jpg  \n",
            "  inflating: /content/indoor-object-detection/train/images/7ab035622c40f329.jpg  \n",
            "  inflating: /content/indoor-object-detection/train/images/7ac63f2fa873f953.jpg  \n",
            "  inflating: /content/indoor-object-detection/train/images/7ad5584aa00e667f.jpg  \n",
            "  inflating: /content/indoor-object-detection/train/images/7ade4b49c0f3d4c8.jpg  \n",
            "  inflating: /content/indoor-object-detection/train/images/7b0112f7f5f096c5.jpg  \n",
            "  inflating: /content/indoor-object-detection/train/images/7b0abb1b7d8e62fd.jpg  \n",
            "  inflating: /content/indoor-object-detection/train/images/7b11d670d99d1150.jpg  \n",
            "  inflating: /content/indoor-object-detection/train/images/7b81f1f2b6ec2e5f.jpg  \n",
            "  inflating: /content/indoor-object-detection/train/images/7bd452f46eff74de.jpg  \n",
            "  inflating: /content/indoor-object-detection/train/images/7c42138b7ca0d3f0.jpg  \n",
            "  inflating: /content/indoor-object-detection/train/images/7ce3da7b5c28e8aa.jpg  \n",
            "  inflating: /content/indoor-object-detection/train/images/7da201ff76fe53fd.jpg  \n",
            "  inflating: /content/indoor-object-detection/train/images/7e0ad693d944c119.jpg  \n",
            "  inflating: /content/indoor-object-detection/train/images/7e11d0131986221e.jpg  \n",
            "  inflating: /content/indoor-object-detection/train/images/7e42af92dcc12ef7.jpg  \n",
            "  inflating: /content/indoor-object-detection/train/images/7e5dfa5105e66299.jpg  \n",
            "  inflating: /content/indoor-object-detection/train/images/7e6dac6a44c66c45.jpg  \n",
            "  inflating: /content/indoor-object-detection/train/images/7e9e24e784515f05.jpg  \n",
            "  inflating: /content/indoor-object-detection/train/images/7f44e2b5ba2db7f2.jpg  \n",
            "  inflating: /content/indoor-object-detection/train/images/7f5bc96cd2d045d0.jpg  \n",
            "  inflating: /content/indoor-object-detection/train/images/8.png  \n",
            "  inflating: /content/indoor-object-detection/train/images/8079dbbcb7d981dc.jpg  \n",
            "  inflating: /content/indoor-object-detection/train/images/81af0e84d9623957.jpg  \n",
            "  inflating: /content/indoor-object-detection/train/images/81d653f8cc985f18.jpg  \n",
            "  inflating: /content/indoor-object-detection/train/images/82d32f9512be6c97.jpg  \n",
            "  inflating: /content/indoor-object-detection/train/images/83a84d6f5d196951.jpg  \n",
            "  inflating: /content/indoor-object-detection/train/images/83d7b3506a2708ad.jpg  \n",
            "  inflating: /content/indoor-object-detection/train/images/83dc488a5b3dc577.jpg  \n",
            "  inflating: /content/indoor-object-detection/train/images/84ab4adfbd0683e5.jpg  \n",
            "  inflating: /content/indoor-object-detection/train/images/84cb35f6bd724733.jpg  \n",
            "  inflating: /content/indoor-object-detection/train/images/850977bc144ea11e.jpg  \n",
            "  inflating: /content/indoor-object-detection/train/images/853fe459e120ecbb.jpg  \n",
            "  inflating: /content/indoor-object-detection/train/images/85bfba79711d01e3.jpg  \n",
            "  inflating: /content/indoor-object-detection/train/images/85ccc9bbdf4d6985.jpg  \n",
            "  inflating: /content/indoor-object-detection/train/images/861.png  \n",
            "  inflating: /content/indoor-object-detection/train/images/861d0eaaf5535b53.jpg  \n",
            "  inflating: /content/indoor-object-detection/train/images/861f42088328f1ca.jpg  \n",
            "  inflating: /content/indoor-object-detection/train/images/862.png  \n",
            "  inflating: /content/indoor-object-detection/train/images/864.png  \n",
            "  inflating: /content/indoor-object-detection/train/images/865.png  \n",
            "  inflating: /content/indoor-object-detection/train/images/866.png  \n",
            "  inflating: /content/indoor-object-detection/train/images/867.png  \n",
            "  inflating: /content/indoor-object-detection/train/images/868.png  \n",
            "  inflating: /content/indoor-object-detection/train/images/86e8a48ba0da265f.jpg  \n",
            "  inflating: /content/indoor-object-detection/train/images/87b1d5f40a55bb19.jpg  \n",
            "  inflating: /content/indoor-object-detection/train/images/87be6fbef8644926.jpg  \n",
            "  inflating: /content/indoor-object-detection/train/images/8896b5a5c0abaf84.jpg  \n",
            "  inflating: /content/indoor-object-detection/train/images/88fa8f83a0d5703a.jpg  \n",
            "  inflating: /content/indoor-object-detection/train/images/8926769ff83061b5.jpg  \n",
            "  inflating: /content/indoor-object-detection/train/images/8926f7f6295f09b0.jpg  \n",
            "  inflating: /content/indoor-object-detection/train/images/8a70d9f29670b9b5.jpg  \n",
            "  inflating: /content/indoor-object-detection/train/images/8aebf99122a9f9c4.jpg  \n",
            "  inflating: /content/indoor-object-detection/train/images/8b0a4ac1e348e48e.jpg  \n",
            "  inflating: /content/indoor-object-detection/train/images/8b0bdd3141ea77e0.jpg  \n",
            "  inflating: /content/indoor-object-detection/train/images/8b7cf7cfddc0071b.jpg  \n",
            "  inflating: /content/indoor-object-detection/train/images/8c0ce81d2f584ae7.jpg  \n",
            "  inflating: /content/indoor-object-detection/train/images/8c645dd8da92ec0b.jpg  \n",
            "  inflating: /content/indoor-object-detection/train/images/8c6d17cf9b79b934.jpg  \n",
            "  inflating: /content/indoor-object-detection/train/images/8ce7545def57cf8d.jpg  \n",
            "  inflating: /content/indoor-object-detection/train/images/8cf0d90fadf83514.jpg  \n",
            "  inflating: /content/indoor-object-detection/train/images/8da9fc579c830578.jpg  \n",
            "  inflating: /content/indoor-object-detection/train/images/8e134088edac620f.jpg  \n",
            "  inflating: /content/indoor-object-detection/train/images/8e45d18616f49726.jpg  \n",
            "  inflating: /content/indoor-object-detection/train/images/8e7f1b0dfc18d5ec.jpg  \n",
            "  inflating: /content/indoor-object-detection/train/images/8e9aa89d4c2ae64f.jpg  \n",
            "  inflating: /content/indoor-object-detection/train/images/8ed48d720cfadaad.jpg  \n",
            "  inflating: /content/indoor-object-detection/train/images/8f24ccd5d86243b5.jpg  \n",
            "  inflating: /content/indoor-object-detection/train/images/8f43dccd3e36f410.jpg  \n",
            "  inflating: /content/indoor-object-detection/train/images/8ff20053385d110c.jpg  \n",
            "  inflating: /content/indoor-object-detection/train/images/9.png  \n",
            "  inflating: /content/indoor-object-detection/train/images/900eedc68d55662a.jpg  \n",
            "  inflating: /content/indoor-object-detection/train/images/90938616b44d5666.jpg  \n",
            "  inflating: /content/indoor-object-detection/train/images/90c4e2fbaae62118.jpg  \n",
            "  inflating: /content/indoor-object-detection/train/images/90e23144d905d72a.jpg  \n",
            "  inflating: /content/indoor-object-detection/train/images/91048ca7578d4026.jpg  \n",
            "  inflating: /content/indoor-object-detection/train/images/912e8d7a5aca1f90.jpg  \n",
            "  inflating: /content/indoor-object-detection/train/images/91abd3f94ecdf3bb.jpg  \n",
            "  inflating: /content/indoor-object-detection/train/images/91bb5060f2f930d1.jpg  \n",
            "  inflating: /content/indoor-object-detection/train/images/91d3ab02785e48de.jpg  \n",
            "  inflating: /content/indoor-object-detection/train/images/91e8675f472d5dbc.jpg  \n",
            "  inflating: /content/indoor-object-detection/train/images/92126929ec397b15.jpg  \n",
            "  inflating: /content/indoor-object-detection/train/images/9217b9a74e8e672b.jpg  \n",
            "  inflating: /content/indoor-object-detection/train/images/92a2fd9a41e602a5.jpg  \n",
            "  inflating: /content/indoor-object-detection/train/images/931d4fe2a4abe2aa.jpg  \n",
            "  inflating: /content/indoor-object-detection/train/images/933834772364f09f.jpg  \n",
            "  inflating: /content/indoor-object-detection/train/images/9385305efb91a0e8.jpg  \n",
            "  inflating: /content/indoor-object-detection/train/images/93b5e3ab86711a0b.jpg  \n",
            "  inflating: /content/indoor-object-detection/train/images/93b8aabad14ad618.jpg  \n",
            "  inflating: /content/indoor-object-detection/train/images/93d8a329cc04bad4.jpg  \n",
            "  inflating: /content/indoor-object-detection/train/images/9484b5e5c9738ff8.jpg  \n",
            "  inflating: /content/indoor-object-detection/train/images/94e873fde8f1dfc3.jpg  \n",
            "  inflating: /content/indoor-object-detection/train/images/953acb30d0fd07e7.jpg  \n",
            "  inflating: /content/indoor-object-detection/train/images/9591252f187f0dc9.jpg  \n",
            "  inflating: /content/indoor-object-detection/train/images/95cee073138bda90.jpg  \n",
            "  inflating: /content/indoor-object-detection/train/images/95d0693974e5fc3b.jpg  \n",
            "  inflating: /content/indoor-object-detection/train/images/9749447962a1ca5e.jpg  \n",
            "  inflating: /content/indoor-object-detection/train/images/975da8e742d8250d.jpg  \n",
            "  inflating: /content/indoor-object-detection/train/images/979c63d91223211c.jpg  \n",
            "  inflating: /content/indoor-object-detection/train/images/97b611449d459dbd.jpg  \n",
            "  inflating: /content/indoor-object-detection/train/images/98286eeace774204.jpg  \n",
            "  inflating: /content/indoor-object-detection/train/images/987cbed06b4d870f.jpg  \n",
            "  inflating: /content/indoor-object-detection/train/images/98b79845429b0080.jpg  \n",
            "  inflating: /content/indoor-object-detection/train/images/98ecaa1c259e0e7e.jpg  \n",
            "  inflating: /content/indoor-object-detection/train/images/9904aa193d787eac.jpg  \n",
            "  inflating: /content/indoor-object-detection/train/images/994a97bc1ec49cf2.jpg  \n",
            "  inflating: /content/indoor-object-detection/train/images/994ddbdf7cb387b0.jpg  \n",
            "  inflating: /content/indoor-object-detection/train/images/998b674a3855a292.jpg  \n",
            "  inflating: /content/indoor-object-detection/train/images/99ad5ee7015e4fbd.jpg  \n",
            "  inflating: /content/indoor-object-detection/train/images/99e6b2e3c3cfda19.jpg  \n",
            "  inflating: /content/indoor-object-detection/train/images/99f4f57aa6de5082.jpg  \n",
            "  inflating: /content/indoor-object-detection/train/images/9a06dc2325af63da.jpg  \n",
            "  inflating: /content/indoor-object-detection/train/images/9a813326a1868a55.jpg  \n",
            "  inflating: /content/indoor-object-detection/train/images/9b8bd162c0cb98f1.jpg  \n",
            "  inflating: /content/indoor-object-detection/train/images/9cabcae77d6b6d63.jpg  \n",
            "  inflating: /content/indoor-object-detection/train/images/9d6902fe81a62012.jpg  \n",
            "  inflating: /content/indoor-object-detection/train/images/9db2787b711b7bfa.jpg  \n",
            "  inflating: /content/indoor-object-detection/train/images/9df4bbd66911aa96.jpg  \n",
            "  inflating: /content/indoor-object-detection/train/images/9e5a46db2634a63e.jpg  \n",
            "  inflating: /content/indoor-object-detection/train/images/9e88730f29b1944b.jpg  \n",
            "  inflating: /content/indoor-object-detection/train/images/9fd939aac32f63e3.jpg  \n",
            "  inflating: /content/indoor-object-detection/train/images/Contemporary-Drawer-Pulls-And-Knobs.jpg  \n",
            "  inflating: /content/indoor-object-detection/train/images/DOR_S1_100.jpg  \n",
            "  inflating: /content/indoor-object-detection/train/images/DOR_S1_101.jpg  \n",
            "  inflating: /content/indoor-object-detection/train/images/DOR_S1_102.jpg  \n",
            "  inflating: /content/indoor-object-detection/train/images/DOR_S1_103.jpg  \n",
            "  inflating: /content/indoor-object-detection/train/images/DOR_S1_104.jpg  \n",
            "  inflating: /content/indoor-object-detection/train/images/DOR_S1_105.jpg  \n",
            "  inflating: /content/indoor-object-detection/train/images/DOR_S1_107.jpg  \n",
            "  inflating: /content/indoor-object-detection/train/images/DOR_S1_108.jpg  \n",
            "  inflating: /content/indoor-object-detection/train/images/DOR_S1_109.jpg  \n",
            "  inflating: /content/indoor-object-detection/train/images/DOR_S1_110.jpg  \n",
            "  inflating: /content/indoor-object-detection/train/images/DOR_S1_111.jpg  \n",
            "  inflating: /content/indoor-object-detection/train/images/DOR_S1_112.jpg  \n",
            "  inflating: /content/indoor-object-detection/train/images/DOR_S1_113.jpg  \n",
            "  inflating: /content/indoor-object-detection/train/images/DOR_S1_115.jpg  \n",
            "  inflating: /content/indoor-object-detection/train/images/DOR_S1_116.jpg  \n",
            "  inflating: /content/indoor-object-detection/train/images/DOR_S1_117.jpg  \n",
            "  inflating: /content/indoor-object-detection/train/images/DOR_S1_118.jpg  \n",
            "  inflating: /content/indoor-object-detection/train/images/DOR_S1_119.jpg  \n",
            "  inflating: /content/indoor-object-detection/train/images/DOR_S1_120.jpg  \n",
            "  inflating: /content/indoor-object-detection/train/images/DOR_S1_121.jpg  \n",
            "  inflating: /content/indoor-object-detection/train/images/DOR_S1_122.jpg  \n",
            "  inflating: /content/indoor-object-detection/train/images/DOR_S1_124.jpg  \n",
            "  inflating: /content/indoor-object-detection/train/images/DOR_S1_126.jpg  \n",
            "  inflating: /content/indoor-object-detection/train/images/DOR_S3_18.JPG  \n",
            "  inflating: /content/indoor-object-detection/train/images/DOR_S3_19.JPG  \n",
            "  inflating: /content/indoor-object-detection/train/images/DOR_S3_21.JPG  \n",
            "  inflating: /content/indoor-object-detection/train/images/DOR_S3_22.JPG  \n",
            "  inflating: /content/indoor-object-detection/train/images/DOR_S3_23.JPG  \n",
            "  inflating: /content/indoor-object-detection/train/images/DOR_S3_24.JPG  \n",
            "  inflating: /content/indoor-object-detection/train/images/DOR_S3_25.JPG  \n",
            "  inflating: /content/indoor-object-detection/train/images/DOR_S3_68.JPG  \n",
            "  inflating: /content/indoor-object-detection/train/images/DOR_S3_69.JPG  \n",
            "  inflating: /content/indoor-object-detection/train/images/DOR_S3_71.JPG  \n",
            "  inflating: /content/indoor-object-detection/train/images/DOR_S3_72.JPG  \n",
            "  inflating: /content/indoor-object-detection/train/images/DOR_S3_73.JPG  \n",
            "  inflating: /content/indoor-object-detection/train/images/DOR_S3_74.JPG  \n",
            "  inflating: /content/indoor-object-detection/train/images/DOR_S3_75.JPG  \n",
            "  inflating: /content/indoor-object-detection/train/images/DOR_S3_76.JPG  \n",
            "  inflating: /content/indoor-object-detection/train/images/DOR_S3_77.JPG  \n",
            "  inflating: /content/indoor-object-detection/train/images/DOR_S3_78.JPG  \n",
            "  inflating: /content/indoor-object-detection/train/images/DOR_S3_79.JPG  \n",
            "  inflating: /content/indoor-object-detection/train/images/DOR_S3_80.JPG  \n",
            "  inflating: /content/indoor-object-detection/train/images/DOR_S3_81.JPG  \n",
            "  inflating: /content/indoor-object-detection/train/images/DOR_S3_84.JPG  \n",
            "  inflating: /content/indoor-object-detection/train/images/DOR_S3_85.JPG  \n",
            "  inflating: /content/indoor-object-detection/train/images/Wood_Mode_Brookhaven_Hardware_Kitchen_Associates-1.png  \n",
            "  inflating: /content/indoor-object-detection/train/images/Wood_Mode_Brookhaven_Hardware_Kitchen_Associates-3.png  \n",
            "  inflating: /content/indoor-object-detection/train/images/a0da5e7cc4ba2d79.jpg  \n",
            "  inflating: /content/indoor-object-detection/train/images/a185d6eec3bc0f06.jpg  \n",
            "  inflating: /content/indoor-object-detection/train/images/a2eb27330f078f0b.jpg  \n",
            "  inflating: /content/indoor-object-detection/train/images/a30d502fade25820.jpg  \n",
            "  inflating: /content/indoor-object-detection/train/images/a3f745ee4b00c1e4.jpg  \n",
            "  inflating: /content/indoor-object-detection/train/images/a430c7548c2f6d39.jpg  \n",
            "  inflating: /content/indoor-object-detection/train/images/a45ef38a62f1da3b.jpg  \n",
            "  inflating: /content/indoor-object-detection/train/images/a4b1c68fd5f95210.jpg  \n",
            "  inflating: /content/indoor-object-detection/train/images/a4d4a408e1c3ca35.jpg  \n",
            "  inflating: /content/indoor-object-detection/train/images/a4de19b855aea878.jpg  \n",
            "  inflating: /content/indoor-object-detection/train/images/a4e2d1d696fa57d7.jpg  \n",
            "  inflating: /content/indoor-object-detection/train/images/a4f8fd67378730a8.jpg  \n",
            "  inflating: /content/indoor-object-detection/train/images/a50ceaeef959e452.jpg  \n",
            "  inflating: /content/indoor-object-detection/train/images/a567a0b64b3c52dc.jpg  \n",
            "  inflating: /content/indoor-object-detection/train/images/a698589d8941988e.jpg  \n",
            "  inflating: /content/indoor-object-detection/train/images/a6c770c55743d796.jpg  \n",
            "  inflating: /content/indoor-object-detection/train/images/a6e252b43b8c71c8.jpg  \n",
            "  inflating: /content/indoor-object-detection/train/images/a79c8309feb6385f.jpg  \n",
            "  inflating: /content/indoor-object-detection/train/images/a8042cce7f1cb422.jpg  \n",
            "  inflating: /content/indoor-object-detection/train/images/a83b50041535fbbd.jpg  \n",
            "  inflating: /content/indoor-object-detection/train/images/a84db76292ae045a.jpg  \n",
            "  inflating: /content/indoor-object-detection/train/images/a87aca1e7cedbff6.jpg  \n",
            "  inflating: /content/indoor-object-detection/train/images/a8ed87af97e1a9d3.jpg  \n",
            "  inflating: /content/indoor-object-detection/train/images/a94b92ba3292c844.jpg  \n",
            "  inflating: /content/indoor-object-detection/train/images/aa100acd5afc5de3.jpg  \n",
            "  inflating: /content/indoor-object-detection/train/images/aa46fa285ca71cee.jpg  \n",
            "  inflating: /content/indoor-object-detection/train/images/aa51976e75f89c18.jpg  \n",
            "  inflating: /content/indoor-object-detection/train/images/abcfcdbdb56cfdea.jpg  \n",
            "  inflating: /content/indoor-object-detection/train/images/acaebc6ee1264976.jpg  \n",
            "  inflating: /content/indoor-object-detection/train/images/acafde3057686f65.jpg  \n",
            "  inflating: /content/indoor-object-detection/train/images/acfbe51840b6e2df.jpg  \n",
            "  inflating: /content/indoor-object-detection/train/images/ad0be291d7cfdee1.jpg  \n",
            "  inflating: /content/indoor-object-detection/train/images/ad71c03f761e1072.jpg  \n",
            "  inflating: /content/indoor-object-detection/train/images/afacd0b904e4601b.jpg  \n",
            "  inflating: /content/indoor-object-detection/train/images/afd7573ccde0b6ab.jpg  \n",
            "  inflating: /content/indoor-object-detection/train/images/afe5b42ce72f2eb5.jpg  \n",
            "  inflating: /content/indoor-object-detection/train/images/b07a7a55e371416e.jpg  \n",
            "  inflating: /content/indoor-object-detection/train/images/b09da1b69ff6580a.jpg  \n",
            "  inflating: /content/indoor-object-detection/train/images/b0b08bdfbb3612db.jpg  \n",
            "  inflating: /content/indoor-object-detection/train/images/b15de360b5a290e0.jpg  \n",
            "  inflating: /content/indoor-object-detection/train/images/b228d99ee9267a3b.jpg  \n",
            "  inflating: /content/indoor-object-detection/train/images/b2514d4b49358070.jpg  \n",
            "  inflating: /content/indoor-object-detection/train/images/b2addaa6fa7cce4e.jpg  \n",
            "  inflating: /content/indoor-object-detection/train/images/b321b5ba60312f26.jpg  \n",
            "  inflating: /content/indoor-object-detection/train/images/b331277ae70fd966.jpg  \n",
            "  inflating: /content/indoor-object-detection/train/images/b52b11559bb34336.jpg  \n",
            "  inflating: /content/indoor-object-detection/train/images/b52dd50bf8371a4c.jpg  \n",
            "  inflating: /content/indoor-object-detection/train/images/b5d0b5bccecb3c20.jpg  \n",
            "  inflating: /content/indoor-object-detection/train/images/b5ffe52bebb31351.jpg  \n",
            "  inflating: /content/indoor-object-detection/train/images/b603a9d5511f2661.jpg  \n",
            "  inflating: /content/indoor-object-detection/train/images/b6748985e452473a.jpg  \n",
            "  inflating: /content/indoor-object-detection/train/images/b76e1fe157064cc1.jpg  \n",
            "  inflating: /content/indoor-object-detection/train/images/b818efe4172f4666.jpg  \n",
            "  inflating: /content/indoor-object-detection/train/images/ba33845dd206c054.jpg  \n",
            "  inflating: /content/indoor-object-detection/train/images/ba951e65a53acadf.jpg  \n",
            "  inflating: /content/indoor-object-detection/train/images/bb43aee523a166d6.jpg  \n",
            "  inflating: /content/indoor-object-detection/train/images/bb561fb5cebe8415.jpg  \n",
            "  inflating: /content/indoor-object-detection/train/images/bbf9f48937268c7a.jpg  \n",
            "  inflating: /content/indoor-object-detection/train/images/bd9f7905de0ff6db.jpg  \n",
            "  inflating: /content/indoor-object-detection/train/images/be2541573a312b94.jpg  \n",
            "  inflating: /content/indoor-object-detection/train/images/be73b83c3f58d469.jpg  \n",
            "  inflating: /content/indoor-object-detection/train/images/be893deb92bdc98a.jpg  \n",
            "  inflating: /content/indoor-object-detection/train/images/beb9fcbcfe869959.jpg  \n",
            "  inflating: /content/indoor-object-detection/train/images/bed55d09557e4f8e.jpg  \n",
            "  inflating: /content/indoor-object-detection/train/images/bed78c5986b45df2.jpg  \n",
            "  inflating: /content/indoor-object-detection/train/images/bf289fad3606ef7d.jpg  \n",
            "  inflating: /content/indoor-object-detection/train/images/bf54629b50fa0623.jpg  \n",
            "  inflating: /content/indoor-object-detection/train/images/bf9e9a9681561d60.jpg  \n",
            "  inflating: /content/indoor-object-detection/train/images/brilliant-modern-kitchen-cabinet-pulls-with-regard-to-contemporary-and-handles.jpg  \n",
            "  inflating: /content/indoor-object-detection/train/images/c028a1ae203a8db0.jpg  \n",
            "  inflating: /content/indoor-object-detection/train/images/c0dae2792f4a2b7e.jpg  \n",
            "  inflating: /content/indoor-object-detection/train/images/c0f22c479493ca26.jpg  \n",
            "  inflating: /content/indoor-object-detection/train/images/c12ffcfe0986f3ed.jpg  \n",
            "  inflating: /content/indoor-object-detection/train/images/c1673594e5ca4212.jpg  \n",
            "  inflating: /content/indoor-object-detection/train/images/c1ebc184420a303b.jpg  \n",
            "  inflating: /content/indoor-object-detection/train/images/c279e14b172412aa.jpg  \n",
            "  inflating: /content/indoor-object-detection/train/images/c3034ee4c10494bd.jpg  \n",
            "  inflating: /content/indoor-object-detection/train/images/c33830c874d4a8bf.jpg  \n",
            "  inflating: /content/indoor-object-detection/train/images/c3796ad5911a3dd9.jpg  \n",
            "  inflating: /content/indoor-object-detection/train/images/c3bb0c3dd9e4a02d.jpg  \n",
            "  inflating: /content/indoor-object-detection/train/images/c403cb050bb590c3.jpg  \n",
            "  inflating: /content/indoor-object-detection/train/images/c508532ae14086e6.jpg  \n",
            "  inflating: /content/indoor-object-detection/train/images/c534ca03e2ddee9a.jpg  \n",
            "  inflating: /content/indoor-object-detection/train/images/c53fe42427abd793.jpg  \n",
            "  inflating: /content/indoor-object-detection/train/images/c5d188985d4e59e5.jpg  \n",
            "  inflating: /content/indoor-object-detection/train/images/c62c4578f8d48578.jpg  \n",
            "  inflating: /content/indoor-object-detection/train/images/c76a6c85cb54c105.jpg  \n",
            "  inflating: /content/indoor-object-detection/train/images/c7ed2bf7831d135e.jpg  \n",
            "  inflating: /content/indoor-object-detection/train/images/c8c31e9cb1954ee8.jpg  \n",
            "  inflating: /content/indoor-object-detection/train/images/c8d7361c8e81ab81.jpg  \n",
            "  inflating: /content/indoor-object-detection/train/images/c94b9a2fcdd09e2f.jpg  \n",
            "  inflating: /content/indoor-object-detection/train/images/ca17815bd92f8982.jpg  \n",
            "  inflating: /content/indoor-object-detection/train/images/cb9bb228b5209e45.jpg  \n",
            "  inflating: /content/indoor-object-detection/train/images/cca8064bb85b9f33.jpg  \n",
            "  inflating: /content/indoor-object-detection/train/images/cd0f444cde5e6f84.jpg  \n",
            "  inflating: /content/indoor-object-detection/train/images/cde7a8ea22245030.jpg  \n",
            "  inflating: /content/indoor-object-detection/train/images/ce859e17702e6b6b.jpg  \n",
            "  inflating: /content/indoor-object-detection/train/images/ce9cf42259c1bec8.jpg  \n",
            "  inflating: /content/indoor-object-detection/train/images/cheap-drawer-pulls-ea-handle-ea-knob-oil-rubbed-bronze-cabinet-hardware-knobs-discount-cabinet-knobs-and-drawer-pulls.jpg  \n",
            "  inflating: /content/indoor-object-detection/train/images/d0c153d02c2c62f5.jpg  \n",
            "  inflating: /content/indoor-object-detection/train/images/d0e2dba043cdc5bd.jpg  \n",
            "  inflating: /content/indoor-object-detection/train/images/d0ef5b3e45c0ca64.jpg  \n",
            "  inflating: /content/indoor-object-detection/train/images/d10cc9d127fd3a07.jpg  \n",
            "  inflating: /content/indoor-object-detection/train/images/d15039a6b672810f.jpg  \n",
            "  inflating: /content/indoor-object-detection/train/images/d157cbf8d7f3c78a.jpg  \n",
            "  inflating: /content/indoor-object-detection/train/images/d21c3f2706a1b74f.jpg  \n",
            "  inflating: /content/indoor-object-detection/train/images/d2c8e22257059647.jpg  \n",
            "  inflating: /content/indoor-object-detection/train/images/d3ef24ecb6b630f5.jpg  \n",
            "  inflating: /content/indoor-object-detection/train/images/d42202d0e9cceee3.jpg  \n",
            "  inflating: /content/indoor-object-detection/train/images/d4b569658ae0a30c.jpg  \n",
            "  inflating: /content/indoor-object-detection/train/images/d4e1dc2f2326a8b0.jpg  \n",
            "  inflating: /content/indoor-object-detection/train/images/d52cff49e505d160.jpg  \n",
            "  inflating: /content/indoor-object-detection/train/images/d605fc35bb8d32a3.jpg  \n",
            "  inflating: /content/indoor-object-detection/train/images/d611a05b7a107509.jpg  \n",
            "  inflating: /content/indoor-object-detection/train/images/d6525ed6d5890a20.jpg  \n",
            "  inflating: /content/indoor-object-detection/train/images/d71b0472e89016e0.jpg  \n",
            "  inflating: /content/indoor-object-detection/train/images/d781d203a971bf09.jpg  \n",
            "  inflating: /content/indoor-object-detection/train/images/d79818a8c7a97ded.jpg  \n",
            "  inflating: /content/indoor-object-detection/train/images/d80700a0235c1e3c.jpg  \n",
            "  inflating: /content/indoor-object-detection/train/images/d83dcdb92fa65c56.jpg  \n",
            "  inflating: /content/indoor-object-detection/train/images/d87f2ce076230974.jpg  \n",
            "  inflating: /content/indoor-object-detection/train/images/d8cedccb3422c92e.jpg  \n",
            "  inflating: /content/indoor-object-detection/train/images/d8e0c7825be12b2c.jpg  \n",
            "  inflating: /content/indoor-object-detection/train/images/da50e6fa486f767f.jpg  \n",
            "  inflating: /content/indoor-object-detection/train/images/db22782b8dba34ef.jpg  \n",
            "  inflating: /content/indoor-object-detection/train/images/dbcb652ea7e3c6b0.jpg  \n",
            "  inflating: /content/indoor-object-detection/train/images/dbe9d7e7c15669db.jpg  \n",
            "  inflating: /content/indoor-object-detection/train/images/dbf426e1543cc41e.jpg  \n",
            "  inflating: /content/indoor-object-detection/train/images/dc78d1dede3ceba5.jpg  \n",
            "  inflating: /content/indoor-object-detection/train/images/dd3aec555ceaca24.jpg  \n",
            "  inflating: /content/indoor-object-detection/train/images/dde951a43a8333ab.jpg  \n",
            "  inflating: /content/indoor-object-detection/train/images/de9de4645e828adc.jpg  \n",
            "  inflating: /content/indoor-object-detection/train/images/df3e58f3075a5e9a.jpg  \n",
            "  inflating: /content/indoor-object-detection/train/images/e047154be3cf4f36.jpg  \n",
            "  inflating: /content/indoor-object-detection/train/images/e1ca64500fce1157.jpg  \n",
            "  inflating: /content/indoor-object-detection/train/images/e1e6f9a8212ccb8e.jpg  \n",
            "  inflating: /content/indoor-object-detection/train/images/e2e8a34b81f98b9c.jpg  \n",
            "  inflating: /content/indoor-object-detection/train/images/e41227e8569a455f.jpg  \n",
            "  inflating: /content/indoor-object-detection/train/images/e4499b4e5c7ee71d.jpg  \n",
            "  inflating: /content/indoor-object-detection/train/images/e461e568de435325.jpg  \n",
            "  inflating: /content/indoor-object-detection/train/images/e5d2edc12826ff41.jpg  \n",
            "  inflating: /content/indoor-object-detection/train/images/e5eb853c477f4ba7.jpg  \n",
            "  inflating: /content/indoor-object-detection/train/images/e6a3eb894b0b9a4c.jpg  \n",
            "  inflating: /content/indoor-object-detection/train/images/e6bbf225bf7e2e79.jpg  \n",
            "  inflating: /content/indoor-object-detection/train/images/e70c78748ec0fd81.jpg  \n",
            "  inflating: /content/indoor-object-detection/train/images/e73cf5235e501056.jpg  \n",
            "  inflating: /content/indoor-object-detection/train/images/e75c980c218966f0.jpg  \n",
            "  inflating: /content/indoor-object-detection/train/images/e7667c571440ca5e.jpg  \n",
            "  inflating: /content/indoor-object-detection/train/images/e97c97c39ade3031.jpg  \n",
            "  inflating: /content/indoor-object-detection/train/images/e9bb83c89a82dad1.jpg  \n",
            "  inflating: /content/indoor-object-detection/train/images/ec411105110b2c56.jpg  \n",
            "  inflating: /content/indoor-object-detection/train/images/ecd1e55f8a6b3a4f.jpg  \n",
            "  inflating: /content/indoor-object-detection/train/images/ecf61587947c4eb0.jpg  \n",
            "  inflating: /content/indoor-object-detection/train/images/ed47757457c3b029.jpg  \n",
            "  inflating: /content/indoor-object-detection/train/images/eef125b33737d19a.jpg  \n",
            "  inflating: /content/indoor-object-detection/train/images/ef40ea977c4ff163.jpg  \n",
            "  inflating: /content/indoor-object-detection/train/images/f1b480761060081e.jpg  \n",
            "  inflating: /content/indoor-object-detection/train/images/f282bb0b1946f85a.jpg  \n",
            "  inflating: /content/indoor-object-detection/train/images/f291d677045b5a38.jpg  \n",
            "  inflating: /content/indoor-object-detection/train/images/f2b31981e52820b1.jpg  \n",
            "  inflating: /content/indoor-object-detection/train/images/f57bb9c762710434.jpg  \n",
            "  inflating: /content/indoor-object-detection/train/images/f638c52c804a1c0e.jpg  \n",
            "  inflating: /content/indoor-object-detection/train/images/f701b6ac595a0361.jpg  \n",
            "  inflating: /content/indoor-object-detection/train/images/f80b3c58db04feed.jpg  \n",
            "  inflating: /content/indoor-object-detection/train/images/f858fa9087c0d735.jpg  \n",
            "  inflating: /content/indoor-object-detection/train/images/f9f6170e3deacb01.jpg  \n",
            "  inflating: /content/indoor-object-detection/train/images/fbeb16e8a12ae749.jpg  \n",
            "  inflating: /content/indoor-object-detection/train/images/fc8e78e65a4f4473.jpg  \n",
            "  inflating: /content/indoor-object-detection/train/images/fe5956b82ea1360d.jpg  \n",
            "  inflating: /content/indoor-object-detection/train/images/glass-crystal-drawer-pulls.jpg  \n",
            "  inflating: /content/indoor-object-detection/train/images/gold-cabinet-hardware.jpg  \n",
            "  inflating: /content/indoor-object-detection/train/images/ikea-drawer-knobs-drawer-pulls-kitchen-cabinet-handles-knobs-and-handles-knobs-vs-handles-for-ikea-bedroom-drawer-knobs.jpg  \n",
            "  inflating: /content/indoor-object-detection/train/images/ikea-handles-kitchen-cabinet-handles-ikea-drawer-pulls-and-knobs.jpg  \n",
            "  inflating: /content/indoor-object-detection/train/images/images.jpeg  \n",
            "  inflating: /content/indoor-object-detection/train/images/images1.jpeg  \n",
            "  inflating: /content/indoor-object-detection/train/images/images11.jpeg  \n",
            "  inflating: /content/indoor-object-detection/train/images/images12.jpeg  \n",
            "  inflating: /content/indoor-object-detection/train/images/images13.jpeg  \n",
            "  inflating: /content/indoor-object-detection/train/images/images16.jpeg  \n",
            "  inflating: /content/indoor-object-detection/train/images/images4.jpeg  \n",
            "  inflating: /content/indoor-object-detection/train/images/images5.jpeg  \n",
            "  inflating: /content/indoor-object-detection/train/images/images7.jpeg  \n",
            "  inflating: /content/indoor-object-detection/train/images/images8.jpeg  \n",
            "  inflating: /content/indoor-object-detection/train/images/index.jpeg  \n",
            "  inflating: /content/indoor-object-detection/train/images/kitchen-cabinet-handles-interesting-inspiration-door-simple-ideas-decor-gold-pulls-knobs-and-furniture-hardware-dresser-hoosier-recycling-bins-black-knob-with-backplate-stone-ring.jpg  \n",
            "  inflating: /content/indoor-object-detection/train/images/kitchen-drawer-pulls-modern-hardware-knobs-cabinet-handles-stunning-kitchen-drawer-pulls-images-contemporary-with-regard-to-3-kitchen-cabinet-pulls-oil-rubbed-bronze.jpg  \n",
            "  inflating: /content/indoor-object-detection/train/images/knobs-D.jpg  \n",
            "  inflating: /content/indoor-object-detection/train/images/pantry-door-handles-popular-kitchen-cabinet-door-handles-beautiful-top-pantry-cabinet-door-handles-pantry-cabinet-door-handles.jpg  \n",
            "  inflating: /content/indoor-object-detection/train/images/refrigerator_door_handle_l1.jpg  \n",
            "  inflating: /content/indoor-object-detection/train/images/s-l225.jpg  \n",
            "  inflating: /content/indoor-object-detection/train/images/wardrobe-handles-bedroom-drawer-and-knobs-for-furniture-black-silver-twigs-kids-ikea-cabinets-no-h.jpg  \n",
            "  inflating: /content/indoor-object-detection/train/labels/0001cb734adac2ee.txt  \n",
            "  inflating: /content/indoor-object-detection/train/labels/000bf0ddff4c7310.txt  \n",
            "  inflating: /content/indoor-object-detection/train/labels/000c052bb4b882c4.txt  \n",
            "  inflating: /content/indoor-object-detection/train/labels/000c66e044e850f7.txt  \n",
            "  inflating: /content/indoor-object-detection/train/labels/000c9e454bbf6d0d.txt  \n",
            "  inflating: /content/indoor-object-detection/train/labels/000cd0b046e4390b.txt  \n",
            "  inflating: /content/indoor-object-detection/train/labels/000ceb7c62a21547.txt  \n",
            "  inflating: /content/indoor-object-detection/train/labels/000d9c77f5749561.txt  \n",
            "  inflating: /content/indoor-object-detection/train/labels/000da932ca7e68e4.txt  \n",
            "  inflating: /content/indoor-object-detection/train/labels/000e80d9cf37daf3.txt  \n",
            "  inflating: /content/indoor-object-detection/train/labels/001bdfc9d80eead2.txt  \n",
            "  inflating: /content/indoor-object-detection/train/labels/0071e79693904a8f.txt  \n",
            "  inflating: /content/indoor-object-detection/train/labels/0072bdea7fb5b94a.txt  \n",
            "  inflating: /content/indoor-object-detection/train/labels/007427672a3d5264.txt  \n",
            "  inflating: /content/indoor-object-detection/train/labels/007821b7c578c94a.txt  \n",
            "  inflating: /content/indoor-object-detection/train/labels/007a4e97abc192b9.txt  \n",
            "  inflating: /content/indoor-object-detection/train/labels/007bae2adf43dd31.txt  \n",
            "  inflating: /content/indoor-object-detection/train/labels/009ae3d6fd97c1fc.txt  \n",
            "  inflating: /content/indoor-object-detection/train/labels/00a1675e670756a1.txt  \n",
            "  inflating: /content/indoor-object-detection/train/labels/00a5be32d303e480.txt  \n",
            "  inflating: /content/indoor-object-detection/train/labels/00a60d051d75144f.txt  \n",
            "  inflating: /content/indoor-object-detection/train/labels/00a76212dad599aa.txt  \n",
            "  inflating: /content/indoor-object-detection/train/labels/00bb60b91c5335b1.txt  \n",
            "  inflating: /content/indoor-object-detection/train/labels/00bccfe3f3c8ae6b.txt  \n",
            "  inflating: /content/indoor-object-detection/train/labels/00bfcd25320fd354.txt  \n",
            "  inflating: /content/indoor-object-detection/train/labels/00bfeaa4a297dd65.txt  \n",
            "  inflating: /content/indoor-object-detection/train/labels/00c06121b63b755a.txt  \n",
            "  inflating: /content/indoor-object-detection/train/labels/00c1bb3fd0f8c041.txt  \n",
            "  inflating: /content/indoor-object-detection/train/labels/00c2c198953fc6d6.txt  \n",
            "  inflating: /content/indoor-object-detection/train/labels/00c4da254151ea38.txt  \n",
            "  inflating: /content/indoor-object-detection/train/labels/00ca2179c6ccfc86.txt  \n",
            "  inflating: /content/indoor-object-detection/train/labels/00cbc7f343eb90ec.txt  \n",
            "  inflating: /content/indoor-object-detection/train/labels/00ce536d4536805d.txt  \n",
            "  inflating: /content/indoor-object-detection/train/labels/00d0ed2f962c1a74.txt  \n",
            "  inflating: /content/indoor-object-detection/train/labels/00d343d4a829121c.txt  \n",
            "  inflating: /content/indoor-object-detection/train/labels/00d3fcbc86861f4a.txt  \n",
            "  inflating: /content/indoor-object-detection/train/labels/00d4a6c8831ca56c.txt  \n",
            "  inflating: /content/indoor-object-detection/train/labels/00d82cf94121d6c1.txt  \n",
            "  inflating: /content/indoor-object-detection/train/labels/00d8dd6d2ce6fc70.txt  \n",
            "  inflating: /content/indoor-object-detection/train/labels/00da8827b3288d89.txt  \n",
            "  inflating: /content/indoor-object-detection/train/labels/00db6b59d3880145.txt  \n",
            "  inflating: /content/indoor-object-detection/train/labels/00db839f935b5829.txt  \n",
            "  inflating: /content/indoor-object-detection/train/labels/00e5c93e53ada7cd.txt  \n",
            "  inflating: /content/indoor-object-detection/train/labels/00e844f581963e31.txt  \n",
            "  inflating: /content/indoor-object-detection/train/labels/00eb261110ac46c5.txt  \n",
            "  inflating: /content/indoor-object-detection/train/labels/00ebbe86769979a4.txt  \n",
            "  inflating: /content/indoor-object-detection/train/labels/00ec888df1bd1aad.txt  \n",
            "  inflating: /content/indoor-object-detection/train/labels/00f0152f65a68569.txt  \n",
            "  inflating: /content/indoor-object-detection/train/labels/00f0f43aca411ec9.txt  \n",
            "  inflating: /content/indoor-object-detection/train/labels/00f6a80e7f1a229a.txt  \n",
            "  inflating: /content/indoor-object-detection/train/labels/01017856bd2da59b.txt  \n",
            "  inflating: /content/indoor-object-detection/train/labels/012570c9ec60f9c4.txt  \n",
            "  inflating: /content/indoor-object-detection/train/labels/0146a6b07d6b3160.txt  \n",
            "  inflating: /content/indoor-object-detection/train/labels/0149f0d7768cbc98.txt  \n",
            "  inflating: /content/indoor-object-detection/train/labels/01a430b5379fe42c.txt  \n",
            "  inflating: /content/indoor-object-detection/train/labels/01b15d5fcabae5b0.txt  \n",
            "  inflating: /content/indoor-object-detection/train/labels/01b8f3f2d2cf7613.txt  \n",
            "  inflating: /content/indoor-object-detection/train/labels/01f460320a53fc91.txt  \n",
            "  inflating: /content/indoor-object-detection/train/labels/0204ffb00eba164b.txt  \n",
            "  inflating: /content/indoor-object-detection/train/labels/0231d1c677d693a4.txt  \n",
            "  inflating: /content/indoor-object-detection/train/labels/023b447cac3b3557.txt  \n",
            "  inflating: /content/indoor-object-detection/train/labels/02719a20199eaf3f.txt  \n",
            "  inflating: /content/indoor-object-detection/train/labels/029123ba6d20f9b1.txt  \n",
            "  inflating: /content/indoor-object-detection/train/labels/02a9c760af8f7a08.txt  \n",
            "  inflating: /content/indoor-object-detection/train/labels/02b7497bfae4a59f.txt  \n",
            "  inflating: /content/indoor-object-detection/train/labels/02cbf03c95c9c8dd.txt  \n",
            "  inflating: /content/indoor-object-detection/train/labels/02e80ea9ff2add79.txt  \n",
            "  inflating: /content/indoor-object-detection/train/labels/02ef3baaf3950a6f.txt  \n",
            "  inflating: /content/indoor-object-detection/train/labels/03105c0683526d25.txt  \n",
            "  inflating: /content/indoor-object-detection/train/labels/0322fade74e6a40d.txt  \n",
            "  inflating: /content/indoor-object-detection/train/labels/03776c806e842674.txt  \n",
            "  inflating: /content/indoor-object-detection/train/labels/03b377e1ea46fde9.txt  \n",
            "  inflating: /content/indoor-object-detection/train/labels/03bac5448c5b00ee.txt  \n",
            "  inflating: /content/indoor-object-detection/train/labels/03ec91fe0cd40911.txt  \n",
            "  inflating: /content/indoor-object-detection/train/labels/0410943ef1919f80.txt  \n",
            "  inflating: /content/indoor-object-detection/train/labels/041926a4858c0a9a.txt  \n",
            "  inflating: /content/indoor-object-detection/train/labels/042534f23997f148.txt  \n",
            "  inflating: /content/indoor-object-detection/train/labels/049a2a3be2638bdd.txt  \n",
            "  inflating: /content/indoor-object-detection/train/labels/04d2b124f5bff6ce.txt  \n",
            "  inflating: /content/indoor-object-detection/train/labels/04fe0d2194377b61.txt  \n",
            "  inflating: /content/indoor-object-detection/train/labels/05867de435365596.txt  \n",
            "  inflating: /content/indoor-object-detection/train/labels/05ac83beab435e3a.txt  \n",
            "  inflating: /content/indoor-object-detection/train/labels/05ad81d9486f4ad4.txt  \n",
            "  inflating: /content/indoor-object-detection/train/labels/060b6662cc9a1d5d.txt  \n",
            "  inflating: /content/indoor-object-detection/train/labels/067b31e56323505d.txt  \n",
            "  inflating: /content/indoor-object-detection/train/labels/06844a396f74ecab.txt  \n",
            "  inflating: /content/indoor-object-detection/train/labels/0690d2b21c098ebc.txt  \n",
            "  inflating: /content/indoor-object-detection/train/labels/0693f25ad57f7e14.txt  \n",
            "  inflating: /content/indoor-object-detection/train/labels/06b7db73a7e952fc.txt  \n",
            "  inflating: /content/indoor-object-detection/train/labels/06bbc09333b6a542.txt  \n",
            "  inflating: /content/indoor-object-detection/train/labels/06c1ae62a6d168a4.txt  \n",
            "  inflating: /content/indoor-object-detection/train/labels/06d3587094d5c496.txt  \n",
            "  inflating: /content/indoor-object-detection/train/labels/06fd633136a92428.txt  \n",
            "  inflating: /content/indoor-object-detection/train/labels/0779f34fe1c7970c.txt  \n",
            "  inflating: /content/indoor-object-detection/train/labels/078460e79cf23e5d.txt  \n",
            "  inflating: /content/indoor-object-detection/train/labels/07c7da6ee633bac1.txt  \n",
            "  inflating: /content/indoor-object-detection/train/labels/07d963c889fe0158.txt  \n",
            "  inflating: /content/indoor-object-detection/train/labels/082d92e88891536a.txt  \n",
            "  inflating: /content/indoor-object-detection/train/labels/08380c1be6830cf7.txt  \n",
            "  inflating: /content/indoor-object-detection/train/labels/088f1b6d8222a73b.txt  \n",
            "  inflating: /content/indoor-object-detection/train/labels/089f139ac3ecde3b.txt  \n",
            "  inflating: /content/indoor-object-detection/train/labels/0934a6117d4ff7b3.txt  \n",
            "  inflating: /content/indoor-object-detection/train/labels/0941c98ad83fb227.txt  \n",
            "  inflating: /content/indoor-object-detection/train/labels/09481f2c338108a3.txt  \n",
            "  inflating: /content/indoor-object-detection/train/labels/094c8f781c8411e0.txt  \n",
            "  inflating: /content/indoor-object-detection/train/labels/09dcaaf01c06516b.txt  \n",
            "  inflating: /content/indoor-object-detection/train/labels/0a41d984fa6937ca.txt  \n",
            "  inflating: /content/indoor-object-detection/train/labels/0a604ed4883b45e5.txt  \n",
            "  inflating: /content/indoor-object-detection/train/labels/0a68ceae0ff06341.txt  \n",
            "  inflating: /content/indoor-object-detection/train/labels/0a6acb71e9635072.txt  \n",
            "  inflating: /content/indoor-object-detection/train/labels/0a76ce8df7ea43ba.txt  \n",
            "  inflating: /content/indoor-object-detection/train/labels/0a98e4fe3ec5592e.txt  \n",
            "  inflating: /content/indoor-object-detection/train/labels/0a9999a432bd9e50.txt  \n",
            "  inflating: /content/indoor-object-detection/train/labels/0ae42210e7fc02af.txt  \n",
            "  inflating: /content/indoor-object-detection/train/labels/0af254143bf95706.txt  \n",
            "  inflating: /content/indoor-object-detection/train/labels/0af40c0e840098a9.txt  \n",
            "  inflating: /content/indoor-object-detection/train/labels/0afd7c29633fe699.txt  \n",
            "  inflating: /content/indoor-object-detection/train/labels/0b126561e29676e1.txt  \n",
            "  inflating: /content/indoor-object-detection/train/labels/0b581e0f018c7f78.txt  \n",
            "  inflating: /content/indoor-object-detection/train/labels/0b5ad6c1ff290b52.txt  \n",
            "  inflating: /content/indoor-object-detection/train/labels/0b60b0c918ad6879.txt  \n",
            "  inflating: /content/indoor-object-detection/train/labels/0b84642b319af1f3.txt  \n",
            "  inflating: /content/indoor-object-detection/train/labels/0bafa9469a8047f7.txt  \n",
            "  inflating: /content/indoor-object-detection/train/labels/0bb4903984e44915.txt  \n",
            "  inflating: /content/indoor-object-detection/train/labels/0bb80f98e936566d.txt  \n",
            "  inflating: /content/indoor-object-detection/train/labels/0bc37b99b3e65f06.txt  \n",
            "  inflating: /content/indoor-object-detection/train/labels/0bc9d9520fed2dee.txt  \n",
            "  inflating: /content/indoor-object-detection/train/labels/0bca4202cbffa259.txt  \n",
            "  inflating: /content/indoor-object-detection/train/labels/0bda614ac5f8d5bb.txt  \n",
            "  inflating: /content/indoor-object-detection/train/labels/0bdde2f91df4c85a.txt  \n",
            "  inflating: /content/indoor-object-detection/train/labels/0be48767aff43b0b.txt  \n",
            "  inflating: /content/indoor-object-detection/train/labels/0be68c7d864c20c0.txt  \n",
            "  inflating: /content/indoor-object-detection/train/labels/0be849b02c044301.txt  \n",
            "  inflating: /content/indoor-object-detection/train/labels/0be9159e4b4bc747.txt  \n",
            "  inflating: /content/indoor-object-detection/train/labels/0beb9cbe0c770abf.txt  \n",
            "  inflating: /content/indoor-object-detection/train/labels/0bed30d0d60d70e5.txt  \n",
            "  inflating: /content/indoor-object-detection/train/labels/0bed85c3c590d016.txt  \n",
            "  inflating: /content/indoor-object-detection/train/labels/0bf01ee25888cb45.txt  \n",
            "  inflating: /content/indoor-object-detection/train/labels/0bf34fddae48b0ab.txt  \n",
            "  inflating: /content/indoor-object-detection/train/labels/0bf4138d0f052cf6.txt  \n",
            "  inflating: /content/indoor-object-detection/train/labels/0bf588f9e87c71ff.txt  \n",
            "  inflating: /content/indoor-object-detection/train/labels/0bf98072f26753f8.txt  \n",
            "  inflating: /content/indoor-object-detection/train/labels/0c00aa9759d5b636.txt  \n",
            "  inflating: /content/indoor-object-detection/train/labels/0c01e89a58eb20a2.txt  \n",
            "  inflating: /content/indoor-object-detection/train/labels/0c02c70c3d8d70e5.txt  \n",
            "  inflating: /content/indoor-object-detection/train/labels/0c04f73a2916eece.txt  \n",
            "  inflating: /content/indoor-object-detection/train/labels/0c07aa933834dbc1.txt  \n",
            "  inflating: /content/indoor-object-detection/train/labels/0c0edea113b641c3.txt  \n",
            "  inflating: /content/indoor-object-detection/train/labels/0c10599382349e7e.txt  \n",
            "  inflating: /content/indoor-object-detection/train/labels/0c134d543aa58495.txt  \n",
            "  inflating: /content/indoor-object-detection/train/labels/0c135555f209015b.txt  \n",
            "  inflating: /content/indoor-object-detection/train/labels/0c1783b09ee05447.txt  \n",
            "  inflating: /content/indoor-object-detection/train/labels/0c190b039c66efee.txt  \n",
            "  inflating: /content/indoor-object-detection/train/labels/0c1ede902091b79f.txt  \n",
            "  inflating: /content/indoor-object-detection/train/labels/0c21d3029041dcca.txt  \n",
            "  inflating: /content/indoor-object-detection/train/labels/0c2273e5f9ab0e67.txt  \n",
            "  inflating: /content/indoor-object-detection/train/labels/0c2594d3710ac469.txt  \n",
            "  inflating: /content/indoor-object-detection/train/labels/0c29cab1caddfc83.txt  \n",
            "  inflating: /content/indoor-object-detection/train/labels/0c2d5a23371dd746.txt  \n",
            "  inflating: /content/indoor-object-detection/train/labels/0c30772b7ea51745.txt  \n",
            "  inflating: /content/indoor-object-detection/train/labels/0c3276102427c9c8.txt  \n",
            "  inflating: /content/indoor-object-detection/train/labels/0c3673f52f7fbe00.txt  \n",
            "  inflating: /content/indoor-object-detection/train/labels/0c40051d1c73fa59.txt  \n",
            "  inflating: /content/indoor-object-detection/train/labels/0c40c79955aed671.txt  \n",
            "  inflating: /content/indoor-object-detection/train/labels/0c41800d0c91812f.txt  \n",
            "  inflating: /content/indoor-object-detection/train/labels/0c49829dd1e2d32f.txt  \n",
            "  inflating: /content/indoor-object-detection/train/labels/0c4acd50c4430066.txt  \n",
            "  inflating: /content/indoor-object-detection/train/labels/0c4eb8de33034f6c.txt  \n",
            "  inflating: /content/indoor-object-detection/train/labels/0c60baa351dbaaf3.txt  \n",
            "  inflating: /content/indoor-object-detection/train/labels/0c62ce6c7096f295.txt  \n",
            "  inflating: /content/indoor-object-detection/train/labels/0c66ca8a2c7536b0.txt  \n",
            "  inflating: /content/indoor-object-detection/train/labels/0c697169b1207217.txt  \n",
            "  inflating: /content/indoor-object-detection/train/labels/0c6ca56a6104ee69.txt  \n",
            "  inflating: /content/indoor-object-detection/train/labels/0c6d76c010c29ef5.txt  \n",
            "  inflating: /content/indoor-object-detection/train/labels/0c74e6f9fdd25d03.txt  \n",
            "  inflating: /content/indoor-object-detection/train/labels/0c752e55cc3e6cc0.txt  \n",
            "  inflating: /content/indoor-object-detection/train/labels/0c77673996e69163.txt  \n",
            "  inflating: /content/indoor-object-detection/train/labels/0c7af5598adff074.txt  \n",
            "  inflating: /content/indoor-object-detection/train/labels/0c89be4d66633ce4.txt  \n",
            "  inflating: /content/indoor-object-detection/train/labels/0c8ebd9431edd552.txt  \n",
            "  inflating: /content/indoor-object-detection/train/labels/0c8fea6749954c4c.txt  \n",
            "  inflating: /content/indoor-object-detection/train/labels/0c9d28cd2da44ccf.txt  \n",
            "  inflating: /content/indoor-object-detection/train/labels/0ca09360855f2b45.txt  \n",
            "  inflating: /content/indoor-object-detection/train/labels/0ca1db52353feee8.txt  \n",
            "  inflating: /content/indoor-object-detection/train/labels/0ca1e90f230f7fee.txt  \n",
            "  inflating: /content/indoor-object-detection/train/labels/0ca5149ec7da08e1.txt  \n",
            "  inflating: /content/indoor-object-detection/train/labels/0ca6e18939996903.txt  \n",
            "  inflating: /content/indoor-object-detection/train/labels/0ca97b08bb473346.txt  \n",
            "  inflating: /content/indoor-object-detection/train/labels/0caf1d7eb9af4449.txt  \n",
            "  inflating: /content/indoor-object-detection/train/labels/0cb3741255649fbc.txt  \n",
            "  inflating: /content/indoor-object-detection/train/labels/0cbe9775007a3f53.txt  \n",
            "  inflating: /content/indoor-object-detection/train/labels/0cbefb4eef9e1f02.txt  \n",
            "  inflating: /content/indoor-object-detection/train/labels/0cc04ceab034a0bc.txt  \n",
            "  inflating: /content/indoor-object-detection/train/labels/0cc0d4d0bf52e7fc.txt  \n",
            "  inflating: /content/indoor-object-detection/train/labels/0cc1bbc28fe24df0.txt  \n",
            "  inflating: /content/indoor-object-detection/train/labels/0cc35169dd5ac02f.txt  \n",
            "  inflating: /content/indoor-object-detection/train/labels/0cc3d0c94666272e.txt  \n",
            "  inflating: /content/indoor-object-detection/train/labels/0cc6f8b9e3087114.txt  \n",
            "  inflating: /content/indoor-object-detection/train/labels/0cc938deed7254e2.txt  \n",
            "  inflating: /content/indoor-object-detection/train/labels/0cc9ed0f1d55ad74.txt  \n",
            "  inflating: /content/indoor-object-detection/train/labels/0ccca12b5aaa0ebc.txt  \n",
            "  inflating: /content/indoor-object-detection/train/labels/0cda59918e7dee1c.txt  \n",
            "  inflating: /content/indoor-object-detection/train/labels/0cda6729b57a32e6.txt  \n",
            "  inflating: /content/indoor-object-detection/train/labels/0cddd3b472bc04cc.txt  \n",
            "  inflating: /content/indoor-object-detection/train/labels/0ce502937920c74a.txt  \n",
            "  inflating: /content/indoor-object-detection/train/labels/0ce5be35e1140b92.txt  \n",
            "  inflating: /content/indoor-object-detection/train/labels/0ce830f1e03e9ec3.txt  \n",
            "  inflating: /content/indoor-object-detection/train/labels/0ceb42b98417b88c.txt  \n",
            "  inflating: /content/indoor-object-detection/train/labels/0cf216bef1ec8e21.txt  \n",
            "  inflating: /content/indoor-object-detection/train/labels/0d0179a3ee895b81.txt  \n",
            "  inflating: /content/indoor-object-detection/train/labels/0d01ee60fc82c415.txt  \n",
            "  inflating: /content/indoor-object-detection/train/labels/0d065e63cc8f31f6.txt  \n",
            "  inflating: /content/indoor-object-detection/train/labels/0d120a5f5b1011d1.txt  \n",
            "  inflating: /content/indoor-object-detection/train/labels/0d1b8d2541c99a0a.txt  \n",
            "  inflating: /content/indoor-object-detection/train/labels/0d2090ea279cafee.txt  \n",
            "  inflating: /content/indoor-object-detection/train/labels/0d21891a9b98ee85.txt  \n",
            "  inflating: /content/indoor-object-detection/train/labels/0d238ce3cf35573d.txt  \n",
            "  inflating: /content/indoor-object-detection/train/labels/0d24ce32e3068ed1.txt  \n",
            "  inflating: /content/indoor-object-detection/train/labels/0d289d83a71e8042.txt  \n",
            "  inflating: /content/indoor-object-detection/train/labels/0d2dfc3c5325f672.txt  \n",
            "  inflating: /content/indoor-object-detection/train/labels/0d2e49086e83c259.txt  \n",
            "  inflating: /content/indoor-object-detection/train/labels/0d34c6ef6030ef6c.txt  \n",
            "  inflating: /content/indoor-object-detection/train/labels/0d35451340e0ca84.txt  \n",
            "  inflating: /content/indoor-object-detection/train/labels/0d3dfbc4ebcd01be.txt  \n",
            "  inflating: /content/indoor-object-detection/train/labels/0d48650c19108b75.txt  \n",
            "  inflating: /content/indoor-object-detection/train/labels/0d48ba24443fb53a.txt  \n",
            "  inflating: /content/indoor-object-detection/train/labels/0d57d247bfb1be21.txt  \n",
            "  inflating: /content/indoor-object-detection/train/labels/0d5c075e91b9309e.txt  \n",
            "  inflating: /content/indoor-object-detection/train/labels/0d5fc81161830bb0.txt  \n",
            "  inflating: /content/indoor-object-detection/train/labels/0d5fe284d37c8c1c.txt  \n",
            "  inflating: /content/indoor-object-detection/train/labels/0d6642763decf970.txt  \n",
            "  inflating: /content/indoor-object-detection/train/labels/0d6d668e47f2938c.txt  \n",
            "  inflating: /content/indoor-object-detection/train/labels/0d6d7ccce3428409.txt  \n",
            "  inflating: /content/indoor-object-detection/train/labels/0d6ef63f9b522465.txt  \n",
            "  inflating: /content/indoor-object-detection/train/labels/0d75f4d0712d4dd7.txt  \n",
            "  inflating: /content/indoor-object-detection/train/labels/0d7b29e9f8911bde.txt  \n",
            "  inflating: /content/indoor-object-detection/train/labels/0d927008502de357.txt  \n",
            "  inflating: /content/indoor-object-detection/train/labels/0d95e4d82e5ff70a.txt  \n",
            "  inflating: /content/indoor-object-detection/train/labels/0d9a27555510c6c2.txt  \n",
            "  inflating: /content/indoor-object-detection/train/labels/0d9ded3ee3f70959.txt  \n",
            "  inflating: /content/indoor-object-detection/train/labels/0db9d88d9eb1992a.txt  \n",
            "  inflating: /content/indoor-object-detection/train/labels/0dba02432495d47a.txt  \n",
            "  inflating: /content/indoor-object-detection/train/labels/0dbae2ad6cb64fbe.txt  \n",
            "  inflating: /content/indoor-object-detection/train/labels/0dbb2f1e7703f5ed.txt  \n",
            "  inflating: /content/indoor-object-detection/train/labels/0dbbd004c90cddf6.txt  \n",
            "  inflating: /content/indoor-object-detection/train/labels/0dbe084a8367a1a2.txt  \n",
            "  inflating: /content/indoor-object-detection/train/labels/0dc08fe92b930864.txt  \n",
            "  inflating: /content/indoor-object-detection/train/labels/0dc660f9d10b8e64.txt  \n",
            "  inflating: /content/indoor-object-detection/train/labels/0dd1c9c6a34eba7c.txt  \n",
            "  inflating: /content/indoor-object-detection/train/labels/0ddb6788a404cfb0.txt  \n",
            "  inflating: /content/indoor-object-detection/train/labels/0ddf7e608a00bab6.txt  \n",
            "  inflating: /content/indoor-object-detection/train/labels/0de53728ccfe3ef6.txt  \n",
            "  inflating: /content/indoor-object-detection/train/labels/0de6911bfc786546.txt  \n",
            "  inflating: /content/indoor-object-detection/train/labels/0df12f74a8fcc05e.txt  \n",
            "  inflating: /content/indoor-object-detection/train/labels/0df32ca61a984d84.txt  \n",
            "  inflating: /content/indoor-object-detection/train/labels/0df8cb86b756c8b6.txt  \n",
            "  inflating: /content/indoor-object-detection/train/labels/0e0121237012f0cb.txt  \n",
            "  inflating: /content/indoor-object-detection/train/labels/0e04873f64e61c1d.txt  \n",
            "  inflating: /content/indoor-object-detection/train/labels/0e04b7fb9fa3c60c.txt  \n",
            "  inflating: /content/indoor-object-detection/train/labels/0e13104a636f5321.txt  \n",
            "  inflating: /content/indoor-object-detection/train/labels/0e1c63e30964dc3b.txt  \n",
            "  inflating: /content/indoor-object-detection/train/labels/0e2208875afa89ca.txt  \n",
            "  inflating: /content/indoor-object-detection/train/labels/0e251034924e90e6.txt  \n",
            "  inflating: /content/indoor-object-detection/train/labels/0e271dcff55afea7.txt  \n",
            "  inflating: /content/indoor-object-detection/train/labels/0e332233f4825d0c.txt  \n",
            "  inflating: /content/indoor-object-detection/train/labels/0e3b7f3fa56e1837.txt  \n",
            "  inflating: /content/indoor-object-detection/train/labels/0e47126559819116.txt  \n",
            "  inflating: /content/indoor-object-detection/train/labels/0e5136e572fda862.txt  \n",
            "  inflating: /content/indoor-object-detection/train/labels/0e527e05c80b2555.txt  \n",
            "  inflating: /content/indoor-object-detection/train/labels/0e59af35fd02431a.txt  \n",
            "  inflating: /content/indoor-object-detection/train/labels/0e5a7c9a1bba1740.txt  \n",
            "  inflating: /content/indoor-object-detection/train/labels/0e5ad4351dedeb0f.txt  \n",
            "  inflating: /content/indoor-object-detection/train/labels/0e5eb7939c00eadf.txt  \n",
            "  inflating: /content/indoor-object-detection/train/labels/0e61cd4a43b03b48.txt  \n",
            "  inflating: /content/indoor-object-detection/train/labels/0e65809d7dfb4af4.txt  \n",
            "  inflating: /content/indoor-object-detection/train/labels/0e7007958c4ba791.txt  \n",
            "  inflating: /content/indoor-object-detection/train/labels/0e723b03f0e74675.txt  \n",
            "  inflating: /content/indoor-object-detection/train/labels/0e759e74589524b3.txt  \n",
            "  inflating: /content/indoor-object-detection/train/labels/0e8139635a72ecb8.txt  \n",
            "  inflating: /content/indoor-object-detection/train/labels/0e82514df72dd3aa.txt  \n",
            "  inflating: /content/indoor-object-detection/train/labels/0e82670d579afccb.txt  \n",
            "  inflating: /content/indoor-object-detection/train/labels/0e8458a440a5a54b.txt  \n",
            "  inflating: /content/indoor-object-detection/train/labels/0e872e10f2531364.txt  \n",
            "  inflating: /content/indoor-object-detection/train/labels/0e87814cbe9dd3c6.txt  \n",
            "  inflating: /content/indoor-object-detection/train/labels/0e8a150cacc30e88.txt  \n",
            "  inflating: /content/indoor-object-detection/train/labels/0e8a380f9b9511c9.txt  \n",
            "  inflating: /content/indoor-object-detection/train/labels/0e9191e310909562.txt  \n",
            "  inflating: /content/indoor-object-detection/train/labels/0e95ed44c4d9d9a6.txt  \n",
            "  inflating: /content/indoor-object-detection/train/labels/0e9c2994fae6f7c4.txt  \n",
            "  inflating: /content/indoor-object-detection/train/labels/0e9cc189512f1913.txt  \n",
            "  inflating: /content/indoor-object-detection/train/labels/0ea71c0967f66a86.txt  \n",
            "  inflating: /content/indoor-object-detection/train/labels/0ea7c53ce3250e8b.txt  \n",
            "  inflating: /content/indoor-object-detection/train/labels/0eae0b36fa39d844.txt  \n",
            "  inflating: /content/indoor-object-detection/train/labels/0eb1595ccaca0013.txt  \n",
            "  inflating: /content/indoor-object-detection/train/labels/0eb20efcc6d11e51.txt  \n",
            "  inflating: /content/indoor-object-detection/train/labels/0eb2c146387764c3.txt  \n",
            "  inflating: /content/indoor-object-detection/train/labels/0eb31e09509587fc.txt  \n",
            "  inflating: /content/indoor-object-detection/train/labels/0eb80289f63b0ea0.txt  \n",
            "  inflating: /content/indoor-object-detection/train/labels/0eb8277c7e986728.txt  \n",
            "  inflating: /content/indoor-object-detection/train/labels/0eb96447e34f087d.txt  \n",
            "  inflating: /content/indoor-object-detection/train/labels/0ec4f09ebbb22648.txt  \n",
            "  inflating: /content/indoor-object-detection/train/labels/0ec87d84a014e1e7.txt  \n",
            "  inflating: /content/indoor-object-detection/train/labels/0ecd790e25be8411.txt  \n",
            "  inflating: /content/indoor-object-detection/train/labels/0ecffef63f024f60.txt  \n",
            "  inflating: /content/indoor-object-detection/train/labels/0ed2e0651308a1e2.txt  \n",
            "  inflating: /content/indoor-object-detection/train/labels/0eec6ad82781383a.txt  \n",
            "  inflating: /content/indoor-object-detection/train/labels/0f238c501cc1f25b.txt  \n",
            "  inflating: /content/indoor-object-detection/train/labels/0f3e5d607d82e4e9.txt  \n",
            "  inflating: /content/indoor-object-detection/train/labels/0f6337a1ea2b6cc2.txt  \n",
            "  inflating: /content/indoor-object-detection/train/labels/0f8745a73f8973ce.txt  \n",
            "  inflating: /content/indoor-object-detection/train/labels/0f9adcc7c8017fa0.txt  \n",
            "  inflating: /content/indoor-object-detection/train/labels/0fa2960d145c66b8.txt  \n",
            "  inflating: /content/indoor-object-detection/train/labels/0faf26cfc4897c22.txt  \n",
            "  inflating: /content/indoor-object-detection/train/labels/0fbe10829d6d74c7.txt  \n",
            "  inflating: /content/indoor-object-detection/train/labels/0fc768a1c637427e.txt  \n",
            "  inflating: /content/indoor-object-detection/train/labels/0fc7a6152fb61259.txt  \n",
            "  inflating: /content/indoor-object-detection/train/labels/0fc8334c3b65dcf0.txt  \n",
            "  inflating: /content/indoor-object-detection/train/labels/0fed17bace91bec5.txt  \n",
            "  inflating: /content/indoor-object-detection/train/labels/10085be0a892b552.txt  \n",
            "  inflating: /content/indoor-object-detection/train/labels/101188062833d608.txt  \n",
            "  inflating: /content/indoor-object-detection/train/labels/105d6a2a63f7ce3c.txt  \n",
            "  inflating: /content/indoor-object-detection/train/labels/10cbf3715b2bcf72.txt  \n",
            "  inflating: /content/indoor-object-detection/train/labels/11739cf765a3f3d5.txt  \n",
            "  inflating: /content/indoor-object-detection/train/labels/120c69125d2577bc.txt  \n",
            "  inflating: /content/indoor-object-detection/train/labels/126b61892259c81b.txt  \n",
            "  inflating: /content/indoor-object-detection/train/labels/12715afbcec55ada.txt  \n",
            "  inflating: /content/indoor-object-detection/train/labels/1288d0c57fdb4463.txt  \n",
            "  inflating: /content/indoor-object-detection/train/labels/129ce8f7369def54.txt  \n",
            "  inflating: /content/indoor-object-detection/train/labels/130071b5f0ee3fee.txt  \n",
            "  inflating: /content/indoor-object-detection/train/labels/131907ba425c3dea.txt  \n",
            "  inflating: /content/indoor-object-detection/train/labels/134a5612209dcdb0.txt  \n",
            "  inflating: /content/indoor-object-detection/train/labels/140e5fc6a1e41e5a.txt  \n",
            "  inflating: /content/indoor-object-detection/train/labels/142745fd0af3aae6.txt  \n",
            "  inflating: /content/indoor-object-detection/train/labels/1437aea69b64e0da.txt  \n",
            "  inflating: /content/indoor-object-detection/train/labels/1529630afc3d553c.txt  \n",
            "  inflating: /content/indoor-object-detection/train/labels/153249ece51160fc.txt  \n",
            "  inflating: /content/indoor-object-detection/train/labels/153cf986ce87c169.txt  \n",
            "  inflating: /content/indoor-object-detection/train/labels/157e5ab3d1edeeba.txt  \n",
            "  inflating: /content/indoor-object-detection/train/labels/159aae161d6b60ff.txt  \n",
            "  inflating: /content/indoor-object-detection/train/labels/159dd40a40630821.txt  \n",
            "  inflating: /content/indoor-object-detection/train/labels/1620ec0a72f1407c.txt  \n",
            "  inflating: /content/indoor-object-detection/train/labels/16233e1005afe696.txt  \n",
            "  inflating: /content/indoor-object-detection/train/labels/163bb8d48332438f.txt  \n",
            "  inflating: /content/indoor-object-detection/train/labels/163ced3084c0d06f.txt  \n",
            "  inflating: /content/indoor-object-detection/train/labels/166207aac94d75ad.txt  \n",
            "  inflating: /content/indoor-object-detection/train/labels/1664c338a8380c25.txt  \n",
            "  inflating: /content/indoor-object-detection/train/labels/169d890f952c3446.txt  \n",
            "  inflating: /content/indoor-object-detection/train/labels/16f7251ee8768470.txt  \n",
            "  inflating: /content/indoor-object-detection/train/labels/17083d5cea0b2bde.txt  \n",
            "  inflating: /content/indoor-object-detection/train/labels/17930a007017e66d.txt  \n",
            "  inflating: /content/indoor-object-detection/train/labels/17a19273286e8b0d.txt  \n",
            "  inflating: /content/indoor-object-detection/train/labels/180e41660f6d6b59.txt  \n",
            "  inflating: /content/indoor-object-detection/train/labels/1874dc5efc12d957.txt  \n",
            "  inflating: /content/indoor-object-detection/train/labels/187fef6c8b9b9429.txt  \n",
            "  inflating: /content/indoor-object-detection/train/labels/195c37710249a08b.txt  \n",
            "  inflating: /content/indoor-object-detection/train/labels/19ee86fe4f079747.txt  \n",
            "  inflating: /content/indoor-object-detection/train/labels/1a0b468e0a8e9526.txt  \n",
            "  inflating: /content/indoor-object-detection/train/labels/1a0dd0f52cd4b067.txt  \n",
            "  inflating: /content/indoor-object-detection/train/labels/1a16454e64199304.txt  \n",
            "  inflating: /content/indoor-object-detection/train/labels/1a1dc4f649c70562.txt  \n",
            "  inflating: /content/indoor-object-detection/train/labels/1a29a20810c42b11.txt  \n",
            "  inflating: /content/indoor-object-detection/train/labels/1a676cb4af696ae8.txt  \n",
            "  inflating: /content/indoor-object-detection/train/labels/1a6fb9d88119d454.txt  \n",
            "  inflating: /content/indoor-object-detection/train/labels/1a7a1723ca12cd46.txt  \n",
            "  inflating: /content/indoor-object-detection/train/labels/1a8f7e65a3ffba8e.txt  \n",
            "  inflating: /content/indoor-object-detection/train/labels/1aab7723fb953996.txt  \n",
            "  inflating: /content/indoor-object-detection/train/labels/1adffb670386a3fd.txt  \n",
            "  inflating: /content/indoor-object-detection/train/labels/1ae7acb4547d5bc0.txt  \n",
            "  inflating: /content/indoor-object-detection/train/labels/1b05c6608e880d1a.txt  \n",
            "  inflating: /content/indoor-object-detection/train/labels/1b476d930e8f73d3.txt  \n",
            "  inflating: /content/indoor-object-detection/train/labels/1b8116a074361a4c.txt  \n",
            "  inflating: /content/indoor-object-detection/train/labels/1bcf4a78296ab8c2.txt  \n",
            "  inflating: /content/indoor-object-detection/train/labels/1bec3b4fca18fed7.txt  \n",
            "  inflating: /content/indoor-object-detection/train/labels/1c058e55368fcd1e.txt  \n",
            "  inflating: /content/indoor-object-detection/train/labels/1c23b05368657306.txt  \n",
            "  inflating: /content/indoor-object-detection/train/labels/1c2868141487ec3c.txt  \n",
            "  inflating: /content/indoor-object-detection/train/labels/1c88726ef503b432.txt  \n",
            "  inflating: /content/indoor-object-detection/train/labels/1c982d27b6c36e2f.txt  \n",
            "  inflating: /content/indoor-object-detection/train/labels/1ca132ffcf81607a.txt  \n",
            "  inflating: /content/indoor-object-detection/train/labels/1ccba45e8e4491a3.txt  \n",
            "  inflating: /content/indoor-object-detection/train/labels/1d624eb29f35af59.txt  \n",
            "  inflating: /content/indoor-object-detection/train/labels/1f043dcedff676ee.txt  \n",
            "  inflating: /content/indoor-object-detection/train/labels/1f481ece45be4cb9.txt  \n",
            "  inflating: /content/indoor-object-detection/train/labels/1f64ae7c9ddade84.txt  \n",
            "  inflating: /content/indoor-object-detection/train/labels/1fdd6001d3da9c56.txt  \n",
            "  inflating: /content/indoor-object-detection/train/labels/1feb783eb3e933aa.txt  \n",
            "  inflating: /content/indoor-object-detection/train/labels/20393a271a3547f0.txt  \n",
            "  inflating: /content/indoor-object-detection/train/labels/20755e349ac81f0c.txt  \n",
            "  inflating: /content/indoor-object-detection/train/labels/2100e86484efda14.txt  \n",
            "  inflating: /content/indoor-object-detection/train/labels/221a39fae7027bea.txt  \n",
            "  inflating: /content/indoor-object-detection/train/labels/22544ddbf28eb989.txt  \n",
            "  inflating: /content/indoor-object-detection/train/labels/226ca7062160972c.txt  \n",
            "  inflating: /content/indoor-object-detection/train/labels/22aa40cd91b4c259.txt  \n",
            "  inflating: /content/indoor-object-detection/train/labels/232b254322144b9b.txt  \n",
            "  inflating: /content/indoor-object-detection/train/labels/233e41a2f2f4b6ae.txt  \n",
            "  inflating: /content/indoor-object-detection/train/labels/233f6a449cf54d20.txt  \n",
            "  inflating: /content/indoor-object-detection/train/labels/235fdb5d486a95a9.txt  \n",
            "  inflating: /content/indoor-object-detection/train/labels/236a3e3f89a05843.txt  \n",
            "  inflating: /content/indoor-object-detection/train/labels/2390034133887c6d.txt  \n",
            "  inflating: /content/indoor-object-detection/train/labels/246092384ee2655c.txt  \n",
            "  inflating: /content/indoor-object-detection/train/labels/246b474d6ea03d80.txt  \n",
            "  inflating: /content/indoor-object-detection/train/labels/24d85bfa05316aa6.txt  \n",
            "  inflating: /content/indoor-object-detection/train/labels/24eb3cd134fae0aa.txt  \n",
            "  inflating: /content/indoor-object-detection/train/labels/24f0338f385a4482.txt  \n",
            "  inflating: /content/indoor-object-detection/train/labels/259cffd5e01c616c.txt  \n",
            "  inflating: /content/indoor-object-detection/train/labels/25c2f9a7fad20c4b.txt  \n",
            "  inflating: /content/indoor-object-detection/train/labels/25d512338c0d8027.txt  \n",
            "  inflating: /content/indoor-object-detection/train/labels/25e37eb384c326d1.txt  \n",
            "  inflating: /content/indoor-object-detection/train/labels/262dd05d50281235.txt  \n",
            "  inflating: /content/indoor-object-detection/train/labels/263523d1754e3381.txt  \n",
            "  inflating: /content/indoor-object-detection/train/labels/26791f7f58b801e5.txt  \n",
            "  inflating: /content/indoor-object-detection/train/labels/2692f108680f1daf.txt  \n",
            "  inflating: /content/indoor-object-detection/train/labels/26d06e8c8e325e33.txt  \n",
            "  inflating: /content/indoor-object-detection/train/labels/26e5dff94b5672cc.txt  \n",
            "  inflating: /content/indoor-object-detection/train/labels/27a6bcd97e626d69.txt  \n",
            "  inflating: /content/indoor-object-detection/train/labels/288e1b6c95a3fafb.txt  \n",
            "  inflating: /content/indoor-object-detection/train/labels/28c53bd27cc21733.txt  \n",
            "  inflating: /content/indoor-object-detection/train/labels/28e00ee6e869b29a.txt  \n",
            "  inflating: /content/indoor-object-detection/train/labels/2924756d0c31e5b1.txt  \n",
            "  inflating: /content/indoor-object-detection/train/labels/29f810a3baa576e9.txt  \n",
            "  inflating: /content/indoor-object-detection/train/labels/2a4ba364c35f5eb4.txt  \n",
            "  inflating: /content/indoor-object-detection/train/labels/2ae027b4be8f51cd.txt  \n",
            "  inflating: /content/indoor-object-detection/train/labels/2b14997b1b16a397.txt  \n",
            "  inflating: /content/indoor-object-detection/train/labels/2b301b7bbec2ac71.txt  \n",
            "  inflating: /content/indoor-object-detection/train/labels/2b87340ff50deb6f.txt  \n",
            "  inflating: /content/indoor-object-detection/train/labels/2ba0dbc88f47be4f.txt  \n",
            "  inflating: /content/indoor-object-detection/train/labels/2bbb8c43a3380316.txt  \n",
            "  inflating: /content/indoor-object-detection/train/labels/2bedb89760b9aec1.txt  \n",
            "  inflating: /content/indoor-object-detection/train/labels/2bedf10fd4f91cb5.txt  \n",
            "  inflating: /content/indoor-object-detection/train/labels/2d468bcf407e1bb7.txt  \n",
            "  inflating: /content/indoor-object-detection/train/labels/2d8c5de6b51f0218.txt  \n",
            "  inflating: /content/indoor-object-detection/train/labels/2dbb38375dfccd4c.txt  \n",
            "  inflating: /content/indoor-object-detection/train/labels/2dd3c69f6fc9f507.txt  \n",
            "  inflating: /content/indoor-object-detection/train/labels/2df986f499124b4d.txt  \n",
            "  inflating: /content/indoor-object-detection/train/labels/2e193eef6f6a4561.txt  \n",
            "  inflating: /content/indoor-object-detection/train/labels/2ebe6cb84c45521d.txt  \n",
            "  inflating: /content/indoor-object-detection/train/labels/304bb3a9e63f9e61.txt  \n",
            "  inflating: /content/indoor-object-detection/train/labels/31780c088d1708b4.txt  \n",
            "  inflating: /content/indoor-object-detection/train/labels/326fcb1f54d4419b.txt  \n",
            "  inflating: /content/indoor-object-detection/train/labels/329eb1c79bca4679.txt  \n",
            "  inflating: /content/indoor-object-detection/train/labels/32a5a75aff331bbc.txt  \n",
            "  inflating: /content/indoor-object-detection/train/labels/33504d37e7a2553c.txt  \n",
            "  inflating: /content/indoor-object-detection/train/labels/3351f25dbcbbc567.txt  \n",
            "  inflating: /content/indoor-object-detection/train/labels/337943b28eb19de0.txt  \n",
            "  inflating: /content/indoor-object-detection/train/labels/33af4d41ba6bf2d0.txt  \n",
            "  inflating: /content/indoor-object-detection/train/labels/33afe4d6bf179557.txt  \n",
            "  inflating: /content/indoor-object-detection/train/labels/33f5984924e1a395.txt  \n",
            "  inflating: /content/indoor-object-detection/train/labels/35168644edae9d03.txt  \n",
            "  inflating: /content/indoor-object-detection/train/labels/353c23e5755fa4ae.txt  \n",
            "  inflating: /content/indoor-object-detection/train/labels/354ed4678a4c3714.txt  \n",
            "  inflating: /content/indoor-object-detection/train/labels/35e319bc1fb875a6.txt  \n",
            "  inflating: /content/indoor-object-detection/train/labels/363ca9571e4863dc.txt  \n",
            "  inflating: /content/indoor-object-detection/train/labels/364.txt  \n",
            "  inflating: /content/indoor-object-detection/train/labels/365185d0df5934ae.txt  \n",
            "  inflating: /content/indoor-object-detection/train/labels/373f67ed902f026e.txt  \n",
            "  inflating: /content/indoor-object-detection/train/labels/383b3d43f4b1e55a.txt  \n",
            "  inflating: /content/indoor-object-detection/train/labels/385.txt  \n",
            "  inflating: /content/indoor-object-detection/train/labels/386644a72691a05a.txt  \n",
            "  inflating: /content/indoor-object-detection/train/labels/3867a43bb5f81650.txt  \n",
            "  inflating: /content/indoor-object-detection/train/labels/387.txt  \n",
            "  inflating: /content/indoor-object-detection/train/labels/387e9cd2e5d4ea7d.txt  \n",
            "  inflating: /content/indoor-object-detection/train/labels/38a7fa0a0fb6ffe6.txt  \n",
            "  inflating: /content/indoor-object-detection/train/labels/38e1f50b06675a3002db05142cd17f66.txt  \n",
            "  inflating: /content/indoor-object-detection/train/labels/392132dff3b498a0.txt  \n",
            "  inflating: /content/indoor-object-detection/train/labels/393.txt  \n",
            "  inflating: /content/indoor-object-detection/train/labels/39532c6b940f7180.txt  \n",
            "  inflating: /content/indoor-object-detection/train/labels/397.txt  \n",
            "  inflating: /content/indoor-object-detection/train/labels/397841a27847b8fb.txt  \n",
            "  inflating: /content/indoor-object-detection/train/labels/398.txt  \n",
            "  inflating: /content/indoor-object-detection/train/labels/398259f32f14d105.txt  \n",
            "  inflating: /content/indoor-object-detection/train/labels/3993068ec38edcda.txt  \n",
            "  inflating: /content/indoor-object-detection/train/labels/39988dc3a63d8751.txt  \n",
            "  inflating: /content/indoor-object-detection/train/labels/39e7a25a724c9e8d.txt  \n",
            "  inflating: /content/indoor-object-detection/train/labels/3a34cb02ae02ffaf.txt  \n",
            "  inflating: /content/indoor-object-detection/train/labels/3a4aa6f2e2d333cc.txt  \n",
            "  inflating: /content/indoor-object-detection/train/labels/3a74f7cdfb3c9a10.txt  \n",
            "  inflating: /content/indoor-object-detection/train/labels/3a88570f0f1b6ac9.txt  \n",
            "  inflating: /content/indoor-object-detection/train/labels/3bcc3adf863d920f.txt  \n",
            "  inflating: /content/indoor-object-detection/train/labels/3c027963e04af26b.txt  \n",
            "  inflating: /content/indoor-object-detection/train/labels/3c2358db7a020ba6.txt  \n",
            "  inflating: /content/indoor-object-detection/train/labels/3c90babc7fdb6047.txt  \n",
            "  inflating: /content/indoor-object-detection/train/labels/3d0e9fdb22c5d471.txt  \n",
            "  inflating: /content/indoor-object-detection/train/labels/3d1e219b64f04223.txt  \n",
            "  inflating: /content/indoor-object-detection/train/labels/3d1e24df80f31791.txt  \n",
            "  inflating: /content/indoor-object-detection/train/labels/3d37bb6b541a1479.txt  \n",
            "  inflating: /content/indoor-object-detection/train/labels/3d94428eaf8808c2.txt  \n",
            "  inflating: /content/indoor-object-detection/train/labels/3df127ff760a9b10.txt  \n",
            "  inflating: /content/indoor-object-detection/train/labels/3faeb802f7270ce5.txt  \n",
            "  inflating: /content/indoor-object-detection/train/labels/3ffc848a9657bfac.txt  \n",
            "  inflating: /content/indoor-object-detection/train/labels/401524b30fa05ab1.txt  \n",
            "  inflating: /content/indoor-object-detection/train/labels/401d7aae63c3b63c.txt  \n",
            "  inflating: /content/indoor-object-detection/train/labels/403.txt  \n",
            "  inflating: /content/indoor-object-detection/train/labels/4076c48b2cd6bdce.txt  \n",
            "  inflating: /content/indoor-object-detection/train/labels/40803bdda76313b9.txt  \n",
            "  inflating: /content/indoor-object-detection/train/labels/40bc03bdddd567c3.txt  \n",
            "  inflating: /content/indoor-object-detection/train/labels/415de5fd4c5877ac.txt  \n",
            "  inflating: /content/indoor-object-detection/train/labels/41fed52ee5654113.txt  \n",
            "  inflating: /content/indoor-object-detection/train/labels/4267079863bd27fa.txt  \n",
            "  inflating: /content/indoor-object-detection/train/labels/426def0b17a5c492.txt  \n",
            "  inflating: /content/indoor-object-detection/train/labels/42c35b8fdfdd2d12.txt  \n",
            "  inflating: /content/indoor-object-detection/train/labels/4413ebcc67201cff.txt  \n",
            "  inflating: /content/indoor-object-detection/train/labels/443866e9d68f90f3.txt  \n",
            "  inflating: /content/indoor-object-detection/train/labels/4491c47e3ef1d2ae.txt  \n",
            "  inflating: /content/indoor-object-detection/train/labels/44d007381712ad26.txt  \n",
            "  inflating: /content/indoor-object-detection/train/labels/4508de4f680374a7.txt  \n",
            "  inflating: /content/indoor-object-detection/train/labels/456b98a5010e4258.txt  \n",
            "  inflating: /content/indoor-object-detection/train/labels/459eb80a93786a39.txt  \n",
            "  inflating: /content/indoor-object-detection/train/labels/45b9e344eaabc194.txt  \n",
            "  inflating: /content/indoor-object-detection/train/labels/466fc40cb767a4b8.txt  \n",
            "  inflating: /content/indoor-object-detection/train/labels/46dccf0478d760a5.txt  \n",
            "  inflating: /content/indoor-object-detection/train/labels/4736100d6746b54f.txt  \n",
            "  inflating: /content/indoor-object-detection/train/labels/475c07fa76126b67.txt  \n",
            "  inflating: /content/indoor-object-detection/train/labels/475fa21801be09c8.txt  \n",
            "  inflating: /content/indoor-object-detection/train/labels/47c21befdabb119e.txt  \n",
            "  inflating: /content/indoor-object-detection/train/labels/47f612a6c7cc8a11.txt  \n",
            "  inflating: /content/indoor-object-detection/train/labels/4841959e5e9278ef.txt  \n",
            "  inflating: /content/indoor-object-detection/train/labels/4906acaa9d04d415.txt  \n",
            "  inflating: /content/indoor-object-detection/train/labels/4956ccee7130b88c.txt  \n",
            "  inflating: /content/indoor-object-detection/train/labels/4959b7c9afc20cd4.txt  \n",
            "  inflating: /content/indoor-object-detection/train/labels/497b8adaaacd41d6.txt  \n",
            "  inflating: /content/indoor-object-detection/train/labels/4a4ed2e67f034405.txt  \n",
            "  inflating: /content/indoor-object-detection/train/labels/4a89d557495fd302.txt  \n",
            "  inflating: /content/indoor-object-detection/train/labels/4ad2b99ef5fb838c.txt  \n",
            "  inflating: /content/indoor-object-detection/train/labels/4b0373749941c8b8.txt  \n",
            "  inflating: /content/indoor-object-detection/train/labels/4c97a04e77fbb839.txt  \n",
            "  inflating: /content/indoor-object-detection/train/labels/4d04388521138c9a.txt  \n",
            "  inflating: /content/indoor-object-detection/train/labels/4d3d3cdcf68ae183.txt  \n",
            "  inflating: /content/indoor-object-detection/train/labels/4d550dc12b4d59f8.txt  \n",
            "  inflating: /content/indoor-object-detection/train/labels/4dc6f94c7720fda8.txt  \n",
            "  inflating: /content/indoor-object-detection/train/labels/4e555579acbb6b6f.txt  \n",
            "  inflating: /content/indoor-object-detection/train/labels/4e908bcaf9999ab2.txt  \n",
            "  inflating: /content/indoor-object-detection/train/labels/4e9b6116d0225860.txt  \n",
            "  inflating: /content/indoor-object-detection/train/labels/4f5cb2b206085851.txt  \n",
            "  inflating: /content/indoor-object-detection/train/labels/501f8211256ad97d.txt  \n",
            "  inflating: /content/indoor-object-detection/train/labels/50e85d3e78a16fef.txt  \n",
            "  inflating: /content/indoor-object-detection/train/labels/50fa7f3914b3d38c.txt  \n",
            "  inflating: /content/indoor-object-detection/train/labels/5117b754613a09a9.txt  \n",
            "  inflating: /content/indoor-object-detection/train/labels/512e763b23503a34.txt  \n",
            "  inflating: /content/indoor-object-detection/train/labels/514.txt  \n",
            "  inflating: /content/indoor-object-detection/train/labels/515.txt  \n",
            "  inflating: /content/indoor-object-detection/train/labels/51bdb40a3f51cce3.txt  \n",
            "  inflating: /content/indoor-object-detection/train/labels/51e33ffbe112a894.txt  \n",
            "  inflating: /content/indoor-object-detection/train/labels/51ecff8aaf1259ee.txt  \n",
            "  inflating: /content/indoor-object-detection/train/labels/51fc0cf2342e5d27.txt  \n",
            "  inflating: /content/indoor-object-detection/train/labels/520.txt  \n",
            "  inflating: /content/indoor-object-detection/train/labels/520492e209ebc73a.txt  \n",
            "  inflating: /content/indoor-object-detection/train/labels/523.txt  \n",
            "  inflating: /content/indoor-object-detection/train/labels/524.txt  \n",
            "  inflating: /content/indoor-object-detection/train/labels/52b15cf19d8257e2.txt  \n",
            "  inflating: /content/indoor-object-detection/train/labels/52f7e4f43ef61dd5.txt  \n",
            "  inflating: /content/indoor-object-detection/train/labels/536016aff24a055e.txt  \n",
            "  inflating: /content/indoor-object-detection/train/labels/5370bbe2b9812ad5.txt  \n",
            "  inflating: /content/indoor-object-detection/train/labels/539d933aefb44a68.txt  \n",
            "  inflating: /content/indoor-object-detection/train/labels/53fe1fd9e2520c59.txt  \n",
            "  inflating: /content/indoor-object-detection/train/labels/558dca00c6176f20.txt  \n",
            "  inflating: /content/indoor-object-detection/train/labels/55bf2e82882b5470.txt  \n",
            "  inflating: /content/indoor-object-detection/train/labels/55e95a2fb13f7017.txt  \n",
            "  inflating: /content/indoor-object-detection/train/labels/563dcdcfc82b9d71.txt  \n",
            "  inflating: /content/indoor-object-detection/train/labels/56a4134de515693b.txt  \n",
            "  inflating: /content/indoor-object-detection/train/labels/57cea5606fb7fdc4.txt  \n",
            "  inflating: /content/indoor-object-detection/train/labels/57da1fb96266fe9d.txt  \n",
            "  inflating: /content/indoor-object-detection/train/labels/57e67f96c54757d6.txt  \n",
            "  inflating: /content/indoor-object-detection/train/labels/58b547e7ce3ca583.txt  \n",
            "  inflating: /content/indoor-object-detection/train/labels/5a2c27a3dfb3ddae.txt  \n",
            "  inflating: /content/indoor-object-detection/train/labels/5a36fdbd295c085e.txt  \n",
            "  inflating: /content/indoor-object-detection/train/labels/5b2e84d553d0f898.txt  \n",
            "  inflating: /content/indoor-object-detection/train/labels/5bd7f210fa544a9f.txt  \n",
            "  inflating: /content/indoor-object-detection/train/labels/5c230f99fb6acb59.txt  \n",
            "  inflating: /content/indoor-object-detection/train/labels/5cc695cd54ad90a8.txt  \n",
            "  inflating: /content/indoor-object-detection/train/labels/5ccf71d7e2a93e7d.txt  \n",
            "  inflating: /content/indoor-object-detection/train/labels/5d01f4dc0aebf2fa.txt  \n",
            "  inflating: /content/indoor-object-detection/train/labels/5d59b6e0d5470c44.txt  \n",
            "  inflating: /content/indoor-object-detection/train/labels/5de300995c93ef8b.txt  \n",
            "  inflating: /content/indoor-object-detection/train/labels/5dee23ea41a3f27e.txt  \n",
            "  inflating: /content/indoor-object-detection/train/labels/5e3b17a53c5bc62f.txt  \n",
            "  inflating: /content/indoor-object-detection/train/labels/5e40cdc400798d34.txt  \n",
            "  inflating: /content/indoor-object-detection/train/labels/5e4a3a21836fdd9b.txt  \n",
            "  inflating: /content/indoor-object-detection/train/labels/5f0f35817611bdac.txt  \n",
            "  inflating: /content/indoor-object-detection/train/labels/5f91ad235094ae04.txt  \n",
            "  inflating: /content/indoor-object-detection/train/labels/603dd33e938d9611.txt  \n",
            "  inflating: /content/indoor-object-detection/train/labels/60b0562e30e0c69a.txt  \n",
            "  inflating: /content/indoor-object-detection/train/labels/60b3c35003cfb3d9.txt  \n",
            "  inflating: /content/indoor-object-detection/train/labels/60fcfa435c20a830.txt  \n",
            "  inflating: /content/indoor-object-detection/train/labels/610.txt  \n",
            "  inflating: /content/indoor-object-detection/train/labels/614.txt  \n",
            "  inflating: /content/indoor-object-detection/train/labels/615.txt  \n",
            "  inflating: /content/indoor-object-detection/train/labels/619a66a0a8e51846.txt  \n",
            "  inflating: /content/indoor-object-detection/train/labels/61f154d20d8b9bf5.txt  \n",
            "  inflating: /content/indoor-object-detection/train/labels/625cad7128855737.txt  \n",
            "  inflating: /content/indoor-object-detection/train/labels/628.txt  \n",
            "  inflating: /content/indoor-object-detection/train/labels/629678c55bd096a9.txt  \n",
            "  inflating: /content/indoor-object-detection/train/labels/62f8e1541ed4c442.txt  \n",
            "  inflating: /content/indoor-object-detection/train/labels/638720894bbb926a.txt  \n",
            "  inflating: /content/indoor-object-detection/train/labels/63c54ace54e70f70.txt  \n",
            "  inflating: /content/indoor-object-detection/train/labels/655c336ab92f9502.txt  \n",
            "  inflating: /content/indoor-object-detection/train/labels/65fd844bc8bc5666.txt  \n",
            "  inflating: /content/indoor-object-detection/train/labels/669c4c7bbe75cb0b.txt  \n",
            "  inflating: /content/indoor-object-detection/train/labels/66fa65d19adaa351.txt  \n",
            "  inflating: /content/indoor-object-detection/train/labels/677369d3bce9d2e1.txt  \n",
            "  inflating: /content/indoor-object-detection/train/labels/67cb83d74dc0b231.txt  \n",
            "  inflating: /content/indoor-object-detection/train/labels/6819a34f934a686a.txt  \n",
            "  inflating: /content/indoor-object-detection/train/labels/6837b091e0f14ade.txt  \n",
            "  inflating: /content/indoor-object-detection/train/labels/68ad1ac2ca33c9d6.txt  \n",
            "  inflating: /content/indoor-object-detection/train/labels/68f42c5bd9fec4a7.txt  \n",
            "  inflating: /content/indoor-object-detection/train/labels/69754330275d587b.txt  \n",
            "  inflating: /content/indoor-object-detection/train/labels/698fd32de47964e2.txt  \n",
            "  inflating: /content/indoor-object-detection/train/labels/69b2a3bd238c5ff8.txt  \n",
            "  inflating: /content/indoor-object-detection/train/labels/69d2b0cab2cdef8b.txt  \n",
            "  inflating: /content/indoor-object-detection/train/labels/69fd9bee1947f0e8.txt  \n",
            "  inflating: /content/indoor-object-detection/train/labels/6a6c4348e1313a0d.txt  \n",
            "  inflating: /content/indoor-object-detection/train/labels/6a895268f06332ec.txt  \n",
            "  inflating: /content/indoor-object-detection/train/labels/6ac770706bc0e3f6.txt  \n",
            "  inflating: /content/indoor-object-detection/train/labels/6b28eb14694415df.txt  \n",
            "  inflating: /content/indoor-object-detection/train/labels/6bfd56bd4442737d.txt  \n",
            "  inflating: /content/indoor-object-detection/train/labels/6c074283d073b1ef.txt  \n",
            "  inflating: /content/indoor-object-detection/train/labels/6c57df42d6f0e545.txt  \n",
            "  inflating: /content/indoor-object-detection/train/labels/6d2b0a5c859562a5.txt  \n",
            "  inflating: /content/indoor-object-detection/train/labels/6d6237b4241c320a.txt  \n",
            "  inflating: /content/indoor-object-detection/train/labels/6d8001ea79c02334.txt  \n",
            "  inflating: /content/indoor-object-detection/train/labels/6f6de5cebeda8cf7.txt  \n",
            "  inflating: /content/indoor-object-detection/train/labels/703903cbe9c1b9e5.txt  \n",
            "  inflating: /content/indoor-object-detection/train/labels/709f5e46880ba7cf.txt  \n",
            "  inflating: /content/indoor-object-detection/train/labels/70b48f6cd2605f4e.txt  \n",
            "  inflating: /content/indoor-object-detection/train/labels/70b557082dfe6b98.txt  \n",
            "  inflating: /content/indoor-object-detection/train/labels/7102abdbcecd48ee.txt  \n",
            "  inflating: /content/indoor-object-detection/train/labels/717ccd7e5deaf318.txt  \n",
            "  inflating: /content/indoor-object-detection/train/labels/71b2d221719fbef9.txt  \n",
            "  inflating: /content/indoor-object-detection/train/labels/71b3bea110ee810c.txt  \n",
            "  inflating: /content/indoor-object-detection/train/labels/72180cf6a7b2b492.txt  \n",
            "  inflating: /content/indoor-object-detection/train/labels/7226f21fb81bddfd.txt  \n",
            "  inflating: /content/indoor-object-detection/train/labels/7262c70b22d6c572.txt  \n",
            "  inflating: /content/indoor-object-detection/train/labels/72f43bd47ba46d06.txt  \n",
            "  inflating: /content/indoor-object-detection/train/labels/737b6903c9a4234d.txt  \n",
            "  inflating: /content/indoor-object-detection/train/labels/742b8684073d6fd6.txt  \n",
            "  inflating: /content/indoor-object-detection/train/labels/74ba74d74949e187.txt  \n",
            "  inflating: /content/indoor-object-detection/train/labels/74ef0ee56eb13129.txt  \n",
            "  inflating: /content/indoor-object-detection/train/labels/7590d47a051a5dfd.txt  \n",
            "  inflating: /content/indoor-object-detection/train/labels/75e4e8ab47a77499.txt  \n",
            "  inflating: /content/indoor-object-detection/train/labels/7684a73c8bf42d32.txt  \n",
            "  inflating: /content/indoor-object-detection/train/labels/76a2724a2725d4e7.txt  \n",
            "  inflating: /content/indoor-object-detection/train/labels/76c6d0cca62ba225.txt  \n",
            "  inflating: /content/indoor-object-detection/train/labels/76daa79117fc7d19.txt  \n",
            "  inflating: /content/indoor-object-detection/train/labels/7749d3d4904ce2c7.txt  \n",
            "  inflating: /content/indoor-object-detection/train/labels/775e077de67c6250.txt  \n",
            "  inflating: /content/indoor-object-detection/train/labels/7771c64fca6089d2.txt  \n",
            "  inflating: /content/indoor-object-detection/train/labels/7784d6ecb97ecf84.txt  \n",
            "  inflating: /content/indoor-object-detection/train/labels/78387993904abdee.txt  \n",
            "  inflating: /content/indoor-object-detection/train/labels/798e136c7712ae9c.txt  \n",
            "  inflating: /content/indoor-object-detection/train/labels/7a2b01b452bdb117.txt  \n",
            "  inflating: /content/indoor-object-detection/train/labels/7a712afa2bff3b26.txt  \n",
            "  inflating: /content/indoor-object-detection/train/labels/7ab035622c40f329.txt  \n",
            "  inflating: /content/indoor-object-detection/train/labels/7ac63f2fa873f953.txt  \n",
            "  inflating: /content/indoor-object-detection/train/labels/7ad5584aa00e667f.txt  \n",
            "  inflating: /content/indoor-object-detection/train/labels/7ade4b49c0f3d4c8.txt  \n",
            "  inflating: /content/indoor-object-detection/train/labels/7b0112f7f5f096c5.txt  \n",
            "  inflating: /content/indoor-object-detection/train/labels/7b0abb1b7d8e62fd.txt  \n",
            "  inflating: /content/indoor-object-detection/train/labels/7b11d670d99d1150.txt  \n",
            "  inflating: /content/indoor-object-detection/train/labels/7b81f1f2b6ec2e5f.txt  \n",
            "  inflating: /content/indoor-object-detection/train/labels/7bd452f46eff74de.txt  \n",
            "  inflating: /content/indoor-object-detection/train/labels/7c42138b7ca0d3f0.txt  \n",
            "  inflating: /content/indoor-object-detection/train/labels/7ce3da7b5c28e8aa.txt  \n",
            "  inflating: /content/indoor-object-detection/train/labels/7da201ff76fe53fd.txt  \n",
            "  inflating: /content/indoor-object-detection/train/labels/7e0ad693d944c119.txt  \n",
            "  inflating: /content/indoor-object-detection/train/labels/7e11d0131986221e.txt  \n",
            "  inflating: /content/indoor-object-detection/train/labels/7e42af92dcc12ef7.txt  \n",
            "  inflating: /content/indoor-object-detection/train/labels/7e5dfa5105e66299.txt  \n",
            "  inflating: /content/indoor-object-detection/train/labels/7e6dac6a44c66c45.txt  \n",
            "  inflating: /content/indoor-object-detection/train/labels/7e9e24e784515f05.txt  \n",
            "  inflating: /content/indoor-object-detection/train/labels/7f44e2b5ba2db7f2.txt  \n",
            "  inflating: /content/indoor-object-detection/train/labels/7f5bc96cd2d045d0.txt  \n",
            "  inflating: /content/indoor-object-detection/train/labels/8.txt  \n",
            "  inflating: /content/indoor-object-detection/train/labels/8079dbbcb7d981dc.txt  \n",
            "  inflating: /content/indoor-object-detection/train/labels/81af0e84d9623957.txt  \n",
            "  inflating: /content/indoor-object-detection/train/labels/81d653f8cc985f18.txt  \n",
            "  inflating: /content/indoor-object-detection/train/labels/82d32f9512be6c97.txt  \n",
            "  inflating: /content/indoor-object-detection/train/labels/83a84d6f5d196951.txt  \n",
            "  inflating: /content/indoor-object-detection/train/labels/83d7b3506a2708ad.txt  \n",
            "  inflating: /content/indoor-object-detection/train/labels/83dc488a5b3dc577.txt  \n",
            "  inflating: /content/indoor-object-detection/train/labels/84ab4adfbd0683e5.txt  \n",
            "  inflating: /content/indoor-object-detection/train/labels/84cb35f6bd724733.txt  \n",
            "  inflating: /content/indoor-object-detection/train/labels/850977bc144ea11e.txt  \n",
            "  inflating: /content/indoor-object-detection/train/labels/853fe459e120ecbb.txt  \n",
            "  inflating: /content/indoor-object-detection/train/labels/85bfba79711d01e3.txt  \n",
            "  inflating: /content/indoor-object-detection/train/labels/85ccc9bbdf4d6985.txt  \n",
            "  inflating: /content/indoor-object-detection/train/labels/861.txt  \n",
            "  inflating: /content/indoor-object-detection/train/labels/861d0eaaf5535b53.txt  \n",
            "  inflating: /content/indoor-object-detection/train/labels/861f42088328f1ca.txt  \n",
            "  inflating: /content/indoor-object-detection/train/labels/862.txt  \n",
            "  inflating: /content/indoor-object-detection/train/labels/864.txt  \n",
            "  inflating: /content/indoor-object-detection/train/labels/865.txt  \n",
            "  inflating: /content/indoor-object-detection/train/labels/866.txt  \n",
            "  inflating: /content/indoor-object-detection/train/labels/867.txt  \n",
            "  inflating: /content/indoor-object-detection/train/labels/868.txt  \n",
            "  inflating: /content/indoor-object-detection/train/labels/86e8a48ba0da265f.txt  \n",
            "  inflating: /content/indoor-object-detection/train/labels/87b1d5f40a55bb19.txt  \n",
            "  inflating: /content/indoor-object-detection/train/labels/87be6fbef8644926.txt  \n",
            "  inflating: /content/indoor-object-detection/train/labels/8896b5a5c0abaf84.txt  \n",
            "  inflating: /content/indoor-object-detection/train/labels/88fa8f83a0d5703a.txt  \n",
            "  inflating: /content/indoor-object-detection/train/labels/8926769ff83061b5.txt  \n",
            "  inflating: /content/indoor-object-detection/train/labels/8926f7f6295f09b0.txt  \n",
            "  inflating: /content/indoor-object-detection/train/labels/8a70d9f29670b9b5.txt  \n",
            "  inflating: /content/indoor-object-detection/train/labels/8aebf99122a9f9c4.txt  \n",
            "  inflating: /content/indoor-object-detection/train/labels/8b0a4ac1e348e48e.txt  \n",
            "  inflating: /content/indoor-object-detection/train/labels/8b0bdd3141ea77e0.txt  \n",
            "  inflating: /content/indoor-object-detection/train/labels/8b7cf7cfddc0071b.txt  \n",
            "  inflating: /content/indoor-object-detection/train/labels/8c0ce81d2f584ae7.txt  \n",
            "  inflating: /content/indoor-object-detection/train/labels/8c645dd8da92ec0b.txt  \n",
            "  inflating: /content/indoor-object-detection/train/labels/8c6d17cf9b79b934.txt  \n",
            "  inflating: /content/indoor-object-detection/train/labels/8ce7545def57cf8d.txt  \n",
            "  inflating: /content/indoor-object-detection/train/labels/8cf0d90fadf83514.txt  \n",
            "  inflating: /content/indoor-object-detection/train/labels/8da9fc579c830578.txt  \n",
            "  inflating: /content/indoor-object-detection/train/labels/8e134088edac620f.txt  \n",
            "  inflating: /content/indoor-object-detection/train/labels/8e45d18616f49726.txt  \n",
            "  inflating: /content/indoor-object-detection/train/labels/8e7f1b0dfc18d5ec.txt  \n",
            "  inflating: /content/indoor-object-detection/train/labels/8e9aa89d4c2ae64f.txt  \n",
            "  inflating: /content/indoor-object-detection/train/labels/8ed48d720cfadaad.txt  \n",
            "  inflating: /content/indoor-object-detection/train/labels/8f24ccd5d86243b5.txt  \n",
            "  inflating: /content/indoor-object-detection/train/labels/8f43dccd3e36f410.txt  \n",
            "  inflating: /content/indoor-object-detection/train/labels/8ff20053385d110c.txt  \n",
            "  inflating: /content/indoor-object-detection/train/labels/9.txt  \n",
            "  inflating: /content/indoor-object-detection/train/labels/900eedc68d55662a.txt  \n",
            "  inflating: /content/indoor-object-detection/train/labels/90938616b44d5666.txt  \n",
            "  inflating: /content/indoor-object-detection/train/labels/90c4e2fbaae62118.txt  \n",
            "  inflating: /content/indoor-object-detection/train/labels/90e23144d905d72a.txt  \n",
            "  inflating: /content/indoor-object-detection/train/labels/91048ca7578d4026.txt  \n",
            "  inflating: /content/indoor-object-detection/train/labels/912e8d7a5aca1f90.txt  \n",
            "  inflating: /content/indoor-object-detection/train/labels/91abd3f94ecdf3bb.txt  \n",
            "  inflating: /content/indoor-object-detection/train/labels/91bb5060f2f930d1.txt  \n",
            "  inflating: /content/indoor-object-detection/train/labels/91d3ab02785e48de.txt  \n",
            "  inflating: /content/indoor-object-detection/train/labels/91e8675f472d5dbc.txt  \n",
            "  inflating: /content/indoor-object-detection/train/labels/92126929ec397b15.txt  \n",
            "  inflating: /content/indoor-object-detection/train/labels/9217b9a74e8e672b.txt  \n",
            "  inflating: /content/indoor-object-detection/train/labels/92a2fd9a41e602a5.txt  \n",
            "  inflating: /content/indoor-object-detection/train/labels/931d4fe2a4abe2aa.txt  \n",
            "  inflating: /content/indoor-object-detection/train/labels/933834772364f09f.txt  \n",
            "  inflating: /content/indoor-object-detection/train/labels/9385305efb91a0e8.txt  \n",
            "  inflating: /content/indoor-object-detection/train/labels/93b5e3ab86711a0b.txt  \n",
            "  inflating: /content/indoor-object-detection/train/labels/93b8aabad14ad618.txt  \n",
            "  inflating: /content/indoor-object-detection/train/labels/93d8a329cc04bad4.txt  \n",
            "  inflating: /content/indoor-object-detection/train/labels/9484b5e5c9738ff8.txt  \n",
            "  inflating: /content/indoor-object-detection/train/labels/94e873fde8f1dfc3.txt  \n",
            "  inflating: /content/indoor-object-detection/train/labels/953acb30d0fd07e7.txt  \n",
            "  inflating: /content/indoor-object-detection/train/labels/9591252f187f0dc9.txt  \n",
            "  inflating: /content/indoor-object-detection/train/labels/95cee073138bda90.txt  \n",
            "  inflating: /content/indoor-object-detection/train/labels/95d0693974e5fc3b.txt  \n",
            "  inflating: /content/indoor-object-detection/train/labels/9749447962a1ca5e.txt  \n",
            "  inflating: /content/indoor-object-detection/train/labels/975da8e742d8250d.txt  \n",
            "  inflating: /content/indoor-object-detection/train/labels/979c63d91223211c.txt  \n",
            "  inflating: /content/indoor-object-detection/train/labels/97b611449d459dbd.txt  \n",
            "  inflating: /content/indoor-object-detection/train/labels/98286eeace774204.txt  \n",
            "  inflating: /content/indoor-object-detection/train/labels/987cbed06b4d870f.txt  \n",
            "  inflating: /content/indoor-object-detection/train/labels/98b79845429b0080.txt  \n",
            "  inflating: /content/indoor-object-detection/train/labels/98ecaa1c259e0e7e.txt  \n",
            "  inflating: /content/indoor-object-detection/train/labels/9904aa193d787eac.txt  \n",
            "  inflating: /content/indoor-object-detection/train/labels/994a97bc1ec49cf2.txt  \n",
            "  inflating: /content/indoor-object-detection/train/labels/994ddbdf7cb387b0.txt  \n",
            "  inflating: /content/indoor-object-detection/train/labels/998b674a3855a292.txt  \n",
            "  inflating: /content/indoor-object-detection/train/labels/99ad5ee7015e4fbd.txt  \n",
            "  inflating: /content/indoor-object-detection/train/labels/99e6b2e3c3cfda19.txt  \n",
            "  inflating: /content/indoor-object-detection/train/labels/99f4f57aa6de5082.txt  \n",
            "  inflating: /content/indoor-object-detection/train/labels/9a06dc2325af63da.txt  \n",
            "  inflating: /content/indoor-object-detection/train/labels/9a813326a1868a55.txt  \n",
            "  inflating: /content/indoor-object-detection/train/labels/9b8bd162c0cb98f1.txt  \n",
            "  inflating: /content/indoor-object-detection/train/labels/9cabcae77d6b6d63.txt  \n",
            "  inflating: /content/indoor-object-detection/train/labels/9d6902fe81a62012.txt  \n",
            "  inflating: /content/indoor-object-detection/train/labels/9db2787b711b7bfa.txt  \n",
            "  inflating: /content/indoor-object-detection/train/labels/9df4bbd66911aa96.txt  \n",
            "  inflating: /content/indoor-object-detection/train/labels/9e5a46db2634a63e.txt  \n",
            "  inflating: /content/indoor-object-detection/train/labels/9e88730f29b1944b.txt  \n",
            "  inflating: /content/indoor-object-detection/train/labels/9fd939aac32f63e3.txt  \n",
            "  inflating: /content/indoor-object-detection/train/labels/Contemporary-Drawer-Pulls-And-Knobs.txt  \n",
            "  inflating: /content/indoor-object-detection/train/labels/DOR_S1_100.txt  \n",
            "  inflating: /content/indoor-object-detection/train/labels/DOR_S1_101.txt  \n",
            "  inflating: /content/indoor-object-detection/train/labels/DOR_S1_102.txt  \n",
            "  inflating: /content/indoor-object-detection/train/labels/DOR_S1_103.txt  \n",
            "  inflating: /content/indoor-object-detection/train/labels/DOR_S1_104.txt  \n",
            "  inflating: /content/indoor-object-detection/train/labels/DOR_S1_105.txt  \n",
            "  inflating: /content/indoor-object-detection/train/labels/DOR_S1_107.txt  \n",
            "  inflating: /content/indoor-object-detection/train/labels/DOR_S1_108.txt  \n",
            "  inflating: /content/indoor-object-detection/train/labels/DOR_S1_109.txt  \n",
            "  inflating: /content/indoor-object-detection/train/labels/DOR_S1_110.txt  \n",
            "  inflating: /content/indoor-object-detection/train/labels/DOR_S1_111.txt  \n",
            "  inflating: /content/indoor-object-detection/train/labels/DOR_S1_112.txt  \n",
            "  inflating: /content/indoor-object-detection/train/labels/DOR_S1_113.txt  \n",
            "  inflating: /content/indoor-object-detection/train/labels/DOR_S1_115.txt  \n",
            "  inflating: /content/indoor-object-detection/train/labels/DOR_S1_116.txt  \n",
            "  inflating: /content/indoor-object-detection/train/labels/DOR_S1_117.txt  \n",
            "  inflating: /content/indoor-object-detection/train/labels/DOR_S1_118.txt  \n",
            "  inflating: /content/indoor-object-detection/train/labels/DOR_S1_119.txt  \n",
            "  inflating: /content/indoor-object-detection/train/labels/DOR_S1_120.txt  \n",
            "  inflating: /content/indoor-object-detection/train/labels/DOR_S1_121.txt  \n",
            "  inflating: /content/indoor-object-detection/train/labels/DOR_S1_122.txt  \n",
            "  inflating: /content/indoor-object-detection/train/labels/DOR_S1_124.txt  \n",
            "  inflating: /content/indoor-object-detection/train/labels/DOR_S1_126.txt  \n",
            "  inflating: /content/indoor-object-detection/train/labels/DOR_S3_18.txt  \n",
            "  inflating: /content/indoor-object-detection/train/labels/DOR_S3_19.txt  \n",
            "  inflating: /content/indoor-object-detection/train/labels/DOR_S3_21.txt  \n",
            "  inflating: /content/indoor-object-detection/train/labels/DOR_S3_22.txt  \n",
            "  inflating: /content/indoor-object-detection/train/labels/DOR_S3_23.txt  \n",
            "  inflating: /content/indoor-object-detection/train/labels/DOR_S3_24.txt  \n",
            "  inflating: /content/indoor-object-detection/train/labels/DOR_S3_25.txt  \n",
            "  inflating: /content/indoor-object-detection/train/labels/DOR_S3_68.txt  \n",
            "  inflating: /content/indoor-object-detection/train/labels/DOR_S3_69.txt  \n",
            "  inflating: /content/indoor-object-detection/train/labels/DOR_S3_71.txt  \n",
            "  inflating: /content/indoor-object-detection/train/labels/DOR_S3_72.txt  \n",
            "  inflating: /content/indoor-object-detection/train/labels/DOR_S3_73.txt  \n",
            "  inflating: /content/indoor-object-detection/train/labels/DOR_S3_74.txt  \n",
            "  inflating: /content/indoor-object-detection/train/labels/DOR_S3_75.txt  \n",
            "  inflating: /content/indoor-object-detection/train/labels/DOR_S3_76.txt  \n",
            "  inflating: /content/indoor-object-detection/train/labels/DOR_S3_77.txt  \n",
            "  inflating: /content/indoor-object-detection/train/labels/DOR_S3_78.txt  \n",
            "  inflating: /content/indoor-object-detection/train/labels/DOR_S3_79.txt  \n",
            "  inflating: /content/indoor-object-detection/train/labels/DOR_S3_80.txt  \n",
            "  inflating: /content/indoor-object-detection/train/labels/DOR_S3_81.txt  \n",
            "  inflating: /content/indoor-object-detection/train/labels/DOR_S3_84.txt  \n",
            "  inflating: /content/indoor-object-detection/train/labels/DOR_S3_85.txt  \n",
            "  inflating: /content/indoor-object-detection/train/labels/Wood_Mode_Brookhaven_Hardware_Kitchen_Associates-1.txt  \n",
            "  inflating: /content/indoor-object-detection/train/labels/Wood_Mode_Brookhaven_Hardware_Kitchen_Associates-3.txt  \n",
            "  inflating: /content/indoor-object-detection/train/labels/a0da5e7cc4ba2d79.txt  \n",
            "  inflating: /content/indoor-object-detection/train/labels/a185d6eec3bc0f06.txt  \n",
            "  inflating: /content/indoor-object-detection/train/labels/a2eb27330f078f0b.txt  \n",
            "  inflating: /content/indoor-object-detection/train/labels/a30d502fade25820.txt  \n",
            "  inflating: /content/indoor-object-detection/train/labels/a3f745ee4b00c1e4.txt  \n",
            "  inflating: /content/indoor-object-detection/train/labels/a430c7548c2f6d39.txt  \n",
            "  inflating: /content/indoor-object-detection/train/labels/a45ef38a62f1da3b.txt  \n",
            "  inflating: /content/indoor-object-detection/train/labels/a4b1c68fd5f95210.txt  \n",
            "  inflating: /content/indoor-object-detection/train/labels/a4d4a408e1c3ca35.txt  \n",
            "  inflating: /content/indoor-object-detection/train/labels/a4de19b855aea878.txt  \n",
            "  inflating: /content/indoor-object-detection/train/labels/a4e2d1d696fa57d7.txt  \n",
            "  inflating: /content/indoor-object-detection/train/labels/a4f8fd67378730a8.txt  \n",
            "  inflating: /content/indoor-object-detection/train/labels/a50ceaeef959e452.txt  \n",
            "  inflating: /content/indoor-object-detection/train/labels/a567a0b64b3c52dc.txt  \n",
            "  inflating: /content/indoor-object-detection/train/labels/a698589d8941988e.txt  \n",
            "  inflating: /content/indoor-object-detection/train/labels/a6c770c55743d796.txt  \n",
            "  inflating: /content/indoor-object-detection/train/labels/a6e252b43b8c71c8.txt  \n",
            "  inflating: /content/indoor-object-detection/train/labels/a79c8309feb6385f.txt  \n",
            "  inflating: /content/indoor-object-detection/train/labels/a8042cce7f1cb422.txt  \n",
            "  inflating: /content/indoor-object-detection/train/labels/a83b50041535fbbd.txt  \n",
            "  inflating: /content/indoor-object-detection/train/labels/a84db76292ae045a.txt  \n",
            "  inflating: /content/indoor-object-detection/train/labels/a87aca1e7cedbff6.txt  \n",
            "  inflating: /content/indoor-object-detection/train/labels/a8ed87af97e1a9d3.txt  \n",
            "  inflating: /content/indoor-object-detection/train/labels/a94b92ba3292c844.txt  \n",
            "  inflating: /content/indoor-object-detection/train/labels/aa100acd5afc5de3.txt  \n",
            "  inflating: /content/indoor-object-detection/train/labels/aa46fa285ca71cee.txt  \n",
            "  inflating: /content/indoor-object-detection/train/labels/aa51976e75f89c18.txt  \n",
            "  inflating: /content/indoor-object-detection/train/labels/abcfcdbdb56cfdea.txt  \n",
            "  inflating: /content/indoor-object-detection/train/labels/acaebc6ee1264976.txt  \n",
            "  inflating: /content/indoor-object-detection/train/labels/acfbe51840b6e2df.txt  \n",
            "  inflating: /content/indoor-object-detection/train/labels/ad0be291d7cfdee1.txt  \n",
            "  inflating: /content/indoor-object-detection/train/labels/ad71c03f761e1072.txt  \n",
            "  inflating: /content/indoor-object-detection/train/labels/afacd0b904e4601b.txt  \n",
            "  inflating: /content/indoor-object-detection/train/labels/afd7573ccde0b6ab.txt  \n",
            "  inflating: /content/indoor-object-detection/train/labels/afe5b42ce72f2eb5.txt  \n",
            "  inflating: /content/indoor-object-detection/train/labels/b07a7a55e371416e.txt  \n",
            "  inflating: /content/indoor-object-detection/train/labels/b09da1b69ff6580a.txt  \n",
            "  inflating: /content/indoor-object-detection/train/labels/b0b08bdfbb3612db.txt  \n",
            "  inflating: /content/indoor-object-detection/train/labels/b15de360b5a290e0.txt  \n",
            "  inflating: /content/indoor-object-detection/train/labels/b228d99ee9267a3b.txt  \n",
            "  inflating: /content/indoor-object-detection/train/labels/b2514d4b49358070.txt  \n",
            "  inflating: /content/indoor-object-detection/train/labels/b2addaa6fa7cce4e.txt  \n",
            "  inflating: /content/indoor-object-detection/train/labels/b321b5ba60312f26.txt  \n",
            "  inflating: /content/indoor-object-detection/train/labels/b331277ae70fd966.txt  \n",
            "  inflating: /content/indoor-object-detection/train/labels/b52b11559bb34336.txt  \n",
            "  inflating: /content/indoor-object-detection/train/labels/b52dd50bf8371a4c.txt  \n",
            "  inflating: /content/indoor-object-detection/train/labels/b5d0b5bccecb3c20.txt  \n",
            "  inflating: /content/indoor-object-detection/train/labels/b5ffe52bebb31351.txt  \n",
            "  inflating: /content/indoor-object-detection/train/labels/b603a9d5511f2661.txt  \n",
            "  inflating: /content/indoor-object-detection/train/labels/b6748985e452473a.txt  \n",
            "  inflating: /content/indoor-object-detection/train/labels/b76e1fe157064cc1.txt  \n",
            "  inflating: /content/indoor-object-detection/train/labels/b818efe4172f4666.txt  \n",
            "  inflating: /content/indoor-object-detection/train/labels/ba33845dd206c054.txt  \n",
            "  inflating: /content/indoor-object-detection/train/labels/ba951e65a53acadf.txt  \n",
            "  inflating: /content/indoor-object-detection/train/labels/bb43aee523a166d6.txt  \n",
            "  inflating: /content/indoor-object-detection/train/labels/bb561fb5cebe8415.txt  \n",
            "  inflating: /content/indoor-object-detection/train/labels/bbf9f48937268c7a.txt  \n",
            "  inflating: /content/indoor-object-detection/train/labels/bd9f7905de0ff6db.txt  \n",
            "  inflating: /content/indoor-object-detection/train/labels/be2541573a312b94.txt  \n",
            "  inflating: /content/indoor-object-detection/train/labels/be73b83c3f58d469.txt  \n",
            "  inflating: /content/indoor-object-detection/train/labels/be893deb92bdc98a.txt  \n",
            "  inflating: /content/indoor-object-detection/train/labels/beb9fcbcfe869959.txt  \n",
            "  inflating: /content/indoor-object-detection/train/labels/bed55d09557e4f8e.txt  \n",
            "  inflating: /content/indoor-object-detection/train/labels/bed78c5986b45df2.txt  \n",
            "  inflating: /content/indoor-object-detection/train/labels/bf289fad3606ef7d.txt  \n",
            "  inflating: /content/indoor-object-detection/train/labels/bf54629b50fa0623.txt  \n",
            "  inflating: /content/indoor-object-detection/train/labels/bf9e9a9681561d60.txt  \n",
            "  inflating: /content/indoor-object-detection/train/labels/brilliant-modern-kitchen-cabinet-pulls-with-regard-to-contemporary-and-handles.txt  \n",
            "  inflating: /content/indoor-object-detection/train/labels/c028a1ae203a8db0.txt  \n",
            "  inflating: /content/indoor-object-detection/train/labels/c0dae2792f4a2b7e.txt  \n",
            "  inflating: /content/indoor-object-detection/train/labels/c0f22c479493ca26.txt  \n",
            "  inflating: /content/indoor-object-detection/train/labels/c12ffcfe0986f3ed.txt  \n",
            "  inflating: /content/indoor-object-detection/train/labels/c1673594e5ca4212.txt  \n",
            "  inflating: /content/indoor-object-detection/train/labels/c1ebc184420a303b.txt  \n",
            "  inflating: /content/indoor-object-detection/train/labels/c279e14b172412aa.txt  \n",
            "  inflating: /content/indoor-object-detection/train/labels/c3034ee4c10494bd.txt  \n",
            "  inflating: /content/indoor-object-detection/train/labels/c33830c874d4a8bf.txt  \n",
            "  inflating: /content/indoor-object-detection/train/labels/c3796ad5911a3dd9.txt  \n",
            "  inflating: /content/indoor-object-detection/train/labels/c3bb0c3dd9e4a02d.txt  \n",
            "  inflating: /content/indoor-object-detection/train/labels/c403cb050bb590c3.txt  \n",
            "  inflating: /content/indoor-object-detection/train/labels/c508532ae14086e6.txt  \n",
            "  inflating: /content/indoor-object-detection/train/labels/c534ca03e2ddee9a.txt  \n",
            "  inflating: /content/indoor-object-detection/train/labels/c53fe42427abd793.txt  \n",
            "  inflating: /content/indoor-object-detection/train/labels/c5d188985d4e59e5.txt  \n",
            "  inflating: /content/indoor-object-detection/train/labels/c62c4578f8d48578.txt  \n",
            "  inflating: /content/indoor-object-detection/train/labels/c76a6c85cb54c105.txt  \n",
            "  inflating: /content/indoor-object-detection/train/labels/c7ed2bf7831d135e.txt  \n",
            "  inflating: /content/indoor-object-detection/train/labels/c8c31e9cb1954ee8.txt  \n",
            "  inflating: /content/indoor-object-detection/train/labels/c8d7361c8e81ab81.txt  \n",
            "  inflating: /content/indoor-object-detection/train/labels/c94b9a2fcdd09e2f.txt  \n",
            "  inflating: /content/indoor-object-detection/train/labels/ca17815bd92f8982.txt  \n",
            "  inflating: /content/indoor-object-detection/train/labels/cb9bb228b5209e45.txt  \n",
            "  inflating: /content/indoor-object-detection/train/labels/cca8064bb85b9f33.txt  \n",
            "  inflating: /content/indoor-object-detection/train/labels/cd0f444cde5e6f84.txt  \n",
            "  inflating: /content/indoor-object-detection/train/labels/cde7a8ea22245030.txt  \n",
            "  inflating: /content/indoor-object-detection/train/labels/ce859e17702e6b6b.txt  \n",
            "  inflating: /content/indoor-object-detection/train/labels/ce9cf42259c1bec8.txt  \n",
            "  inflating: /content/indoor-object-detection/train/labels/cheap-drawer-pulls-ea-handle-ea-knob-oil-rubbed-bronze-cabinet-hardware-knobs-discount-cabinet-knobs-and-drawer-pulls.txt  \n",
            "  inflating: /content/indoor-object-detection/train/labels/d0c153d02c2c62f5.txt  \n",
            "  inflating: /content/indoor-object-detection/train/labels/d0e2dba043cdc5bd.txt  \n",
            "  inflating: /content/indoor-object-detection/train/labels/d0ef5b3e45c0ca64.txt  \n",
            "  inflating: /content/indoor-object-detection/train/labels/d10cc9d127fd3a07.txt  \n",
            "  inflating: /content/indoor-object-detection/train/labels/d15039a6b672810f.txt  \n",
            "  inflating: /content/indoor-object-detection/train/labels/d157cbf8d7f3c78a.txt  \n",
            "  inflating: /content/indoor-object-detection/train/labels/d21c3f2706a1b74f.txt  \n",
            "  inflating: /content/indoor-object-detection/train/labels/d2c8e22257059647.txt  \n",
            "  inflating: /content/indoor-object-detection/train/labels/d3ef24ecb6b630f5.txt  \n",
            "  inflating: /content/indoor-object-detection/train/labels/d42202d0e9cceee3.txt  \n",
            "  inflating: /content/indoor-object-detection/train/labels/d4b569658ae0a30c.txt  \n",
            "  inflating: /content/indoor-object-detection/train/labels/d4e1dc2f2326a8b0.txt  \n",
            "  inflating: /content/indoor-object-detection/train/labels/d52cff49e505d160.txt  \n",
            "  inflating: /content/indoor-object-detection/train/labels/d605fc35bb8d32a3.txt  \n",
            "  inflating: /content/indoor-object-detection/train/labels/d611a05b7a107509.txt  \n",
            "  inflating: /content/indoor-object-detection/train/labels/d6525ed6d5890a20.txt  \n",
            "  inflating: /content/indoor-object-detection/train/labels/d71b0472e89016e0.txt  \n",
            "  inflating: /content/indoor-object-detection/train/labels/d781d203a971bf09.txt  \n",
            "  inflating: /content/indoor-object-detection/train/labels/d79818a8c7a97ded.txt  \n",
            "  inflating: /content/indoor-object-detection/train/labels/d80700a0235c1e3c.txt  \n",
            "  inflating: /content/indoor-object-detection/train/labels/d83dcdb92fa65c56.txt  \n",
            "  inflating: /content/indoor-object-detection/train/labels/d87f2ce076230974.txt  \n",
            "  inflating: /content/indoor-object-detection/train/labels/d8cedccb3422c92e.txt  \n",
            "  inflating: /content/indoor-object-detection/train/labels/d8e0c7825be12b2c.txt  \n",
            "  inflating: /content/indoor-object-detection/train/labels/da50e6fa486f767f.txt  \n",
            "  inflating: /content/indoor-object-detection/train/labels/db22782b8dba34ef.txt  \n",
            "  inflating: /content/indoor-object-detection/train/labels/dbcb652ea7e3c6b0.txt  \n",
            "  inflating: /content/indoor-object-detection/train/labels/dbe9d7e7c15669db.txt  \n",
            "  inflating: /content/indoor-object-detection/train/labels/dbf426e1543cc41e.txt  \n",
            "  inflating: /content/indoor-object-detection/train/labels/dc78d1dede3ceba5.txt  \n",
            "  inflating: /content/indoor-object-detection/train/labels/dd3aec555ceaca24.txt  \n",
            "  inflating: /content/indoor-object-detection/train/labels/dde951a43a8333ab.txt  \n",
            "  inflating: /content/indoor-object-detection/train/labels/de9de4645e828adc.txt  \n",
            "  inflating: /content/indoor-object-detection/train/labels/df3e58f3075a5e9a.txt  \n",
            "  inflating: /content/indoor-object-detection/train/labels/e047154be3cf4f36.txt  \n",
            "  inflating: /content/indoor-object-detection/train/labels/e1ca64500fce1157.txt  \n",
            "  inflating: /content/indoor-object-detection/train/labels/e1e6f9a8212ccb8e.txt  \n",
            "  inflating: /content/indoor-object-detection/train/labels/e2e8a34b81f98b9c.txt  \n",
            "  inflating: /content/indoor-object-detection/train/labels/e41227e8569a455f.txt  \n",
            "  inflating: /content/indoor-object-detection/train/labels/e4499b4e5c7ee71d.txt  \n",
            "  inflating: /content/indoor-object-detection/train/labels/e461e568de435325.txt  \n",
            "  inflating: /content/indoor-object-detection/train/labels/e5d2edc12826ff41.txt  \n",
            "  inflating: /content/indoor-object-detection/train/labels/e5eb853c477f4ba7.txt  \n",
            "  inflating: /content/indoor-object-detection/train/labels/e6a3eb894b0b9a4c.txt  \n",
            "  inflating: /content/indoor-object-detection/train/labels/e6bbf225bf7e2e79.txt  \n",
            "  inflating: /content/indoor-object-detection/train/labels/e70c78748ec0fd81.txt  \n",
            "  inflating: /content/indoor-object-detection/train/labels/e73cf5235e501056.txt  \n",
            "  inflating: /content/indoor-object-detection/train/labels/e75c980c218966f0.txt  \n",
            "  inflating: /content/indoor-object-detection/train/labels/e7667c571440ca5e.txt  \n",
            "  inflating: /content/indoor-object-detection/train/labels/e97c97c39ade3031.txt  \n",
            "  inflating: /content/indoor-object-detection/train/labels/e9bb83c89a82dad1.txt  \n",
            "  inflating: /content/indoor-object-detection/train/labels/ec411105110b2c56.txt  \n",
            "  inflating: /content/indoor-object-detection/train/labels/ecd1e55f8a6b3a4f.txt  \n",
            "  inflating: /content/indoor-object-detection/train/labels/ecf61587947c4eb0.txt  \n",
            "  inflating: /content/indoor-object-detection/train/labels/ed47757457c3b029.txt  \n",
            "  inflating: /content/indoor-object-detection/train/labels/eef125b33737d19a.txt  \n",
            "  inflating: /content/indoor-object-detection/train/labels/ef40ea977c4ff163.txt  \n",
            "  inflating: /content/indoor-object-detection/train/labels/f1b480761060081e.txt  \n",
            "  inflating: /content/indoor-object-detection/train/labels/f282bb0b1946f85a.txt  \n",
            "  inflating: /content/indoor-object-detection/train/labels/f291d677045b5a38.txt  \n",
            "  inflating: /content/indoor-object-detection/train/labels/f2b31981e52820b1.txt  \n",
            "  inflating: /content/indoor-object-detection/train/labels/f57bb9c762710434.txt  \n",
            "  inflating: /content/indoor-object-detection/train/labels/f638c52c804a1c0e.txt  \n",
            "  inflating: /content/indoor-object-detection/train/labels/f701b6ac595a0361.txt  \n",
            "  inflating: /content/indoor-object-detection/train/labels/f80b3c58db04feed.txt  \n",
            "  inflating: /content/indoor-object-detection/train/labels/f858fa9087c0d735.txt  \n",
            "  inflating: /content/indoor-object-detection/train/labels/f9f6170e3deacb01.txt  \n",
            "  inflating: /content/indoor-object-detection/train/labels/fbeb16e8a12ae749.txt  \n",
            "  inflating: /content/indoor-object-detection/train/labels/fc8e78e65a4f4473.txt  \n",
            "  inflating: /content/indoor-object-detection/train/labels/fe5956b82ea1360d.txt  \n",
            "  inflating: /content/indoor-object-detection/train/labels/glass-crystal-drawer-pulls.txt  \n",
            "  inflating: /content/indoor-object-detection/train/labels/gold-cabinet-hardware.txt  \n",
            "  inflating: /content/indoor-object-detection/train/labels/ikea-drawer-knobs-drawer-pulls-kitchen-cabinet-handles-knobs-and-handles-knobs-vs-handles-for-ikea-bedroom-drawer-knobs.txt  \n",
            "  inflating: /content/indoor-object-detection/train/labels/ikea-handles-kitchen-cabinet-handles-ikea-drawer-pulls-and-knobs.txt  \n",
            "  inflating: /content/indoor-object-detection/train/labels/images.txt  \n",
            "  inflating: /content/indoor-object-detection/train/labels/images1.txt  \n",
            "  inflating: /content/indoor-object-detection/train/labels/images11.txt  \n",
            "  inflating: /content/indoor-object-detection/train/labels/images12.txt  \n",
            "  inflating: /content/indoor-object-detection/train/labels/images13.txt  \n",
            "  inflating: /content/indoor-object-detection/train/labels/images16.txt  \n",
            "  inflating: /content/indoor-object-detection/train/labels/images4.txt  \n",
            "  inflating: /content/indoor-object-detection/train/labels/images5.txt  \n",
            "  inflating: /content/indoor-object-detection/train/labels/images7.txt  \n",
            "  inflating: /content/indoor-object-detection/train/labels/images8.txt  \n",
            "  inflating: /content/indoor-object-detection/train/labels/index.txt  \n",
            "  inflating: /content/indoor-object-detection/train/labels/kitchen-cabinet-handles-interesting-inspiration-door-simple-ideas-decor-gold-pulls-knobs-and-furniture-hardware-dresser-hoosier-recycling-bins-black-knob-with-backplate-stone-ring.txt  \n",
            "  inflating: /content/indoor-object-detection/train/labels/kitchen-drawer-pulls-modern-hardware-knobs-cabinet-handles-stunning-kitchen-drawer-pulls-images-contemporary-with-regard-to-3-kitchen-cabinet-pulls-oil-rubbed-bronze.txt  \n",
            "  inflating: /content/indoor-object-detection/train/labels/knobs-D.txt  \n",
            "  inflating: /content/indoor-object-detection/train/labels/pantry-door-handles-popular-kitchen-cabinet-door-handles-beautiful-top-pantry-cabinet-door-handles-pantry-cabinet-door-handles.txt  \n",
            "  inflating: /content/indoor-object-detection/train/labels/refrigerator_door_handle_l1.txt  \n",
            "  inflating: /content/indoor-object-detection/train/labels/s-l225.txt  \n",
            "  inflating: /content/indoor-object-detection/train/labels/wardrobe-handles-bedroom-drawer-and-knobs-for-furniture-black-silver-twigs-kids-ikea-cabinets-no-h.txt  \n",
            "  inflating: /content/indoor-object-detection/valid/images/000cf08de329f81b.jpg  \n",
            "  inflating: /content/indoor-object-detection/valid/images/000d61ba9ffa87db.jpg  \n",
            "  inflating: /content/indoor-object-detection/valid/images/00bb967bc89e040f.jpg  \n",
            "  inflating: /content/indoor-object-detection/valid/images/00c4503acd511444.jpg  \n",
            "  inflating: /content/indoor-object-detection/valid/images/00cb40d7ea24aa3b.jpg  \n",
            "  inflating: /content/indoor-object-detection/valid/images/00ce3c2f4657457f.jpg  \n",
            "  inflating: /content/indoor-object-detection/valid/images/00dbfb71d81618ea.jpg  \n",
            "  inflating: /content/indoor-object-detection/valid/images/00de93955694a159.jpg  \n",
            "  inflating: /content/indoor-object-detection/valid/images/0118064eedc2b2c1.jpg  \n",
            "  inflating: /content/indoor-object-detection/valid/images/022594ed9ec74a86.jpg  \n",
            "  inflating: /content/indoor-object-detection/valid/images/02d35eb7ad2388f1.jpg  \n",
            "  inflating: /content/indoor-object-detection/valid/images/02e77bf2f790fdbc.jpg  \n",
            "  inflating: /content/indoor-object-detection/valid/images/03dad3345ad61f8a.jpg  \n",
            "  inflating: /content/indoor-object-detection/valid/images/04dcf9e9b7261c3f.jpg  \n",
            "  inflating: /content/indoor-object-detection/valid/images/0523b641cddd9cbb.jpg  \n",
            "  inflating: /content/indoor-object-detection/valid/images/0563094655976f5c.jpg  \n",
            "  inflating: /content/indoor-object-detection/valid/images/05f98613a5f083d6.jpg  \n",
            "  inflating: /content/indoor-object-detection/valid/images/06553dad53cd2445.jpg  \n",
            "  inflating: /content/indoor-object-detection/valid/images/07229952f81ce2b5.jpg  \n",
            "  inflating: /content/indoor-object-detection/valid/images/0896f7f8ba671953.jpg  \n",
            "  inflating: /content/indoor-object-detection/valid/images/094280157e036eb0.jpg  \n",
            "  inflating: /content/indoor-object-detection/valid/images/0a192c33bfe2430b.jpg  \n",
            "  inflating: /content/indoor-object-detection/valid/images/0a4c6b68ca539d0e.jpg  \n",
            "  inflating: /content/indoor-object-detection/valid/images/0a5016e04759209d.jpg  \n",
            "  inflating: /content/indoor-object-detection/valid/images/0accef11d18c2a1d.jpg  \n",
            "  inflating: /content/indoor-object-detection/valid/images/0b5e741092cfe9cd.jpg  \n",
            "  inflating: /content/indoor-object-detection/valid/images/0bbea2cd35fe261d.jpg  \n",
            "  inflating: /content/indoor-object-detection/valid/images/0bc96786d389adbd.jpg  \n",
            "  inflating: /content/indoor-object-detection/valid/images/0bf8a1dc0827950f.jpg  \n",
            "  inflating: /content/indoor-object-detection/valid/images/0c07f16af20bdc98.jpg  \n",
            "  inflating: /content/indoor-object-detection/valid/images/0c0a7b8b641aa601.jpg  \n",
            "  inflating: /content/indoor-object-detection/valid/images/0c1315e74b604511.jpg  \n",
            "  inflating: /content/indoor-object-detection/valid/images/0c2d6412fa30dbaa.jpg  \n",
            "  inflating: /content/indoor-object-detection/valid/images/0c4ba131f41e2176.jpg  \n",
            "  inflating: /content/indoor-object-detection/valid/images/0c5f526599f52a41.jpg  \n",
            "  inflating: /content/indoor-object-detection/valid/images/0c630c8c338d0542.jpg  \n",
            "  inflating: /content/indoor-object-detection/valid/images/0c6ebfa015012398.jpg  \n",
            "  inflating: /content/indoor-object-detection/valid/images/0c931a871a721815.jpg  \n",
            "  inflating: /content/indoor-object-detection/valid/images/0c9c9892fcebeea9.jpg  \n",
            "  inflating: /content/indoor-object-detection/valid/images/0ca88a8d6927a8db.jpg  \n",
            "  inflating: /content/indoor-object-detection/valid/images/0cb4a797c123d2cf.jpg  \n",
            "  inflating: /content/indoor-object-detection/valid/images/0cec029cb5070405.jpg  \n",
            "  inflating: /content/indoor-object-detection/valid/images/0cf65d247223acb4.jpg  \n",
            "  inflating: /content/indoor-object-detection/valid/images/0d02acee5a7d169c.jpg  \n",
            "  inflating: /content/indoor-object-detection/valid/images/0d221032a69a8d24.jpg  \n",
            "  inflating: /content/indoor-object-detection/valid/images/0d28c6469cdb9621.jpg  \n",
            "  inflating: /content/indoor-object-detection/valid/images/0d5e7db77f1c27d8.jpg  \n",
            "  inflating: /content/indoor-object-detection/valid/images/0d61ee61e82202fe.jpg  \n",
            "  inflating: /content/indoor-object-detection/valid/images/0d67358e7358ee00.jpg  \n",
            "  inflating: /content/indoor-object-detection/valid/images/0d7a93809484c6e2.jpg  \n",
            "  inflating: /content/indoor-object-detection/valid/images/0da7328a8d12180f.jpg  \n",
            "  inflating: /content/indoor-object-detection/valid/images/0dba02f50f63b974.jpg  \n",
            "  inflating: /content/indoor-object-detection/valid/images/0dc8e08b8c0ee3dd.jpg  \n",
            "  inflating: /content/indoor-object-detection/valid/images/0dee4c4650d50ef0.jpg  \n",
            "  inflating: /content/indoor-object-detection/valid/images/0df58ceea75be1cd.jpg  \n",
            "  inflating: /content/indoor-object-detection/valid/images/0e25d39652fdda48.jpg  \n",
            "  inflating: /content/indoor-object-detection/valid/images/0e3381d79d5b1ea1.jpg  \n",
            "  inflating: /content/indoor-object-detection/valid/images/0e363618cb0f9bf8.jpg  \n",
            "  inflating: /content/indoor-object-detection/valid/images/0e36f05b301e8b6d.jpg  \n",
            "  inflating: /content/indoor-object-detection/valid/images/0e3bcb67142341af.jpg  \n",
            "  inflating: /content/indoor-object-detection/valid/images/0e4d682bd3970dc1.jpg  \n",
            "  inflating: /content/indoor-object-detection/valid/images/0e8a4281ac3e1175.jpg  \n",
            "  inflating: /content/indoor-object-detection/valid/images/0eb8c615983f8fde.jpg  \n",
            "  inflating: /content/indoor-object-detection/valid/images/0ec5e8e7e7d80960.jpg  \n",
            "  inflating: /content/indoor-object-detection/valid/images/0f2f36bf06cc0514.jpg  \n",
            "  inflating: /content/indoor-object-detection/valid/images/0f5294974667221a.jpg  \n",
            "  inflating: /content/indoor-object-detection/valid/images/0fb91bd32b39649d.jpg  \n",
            "  inflating: /content/indoor-object-detection/valid/images/0fbbdc13b109f257.jpg  \n",
            "  inflating: /content/indoor-object-detection/valid/images/144b80887ff18655.jpg  \n",
            "  inflating: /content/indoor-object-detection/valid/images/1458ece265475557.jpg  \n",
            "  inflating: /content/indoor-object-detection/valid/images/145fdf2ac97867d2.jpg  \n",
            "  inflating: /content/indoor-object-detection/valid/images/1594b7c29a320b0d.jpg  \n",
            "  inflating: /content/indoor-object-detection/valid/images/188c2d68052cc7b7.jpg  \n",
            "  inflating: /content/indoor-object-detection/valid/images/19135e910ad435c3.jpg  \n",
            "  inflating: /content/indoor-object-detection/valid/images/1a3694db5d258218.jpg  \n",
            "  inflating: /content/indoor-object-detection/valid/images/1a7fb2ab751fffac.jpg  \n",
            "  inflating: /content/indoor-object-detection/valid/images/1b3602269fd10c06.jpg  \n",
            "  inflating: /content/indoor-object-detection/valid/images/1b457a5c061c8aa1.jpg  \n",
            "  inflating: /content/indoor-object-detection/valid/images/1b754ea4cbc56db0.jpg  \n",
            "  inflating: /content/indoor-object-detection/valid/images/1b9bcc4bda6a70d7.jpg  \n",
            "  inflating: /content/indoor-object-detection/valid/images/1bb158ab4884139f.jpg  \n",
            "  inflating: /content/indoor-object-detection/valid/images/1bb7f93366ee6094.jpg  \n",
            "  inflating: /content/indoor-object-detection/valid/images/1ea9b62381f01a24.jpg  \n",
            "  inflating: /content/indoor-object-detection/valid/images/20485139e526d5b4.jpg  \n",
            "  inflating: /content/indoor-object-detection/valid/images/2192ea511cf0171b.jpg  \n",
            "  inflating: /content/indoor-object-detection/valid/images/2334af101eb10dce.jpg  \n",
            "  inflating: /content/indoor-object-detection/valid/images/24e3ee52ac1821a9.jpg  \n",
            "  inflating: /content/indoor-object-detection/valid/images/2607f946dc091571.jpg  \n",
            "  inflating: /content/indoor-object-detection/valid/images/264de7f0e59e9728.jpg  \n",
            "  inflating: /content/indoor-object-detection/valid/images/28c9da3777a4e41d.jpg  \n",
            "  inflating: /content/indoor-object-detection/valid/images/2a241b26477c1799.jpg  \n",
            "  inflating: /content/indoor-object-detection/valid/images/2b87c3313f02f803.jpg  \n",
            "  inflating: /content/indoor-object-detection/valid/images/2d40044c792c5d1e.jpg  \n",
            "  inflating: /content/indoor-object-detection/valid/images/2dc9dd0bc5e8cfe8.jpg  \n",
            "  inflating: /content/indoor-object-detection/valid/images/2ee9c57cae6b426a.jpg  \n",
            "  inflating: /content/indoor-object-detection/valid/images/2eedacb1aea229c6.jpg  \n",
            "  inflating: /content/indoor-object-detection/valid/images/30a9c21cc81e94e8.jpg  \n",
            "  inflating: /content/indoor-object-detection/valid/images/368626da4509d4b5.jpg  \n",
            "  inflating: /content/indoor-object-detection/valid/images/3757c5e77faef926.jpg  \n",
            "  inflating: /content/indoor-object-detection/valid/images/386.png  \n",
            "  inflating: /content/indoor-object-detection/valid/images/38caae234dc51d86.jpg  \n",
            "  inflating: /content/indoor-object-detection/valid/images/395.png  \n",
            "  inflating: /content/indoor-object-detection/valid/images/3afcfc94506a6988.jpg  \n",
            "  inflating: /content/indoor-object-detection/valid/images/3be83abbcf05b421.jpg  \n",
            "  inflating: /content/indoor-object-detection/valid/images/3ed972cc0cf49713.jpg  \n",
            "  inflating: /content/indoor-object-detection/valid/images/4073b33c880898a5.jpg  \n",
            "  inflating: /content/indoor-object-detection/valid/images/40da7d2ae3dfe2c1.jpg  \n",
            "  inflating: /content/indoor-object-detection/valid/images/41160be1337c198b.jpg  \n",
            "  inflating: /content/indoor-object-detection/valid/images/421b4b574ae5c7b2.jpg  \n",
            "  inflating: /content/indoor-object-detection/valid/images/4244f089ccfaeebb.jpg  \n",
            "  inflating: /content/indoor-object-detection/valid/images/4267f2bfb8822d2c.jpg  \n",
            "  inflating: /content/indoor-object-detection/valid/images/44f8a4a4849b3248.jpg  \n",
            "  inflating: /content/indoor-object-detection/valid/images/46cf10f214f46947.jpg  \n",
            "  inflating: /content/indoor-object-detection/valid/images/49758eda4f58306f.jpg  \n",
            "  inflating: /content/indoor-object-detection/valid/images/4bcd41a81ff6ed9c.jpg  \n",
            "  inflating: /content/indoor-object-detection/valid/images/4db90f0bc1f4867e.jpg  \n",
            "  inflating: /content/indoor-object-detection/valid/images/4fd46f6ea4f0164c.jpg  \n",
            "  inflating: /content/indoor-object-detection/valid/images/5.png  \n",
            "  inflating: /content/indoor-object-detection/valid/images/50b5d26d980d6b1d.jpg  \n",
            "  inflating: /content/indoor-object-detection/valid/images/5156f5f4a732cb0b.jpg  \n",
            "  inflating: /content/indoor-object-detection/valid/images/520ea55e36aa27c4.jpg  \n",
            "  inflating: /content/indoor-object-detection/valid/images/52129dd4d69daa29.jpg  \n",
            "  inflating: /content/indoor-object-detection/valid/images/540d305a2d06c74b.jpg  \n",
            "  inflating: /content/indoor-object-detection/valid/images/54f549c1ef45078c.jpg  \n",
            "  inflating: /content/indoor-object-detection/valid/images/554982b1d8234ceb.jpg  \n",
            "  inflating: /content/indoor-object-detection/valid/images/592adbb30fa8ae42.jpg  \n",
            "  inflating: /content/indoor-object-detection/valid/images/5a173d4aecf6ad4d.jpg  \n",
            "  inflating: /content/indoor-object-detection/valid/images/5a58c683cb34a227.jpg  \n",
            "  inflating: /content/indoor-object-detection/valid/images/5a67af57f20fe7d6.jpg  \n",
            "  inflating: /content/indoor-object-detection/valid/images/5f2598a968b2dd97.jpg  \n",
            "  inflating: /content/indoor-object-detection/valid/images/5f9cbca55c53abfb.jpg  \n",
            "  inflating: /content/indoor-object-detection/valid/images/62f2c77938c834d4.jpg  \n",
            "  inflating: /content/indoor-object-detection/valid/images/631.png  \n",
            "  inflating: /content/indoor-object-detection/valid/images/637a3adb34196e50.jpg  \n",
            "  inflating: /content/indoor-object-detection/valid/images/6383961ebbfed4bd.jpg  \n",
            "  inflating: /content/indoor-object-detection/valid/images/665a1159-e3ab-4a7d-8770-e08337767339._SR970,300_.jpg  \n",
            "  inflating: /content/indoor-object-detection/valid/images/6683eb9b8babce79.jpg  \n",
            "  inflating: /content/indoor-object-detection/valid/images/66ab92a9c50cd36e.jpg  \n",
            "  inflating: /content/indoor-object-detection/valid/images/66abb939c8e0ada4.jpg  \n",
            "  inflating: /content/indoor-object-detection/valid/images/6bc2a5f340d507e6.jpg  \n",
            "  inflating: /content/indoor-object-detection/valid/images/6d261123912ce177.jpg  \n",
            "  inflating: /content/indoor-object-detection/valid/images/6eed688c4f49444a.jpg  \n",
            "  inflating: /content/indoor-object-detection/valid/images/6f50b202b7ae436c.jpg  \n",
            "  inflating: /content/indoor-object-detection/valid/images/71c9176bb69d5202.jpg  \n",
            "  inflating: /content/indoor-object-detection/valid/images/748481fab813b3b02a691cf6e22fedf9--brass-hardware-the-copper.jpg  \n",
            "  inflating: /content/indoor-object-detection/valid/images/78ada2fac6810af8.jpg  \n",
            "  inflating: /content/indoor-object-detection/valid/images/7938dcc23ea839f2.jpg  \n",
            "  inflating: /content/indoor-object-detection/valid/images/7bf4636ef0a35ad2.jpg  \n",
            "  inflating: /content/indoor-object-detection/valid/images/7dcc6c19e51c0d46.jpg  \n",
            "  inflating: /content/indoor-object-detection/valid/images/815fd80ed7a29f21.jpg  \n",
            "  inflating: /content/indoor-object-detection/valid/images/81963c0efe7ebb99.jpg  \n",
            "  inflating: /content/indoor-object-detection/valid/images/850.png  \n",
            "  inflating: /content/indoor-object-detection/valid/images/863.png  \n",
            "  inflating: /content/indoor-object-detection/valid/images/86496f3f884592bd.jpg  \n",
            "  inflating: /content/indoor-object-detection/valid/images/87890bb19846608c.jpg  \n",
            "  inflating: /content/indoor-object-detection/valid/images/87cf26211cfa78cc.jpg  \n",
            "  inflating: /content/indoor-object-detection/valid/images/8981d04925449de2.jpg  \n",
            "  inflating: /content/indoor-object-detection/valid/images/89878d47328f3ace.jpg  \n",
            "  inflating: /content/indoor-object-detection/valid/images/89edeb80dc309ab5.jpg  \n",
            "  inflating: /content/indoor-object-detection/valid/images/8b31b9fd2a48a90f.jpg  \n",
            "  inflating: /content/indoor-object-detection/valid/images/8c403c2bca23f224.jpg  \n",
            "  inflating: /content/indoor-object-detection/valid/images/907f05d19c32cbd5.jpg  \n",
            "  inflating: /content/indoor-object-detection/valid/images/9085bb6608cd6064.jpg  \n",
            "  inflating: /content/indoor-object-detection/valid/images/91d9a393482702a4.jpg  \n",
            "  inflating: /content/indoor-object-detection/valid/images/92d37f69abfba9de.jpg  \n",
            "  inflating: /content/indoor-object-detection/valid/images/950697e0a8982df6.jpg  \n",
            "  inflating: /content/indoor-object-detection/valid/images/959295031255ac39.jpg  \n",
            "  inflating: /content/indoor-object-detection/valid/images/96b0ea1e6c7a666f.jpg  \n",
            "  inflating: /content/indoor-object-detection/valid/images/97aaf76bd6fad8a9.jpg  \n",
            "  inflating: /content/indoor-object-detection/valid/images/9891fb8e58773939.jpg  \n",
            "  inflating: /content/indoor-object-detection/valid/images/989b261359f4f8fe.jpg  \n",
            "  inflating: /content/indoor-object-detection/valid/images/9b32759af54ad538.jpg  \n",
            "  inflating: /content/indoor-object-detection/valid/images/DOR_S1_106.jpg  \n",
            "  inflating: /content/indoor-object-detection/valid/images/DOR_S1_114.jpg  \n",
            "  inflating: /content/indoor-object-detection/valid/images/DOR_S1_123.jpg  \n",
            "  inflating: /content/indoor-object-detection/valid/images/DOR_S1_125.jpg  \n",
            "  inflating: /content/indoor-object-detection/valid/images/DOR_S3_20.JPG  \n",
            "  inflating: /content/indoor-object-detection/valid/images/DOR_S3_26.JPG  \n",
            "  inflating: /content/indoor-object-detection/valid/images/DOR_S3_66.JPG  \n",
            "  inflating: /content/indoor-object-detection/valid/images/DOR_S3_67.JPG  \n",
            "  inflating: /content/indoor-object-detection/valid/images/DOR_S3_70.JPG  \n",
            "  inflating: /content/indoor-object-detection/valid/images/a05b6f6dc45bc772.jpg  \n",
            "  inflating: /content/indoor-object-detection/valid/images/a12ad8a06226a6dd.jpg  \n",
            "  inflating: /content/indoor-object-detection/valid/images/a1e578f266017acd.jpg  \n",
            "  inflating: /content/indoor-object-detection/valid/images/a33f34f341215025.jpg  \n",
            "  inflating: /content/indoor-object-detection/valid/images/a434ac33602740dd.jpg  \n",
            "  inflating: /content/indoor-object-detection/valid/images/a4df7917a458194a.jpg  \n",
            "  inflating: /content/indoor-object-detection/valid/images/a7ceb5b7e7c73844.jpg  \n",
            "  inflating: /content/indoor-object-detection/valid/images/aa1043c40d86c964.jpg  \n",
            "  inflating: /content/indoor-object-detection/valid/images/ae052e44f8260bd0.jpg  \n",
            "  inflating: /content/indoor-object-detection/valid/images/aecc04cc09da6de4.jpg  \n",
            "  inflating: /content/indoor-object-detection/valid/images/af652773266eaea9.jpg  \n",
            "  inflating: /content/indoor-object-detection/valid/images/b0c42f6598088fc7.jpg  \n",
            "  inflating: /content/indoor-object-detection/valid/images/b11dc1515c647e32.jpg  \n",
            "  inflating: /content/indoor-object-detection/valid/images/b49a8bb3e354ddb0.jpg  \n",
            "  inflating: /content/indoor-object-detection/valid/images/b53ec1a97df329bd.jpg  \n",
            "  inflating: /content/indoor-object-detection/valid/images/b59a0309fa90ab99.jpg  \n",
            "  inflating: /content/indoor-object-detection/valid/images/b6798d4660eb5072.jpg  \n",
            "  inflating: /content/indoor-object-detection/valid/images/babe8d221fea79cf.jpg  \n",
            "  inflating: /content/indoor-object-detection/valid/images/be1ae75c87fb45d1.jpg  \n",
            "  inflating: /content/indoor-object-detection/valid/images/c401b6f834724d34.jpg  \n",
            "  inflating: /content/indoor-object-detection/valid/images/c46bb611a0fc82cb.jpg  \n",
            "  inflating: /content/indoor-object-detection/valid/images/c4beca7e09144a81.jpg  \n",
            "  inflating: /content/indoor-object-detection/valid/images/c4ef271815943292.jpg  \n",
            "  inflating: /content/indoor-object-detection/valid/images/c509cf7a447a662c.jpg  \n",
            "  inflating: /content/indoor-object-detection/valid/images/c691b5ce2c260489.jpg  \n",
            "  inflating: /content/indoor-object-detection/valid/images/c777987787fa1284.jpg  \n",
            "  inflating: /content/indoor-object-detection/valid/images/cc34422d08879446.jpg  \n",
            "  inflating: /content/indoor-object-detection/valid/images/cdd575088f05845a.jpg  \n",
            "  inflating: /content/indoor-object-detection/valid/images/copper-cabinet-hardware-cabinet-door-pulls-brilliant-copper-brushed-cup-pull-handle-knob-bow-in-copper-cabinet-knobs-and-drawer-pulls.jpg  \n",
            "  inflating: /content/indoor-object-detection/valid/images/copper-kitchen-handles-modern-copper-t-pull-handle-drawer-pull-cabinet-hardware-kitchen-cupboard-pulls-cabinet-pull-drawer-handles-knobs-and-pulls-polished-copper-cabinet-handles.jpg  \n",
            "  inflating: /content/indoor-object-detection/valid/images/d001a876a571ddd6.jpg  \n",
            "  inflating: /content/indoor-object-detection/valid/images/d3b4109c35d213ac.jpg  \n",
            "  inflating: /content/indoor-object-detection/valid/images/d4762a12b3b5c825.jpg  \n",
            "  inflating: /content/indoor-object-detection/valid/images/d5e54a97c7956ea4.jpg  \n",
            "  inflating: /content/indoor-object-detection/valid/images/daa62fa745f83a8e.jpg  \n",
            "  inflating: /content/indoor-object-detection/valid/images/e3d2452b2d189b72.jpg  \n",
            "  inflating: /content/indoor-object-detection/valid/images/e5de51284ebf6ef1.jpg  \n",
            "  inflating: /content/indoor-object-detection/valid/images/e6b8a2279c09a31b.jpg  \n",
            "  inflating: /content/indoor-object-detection/valid/images/ee4168f2dedb6fff.jpg  \n",
            "  inflating: /content/indoor-object-detection/valid/images/f16defdfcc454f1c.jpg  \n",
            "  inflating: /content/indoor-object-detection/valid/images/f6ab97836c153c54.jpg  \n",
            "  inflating: /content/indoor-object-detection/valid/images/gold-dresser-knobs-cloning-decors-trend-decorative-special-drawer-lively-0.jpg  \n",
            "  inflating: /content/indoor-object-detection/valid/images/images14.jpeg  \n",
            "  inflating: /content/indoor-object-detection/valid/images/images3.jpeg  \n",
            "  inflating: /content/indoor-object-detection/valid/images/images9.jpeg  \n",
            "  inflating: /content/indoor-object-detection/valid/images/kitchen-draw-hardware-draw-pulls-for-cabinets-satin-nickel-drawer-cabinet-hardware-knobs-bin-kitchen-drawer-hardware-nz.jpg  \n",
            "  inflating: /content/indoor-object-detection/valid/images/oil-rubbed-bronze-cabinet-hardware-knobs-pulls-within-plan-5.jpg  \n",
            "  inflating: /content/indoor-object-detection/valid/images/refrigerator-pulls-the-refrigerator-pull-is-part-of-the-suite-made-from-solid-brass-and-finished-in-black-modern-refrigerator-pulls.jpg  \n",
            "  inflating: /content/indoor-object-detection/valid/images/shop-cabinet-hardware-knobs.jpg  \n",
            "  inflating: /content/indoor-object-detection/valid/labels/000cf08de329f81b.txt  \n",
            "  inflating: /content/indoor-object-detection/valid/labels/000d61ba9ffa87db.txt  \n",
            "  inflating: /content/indoor-object-detection/valid/labels/00bb967bc89e040f.txt  \n",
            "  inflating: /content/indoor-object-detection/valid/labels/00c4503acd511444.txt  \n",
            "  inflating: /content/indoor-object-detection/valid/labels/00cb40d7ea24aa3b.txt  \n",
            "  inflating: /content/indoor-object-detection/valid/labels/00ce3c2f4657457f.txt  \n",
            "  inflating: /content/indoor-object-detection/valid/labels/00dbfb71d81618ea.txt  \n",
            "  inflating: /content/indoor-object-detection/valid/labels/00de93955694a159.txt  \n",
            "  inflating: /content/indoor-object-detection/valid/labels/0118064eedc2b2c1.txt  \n",
            "  inflating: /content/indoor-object-detection/valid/labels/022594ed9ec74a86.txt  \n",
            "  inflating: /content/indoor-object-detection/valid/labels/02d35eb7ad2388f1.txt  \n",
            "  inflating: /content/indoor-object-detection/valid/labels/02e77bf2f790fdbc.txt  \n",
            "  inflating: /content/indoor-object-detection/valid/labels/03dad3345ad61f8a.txt  \n",
            "  inflating: /content/indoor-object-detection/valid/labels/04dcf9e9b7261c3f.txt  \n",
            "  inflating: /content/indoor-object-detection/valid/labels/0523b641cddd9cbb.txt  \n",
            "  inflating: /content/indoor-object-detection/valid/labels/0563094655976f5c.txt  \n",
            "  inflating: /content/indoor-object-detection/valid/labels/05f98613a5f083d6.txt  \n",
            "  inflating: /content/indoor-object-detection/valid/labels/06553dad53cd2445.txt  \n",
            "  inflating: /content/indoor-object-detection/valid/labels/07229952f81ce2b5.txt  \n",
            "  inflating: /content/indoor-object-detection/valid/labels/0896f7f8ba671953.txt  \n",
            "  inflating: /content/indoor-object-detection/valid/labels/094280157e036eb0.txt  \n",
            "  inflating: /content/indoor-object-detection/valid/labels/0a192c33bfe2430b.txt  \n",
            "  inflating: /content/indoor-object-detection/valid/labels/0a4c6b68ca539d0e.txt  \n",
            "  inflating: /content/indoor-object-detection/valid/labels/0a5016e04759209d.txt  \n",
            "  inflating: /content/indoor-object-detection/valid/labels/0accef11d18c2a1d.txt  \n",
            "  inflating: /content/indoor-object-detection/valid/labels/0b5e741092cfe9cd.txt  \n",
            "  inflating: /content/indoor-object-detection/valid/labels/0bbea2cd35fe261d.txt  \n",
            "  inflating: /content/indoor-object-detection/valid/labels/0bc96786d389adbd.txt  \n",
            "  inflating: /content/indoor-object-detection/valid/labels/0bf8a1dc0827950f.txt  \n",
            "  inflating: /content/indoor-object-detection/valid/labels/0c07f16af20bdc98.txt  \n",
            "  inflating: /content/indoor-object-detection/valid/labels/0c0a7b8b641aa601.txt  \n",
            "  inflating: /content/indoor-object-detection/valid/labels/0c1315e74b604511.txt  \n",
            "  inflating: /content/indoor-object-detection/valid/labels/0c2d6412fa30dbaa.txt  \n",
            "  inflating: /content/indoor-object-detection/valid/labels/0c4ba131f41e2176.txt  \n",
            "  inflating: /content/indoor-object-detection/valid/labels/0c5f526599f52a41.txt  \n",
            "  inflating: /content/indoor-object-detection/valid/labels/0c630c8c338d0542.txt  \n",
            "  inflating: /content/indoor-object-detection/valid/labels/0c6ebfa015012398.txt  \n",
            "  inflating: /content/indoor-object-detection/valid/labels/0c931a871a721815.txt  \n",
            "  inflating: /content/indoor-object-detection/valid/labels/0c9c9892fcebeea9.txt  \n",
            "  inflating: /content/indoor-object-detection/valid/labels/0ca88a8d6927a8db.txt  \n",
            "  inflating: /content/indoor-object-detection/valid/labels/0cb4a797c123d2cf.txt  \n",
            "  inflating: /content/indoor-object-detection/valid/labels/0cec029cb5070405.txt  \n",
            "  inflating: /content/indoor-object-detection/valid/labels/0cf65d247223acb4.txt  \n",
            "  inflating: /content/indoor-object-detection/valid/labels/0d02acee5a7d169c.txt  \n",
            "  inflating: /content/indoor-object-detection/valid/labels/0d221032a69a8d24.txt  \n",
            "  inflating: /content/indoor-object-detection/valid/labels/0d28c6469cdb9621.txt  \n",
            "  inflating: /content/indoor-object-detection/valid/labels/0d5e7db77f1c27d8.txt  \n",
            "  inflating: /content/indoor-object-detection/valid/labels/0d61ee61e82202fe.txt  \n",
            "  inflating: /content/indoor-object-detection/valid/labels/0d67358e7358ee00.txt  \n",
            "  inflating: /content/indoor-object-detection/valid/labels/0d7a93809484c6e2.txt  \n",
            "  inflating: /content/indoor-object-detection/valid/labels/0da7328a8d12180f.txt  \n",
            "  inflating: /content/indoor-object-detection/valid/labels/0dba02f50f63b974.txt  \n",
            "  inflating: /content/indoor-object-detection/valid/labels/0dc8e08b8c0ee3dd.txt  \n",
            "  inflating: /content/indoor-object-detection/valid/labels/0dee4c4650d50ef0.txt  \n",
            "  inflating: /content/indoor-object-detection/valid/labels/0df58ceea75be1cd.txt  \n",
            "  inflating: /content/indoor-object-detection/valid/labels/0e25d39652fdda48.txt  \n",
            "  inflating: /content/indoor-object-detection/valid/labels/0e3381d79d5b1ea1.txt  \n",
            "  inflating: /content/indoor-object-detection/valid/labels/0e363618cb0f9bf8.txt  \n",
            "  inflating: /content/indoor-object-detection/valid/labels/0e36f05b301e8b6d.txt  \n",
            "  inflating: /content/indoor-object-detection/valid/labels/0e3bcb67142341af.txt  \n",
            "  inflating: /content/indoor-object-detection/valid/labels/0e4d682bd3970dc1.txt  \n",
            "  inflating: /content/indoor-object-detection/valid/labels/0e8a4281ac3e1175.txt  \n",
            "  inflating: /content/indoor-object-detection/valid/labels/0eb8c615983f8fde.txt  \n",
            "  inflating: /content/indoor-object-detection/valid/labels/0ec5e8e7e7d80960.txt  \n",
            "  inflating: /content/indoor-object-detection/valid/labels/0f2f36bf06cc0514.txt  \n",
            "  inflating: /content/indoor-object-detection/valid/labels/0f5294974667221a.txt  \n",
            "  inflating: /content/indoor-object-detection/valid/labels/0fb91bd32b39649d.txt  \n",
            "  inflating: /content/indoor-object-detection/valid/labels/0fbbdc13b109f257.txt  \n",
            "  inflating: /content/indoor-object-detection/valid/labels/144b80887ff18655.txt  \n",
            "  inflating: /content/indoor-object-detection/valid/labels/1458ece265475557.txt  \n",
            "  inflating: /content/indoor-object-detection/valid/labels/145fdf2ac97867d2.txt  \n",
            "  inflating: /content/indoor-object-detection/valid/labels/1594b7c29a320b0d.txt  \n",
            "  inflating: /content/indoor-object-detection/valid/labels/188c2d68052cc7b7.txt  \n",
            "  inflating: /content/indoor-object-detection/valid/labels/19135e910ad435c3.txt  \n",
            "  inflating: /content/indoor-object-detection/valid/labels/1a3694db5d258218.txt  \n",
            "  inflating: /content/indoor-object-detection/valid/labels/1a7fb2ab751fffac.txt  \n",
            "  inflating: /content/indoor-object-detection/valid/labels/1b3602269fd10c06.txt  \n",
            "  inflating: /content/indoor-object-detection/valid/labels/1b457a5c061c8aa1.txt  \n",
            "  inflating: /content/indoor-object-detection/valid/labels/1b754ea4cbc56db0.txt  \n",
            "  inflating: /content/indoor-object-detection/valid/labels/1b9bcc4bda6a70d7.txt  \n",
            "  inflating: /content/indoor-object-detection/valid/labels/1bb158ab4884139f.txt  \n",
            "  inflating: /content/indoor-object-detection/valid/labels/1bb7f93366ee6094.txt  \n",
            "  inflating: /content/indoor-object-detection/valid/labels/1ea9b62381f01a24.txt  \n",
            "  inflating: /content/indoor-object-detection/valid/labels/20485139e526d5b4.txt  \n",
            "  inflating: /content/indoor-object-detection/valid/labels/2192ea511cf0171b.txt  \n",
            "  inflating: /content/indoor-object-detection/valid/labels/2334af101eb10dce.txt  \n",
            "  inflating: /content/indoor-object-detection/valid/labels/24e3ee52ac1821a9.txt  \n",
            "  inflating: /content/indoor-object-detection/valid/labels/2607f946dc091571.txt  \n",
            "  inflating: /content/indoor-object-detection/valid/labels/264de7f0e59e9728.txt  \n",
            "  inflating: /content/indoor-object-detection/valid/labels/28c9da3777a4e41d.txt  \n",
            "  inflating: /content/indoor-object-detection/valid/labels/2a241b26477c1799.txt  \n",
            "  inflating: /content/indoor-object-detection/valid/labels/2b87c3313f02f803.txt  \n",
            "  inflating: /content/indoor-object-detection/valid/labels/2d40044c792c5d1e.txt  \n",
            "  inflating: /content/indoor-object-detection/valid/labels/2dc9dd0bc5e8cfe8.txt  \n",
            "  inflating: /content/indoor-object-detection/valid/labels/2ee9c57cae6b426a.txt  \n",
            "  inflating: /content/indoor-object-detection/valid/labels/2eedacb1aea229c6.txt  \n",
            "  inflating: /content/indoor-object-detection/valid/labels/30a9c21cc81e94e8.txt  \n",
            "  inflating: /content/indoor-object-detection/valid/labels/368626da4509d4b5.txt  \n",
            "  inflating: /content/indoor-object-detection/valid/labels/3757c5e77faef926.txt  \n",
            "  inflating: /content/indoor-object-detection/valid/labels/386.txt  \n",
            "  inflating: /content/indoor-object-detection/valid/labels/38caae234dc51d86.txt  \n",
            "  inflating: /content/indoor-object-detection/valid/labels/395.txt  \n",
            "  inflating: /content/indoor-object-detection/valid/labels/3afcfc94506a6988.txt  \n",
            "  inflating: /content/indoor-object-detection/valid/labels/3be83abbcf05b421.txt  \n",
            "  inflating: /content/indoor-object-detection/valid/labels/3ed972cc0cf49713.txt  \n",
            "  inflating: /content/indoor-object-detection/valid/labels/4073b33c880898a5.txt  \n",
            "  inflating: /content/indoor-object-detection/valid/labels/40da7d2ae3dfe2c1.txt  \n",
            "  inflating: /content/indoor-object-detection/valid/labels/41160be1337c198b.txt  \n",
            "  inflating: /content/indoor-object-detection/valid/labels/421b4b574ae5c7b2.txt  \n",
            "  inflating: /content/indoor-object-detection/valid/labels/4244f089ccfaeebb.txt  \n",
            "  inflating: /content/indoor-object-detection/valid/labels/4267f2bfb8822d2c.txt  \n",
            "  inflating: /content/indoor-object-detection/valid/labels/44f8a4a4849b3248.txt  \n",
            "  inflating: /content/indoor-object-detection/valid/labels/46cf10f214f46947.txt  \n",
            "  inflating: /content/indoor-object-detection/valid/labels/49758eda4f58306f.txt  \n",
            "  inflating: /content/indoor-object-detection/valid/labels/4bcd41a81ff6ed9c.txt  \n",
            "  inflating: /content/indoor-object-detection/valid/labels/4db90f0bc1f4867e.txt  \n",
            "  inflating: /content/indoor-object-detection/valid/labels/4fd46f6ea4f0164c.txt  \n",
            "  inflating: /content/indoor-object-detection/valid/labels/5.txt  \n",
            "  inflating: /content/indoor-object-detection/valid/labels/50b5d26d980d6b1d.txt  \n",
            "  inflating: /content/indoor-object-detection/valid/labels/5156f5f4a732cb0b.txt  \n",
            "  inflating: /content/indoor-object-detection/valid/labels/520ea55e36aa27c4.txt  \n",
            "  inflating: /content/indoor-object-detection/valid/labels/52129dd4d69daa29.txt  \n",
            "  inflating: /content/indoor-object-detection/valid/labels/540d305a2d06c74b.txt  \n",
            "  inflating: /content/indoor-object-detection/valid/labels/54f549c1ef45078c.txt  \n",
            "  inflating: /content/indoor-object-detection/valid/labels/554982b1d8234ceb.txt  \n",
            "  inflating: /content/indoor-object-detection/valid/labels/592adbb30fa8ae42.txt  \n",
            "  inflating: /content/indoor-object-detection/valid/labels/5a173d4aecf6ad4d.txt  \n",
            "  inflating: /content/indoor-object-detection/valid/labels/5a58c683cb34a227.txt  \n",
            "  inflating: /content/indoor-object-detection/valid/labels/5a67af57f20fe7d6.txt  \n",
            "  inflating: /content/indoor-object-detection/valid/labels/5f2598a968b2dd97.txt  \n",
            "  inflating: /content/indoor-object-detection/valid/labels/5f9cbca55c53abfb.txt  \n",
            "  inflating: /content/indoor-object-detection/valid/labels/62f2c77938c834d4.txt  \n",
            "  inflating: /content/indoor-object-detection/valid/labels/631.txt  \n",
            "  inflating: /content/indoor-object-detection/valid/labels/637a3adb34196e50.txt  \n",
            "  inflating: /content/indoor-object-detection/valid/labels/6383961ebbfed4bd.txt  \n",
            "  inflating: /content/indoor-object-detection/valid/labels/665a1159-e3ab-4a7d-8770-e08337767339._SR970,300_.txt  \n",
            "  inflating: /content/indoor-object-detection/valid/labels/6683eb9b8babce79.txt  \n",
            "  inflating: /content/indoor-object-detection/valid/labels/66ab92a9c50cd36e.txt  \n",
            "  inflating: /content/indoor-object-detection/valid/labels/66abb939c8e0ada4.txt  \n",
            "  inflating: /content/indoor-object-detection/valid/labels/6bc2a5f340d507e6.txt  \n",
            "  inflating: /content/indoor-object-detection/valid/labels/6d261123912ce177.txt  \n",
            "  inflating: /content/indoor-object-detection/valid/labels/6eed688c4f49444a.txt  \n",
            "  inflating: /content/indoor-object-detection/valid/labels/6f50b202b7ae436c.txt  \n",
            "  inflating: /content/indoor-object-detection/valid/labels/71c9176bb69d5202.txt  \n",
            "  inflating: /content/indoor-object-detection/valid/labels/748481fab813b3b02a691cf6e22fedf9--brass-hardware-the-copper.txt  \n",
            "  inflating: /content/indoor-object-detection/valid/labels/78ada2fac6810af8.txt  \n",
            "  inflating: /content/indoor-object-detection/valid/labels/7938dcc23ea839f2.txt  \n",
            "  inflating: /content/indoor-object-detection/valid/labels/7bf4636ef0a35ad2.txt  \n",
            "  inflating: /content/indoor-object-detection/valid/labels/7dcc6c19e51c0d46.txt  \n",
            "  inflating: /content/indoor-object-detection/valid/labels/815fd80ed7a29f21.txt  \n",
            "  inflating: /content/indoor-object-detection/valid/labels/81963c0efe7ebb99.txt  \n",
            "  inflating: /content/indoor-object-detection/valid/labels/850.txt  \n",
            "  inflating: /content/indoor-object-detection/valid/labels/863.txt  \n",
            "  inflating: /content/indoor-object-detection/valid/labels/86496f3f884592bd.txt  \n",
            "  inflating: /content/indoor-object-detection/valid/labels/87890bb19846608c.txt  \n",
            "  inflating: /content/indoor-object-detection/valid/labels/87cf26211cfa78cc.txt  \n",
            "  inflating: /content/indoor-object-detection/valid/labels/8981d04925449de2.txt  \n",
            "  inflating: /content/indoor-object-detection/valid/labels/89878d47328f3ace.txt  \n",
            "  inflating: /content/indoor-object-detection/valid/labels/89edeb80dc309ab5.txt  \n",
            "  inflating: /content/indoor-object-detection/valid/labels/8b31b9fd2a48a90f.txt  \n",
            "  inflating: /content/indoor-object-detection/valid/labels/8c403c2bca23f224.txt  \n",
            "  inflating: /content/indoor-object-detection/valid/labels/907f05d19c32cbd5.txt  \n",
            "  inflating: /content/indoor-object-detection/valid/labels/9085bb6608cd6064.txt  \n",
            "  inflating: /content/indoor-object-detection/valid/labels/91d9a393482702a4.txt  \n",
            "  inflating: /content/indoor-object-detection/valid/labels/92d37f69abfba9de.txt  \n",
            "  inflating: /content/indoor-object-detection/valid/labels/950697e0a8982df6.txt  \n",
            "  inflating: /content/indoor-object-detection/valid/labels/959295031255ac39.txt  \n",
            "  inflating: /content/indoor-object-detection/valid/labels/96b0ea1e6c7a666f.txt  \n",
            "  inflating: /content/indoor-object-detection/valid/labels/97aaf76bd6fad8a9.txt  \n",
            "  inflating: /content/indoor-object-detection/valid/labels/9891fb8e58773939.txt  \n",
            "  inflating: /content/indoor-object-detection/valid/labels/989b261359f4f8fe.txt  \n",
            "  inflating: /content/indoor-object-detection/valid/labels/9b32759af54ad538.txt  \n",
            "  inflating: /content/indoor-object-detection/valid/labels/DOR_S1_106.txt  \n",
            "  inflating: /content/indoor-object-detection/valid/labels/DOR_S1_114.txt  \n",
            "  inflating: /content/indoor-object-detection/valid/labels/DOR_S1_123.txt  \n",
            "  inflating: /content/indoor-object-detection/valid/labels/DOR_S1_125.txt  \n",
            "  inflating: /content/indoor-object-detection/valid/labels/DOR_S3_20.txt  \n",
            "  inflating: /content/indoor-object-detection/valid/labels/DOR_S3_26.txt  \n",
            "  inflating: /content/indoor-object-detection/valid/labels/DOR_S3_66.txt  \n",
            "  inflating: /content/indoor-object-detection/valid/labels/DOR_S3_67.txt  \n",
            "  inflating: /content/indoor-object-detection/valid/labels/DOR_S3_70.txt  \n",
            "  inflating: /content/indoor-object-detection/valid/labels/a05b6f6dc45bc772.txt  \n",
            "  inflating: /content/indoor-object-detection/valid/labels/a12ad8a06226a6dd.txt  \n",
            "  inflating: /content/indoor-object-detection/valid/labels/a1e578f266017acd.txt  \n",
            "  inflating: /content/indoor-object-detection/valid/labels/a33f34f341215025.txt  \n",
            "  inflating: /content/indoor-object-detection/valid/labels/a434ac33602740dd.txt  \n",
            "  inflating: /content/indoor-object-detection/valid/labels/a4df7917a458194a.txt  \n",
            "  inflating: /content/indoor-object-detection/valid/labels/a7ceb5b7e7c73844.txt  \n",
            "  inflating: /content/indoor-object-detection/valid/labels/aa1043c40d86c964.txt  \n",
            "  inflating: /content/indoor-object-detection/valid/labels/ae052e44f8260bd0.txt  \n",
            "  inflating: /content/indoor-object-detection/valid/labels/aecc04cc09da6de4.txt  \n",
            "  inflating: /content/indoor-object-detection/valid/labels/af652773266eaea9.txt  \n",
            "  inflating: /content/indoor-object-detection/valid/labels/b0c42f6598088fc7.txt  \n",
            "  inflating: /content/indoor-object-detection/valid/labels/b11dc1515c647e32.txt  \n",
            "  inflating: /content/indoor-object-detection/valid/labels/b49a8bb3e354ddb0.txt  \n",
            "  inflating: /content/indoor-object-detection/valid/labels/b53ec1a97df329bd.txt  \n",
            "  inflating: /content/indoor-object-detection/valid/labels/b59a0309fa90ab99.txt  \n",
            "  inflating: /content/indoor-object-detection/valid/labels/b6798d4660eb5072.txt  \n",
            "  inflating: /content/indoor-object-detection/valid/labels/babe8d221fea79cf.txt  \n",
            "  inflating: /content/indoor-object-detection/valid/labels/be1ae75c87fb45d1.txt  \n",
            "  inflating: /content/indoor-object-detection/valid/labels/c401b6f834724d34.txt  \n",
            "  inflating: /content/indoor-object-detection/valid/labels/c46bb611a0fc82cb.txt  \n",
            "  inflating: /content/indoor-object-detection/valid/labels/c4beca7e09144a81.txt  \n",
            "  inflating: /content/indoor-object-detection/valid/labels/c4ef271815943292.txt  \n",
            "  inflating: /content/indoor-object-detection/valid/labels/c509cf7a447a662c.txt  \n",
            "  inflating: /content/indoor-object-detection/valid/labels/c691b5ce2c260489.txt  \n",
            "  inflating: /content/indoor-object-detection/valid/labels/c777987787fa1284.txt  \n",
            "  inflating: /content/indoor-object-detection/valid/labels/cc34422d08879446.txt  \n",
            "  inflating: /content/indoor-object-detection/valid/labels/cdd575088f05845a.txt  \n",
            "  inflating: /content/indoor-object-detection/valid/labels/copper-cabinet-hardware-cabinet-door-pulls-brilliant-copper-brushed-cup-pull-handle-knob-bow-in-copper-cabinet-knobs-and-drawer-pulls.txt  \n",
            "  inflating: /content/indoor-object-detection/valid/labels/copper-kitchen-handles-modern-copper-t-pull-handle-drawer-pull-cabinet-hardware-kitchen-cupboard-pulls-cabinet-pull-drawer-handles-knobs-and-pulls-polished-copper-cabinet-handles.txt  \n",
            "  inflating: /content/indoor-object-detection/valid/labels/d001a876a571ddd6.txt  \n",
            "  inflating: /content/indoor-object-detection/valid/labels/d3b4109c35d213ac.txt  \n",
            "  inflating: /content/indoor-object-detection/valid/labels/d4762a12b3b5c825.txt  \n",
            "  inflating: /content/indoor-object-detection/valid/labels/d5e54a97c7956ea4.txt  \n",
            "  inflating: /content/indoor-object-detection/valid/labels/daa62fa745f83a8e.txt  \n",
            "  inflating: /content/indoor-object-detection/valid/labels/e3d2452b2d189b72.txt  \n",
            "  inflating: /content/indoor-object-detection/valid/labels/e5de51284ebf6ef1.txt  \n",
            "  inflating: /content/indoor-object-detection/valid/labels/e6b8a2279c09a31b.txt  \n",
            "  inflating: /content/indoor-object-detection/valid/labels/ee4168f2dedb6fff.txt  \n",
            "  inflating: /content/indoor-object-detection/valid/labels/f16defdfcc454f1c.txt  \n",
            "  inflating: /content/indoor-object-detection/valid/labels/f6ab97836c153c54.txt  \n",
            "  inflating: /content/indoor-object-detection/valid/labels/gold-dresser-knobs-cloning-decors-trend-decorative-special-drawer-lively-0.txt  \n",
            "  inflating: /content/indoor-object-detection/valid/labels/images14.txt  \n",
            "  inflating: /content/indoor-object-detection/valid/labels/images3.txt  \n",
            "  inflating: /content/indoor-object-detection/valid/labels/images9.txt  \n",
            "  inflating: /content/indoor-object-detection/valid/labels/kitchen-draw-hardware-draw-pulls-for-cabinets-satin-nickel-drawer-cabinet-hardware-knobs-bin-kitchen-drawer-hardware-nz.txt  \n",
            "  inflating: /content/indoor-object-detection/valid/labels/oil-rubbed-bronze-cabinet-hardware-knobs-pulls-within-plan-5.txt  \n",
            "  inflating: /content/indoor-object-detection/valid/labels/refrigerator-pulls-the-refrigerator-pull-is-part-of-the-suite-made-from-solid-brass-and-finished-in-black-modern-refrigerator-pulls.txt  \n",
            "  inflating: /content/indoor-object-detection/valid/labels/shop-cabinet-hardware-knobs.txt  \n"
          ]
        }
      ]
    },
    {
      "cell_type": "code",
      "source": [
        "import os\n",
        "\n",
        "# List the contents of the unzipped folder\n",
        "os.listdir('/content/indoor-object-detection')"
      ],
      "metadata": {
        "id": "aJdviYb9d8yW",
        "collapsed": true,
        "colab": {
          "base_uri": "https://localhost:8080/"
        },
        "outputId": "94a33704-c1bb-42a9-a11b-4ee08f647970"
      },
      "execution_count": 12,
      "outputs": [
        {
          "output_type": "execute_result",
          "data": {
            "text/plain": [
              "['data.yaml', 'test', 'train', 'valid']"
            ]
          },
          "metadata": {},
          "execution_count": 12
        }
      ]
    },
    {
      "cell_type": "code",
      "source": [
        "# Check the contents of data.yaml\n",
        "with open('/content/indoor-object-detection/data.yaml', 'r') as f:\n",
        "    print(f.read())"
      ],
      "metadata": {
        "id": "gHLroXldeOLF",
        "collapsed": true,
        "colab": {
          "base_uri": "https://localhost:8080/"
        },
        "outputId": "373a7a78-76eb-4661-fff7-cbf853865abe"
      },
      "execution_count": 13,
      "outputs": [
        {
          "output_type": "stream",
          "name": "stdout",
          "text": [
            "train: /content/data/train/images\n",
            "val: /content/data/valid/images\n",
            "test: /content/data/test/images\n",
            "nc: 10\n",
            "names: \n",
            "- door\n",
            "- cabinetDoor\n",
            "- refrigeratorDoor\n",
            "- window\n",
            "- chair\n",
            "- table\n",
            "- cabinet\n",
            "- couch\n",
            "- openedDoor\n",
            "- pole\n"
          ]
        }
      ]
    },
    {
      "cell_type": "code",
      "source": [
        "import os\n",
        "\n",
        "# List the contents of the train and valid directories\n",
        "print(\"Train Images:\", os.listdir('/content/indoor-object-detection/train/images'))\n",
        "print(\"Train Labels:\", os.listdir('/content/indoor-object-detection/train/labels'))\n",
        "print(\"Valid Images:\", os.listdir('/content/indoor-object-detection/valid/images'))\n",
        "print(\"Valid Labels:\", os.listdir('/content/indoor-object-detection/valid/labels'))\n",
        "print(\"Test Images:\", os.listdir('/content/indoor-object-detection/test/images'))"
      ],
      "metadata": {
        "id": "tMeeIHzefp_b",
        "collapsed": true,
        "colab": {
          "base_uri": "https://localhost:8080/"
        },
        "outputId": "0adfccfc-2859-4238-c448-f79a46de9185"
      },
      "execution_count": 14,
      "outputs": [
        {
          "output_type": "stream",
          "name": "stdout",
          "text": [
            "Train Images: ['76daa79117fc7d19.jpg', '610.png', '06d3587094d5c496.jpg', '0a76ce8df7ea43ba.jpg', '0c41800d0c91812f.jpg', 'DOR_S1_105.jpg', '58b547e7ce3ca583.jpg', '401d7aae63c3b63c.jpg', '0dc660f9d10b8e64.jpg', '7771c64fca6089d2.jpg', '63c54ace54e70f70.jpg', '27a6bcd97e626d69.jpg', 'a30d502fade25820.jpg', '0e759e74589524b3.jpg', '0fbe10829d6d74c7.jpg', '35168644edae9d03.jpg', 'DOR_S3_23.JPG', 'dbf426e1543cc41e.jpg', 'DOR_S1_116.jpg', 'c7ed2bf7831d135e.jpg', '00c2c198953fc6d6.jpg', 'd611a05b7a107509.jpg', '28e00ee6e869b29a.jpg', '88fa8f83a0d5703a.jpg', '68ad1ac2ca33c9d6.jpg', '8f24ccd5d86243b5.jpg', '0071e79693904a8f.jpg', 'b603a9d5511f2661.jpg', '0d6642763decf970.jpg', '84cb35f6bd724733.jpg', '00d82cf94121d6c1.jpg', '5f91ad235094ae04.jpg', '76c6d0cca62ba225.jpg', '38a7fa0a0fb6ffe6.jpg', '0c89be4d66633ce4.jpg', '24eb3cd134fae0aa.jpg', '57da1fb96266fe9d.jpg', '629678c55bd096a9.jpg', '1664c338a8380c25.jpg', '443866e9d68f90f3.jpg', '867.png', '0eb2c146387764c3.jpg', '8079dbbcb7d981dc.jpg', '0d48ba24443fb53a.jpg', 'abcfcdbdb56cfdea.jpg', '83a84d6f5d196951.jpg', '06c1ae62a6d168a4.jpg', '6c074283d073b1ef.jpg', '614.png', '0bdde2f91df4c85a.jpg', '39532c6b940f7180.jpg', '4956ccee7130b88c.jpg', '7784d6ecb97ecf84.jpg', '6837b091e0f14ade.jpg', '1f043dcedff676ee.jpg', '00a76212dad599aa.jpg', '041926a4858c0a9a.jpg', 'b818efe4172f4666.jpg', '0c29cab1caddfc83.jpg', 'DOR_S1_103.jpg', '2ebe6cb84c45521d.jpg', '2df986f499124b4d.jpg', 'a4de19b855aea878.jpg', 'DOR_S3_25.JPG', '523.png', 'e1e6f9a8212ccb8e.jpg', '0c21d3029041dcca.jpg', 'e6bbf225bf7e2e79.jpg', 'a4e2d1d696fa57d7.jpg', 'a6e252b43b8c71c8.jpg', '4e555579acbb6b6f.jpg', 'bed78c5986b45df2.jpg', '497b8adaaacd41d6.jpg', '0af40c0e840098a9.jpg', '40bc03bdddd567c3.jpg', '0cb3741255649fbc.jpg', '0ea7c53ce3250e8b.jpg', 'd4e1dc2f2326a8b0.jpg', '1c982d27b6c36e2f.jpg', '0c07aa933834dbc1.jpg', 'ce9cf42259c1bec8.jpg', '4ad2b99ef5fb838c.jpg', 'd52cff49e505d160.jpg', '29f810a3baa576e9.jpg', '2d8c5de6b51f0218.jpg', '3867a43bb5f81650.jpg', 'b6748985e452473a.jpg', '1fdd6001d3da9c56.jpg', '71b2d221719fbef9.jpg', 'd605fc35bb8d32a3.jpg', 'e9bb83c89a82dad1.jpg', '81af0e84d9623957.jpg', '0e5ad4351dedeb0f.jpg', '979c63d91223211c.jpg', 'cb9bb228b5209e45.jpg', '0e2208875afa89ca.jpg', 'wardrobe-handles-bedroom-drawer-and-knobs-for-furniture-black-silver-twigs-kids-ikea-cabinets-no-h.jpg', 'ce859e17702e6b6b.jpg', '387.png', '994ddbdf7cb387b0.jpg', '049a2a3be2638bdd.jpg', '515.png', '5bd7f210fa544a9f.jpg', 'DOR_S1_108.jpg', '0e47126559819116.jpg', '0c3276102427c9c8.jpg', 'DOR_S1_113.jpg', '62f8e1541ed4c442.jpg', 'b228d99ee9267a3b.jpg', '00da8827b3288d89.jpg', '25e37eb384c326d1.jpg', '0e13104a636f5321.jpg', 'DOR_S3_21.JPG', '159dd40a40630821.jpg', '0db9d88d9eb1992a.jpg', '90c4e2fbaae62118.jpg', '01b15d5fcabae5b0.jpg', '0b84642b319af1f3.jpg', '0de6911bfc786546.jpg', 'bd9f7905de0ff6db.jpg', '169d890f952c3446.jpg', '91bb5060f2f930d1.jpg', '0c7af5598adff074.jpg', 'b07a7a55e371416e.jpg', 'DOR_S1_111.jpg', 'pantry-door-handles-popular-kitchen-cabinet-door-handles-beautiful-top-pantry-cabinet-door-handles-pantry-cabinet-door-handles.jpg', '0b581e0f018c7f78.jpg', '524.png', '0bed30d0d60d70e5.jpg', '99ad5ee7015e4fbd.jpg', '0bca4202cbffa259.jpg', '74ba74d74949e187.jpg', '9e88730f29b1944b.jpg', 'ecd1e55f8a6b3a4f.jpg', '329eb1c79bca4679.jpg', '72180cf6a7b2b492.jpg', '153cf986ce87c169.jpg', 'DOR_S3_73.JPG', '0d2e49086e83c259.jpg', '0c10599382349e7e.jpg', 'c5d188985d4e59e5.jpg', '0dbae2ad6cb64fbe.jpg', '71b3bea110ee810c.jpg', '0e82670d579afccb.jpg', '0ca6e18939996903.jpg', '0e1c63e30964dc3b.jpg', '0fa2960d145c66b8.jpg', '3a34cb02ae02ffaf.jpg', 'e70c78748ec0fd81.jpg', 'cd0f444cde5e6f84.jpg', '246092384ee2655c.jpg', '99e6b2e3c3cfda19.jpg', '4267079863bd27fa.jpg', '3d37bb6b541a1479.jpg', '8ed48d720cfadaad.jpg', '0cf216bef1ec8e21.jpg', 'DOR_S3_75.JPG', '00ce536d4536805d.jpg', '97b611449d459dbd.jpg', '57e67f96c54757d6.jpg', '9591252f187f0dc9.jpg', '0e59af35fd02431a.jpg', '0bb80f98e936566d.jpg', '01a430b5379fe42c.jpg', '558dca00c6176f20.jpg', 'a4d4a408e1c3ca35.jpg', '0d48650c19108b75.jpg', 'e5d2edc12826ff41.jpg', '8c645dd8da92ec0b.jpg', '00db6b59d3880145.jpg', '65fd844bc8bc5666.jpg', 'c33830c874d4a8bf.jpg', 'DOR_S1_109.jpg', '0c74e6f9fdd25d03.jpg', '0be68c7d864c20c0.jpg', '0ae42210e7fc02af.jpg', '5cc695cd54ad90a8.jpg', '0941c98ad83fb227.jpg', '703903cbe9c1b9e5.jpg', '0d01ee60fc82c415.jpg', 'afe5b42ce72f2eb5.jpg', 'd87f2ce076230974.jpg', '288e1b6c95a3fafb.jpg', '0c00aa9759d5b636.jpg', '0c49829dd1e2d32f.jpg', '0c40051d1c73fa59.jpg', '00bb60b91c5335b1.jpg', '8926769ff83061b5.jpg', '4dc6f94c7720fda8.jpg', '0eb20efcc6d11e51.jpg', 'eef125b33737d19a.jpg', '74ef0ee56eb13129.jpg', '8b0bdd3141ea77e0.jpg', 'DOR_S3_76.JPG', '0a41d984fa6937ca.jpg', '0d1b8d2541c99a0a.jpg', '0e271dcff55afea7.jpg', 'images11.jpeg', '0e5a7c9a1bba1740.jpg', '0ce502937920c74a.jpg', '0c6d76c010c29ef5.jpg', '7684a73c8bf42d32.jpg', 'd8e0c7825be12b2c.jpg', '931d4fe2a4abe2aa.jpg', '0072bdea7fb5b94a.jpg', '00d8dd6d2ce6fc70.jpg', '1aab7723fb953996.jpg', '9db2787b711b7bfa.jpg', '129ce8f7369def54.jpg', '0c1783b09ee05447.jpg', '01b8f3f2d2cf7613.jpg', '3a4aa6f2e2d333cc.jpg', '55e95a2fb13f7017.jpg', '0bf01ee25888cb45.jpg', '02e80ea9ff2add79.jpg', 'f858fa9087c0d735.jpg', '0d6d668e47f2938c.jpg', '401524b30fa05ab1.jpg', '6a6c4348e1313a0d.jpg', '40803bdda76313b9.jpg', '7c42138b7ca0d3f0.jpg', '0bf98072f26753f8.jpg', '42c35b8fdfdd2d12.jpg', 'c3034ee4c10494bd.jpg', '5dee23ea41a3f27e.jpg', '0146a6b07d6b3160.jpg', '03105c0683526d25.jpg', '0ea71c0967f66a86.jpg', 'e75c980c218966f0.jpg', '7ad5584aa00e667f.jpg', '7b0abb1b7d8e62fd.jpg', 'd79818a8c7a97ded.jpg', '0dd1c9c6a34eba7c.jpg', 'b52dd50bf8371a4c.jpg', '994a97bc1ec49cf2.jpg', '0cc1bbc28fe24df0.jpg', 'b2addaa6fa7cce4e.jpg', '0a68ceae0ff06341.jpg', '862.png', 'c534ca03e2ddee9a.jpg', '0410943ef1919f80.jpg', '66fa65d19adaa351.jpg', '157e5ab3d1edeeba.jpg', '0e5136e572fda862.jpg', '3993068ec38edcda.jpg', '392132dff3b498a0.jpg', '52b15cf19d8257e2.jpg', '864.png', '1a7a1723ca12cd46.jpg', '24d85bfa05316aa6.jpg', 'f57bb9c762710434.jpg', '0c66ca8a2c7536b0.jpg', '0c3673f52f7fbe00.jpg', '0bc37b99b3e65f06.jpg', 'refrigerator_door_handle_l1.jpg', '7ab035622c40f329.jpg', '7a2b01b452bdb117.jpg', '8926f7f6295f09b0.jpg', '33afe4d6bf179557.jpg', '69b2a3bd238c5ff8.jpg', 'DOR_S1_112.jpg', '0d57d247bfb1be21.jpg', '39988dc3a63d8751.jpg', '00c4da254151ea38.jpg', '798e136c7712ae9c.jpg', '0e8a150cacc30e88.jpg', '76a2724a2725d4e7.jpg', '00e5c93e53ada7cd.jpg', '6b28eb14694415df.jpg', 'aa46fa285ca71cee.jpg', 'd2c8e22257059647.jpg', '32a5a75aff331bbc.jpg', '3c90babc7fdb6047.jpg', '1bec3b4fca18fed7.jpg', 'a87aca1e7cedbff6.jpg', '520.png', 'a3f745ee4b00c1e4.jpg', 'DOR_S1_118.jpg', '6d6237b4241c320a.jpg', 'd4b569658ae0a30c.jpg', '8c0ce81d2f584ae7.jpg', '62fbb8ea21b31940.jpg', '0cc6f8b9e3087114.jpg', '0be48767aff43b0b.jpg', 'f2b31981e52820b1.jpg', '0d065e63cc8f31f6.jpg', '0eb96447e34f087d.jpg', '9a813326a1868a55.jpg', '501f8211256ad97d.jpg', '403.png', 'beb9fcbcfe869959.jpg', 'DOR_S3_68.JPG', 'e4499b4e5c7ee71d.jpg', '02cbf03c95c9c8dd.jpg', 'a0da5e7cc4ba2d79.jpg', '007427672a3d5264.jpg', '12715afbcec55ada.jpg', '1529630afc3d553c.jpg', '0c8fea6749954c4c.jpg', 'd0ef5b3e45c0ca64.jpg', '69d2b0cab2cdef8b.jpg', '3d1e219b64f04223.jpg', 'brilliant-modern-kitchen-cabinet-pulls-with-regard-to-contemporary-and-handles.jpg', '134a5612209dcdb0.jpg', '0d0179a3ee895b81.jpg', '0c4acd50c4430066.jpg', '4d04388521138c9a.jpg', 'images7.jpeg', '9b8bd162c0cb98f1.jpg', '638720894bbb926a.jpg', 'a4b1c68fd5f95210.jpg', '1a8f7e65a3ffba8e.jpg', 'f1b480761060081e.jpg', '0c2594d3710ac469.jpg', '912e8d7a5aca1f90.jpg', '46dccf0478d760a5.jpg', '000c052bb4b882c4.jpg', '975da8e742d8250d.jpg', 'DOR_S3_85.JPG', '0e95ed44c4d9d9a6.jpg', '677369d3bce9d2e1.jpg', '7e0ad693d944c119.jpg', '02ef3baaf3950a6f.jpg', '4c97a04e77fbb839.jpg', '007a4e97abc192b9.jpg', '742b8684073d6fd6.jpg', '3351f25dbcbbc567.jpg', '7e11d0131986221e.jpg', '383b3d43f4b1e55a.jpg', '0bda614ac5f8d5bb.jpg', '60b3c35003cfb3d9.jpg', 'b321b5ba60312f26.jpg', '386644a72691a05a.jpg', '2390034133887c6d.jpg', 'DOR_S1_122.jpg', '0c752e55cc3e6cc0.jpg', '2bedb89760b9aec1.jpg', 'a50ceaeef959e452.jpg', '060b6662cc9a1d5d.jpg', '00d343d4a829121c.jpg', '514.png', '7e6dac6a44c66c45.jpg', '2dbb38375dfccd4c.jpg', '385.png', 'bed55d09557e4f8e.jpg', '0e872e10f2531364.jpg', '6819a34f934a686a.jpg', '75e4e8ab47a77499.jpg', '180e41660f6d6b59.jpg', '3a74f7cdfb3c9a10.jpg', '866.png', '850977bc144ea11e.jpg', '7226f21fb81bddfd.jpg', '87b1d5f40a55bb19.jpg', '0c30772b7ea51745.jpg', '23e9876d80301685.jpg', '51ecff8aaf1259ee.jpg', 'DOR_S3_79.JPG', '0d35451340e0ca84.jpg', '263523d1754e3381.jpg', '98ecaa1c259e0e7e.jpg', '0cc04ceab034a0bc.jpg', 'f638c52c804a1c0e.jpg', '8aebf99122a9f9c4.jpg', '20393a271a3547f0.jpg', 'b331277ae70fd966.jpg', '9d6902fe81a62012.jpg', '09481f2c338108a3.jpg', '61f154d20d8b9bf5.jpg', '1a16454e64199304.jpg', 'd8cedccb3422c92e.jpg', '6d8001ea79c02334.jpg', '25d512338c0d8027.jpg', '6a895268f06332ec.jpg', '0bf588f9e87c71ff.jpg', '2ba0dbc88f47be4f.jpg', '363ca9571e4863dc.jpg', '47f612a6c7cc8a11.jpg', '06b7db73a7e952fc.jpg', '0afd7c29633fe699.jpg', '90938616b44d5666.jpg', '0149f0d7768cbc98.jpg', '195c37710249a08b.jpg', '0ca97b08bb473346.jpg', '60b0562e30e0c69a.jpg', '35e319bc1fb875a6.jpg', '8e134088edac620f.jpg', '0eec6ad82781383a.jpg', '0f238c501cc1f25b.jpg', '16f7251ee8768470.jpg', '2bbb8c43a3380316.jpg', 'b15de360b5a290e0.jpg', 'c94b9a2fcdd09e2f.jpg', '861.png', '8b7cf7cfddc0071b.jpg', 'e6a3eb894b0b9a4c.jpg', '0c01e89a58eb20a2.jpg', 'DOR_S3_80.JPG', '536016aff24a055e.jpg', '8ce7545def57cf8d.jpg', 'fc8e78e65a4f4473.jpg', '0ceb42b98417b88c.jpg', '95cee073138bda90.jpg', '0d5fc81161830bb0.jpg', '00d0ed2f962c1a74.jpg', 'd0e2dba043cdc5bd.jpg', '0c8ebd9431edd552.jpg', '26e5dff94b5672cc.jpg', '067b31e56323505d.jpg', 'ba951e65a53acadf.jpg', '000d9c77f5749561.jpg', '0fc768a1c637427e.jpg', '0d927008502de357.jpg', '4959b7c9afc20cd4.jpg', '50e85d3e78a16fef.jpg', 'a94b92ba3292c844.jpg', '0f6337a1ea2b6cc2.jpg', '2e193eef6f6a4561.jpg', 'c1ebc184420a303b.jpg', '0e0121237012f0cb.jpg', '2d468bcf407e1bb7.jpg', '0b5ad6c1ff290b52.jpg', 'DOR_S1_101.jpg', '088f1b6d8222a73b.jpg', '5e3b17a53c5bc62f.jpg', '655c336ab92f9502.jpg', '00eb261110ac46c5.jpg', '5b2e84d553d0f898.jpg', 'bb561fb5cebe8415.jpg', '2924756d0c31e5b1.jpg', '475c07fa76126b67.jpg', '28c53bd27cc21733.jpg', '53fe1fd9e2520c59.jpg', 'ca17815bd92f8982.jpg', 'aa100acd5afc5de3.jpg', '11739cf765a3f3d5.jpg', '0df8cb86b756c8b6.jpg', '41fed52ee5654113.jpg', '0cbefb4eef9e1f02.jpg', 'DOR_S3_78.JPG', '9df4bbd66911aa96.jpg', '0d7b29e9f8911bde.jpg', '0e5eb7939c00eadf.jpg', '456b98a5010e4258.jpg', '5de300995c93ef8b.jpg', '78387993904abdee.jpg', '1288d0c57fdb4463.jpg', '126b61892259c81b.jpg', '105d6a2a63f7ce3c.jpg', 'DOR_S1_121.jpg', '20755e349ac81f0c.jpg', '235fdb5d486a95a9.jpg', 'a4f8fd67378730a8.jpg', 'kitchen-cabinet-handles-interesting-inspiration-door-simple-ideas-decor-gold-pulls-knobs-and-furniture-hardware-dresser-hoosier-recycling-bins-black-knob-with-backplate-stone-ring.jpg', '0001cb734adac2ee.jpg', '669c4c7bbe75cb0b.jpg', '04fe0d2194377b61.jpg', '130071b5f0ee3fee.jpg', '9749447962a1ca5e.jpg', '0c1ede902091b79f.jpg', 'DOR_S3_81.JPG', 'b5ffe52bebb31351.jpg', '9cabcae77d6b6d63.jpg', '0693f25ad57f7e14.jpg', 'images4.jpeg', '0eae0b36fa39d844.jpg', '9a06dc2325af63da.jpg', '00a1675e670756a1.jpg', '6d2b0a5c859562a5.jpg', 'c0dae2792f4a2b7e.jpg', '4d550dc12b4d59f8.jpg', '51e33ffbe112a894.jpg', '0bf4138d0f052cf6.jpg', '353c23e5755fa4ae.jpg', '0d289d83a71e8042.jpg', 'aa51976e75f89c18.jpg', '7f44e2b5ba2db7f2.jpg', '0e87814cbe9dd3c6.jpg', 'c8c31e9cb1954ee8.jpg', 'be2541573a312b94.jpg', '373f67ed902f026e.jpg', '52f7e4f43ef61dd5.jpg', 'bb43aee523a166d6.jpg', '7b81f1f2b6ec2e5f.jpg', 'c279e14b172412aa.jpg', 'b52b11559bb34336.jpg', '0d6ef63f9b522465.jpg', '0934a6117d4ff7b3.jpg', '029123ba6d20f9b1.jpg', '0c9d28cd2da44ccf.jpg', 'a185d6eec3bc0f06.jpg', '50fa7f3914b3d38c.jpg', '93b5e3ab86711a0b.jpg', '0e9191e310909562.jpg', 'a8ed87af97e1a9d3.jpg', '10cbf3715b2bcf72.jpg', '0690d2b21c098ebc.jpg', '0a9999a432bd9e50.jpg', 'a698589d8941988e.jpg', '0c40c79955aed671.jpg', '7e42af92dcc12ef7.jpg', 'DOR_S3_77.JPG', '953acb30d0fd07e7.jpg', '00db839f935b5829.jpg', '0c135555f209015b.jpg', '619a66a0a8e51846.jpg', 'c3796ad5911a3dd9.jpg', '159aae161d6b60ff.jpg', '84ab4adfbd0683e5.jpg', 'knobs-D.jpg', '000e80d9cf37daf3.jpg', '4491c47e3ef1d2ae.jpg', '95d0693974e5fc3b.jpg', '9.png', '5c230f99fb6acb59.jpg', '4a4ed2e67f034405.jpg', '625cad7128855737.jpg', '25c2f9a7fad20c4b.jpg', '2100e86484efda14.jpg', 'DOR_S3_19.JPG', 'e047154be3cf4f36.jpg', 'DOR_S3_71.JPG', '397.png', 'DOR_S3_24.JPG', 'DOR_S1_120.jpg', '8f43dccd3e36f410.jpg', '0d2090ea279cafee.jpg', '0eb31e09509587fc.jpg', '0ecd790e25be8411.jpg', '0ddf7e608a00bab6.jpg', '0c2273e5f9ab0e67.jpg', 'afacd0b904e4601b.jpg', '60fcfa435c20a830.jpg', '3a88570f0f1b6ac9.jpg', '09dcaaf01c06516b.jpg', 'cca8064bb85b9f33.jpg', '007bae2adf43dd31.jpg', 'acaebc6ee1264976.jpg', '1ae7acb4547d5bc0.jpg', '44d007381712ad26.jpg', '120c69125d2577bc.jpg', '0fc7a6152fb61259.jpg', '51fc0cf2342e5d27.jpg', 'db22782b8dba34ef.jpg', 'f701b6ac595a0361.jpg', 'DOR_S1_117.jpg', '717ccd7e5deaf318.jpg', '0eb80289f63b0ea0.jpg', 'ec411105110b2c56.jpg', '9385305efb91a0e8.jpg', '737b6903c9a4234d.jpg', 'b09da1b69ff6580a.jpg', '0d24ce32e3068ed1.jpg', 'e73cf5235e501056.jpg', '6c57df42d6f0e545.jpg', 'acafde3057686f65.jpg', '7e9e24e784515f05.jpg', 's-l225.jpg', '01017856bd2da59b.jpg', '02719a20199eaf3f.jpg', '19ee86fe4f079747.jpg', '865.png', '998b674a3855a292.jpg', '9fd939aac32f63e3.jpg', '000da932ca7e68e4.jpg', '0c4eb8de33034f6c.jpg', '93d8a329cc04bad4.jpg', 'a6c770c55743d796.jpg', '0c190b039c66efee.jpg', '5117b754613a09a9.jpg', '0e723b03f0e74675.jpg', '0c60baa351dbaaf3.jpg', '539d933aefb44a68.jpg', '7ce3da7b5c28e8aa.jpg', '85ccc9bbdf4d6985.jpg', '007821b7c578c94a.jpg', '01f460320a53fc91.jpg', '93b8aabad14ad618.jpg', '1a1dc4f649c70562.jpg', '0d238ce3cf35573d.jpg', '0ca09360855f2b45.jpg', '0beb9cbe0c770abf.jpg', 'ikea-drawer-knobs-drawer-pulls-kitchen-cabinet-handles-knobs-and-handles-knobs-vs-handles-for-ikea-bedroom-drawer-knobs.jpg', 'c76a6c85cb54c105.jpg', '00bccfe3f3c8ae6b.jpg', 'images5.jpeg', '1d624eb29f35af59.jpg', '0a604ed4883b45e5.jpg', '023b447cac3b3557.jpg', '0d120a5f5b1011d1.jpg', '0eb8277c7e986728.jpg', '6ac770706bc0e3f6.jpg', '26791f7f58b801e5.jpg', 'Wood_Mode_Brookhaven_Hardware_Kitchen_Associates-3.png', '0e82514df72dd3aa.jpg', '9904aa193d787eac.jpg', '1a6fb9d88119d454.jpg', 'images1.jpeg', '00f0f43aca411ec9.jpg', '4906acaa9d04d415.jpg', '0cc938deed7254e2.jpg', '2b87340ff50deb6f.jpg', '0a98e4fe3ec5592e.jpg', '1a0b468e0a8e9526.jpg', '98286eeace774204.jpg', '00ebbe86769979a4.jpg', '082d92e88891536a.jpg', 'e41227e8569a455f.jpg', '00ec888df1bd1aad.jpg', 'c403cb050bb590c3.jpg', '00c1bb3fd0f8c041.jpg', '0be9159e4b4bc747.jpg', 'DOR_S1_104.jpg', '142745fd0af3aae6.jpg', '82d32f9512be6c97.jpg', 'd15039a6b672810f.jpg', '0e9cc189512f1913.jpg', '1874dc5efc12d957.jpg', 'e2e8a34b81f98b9c.jpg', 'DOR_S3_72.JPG', 'c8d7361c8e81ab81.jpg', '0bb4903984e44915.jpg', '70b48f6cd2605f4e.jpg', '0bf34fddae48b0ab.jpg', '5370bbe2b9812ad5.jpg', '2a4ba364c35f5eb4.jpg', '0c02c70c3d8d70e5.jpg', '0ec4f09ebbb22648.jpg', 'be73b83c3f58d469.jpg', 'e1ca64500fce1157.jpg', '0d21891a9b98ee85.jpg', 'DOR_S1_100.jpg', '02a9c760af8f7a08.jpg', 'DOR_S3_18.JPG', '06fd633136a92428.jpg', '5e4a3a21836fdd9b.jpg', '0cc9ed0f1d55ad74.jpg', '0f3e5d607d82e4e9.jpg', '7749d3d4904ce2c7.jpg', '615.png', '900eedc68d55662a.jpg', 'index.jpeg', '7b11d670d99d1150.jpg', '0d5fe284d37c8c1c.jpg', '8b0a4ac1e348e48e.jpg', 'd21c3f2706a1b74f.jpg', '1ccba45e8e4491a3.jpg', 'ed47757457c3b029.jpg', '0ddb6788a404cfb0.jpg', '00d4a6c8831ca56c.jpg', '70b557082dfe6b98.jpg', '0cc3d0c94666272e.jpg', '466fc40cb767a4b8.jpg', 'df3e58f3075a5e9a.jpg', 'be893deb92bdc98a.jpg', 'c53fe42427abd793.jpg', '81d653f8cc985f18.jpg', '987cbed06b4d870f.jpg', '7102abdbcecd48ee.jpg', '33504d37e7a2553c.jpg', '2b14997b1b16a397.jpg', '1ca132ffcf81607a.jpg', 'c0f22c479493ca26.jpg', '00c06121b63b755a.jpg', '0e527e05c80b2555.jpg', '709f5e46880ba7cf.jpg', '1c88726ef503b432.jpg', '0c62ce6c7096f295.jpg', '00f0152f65a68569.jpg', 'a567a0b64b3c52dc.jpg', 'DOR_S1_107.jpg', '387e9cd2e5d4ea7d.jpg', '3d0e9fdb22c5d471.jpg', '933834772364f09f.jpg', 'DOR_S1_124.jpg', '0bafa9469a8047f7.jpg', 'd71b0472e89016e0.jpg', '51bdb40a3f51cce3.jpg', '012570c9ec60f9c4.jpg', '0e332233f4825d0c.jpg', 'd781d203a971bf09.jpg', '8da9fc579c830578.jpg', '4e908bcaf9999ab2.jpg', '0322fade74e6a40d.jpg', '00ca2179c6ccfc86.jpg', '0c2d5a23371dd746.jpg', 'DOR_S3_84.JPG', '512e763b23503a34.jpg', '1b476d930e8f73d3.jpg', '365185d0df5934ae.jpg', '603dd33e938d9611.jpg', '05ad81d9486f4ad4.jpg', 'bf9e9a9681561d60.jpg', '07c7da6ee633bac1.jpg', 'ecf61587947c4eb0.jpg', '0231d1c677d693a4.jpg', '3bcc3adf863d920f.jpg', '4e9b6116d0225860.jpg', '163ced3084c0d06f.jpg', '0f8745a73f8973ce.jpg', 'fe5956b82ea1360d.jpg', '009ae3d6fd97c1fc.jpg', '8ff20053385d110c.jpg', '0eb1595ccaca0013.jpg', '00e844f581963e31.jpg', '0d6d7ccce3428409.jpg', '4d3d3cdcf68ae183.jpg', '1adffb670386a3fd.jpg', '4736100d6746b54f.jpg', '0d9a27555510c6c2.jpg', '1c058e55368fcd1e.jpg', '0cddd3b472bc04cc.jpg', '00a5be32d303e480.jpg', '69fd9bee1947f0e8.jpg', '00bfcd25320fd354.jpg', '22544ddbf28eb989.jpg', '3c027963e04af26b.jpg', '0c6ca56a6104ee69.jpg', '304bb3a9e63f9e61.jpg', '16233e1005afe696.jpg', '259cffd5e01c616c.jpg', '0b126561e29676e1.jpg', '33f5984924e1a395.jpg', '8e9aa89d4c2ae64f.jpg', 'b5d0b5bccecb3c20.jpg', '393.png', '354ed4678a4c3714.jpg', '0d75f4d0712d4dd7.jpg', '5d59b6e0d5470c44.jpg', 'c028a1ae203a8db0.jpg', '326fcb1f54d4419b.jpg', '563dcdcfc82b9d71.jpg', 'bbf9f48937268c7a.jpg', '0cda59918e7dee1c.jpg', '1a29a20810c42b11.jpg', '1a676cb4af696ae8.jpg', 'd0c153d02c2c62f5.jpg', '8cf0d90fadf83514.jpg', '00cbc7f343eb90ec.jpg', '0e04b7fb9fa3c60c.jpg', '163bb8d48332438f.jpg', '0e8a380f9b9511c9.jpg', '86e8a48ba0da265f.jpg', '0ca1db52353feee8.jpg', '0caf1d7eb9af4449.jpg', '0c77673996e69163.jpg', '6f6de5cebeda8cf7.jpg', '85bfba79711d01e3.jpg', 'c3bb0c3dd9e4a02d.jpg', 'glass-crystal-drawer-pulls.jpg', '101188062833d608.jpg', '91e8675f472d5dbc.jpg', '0af254143bf95706.jpg', '33af4d41ba6bf2d0.jpg', 'ba33845dd206c054.jpg', '68f42c5bd9fec4a7.jpg', '3d94428eaf8808c2.jpg', '0ce5be35e1140b92.jpg', '83d7b3506a2708ad.jpg', '4076c48b2cd6bdce.jpg', '26d06e8c8e325e33.jpg', 'f291d677045b5a38.jpg', '69754330275d587b.jpg', '00bfeaa4a297dd65.jpg', 'afd7573ccde0b6ab.jpg', '2bedf10fd4f91cb5.jpg', '187fef6c8b9b9429.jpg', 'e7667c571440ca5e.jpg', 'de9de4645e828adc.jpg', '5e40cdc400798d34.jpg', 'images12.jpeg', '1f481ece45be4cb9.jpg', 'e97c97c39ade3031.jpg', '8c6d17cf9b79b934.jpg', 'b0b08bdfbb3612db.jpg', 'DOR_S3_69.JPG', '0e65809d7dfb4af4.jpg', '0e04873f64e61c1d.jpg', 'dd3aec555ceaca24.jpg', '8.png', '398259f32f14d105.jpg', '459eb80a93786a39.jpg', 'DOR_S1_126.jpg', '232b254322144b9b.jpg', '262dd05d50281235.jpg', 'DOR_S3_22.JPG', '92126929ec397b15.jpg', '00f6a80e7f1a229a.jpg', 'f9f6170e3deacb01.jpg', 'd80700a0235c1e3c.jpg', '7da201ff76fe53fd.jpg', 'dc78d1dede3ceba5.jpg', 'ef40ea977c4ff163.jpg', '03b377e1ea46fde9.jpg', 'd83dcdb92fa65c56.jpg', 'b2514d4b49358070.jpg', '861f42088328f1ca.jpg', 'Wood_Mode_Brookhaven_Hardware_Kitchen_Associates-1.png', '17930a007017e66d.jpg', '0dbb2f1e7703f5ed.jpg', '1437aea69b64e0da.jpg', 'DOR_S1_119.jpg', '226ca7062160972c.jpg', '9e5a46db2634a63e.jpg', 'DOR_S1_110.jpg', 'DOR_S1_102.jpg', '7bd452f46eff74de.jpg', '0a6acb71e9635072.jpg', '7262c70b22d6c572.jpg', 'images.jpeg', '042534f23997f148.jpg', '4508de4f680374a7.jpg', '24f0338f385a4482.jpg', '0bed85c3c590d016.jpg', '0dba02432495d47a.jpg', 'a83b50041535fbbd.jpg', '0ccca12b5aaa0ebc.jpg', '0fc8334c3b65dcf0.jpg', '9217b9a74e8e672b.jpg', '7ade4b49c0f3d4c8.jpg', '1f64ae7c9ddade84.jpg', 'ad71c03f761e1072.jpg', 'c12ffcfe0986f3ed.jpg', '0df32ca61a984d84.jpg', '4413ebcc67201cff.jpg', '92a2fd9a41e602a5.jpg', 'bf289fad3606ef7d.jpg', 'DOR_S1_115.jpg', 'e5eb853c477f4ba7.jpg', 'd157cbf8d7f3c78a.jpg', '4f5cb2b206085851.jpg', 'DOR_S3_74.JPG', '1c23b05368657306.jpg', '03776c806e842674.jpg', 'dbcb652ea7e3c6b0.jpg', '000c66e044e850f7.jpg', '0e8139635a72ecb8.jpg', '39e7a25a724c9e8d.jpg', '140e5fc6a1e41e5a.jpg', '0c0edea113b641c3.jpg', '0d34c6ef6030ef6c.jpg', '233e41a2f2f4b6ae.jpg', '72f43bd47ba46d06.jpg', 'images13.jpeg', '506bd74062053978.jpg', '236a3e3f89a05843.jpg', '131907ba425c3dea.jpg', '0df12f74a8fcc05e.jpg', '0cc35169dd5ac02f.jpg', '0c04f73a2916eece.jpg', '3df127ff760a9b10.jpg', 'c62c4578f8d48578.jpg', '4841959e5e9278ef.jpg', '0c697169b1207217.jpg', 'dbe9d7e7c15669db.jpg', '1bcf4a78296ab8c2.jpg', 'a79c8309feb6385f.jpg', '5f0f35817611bdac.jpg', 'bf54629b50fa0623.jpg', 'f282bb0b1946f85a.jpg', '90e23144d905d72a.jpg', '153249ece51160fc.jpg', '0ca5149ec7da08e1.jpg', 'acfbe51840b6e2df.jpg', '089f139ac3ecde3b.jpg', '57cea5606fb7fdc4.jpg', '7f5bc96cd2d045d0.jpg', '5ccf71d7e2a93e7d.jpg', '868.png', '1feb783eb3e933aa.jpg', '06bbc09333b6a542.jpg', '6bfd56bd4442737d.jpg', '4a89d557495fd302.jpg', '0ecffef63f024f60.jpg', '853fe459e120ecbb.jpg', '0e3b7f3fa56e1837.jpg', '98b79845429b0080.jpg', '0cc0d4d0bf52e7fc.jpg', '0779f34fe1c7970c.jpg', '078460e79cf23e5d.jpg', '22aa40cd91b4c259.jpg', 'a2eb27330f078f0b.jpg', '0ce830f1e03e9ec3.jpg', '0c134d543aa58495.jpg', '1c2868141487ec3c.jpg', '0de53728ccfe3ef6.jpg', '8a70d9f29670b9b5.jpg', 'fbeb16e8a12ae749.jpg', '0d5c075e91b9309e.jpg', '87be6fbef8644926.jpg', '0dbbd004c90cddf6.jpg', '3c2358db7a020ba6.jpg', 'a8042cce7f1cb422.jpg', '233f6a449cf54d20.jpg', 'images8.jpeg', '397841a27847b8fb.jpg', 'c508532ae14086e6.jpg', '861d0eaaf5535b53.jpg', '166207aac94d75ad.jpg', '0f9adcc7c8017fa0.jpg', 'ad0be291d7cfdee1.jpg', '0b60b0c918ad6879.jpg', '5d01f4dc0aebf2fa.jpg', '2692f108680f1daf.jpg', '00d3fcbc86861f4a.jpg', '364.png', '7e5dfa5105e66299.jpg', '03bac5448c5b00ee.jpg', '0d95e4d82e5ff70a.jpg', '8e7f1b0dfc18d5ec.jpg', '91abd3f94ecdf3bb.jpg', 'ikea-handles-kitchen-cabinet-handles-ikea-drawer-pulls-and-knobs.jpg', '45b9e344eaabc194.jpg', '628.png', '83dc488a5b3dc577.jpg', '475fa21801be09c8.jpg', 'a45ef38a62f1da3b.jpg', '1b8116a074361a4c.jpg', '0e9c2994fae6f7c4.jpg', '337943b28eb19de0.jpg', '1b05c6608e880d1a.jpg', '10085be0a892b552.jpg', 'f80b3c58db04feed.jpg', '0d2dfc3c5325f672.jpg', '000c9e454bbf6d0d.jpg', '0cda6729b57a32e6.jpg', 'Contemporary-Drawer-Pulls-And-Knobs.jpg', '415de5fd4c5877ac.jpg', '9484b5e5c9738ff8.jpg', '0e8458a440a5a54b.jpg', '0fed17bace91bec5.jpg', 'd10cc9d127fd3a07.jpg', '0ed2e0651308a1e2.jpg', '91d3ab02785e48de.jpg', '17a19273286e8b0d.jpg', '0dc08fe92b930864.jpg', '91048ca7578d4026.jpg', 'c1673594e5ca4212.jpg', '000bf0ddff4c7310.jpg', 'cde7a8ea22245030.jpg', '04d2b124f5bff6ce.jpg', '5a2c27a3dfb3ddae.jpg', 'd3ef24ecb6b630f5.jpg', '094c8f781c8411e0.jpg', '03ec91fe0cd40911.jpg', '2b301b7bbec2ac71.jpg', 'd6525ed6d5890a20.jpg', '000cd0b046e4390b.jpg', '0cbe9775007a3f53.jpg', '0d3dfbc4ebcd01be.jpg', '0ec87d84a014e1e7.jpg', '7ac63f2fa873f953.jpg', '38e1f50b06675a3002db05142cd17f66.jpg', '67cb83d74dc0b231.jpg', '08380c1be6830cf7.jpg', '3faeb802f7270ce5.jpg', '8e45d18616f49726.jpg', 'images16.jpeg', 'cheap-drawer-pulls-ea-handle-ea-knob-oil-rubbed-bronze-cabinet-hardware-knobs-discount-cabinet-knobs-and-drawer-pulls.jpg', '05867de435365596.jpg', '0dbe084a8367a1a2.jpg', 'da50e6fa486f767f.jpg', '0e61cd4a43b03b48.jpg', '7a712afa2bff3b26.jpg', '55bf2e82882b5470.jpg', '02b7497bfae4a59f.jpg', '698fd32de47964e2.jpg', '4b0373749941c8b8.jpg', '0ca1e90f230f7fee.jpg', '0bc9d9520fed2dee.jpg', '8896b5a5c0abaf84.jpg', '47c21befdabb119e.jpg', '0d9ded3ee3f70959.jpg', 'a84db76292ae045a.jpg', 'kitchen-drawer-pulls-modern-hardware-knobs-cabinet-handles-stunning-kitchen-drawer-pulls-images-contemporary-with-regard-to-3-kitchen-cabinet-pulls-oil-rubbed-bronze.jpg', '31780c088d1708b4.jpg', '398.png', '0204ffb00eba164b.jpg', '3ffc848a9657bfac.jpg', '05ac83beab435e3a.jpg', '5a36fdbd295c085e.jpg', 'b76e1fe157064cc1.jpg', '426def0b17a5c492.jpg', '000ceb7c62a21547.jpg', '246b474d6ea03d80.jpg', '0be849b02c044301.jpg', '99f4f57aa6de5082.jpg', '775e077de67c6250.jpg', '1620ec0a72f1407c.jpg', '7590d47a051a5dfd.jpg', '00a60d051d75144f.jpg', '56a4134de515693b.jpg', '520492e209ebc73a.jpg', '1a0dd0f52cd4b067.jpg', '2dd3c69f6fc9f507.jpg', '7b0112f7f5f096c5.jpg', '17083d5cea0b2bde.jpg', '0faf26cfc4897c22.jpg', '94e873fde8f1dfc3.jpg', 'gold-cabinet-hardware.jpg', '221a39fae7027bea.jpg', '0e251034924e90e6.jpg', 'a430c7548c2f6d39.jpg', '0e7007958c4ba791.jpg', '3d1e24df80f31791.jpg', '06844a396f74ecab.jpg', '2ae027b4be8f51cd.jpg', 'd42202d0e9cceee3.jpg', 'dde951a43a8333ab.jpg', 'e461e568de435325.jpg', '001bdfc9d80eead2.jpg', '07d963c889fe0158.jpg']\n",
            "Train Labels: ['0cda6729b57a32e6.txt', '0c752e55cc3e6cc0.txt', '03105c0683526d25.txt', '00bfeaa4a297dd65.txt', '91d3ab02785e48de.txt', '4e555579acbb6b6f.txt', '00cbc7f343eb90ec.txt', '33afe4d6bf179557.txt', 'b15de360b5a290e0.txt', '987cbed06b4d870f.txt', '536016aff24a055e.txt', '00d343d4a829121c.txt', '0fc8334c3b65dcf0.txt', '0db9d88d9eb1992a.txt', 'DOR_S1_117.txt', '2692f108680f1daf.txt', '0690d2b21c098ebc.txt', 'afacd0b904e4601b.txt', '04d2b124f5bff6ce.txt', '0c60baa351dbaaf3.txt', '2dbb38375dfccd4c.txt', '25d512338c0d8027.txt', '0e8139635a72ecb8.txt', '088f1b6d8222a73b.txt', 'dd3aec555ceaca24.txt', '0d9a27555510c6c2.txt', '0e82514df72dd3aa.txt', 'images1.txt', '387e9cd2e5d4ea7d.txt', '78387993904abdee.txt', '082d92e88891536a.txt', '000c052bb4b882c4.txt', '5d01f4dc0aebf2fa.txt', '049a2a3be2638bdd.txt', 'c3034ee4c10494bd.txt', 'a87aca1e7cedbff6.txt', '9b8bd162c0cb98f1.txt', '2b14997b1b16a397.txt', 'fc8e78e65a4f4473.txt', '02a9c760af8f7a08.txt', '00d8dd6d2ce6fc70.txt', 'd2c8e22257059647.txt', '5de300995c93ef8b.txt', '497b8adaaacd41d6.txt', '7a712afa2bff3b26.txt', '4a4ed2e67f034405.txt', 'e5eb853c477f4ba7.txt', '0d2090ea279cafee.txt', '0df32ca61a984d84.txt', '868.txt', '99f4f57aa6de5082.txt', '05867de435365596.txt', '0ce502937920c74a.txt', '4a89d557495fd302.txt', 'c534ca03e2ddee9a.txt', '35168644edae9d03.txt', '0ddb6788a404cfb0.txt', '56a4134de515693b.txt', '0b581e0f018c7f78.txt', '00d4a6c8831ca56c.txt', '17a19273286e8b0d.txt', '09dcaaf01c06516b.txt', 'dbf426e1543cc41e.txt', '0c40051d1c73fa59.txt', '00e844f581963e31.txt', '93b8aabad14ad618.txt', '0a41d984fa6937ca.txt', '1a1dc4f649c70562.txt', '70b557082dfe6b98.txt', 'f9f6170e3deacb01.txt', '1288d0c57fdb4463.txt', 'dbcb652ea7e3c6b0.txt', '02719a20199eaf3f.txt', '603dd33e938d9611.txt', 'ca17815bd92f8982.txt', '1664c338a8380c25.txt', '05ac83beab435e3a.txt', '900eedc68d55662a.txt', '06b7db73a7e952fc.txt', '524.txt', '2a4ba364c35f5eb4.txt', 'c0dae2792f4a2b7e.txt', 'a79c8309feb6385f.txt', '91abd3f94ecdf3bb.txt', 'b5ffe52bebb31351.txt', 'bb561fb5cebe8415.txt', '0ce5be35e1140b92.txt', '775e077de67c6250.txt', '262dd05d50281235.txt', '153249ece51160fc.txt', '134a5612209dcdb0.txt', '0ed2e0651308a1e2.txt', '235fdb5d486a95a9.txt', '06bbc09333b6a542.txt', '0af254143bf95706.txt', '01b15d5fcabae5b0.txt', '0bf34fddae48b0ab.txt', '76a2724a2725d4e7.txt', '007a4e97abc192b9.txt', 'c1673594e5ca4212.txt', '12715afbcec55ada.txt', 'df3e58f3075a5e9a.txt', '0ea71c0967f66a86.txt', 'refrigerator_door_handle_l1.txt', '51fc0cf2342e5d27.txt', '000c9e454bbf6d0d.txt', '00a5be32d303e480.txt', '703903cbe9c1b9e5.txt', 'DOR_S3_22.txt', '00c2c198953fc6d6.txt', '615.txt', 'ec411105110b2c56.txt', '60fcfa435c20a830.txt', '153cf986ce87c169.txt', '060b6662cc9a1d5d.txt', '0e47126559819116.txt', 'a567a0b64b3c52dc.txt', '00d0ed2f962c1a74.txt', '68ad1ac2ca33c9d6.txt', 'DOR_S3_68.txt', 'c028a1ae203a8db0.txt', '0d289d83a71e8042.txt', '8896b5a5c0abaf84.txt', '01f460320a53fc91.txt', '373f67ed902f026e.txt', '0de6911bfc786546.txt', 'cheap-drawer-pulls-ea-handle-ea-knob-oil-rubbed-bronze-cabinet-hardware-knobs-discount-cabinet-knobs-and-drawer-pulls.txt', '00f0152f65a68569.txt', '0d927008502de357.txt', '8ed48d720cfadaad.txt', 'DOR_S1_118.txt', '8c0ce81d2f584ae7.txt', 'DOR_S3_19.txt', '0e13104a636f5321.txt', '1437aea69b64e0da.txt', '0c66ca8a2c7536b0.txt', '7f44e2b5ba2db7f2.txt', '26e5dff94b5672cc.txt', '0146a6b07d6b3160.txt', '3bcc3adf863d920f.txt', '83d7b3506a2708ad.txt', '157e5ab3d1edeeba.txt', '6b28eb14694415df.txt', '012570c9ec60f9c4.txt', 'a4b1c68fd5f95210.txt', '1b8116a074361a4c.txt', '19ee86fe4f079747.txt', '92126929ec397b15.txt', 'a45ef38a62f1da3b.txt', '7b0112f7f5f096c5.txt', 'c5d188985d4e59e5.txt', '0ec4f09ebbb22648.txt', '29f810a3baa576e9.txt', '7e5dfa5105e66299.txt', '8c645dd8da92ec0b.txt', '1f043dcedff676ee.txt', 'knobs-D.txt', '1ca132ffcf81607a.txt', '52f7e4f43ef61dd5.txt', '163ced3084c0d06f.txt', '8f43dccd3e36f410.txt', '3ffc848a9657bfac.txt', 'DOR_S3_76.txt', '1aab7723fb953996.txt', '0c7af5598adff074.txt', '1a8f7e65a3ffba8e.txt', 'bbf9f48937268c7a.txt', '41fed52ee5654113.txt', 'dc78d1dede3ceba5.txt', '0c21d3029041dcca.txt', 'be2541573a312b94.txt', '9217b9a74e8e672b.txt', '0ca5149ec7da08e1.txt', '6f6de5cebeda8cf7.txt', '5e3b17a53c5bc62f.txt', '0c01e89a58eb20a2.txt', '3867a43bb5f81650.txt', '0d01ee60fc82c415.txt', 'e5d2edc12826ff41.txt', '159dd40a40630821.txt', '0cbefb4eef9e1f02.txt', '329eb1c79bca4679.txt', '0e95ed44c4d9d9a6.txt', '0a76ce8df7ea43ba.txt', '0dbe084a8367a1a2.txt', '06c1ae62a6d168a4.txt', '0e5a7c9a1bba1740.txt', '326fcb1f54d4419b.txt', '0cc6f8b9e3087114.txt', '0d48650c19108b75.txt', '9df4bbd66911aa96.txt', '70b48f6cd2605f4e.txt', '7ce3da7b5c28e8aa.txt', '354ed4678a4c3714.txt', '7784d6ecb97ecf84.txt', 'ad0be291d7cfdee1.txt', '975da8e742d8250d.txt', '5e40cdc400798d34.txt', 'Wood_Mode_Brookhaven_Hardware_Kitchen_Associates-1.txt', '0d1b8d2541c99a0a.txt', '51bdb40a3f51cce3.txt', '60b3c35003cfb3d9.txt', 'd4b569658ae0a30c.txt', '47f612a6c7cc8a11.txt', '3df127ff760a9b10.txt', 'pantry-door-handles-popular-kitchen-cabinet-door-handles-beautiful-top-pantry-cabinet-door-handles-pantry-cabinet-door-handles.txt', 's-l225.txt', '1fdd6001d3da9c56.txt', 'd0e2dba043cdc5bd.txt', '0f8745a73f8973ce.txt', 'b2addaa6fa7cce4e.txt', 'DOR_S1_109.txt', '0de53728ccfe3ef6.txt', '0cc938deed7254e2.txt', 'db22782b8dba34ef.txt', '84cb35f6bd724733.txt', 'ba33845dd206c054.txt', '0d5fe284d37c8c1c.txt', 'bf289fad3606ef7d.txt', '865.txt', '009ae3d6fd97c1fc.txt', '4e9b6116d0225860.txt', '0b5ad6c1ff290b52.txt', '93b5e3ab86711a0b.txt', 'a430c7548c2f6d39.txt', '0c00aa9759d5b636.txt', 'gold-cabinet-hardware.txt', '6c57df42d6f0e545.txt', '7b81f1f2b6ec2e5f.txt', '57cea5606fb7fdc4.txt', '5bd7f210fa544a9f.txt', '62f8e1541ed4c442.txt', 'a6c770c55743d796.txt', '0afd7c29633fe699.txt', 'c0f22c479493ca26.txt', '02cbf03c95c9c8dd.txt', 'DOR_S1_111.txt', '22aa40cd91b4c259.txt', '4956ccee7130b88c.txt', '7da201ff76fe53fd.txt', '0fbe10829d6d74c7.txt', '0c9d28cd2da44ccf.txt', 'c8c31e9cb1954ee8.txt', '00a76212dad599aa.txt', '74ef0ee56eb13129.txt', '33af4d41ba6bf2d0.txt', 'be893deb92bdc98a.txt', '7749d3d4904ce2c7.txt', '512e763b23503a34.txt', '3a4aa6f2e2d333cc.txt', '53fe1fd9e2520c59.txt', '02b7497bfae4a59f.txt', '0af40c0e840098a9.txt', '042534f23997f148.txt', '1bec3b4fca18fed7.txt', 'a185d6eec3bc0f06.txt', '03ec91fe0cd40911.txt', '994ddbdf7cb387b0.txt', '007821b7c578c94a.txt', '0e5136e572fda862.txt', 'b09da1b69ff6580a.txt', '0ceb42b98417b88c.txt', '1f481ece45be4cb9.txt', 'a94b92ba3292c844.txt', '0a68ceae0ff06341.txt', '0fed17bace91bec5.txt', '638720894bbb926a.txt', 'e73cf5235e501056.txt', 'c3796ad5911a3dd9.txt', '7e42af92dcc12ef7.txt', 'e9bb83c89a82dad1.txt', '501f8211256ad97d.txt', '0d0179a3ee895b81.txt', '3c90babc7fdb6047.txt', '8e134088edac620f.txt', '0dbbd004c90cddf6.txt', '0c1783b09ee05447.txt', '2b87340ff50deb6f.txt', '38a7fa0a0fb6ffe6.txt', 'a4e2d1d696fa57d7.txt', '7b0abb1b7d8e62fd.txt', '25c2f9a7fad20c4b.txt', 'bed78c5986b45df2.txt', '4841959e5e9278ef.txt', '44d007381712ad26.txt', '0be48767aff43b0b.txt', 'DOR_S3_73.txt', '7ade4b49c0f3d4c8.txt', '42c35b8fdfdd2d12.txt', '1a676cb4af696ae8.txt', '0e9c2994fae6f7c4.txt', '1c982d27b6c36e2f.txt', '226ca7062160972c.txt', '0b126561e29676e1.txt', '7e11d0131986221e.txt', '0df8cb86b756c8b6.txt', '4267079863bd27fa.txt', 'DOR_S3_74.txt', 'DOR_S1_107.txt', 'DOR_S1_124.txt', '233e41a2f2f4b6ae.txt', '0c41800d0c91812f.txt', '35e319bc1fb875a6.txt', '9fd939aac32f63e3.txt', '4508de4f680374a7.txt', '0d21891a9b98ee85.txt', '619a66a0a8e51846.txt', '8aebf99122a9f9c4.txt', 'a83b50041535fbbd.txt', '03776c806e842674.txt', '0322fade74e6a40d.txt', '337943b28eb19de0.txt', '415de5fd4c5877ac.txt', 'f858fa9087c0d735.txt', 'c508532ae14086e6.txt', '1c23b05368657306.txt', '57da1fb96266fe9d.txt', 'a3f745ee4b00c1e4.txt', '221a39fae7027bea.txt', '853fe459e120ecbb.txt', 'DOR_S1_104.txt', '5370bbe2b9812ad5.txt', '0e65809d7dfb4af4.txt', '00f6a80e7f1a229a.txt', '7771c64fca6089d2.txt', '55e95a2fb13f7017.txt', '246092384ee2655c.txt', '0d35451340e0ca84.txt', '0b60b0c918ad6879.txt', '45b9e344eaabc194.txt', 'DOR_S1_110.txt', '99ad5ee7015e4fbd.txt', '04fe0d2194377b61.txt', '861.txt', '0ea7c53ce3250e8b.txt', '953acb30d0fd07e7.txt', 'DOR_S3_81.txt', '9e5a46db2634a63e.txt', '50fa7f3914b3d38c.txt', 'de9de4645e828adc.txt', 'DOR_S3_23.txt', '0c2d5a23371dd746.txt', 'beb9fcbcfe869959.txt', 'DOR_S3_71.txt', '029123ba6d20f9b1.txt', '02ef3baaf3950a6f.txt', '994a97bc1ec49cf2.txt', '76daa79117fc7d19.txt', '8ce7545def57cf8d.txt', 'd83dcdb92fa65c56.txt', 'f282bb0b1946f85a.txt', 'e1e6f9a8212ccb8e.txt', '288e1b6c95a3fafb.txt', '0934a6117d4ff7b3.txt', '2d468bcf407e1bb7.txt', '63c54ace54e70f70.txt', 'ce859e17702e6b6b.txt', '24eb3cd134fae0aa.txt', 'ikea-handles-kitchen-cabinet-handles-ikea-drawer-pulls-and-knobs.txt', 'images13.txt', '000c66e044e850f7.txt', '862.txt', '0fc768a1c637427e.txt', '7684a73c8bf42d32.txt', 'd71b0472e89016e0.txt', '39532c6b940f7180.txt', 'd781d203a971bf09.txt', '0e59af35fd02431a.txt', '0eb20efcc6d11e51.txt', '0e04b7fb9fa3c60c.txt', '09481f2c338108a3.txt', '0d238ce3cf35573d.txt', '0c2594d3710ac469.txt', '24f0338f385a4482.txt', '0204ffb00eba164b.txt', '0c6d76c010c29ef5.txt', '0cf216bef1ec8e21.txt', '0c190b039c66efee.txt', '7102abdbcecd48ee.txt', '22544ddbf28eb989.txt', 'dbe9d7e7c15669db.txt', '180e41660f6d6b59.txt', 'f291d677045b5a38.txt', '466fc40cb767a4b8.txt', '0c62ce6c7096f295.txt', 'b818efe4172f4666.txt', '0e872e10f2531364.txt', '6ac770706bc0e3f6.txt', 'd21c3f2706a1b74f.txt', '87b1d5f40a55bb19.txt', 'd0ef5b3e45c0ca64.txt', '3a34cb02ae02ffaf.txt', '00c06121b63b755a.txt', '8.txt', 'DOR_S3_18.txt', 'e2e8a34b81f98b9c.txt', '0cc04ceab034a0bc.txt', 'e6a3eb894b0b9a4c.txt', '0ca1db52353feee8.txt', 'a0da5e7cc4ba2d79.txt', '4413ebcc67201cff.txt', '0dc08fe92b930864.txt', 'DOR_S3_77.txt', '81d653f8cc985f18.txt', '0c04f73a2916eece.txt', '2bedb89760b9aec1.txt', '17930a007017e66d.txt', '98286eeace774204.txt', '00f0f43aca411ec9.txt', '259cffd5e01c616c.txt', '25e37eb384c326d1.txt', '0e5ad4351dedeb0f.txt', '7e6dac6a44c66c45.txt', '95d0693974e5fc3b.txt', '0e9cc189512f1913.txt', '98b79845429b0080.txt', '10085be0a892b552.txt', '0c29cab1caddfc83.txt', '669c4c7bbe75cb0b.txt', '0ddf7e608a00bab6.txt', 'c62c4578f8d48578.txt', '737b6903c9a4234d.txt', '5f91ad235094ae04.txt', '0693f25ad57f7e14.txt', 'images12.txt', '0d6d7ccce3428409.txt', '130071b5f0ee3fee.txt', '0941c98ad83fb227.txt', '5f0f35817611bdac.txt', '4491c47e3ef1d2ae.txt', '0eb8277c7e986728.txt', '55bf2e82882b5470.txt', 'c8d7361c8e81ab81.txt', '0c10599382349e7e.txt', '0d24ce32e3068ed1.txt', '28c53bd27cc21733.txt', '166207aac94d75ad.txt', 'DOR_S3_78.txt', 'DOR_S3_80.txt', '00da8827b3288d89.txt', 'a4de19b855aea878.txt', '97b611449d459dbd.txt', '426def0b17a5c492.txt', '00ca2179c6ccfc86.txt', '95cee073138bda90.txt', '85ccc9bbdf4d6985.txt', 'aa100acd5afc5de3.txt', '0c3276102427c9c8.txt', '75e4e8ab47a77499.txt', '01a430b5379fe42c.txt', '4ad2b99ef5fb838c.txt', '0a9999a432bd9e50.txt', 'b76e1fe157064cc1.txt', '515.txt', '4d04388521138c9a.txt', '0eb96447e34f087d.txt', 'cde7a8ea22245030.txt', '0d5fc81161830bb0.txt', '7c42138b7ca0d3f0.txt', '83a84d6f5d196951.txt', '0fc7a6152fb61259.txt', '0faf26cfc4897c22.txt', '00e5c93e53ada7cd.txt', 'DOR_S1_101.txt', 'b331277ae70fd966.txt', 'DOR_S1_113.txt', '74ba74d74949e187.txt', '2e193eef6f6a4561.txt', 'DOR_S1_126.txt', '0cc0d4d0bf52e7fc.txt', '0ecd790e25be8411.txt', '3c2358db7a020ba6.txt', '798e136c7712ae9c.txt', '0f238c501cc1f25b.txt', '232b254322144b9b.txt', '023b447cac3b3557.txt', '8926769ff83061b5.txt', '0e61cd4a43b03b48.txt', '0f6337a1ea2b6cc2.txt', '16f7251ee8768470.txt', '514.txt', '0d95e4d82e5ff70a.txt', '655c336ab92f9502.txt', '4d550dc12b4d59f8.txt', '0eae0b36fa39d844.txt', '00ec888df1bd1aad.txt', '0d6ef63f9b522465.txt', 'index.txt', '0eb2c146387764c3.txt', '5c230f99fb6acb59.txt', '69754330275d587b.txt', '9d6902fe81a62012.txt', '0be9159e4b4bc747.txt', '0c8fea6749954c4c.txt', '9749447962a1ca5e.txt', 'DOR_S3_79.txt', '0e87814cbe9dd3c6.txt', 'images16.txt', '0779f34fe1c7970c.txt', 'DOR_S3_75.txt', '0c1ede902091b79f.txt', '0bb4903984e44915.txt', 'ecf61587947c4eb0.txt', '1a29a20810c42b11.txt', 'd0c153d02c2c62f5.txt', '386644a72691a05a.txt', 'aa51976e75f89c18.txt', 'd605fc35bb8d32a3.txt', '03b377e1ea46fde9.txt', '6837b091e0f14ade.txt', 'eef125b33737d19a.txt', '01b8f3f2d2cf7613.txt', '84ab4adfbd0683e5.txt', '0e7007958c4ba791.txt', '867.txt', 'd3ef24ecb6b630f5.txt', '0071e79693904a8f.txt', '85bfba79711d01e3.txt', '69fd9bee1947f0e8.txt', '0cc1bbc28fe24df0.txt', '1c2868141487ec3c.txt', 'e4499b4e5c7ee71d.txt', '126b61892259c81b.txt', 'd8cedccb3422c92e.txt', '0dc660f9d10b8e64.txt', '00db839f935b5829.txt', '8b0a4ac1e348e48e.txt', '1620ec0a72f1407c.txt', 'd4e1dc2f2326a8b0.txt', '3a88570f0f1b6ac9.txt', '0a604ed4883b45e5.txt', 'd52cff49e505d160.txt', '0bafa9469a8047f7.txt', '187fef6c8b9b9429.txt', '0ca1e90f230f7fee.txt', '0d120a5f5b1011d1.txt', '523.txt', 'da50e6fa486f767f.txt', '0f9adcc7c8017fa0.txt', '28e00ee6e869b29a.txt', '0c74e6f9fdd25d03.txt', '08380c1be6830cf7.txt', '1c058e55368fcd1e.txt', '0c135555f209015b.txt', '129ce8f7369def54.txt', 'fbeb16e8a12ae749.txt', '0e82670d579afccb.txt', '9a813326a1868a55.txt', '353c23e5755fa4ae.txt', '0fa2960d145c66b8.txt', '1a0dd0f52cd4b067.txt', 'DOR_S1_102.txt', '0c6ca56a6104ee69.txt', '0c07aa933834dbc1.txt', '398259f32f14d105.txt', '47c21befdabb119e.txt', '1529630afc3d553c.txt', '5a36fdbd295c085e.txt', 'DOR_S1_112.txt', '3d37bb6b541a1479.txt', 'DOR_S1_103.txt', '0d3dfbc4ebcd01be.txt', '0c0edea113b641c3.txt', '094c8f781c8411e0.txt', 'brilliant-modern-kitchen-cabinet-pulls-with-regard-to-contemporary-and-handles.txt', '76c6d0cca62ba225.txt', '363ca9571e4863dc.txt', '8ff20053385d110c.txt', '9e88730f29b1944b.txt', '0caf1d7eb9af4449.txt', 'f80b3c58db04feed.txt', '0c40c79955aed671.txt', '0bca4202cbffa259.txt', '71b3bea110ee810c.txt', 'f638c52c804a1c0e.txt', 'c33830c874d4a8bf.txt', '20393a271a3547f0.txt', '5d59b6e0d5470c44.txt', '2bedf10fd4f91cb5.txt', 'kitchen-cabinet-handles-interesting-inspiration-door-simple-ideas-decor-gold-pulls-knobs-and-furniture-hardware-dresser-hoosier-recycling-bins-black-knob-with-backplate-stone-ring.txt', '1bcf4a78296ab8c2.txt', 'images11.txt', 'a2eb27330f078f0b.txt', '0d7b29e9f8911bde.txt', '83dc488a5b3dc577.txt', 'afd7573ccde0b6ab.txt', '1adffb670386a3fd.txt', 'ef40ea977c4ff163.txt', '140e5fc6a1e41e5a.txt', 'cca8064bb85b9f33.txt', '2df986f499124b4d.txt', '1c88726ef503b432.txt', '2924756d0c31e5b1.txt', '0dbb2f1e7703f5ed.txt', '101188062833d608.txt', '7f5bc96cd2d045d0.txt', '00bb60b91c5335b1.txt', 'c76a6c85cb54c105.txt', '99e6b2e3c3cfda19.txt', '131907ba425c3dea.txt', '58b547e7ce3ca583.txt', 'bf54629b50fa0623.txt', '365185d0df5934ae.txt', '1feb783eb3e933aa.txt', '304bb3a9e63f9e61.txt', '0d6642763decf970.txt', 'a6e252b43b8c71c8.txt', 'f2b31981e52820b1.txt', '933834772364f09f.txt', '2100e86484efda14.txt', '0c30772b7ea51745.txt', '1ccba45e8e4491a3.txt', '864.txt', '105d6a2a63f7ce3c.txt', '142745fd0af3aae6.txt', '001bdfc9d80eead2.txt', '00d82cf94121d6c1.txt', '931d4fe2a4abe2aa.txt', '7590d47a051a5dfd.txt', '7262c70b22d6c572.txt', '52b15cf19d8257e2.txt', '00a1675e670756a1.txt', 'DOR_S1_122.txt', 'c53fe42427abd793.txt', '9cabcae77d6b6d63.txt', '5a2c27a3dfb3ddae.txt', '00c4da254151ea38.txt', '7226f21fb81bddfd.txt', '383b3d43f4b1e55a.txt', '82d32f9512be6c97.txt', 'acaebc6ee1264976.txt', 'DOR_S3_69.txt', '1d624eb29f35af59.txt', '0ca6e18939996903.txt', '0ca97b08bb473346.txt', '0eb1595ccaca0013.txt', '0cc9ed0f1d55ad74.txt', '26791f7f58b801e5.txt', '8e9aa89d4c2ae64f.txt', '91e8675f472d5dbc.txt', '00a60d051d75144f.txt', '0bc37b99b3e65f06.txt', '7ac63f2fa873f953.txt', '0bf588f9e87c71ff.txt', '9591252f187f0dc9.txt', '563dcdcfc82b9d71.txt', '0e0121237012f0cb.txt', '9.txt', '861f42088328f1ca.txt', '000cd0b046e4390b.txt', '0e723b03f0e74675.txt', 'kitchen-drawer-pulls-modern-hardware-knobs-cabinet-handles-stunning-kitchen-drawer-pulls-images-contemporary-with-regard-to-3-kitchen-cabinet-pulls-oil-rubbed-bronze.txt', '2b301b7bbec2ac71.txt', '7e0ad693d944c119.txt', '39988dc3a63d8751.txt', '40bc03bdddd567c3.txt', 'd80700a0235c1e3c.txt', '0cbe9775007a3f53.txt', 'd15039a6b672810f.txt', '86e8a48ba0da265f.txt', 'DOR_S1_119.txt', '4e908bcaf9999ab2.txt', '0eec6ad82781383a.txt', 'afe5b42ce72f2eb5.txt', '1ae7acb4547d5bc0.txt', '50e85d3e78a16fef.txt', 'ad71c03f761e1072.txt', '1b476d930e8f73d3.txt', '05ad81d9486f4ad4.txt', '0d5c075e91b9309e.txt', '475c07fa76126b67.txt', '443866e9d68f90f3.txt', 'DOR_S3_25.txt', 'images5.txt', '717ccd7e5deaf318.txt', 'cb9bb228b5209e45.txt', '159aae161d6b60ff.txt', 'DOR_S3_84.txt', 'abcfcdbdb56cfdea.txt', '1f64ae7c9ddade84.txt', 'e7667c571440ca5e.txt', '558dca00c6176f20.txt', 'a8ed87af97e1a9d3.txt', 'c7ed2bf7831d135e.txt', '0ce830f1e03e9ec3.txt', '5117b754613a09a9.txt', '9db2787b711b7bfa.txt', '0c02c70c3d8d70e5.txt', 'DOR_S1_108.txt', '0e04873f64e61c1d.txt', '60b0562e30e0c69a.txt', '0bf98072f26753f8.txt', 'images8.txt', '0cc3d0c94666272e.txt', 'DOR_S1_100.txt', '7ad5584aa00e667f.txt', '195c37710249a08b.txt', 'd42202d0e9cceee3.txt', '233f6a449cf54d20.txt', 'b2514d4b49358070.txt', '246b474d6ea03d80.txt', '27a6bcd97e626d69.txt', '11739cf765a3f3d5.txt', 'glass-crystal-drawer-pulls.txt', 'e6bbf225bf7e2e79.txt', '6d6237b4241c320a.txt', '0e3b7f3fa56e1837.txt', '0bed85c3c590d016.txt', '17083d5cea0b2bde.txt', 'aa46fa285ca71cee.txt', '0c3673f52f7fbe00.txt', '40803bdda76313b9.txt', '67cb83d74dc0b231.txt', '866.txt', '7a2b01b452bdb117.txt', '007427672a3d5264.txt', '000ceb7c62a21547.txt', '8079dbbcb7d981dc.txt', '5b2e84d553d0f898.txt', '0be68c7d864c20c0.txt', '8b7cf7cfddc0071b.txt', '57e67f96c54757d6.txt', 'e75c980c218966f0.txt', '698fd32de47964e2.txt', '3faeb802f7270ce5.txt', '0e2208875afa89ca.txt', '0bda614ac5f8d5bb.txt', '1a7a1723ca12cd46.txt', '5e4a3a21836fdd9b.txt', '0cc35169dd5ac02f.txt', '401524b30fa05ab1.txt', '0eb80289f63b0ea0.txt', '01017856bd2da59b.txt', 'b5d0b5bccecb3c20.txt', '2ae027b4be8f51cd.txt', '067b31e56323505d.txt', '456b98a5010e4258.txt', 'b603a9d5511f2661.txt', '089f139ac3ecde3b.txt', 'b52dd50bf8371a4c.txt', '00bccfe3f3c8ae6b.txt', '7e9e24e784515f05.txt', 'd8e0c7825be12b2c.txt', '0d2dfc3c5325f672.txt', '0bf01ee25888cb45.txt', '4dc6f94c7720fda8.txt', 'a84db76292ae045a.txt', '90938616b44d5666.txt', '0d48ba24443fb53a.txt', '2ba0dbc88f47be4f.txt', 'b07a7a55e371416e.txt', 'wardrobe-handles-bedroom-drawer-and-knobs-for-furniture-black-silver-twigs-kids-ikea-cabinets-no-h.txt', '3351f25dbcbbc567.txt', '00eb261110ac46c5.txt', 'b52b11559bb34336.txt', '8f24ccd5d86243b5.txt', '0df12f74a8fcc05e.txt', '2ebe6cb84c45521d.txt', 'ba951e65a53acadf.txt', '69b2a3bd238c5ff8.txt', '520.txt', 'bd9f7905de0ff6db.txt', '0ecffef63f024f60.txt', 'a4f8fd67378730a8.txt', '0c697169b1207217.txt', '1a0b468e0a8e9526.txt', '1b05c6608e880d1a.txt', '475fa21801be09c8.txt', 'd87f2ce076230974.txt', '459eb80a93786a39.txt', '0149f0d7768cbc98.txt', '00c1bb3fd0f8c041.txt', '88fa8f83a0d5703a.txt', '0c2273e5f9ab0e67.txt', '392132dff3b498a0.txt', '2bbb8c43a3380316.txt', '0d75f4d0712d4dd7.txt', '0c4eb8de33034f6c.txt', '8926f7f6295f09b0.txt', '2dd3c69f6fc9f507.txt', '90e23144d905d72a.txt', '38e1f50b06675a3002db05142cd17f66.txt', '2390034133887c6d.txt', '0dd1c9c6a34eba7c.txt', '8b0bdd3141ea77e0.txt', '397841a27847b8fb.txt', '7b11d670d99d1150.txt', 'ikea-drawer-knobs-drawer-pulls-kitchen-cabinet-handles-knobs-and-handles-knobs-vs-handles-for-ikea-bedroom-drawer-knobs.txt', '00d3fcbc86861f4a.txt', '0c8ebd9431edd552.txt', '0e251034924e90e6.txt', 'f701b6ac595a0361.txt', 'f1b480761060081e.txt', '163bb8d48332438f.txt', '000d9c77f5749561.txt', '07c7da6ee633bac1.txt', '0cb3741255649fbc.txt', 'images7.txt', '0ca09360855f2b45.txt', '520492e209ebc73a.txt', '03bac5448c5b00ee.txt', 'c12ffcfe0986f3ed.txt', '8e45d18616f49726.txt', '0d34c6ef6030ef6c.txt', '9385305efb91a0e8.txt', '00ebbe86769979a4.txt', '850977bc144ea11e.txt', '0e8458a440a5a54b.txt', 'c279e14b172412aa.txt', '0e9191e310909562.txt', 'bed55d09557e4f8e.txt', '3d1e24df80f31791.txt', 'ecd1e55f8a6b3a4f.txt', '91048ca7578d4026.txt', 'd6525ed6d5890a20.txt', 'DOR_S1_121.txt', '06fd633136a92428.txt', '4736100d6746b54f.txt', '169d890f952c3446.txt', '236a3e3f89a05843.txt', 'c1ebc184420a303b.txt', 'e047154be3cf4f36.txt', '0410943ef1919f80.txt', 'DOR_S1_116.txt', '72f43bd47ba46d06.txt', '912e8d7a5aca1f90.txt', '9484b5e5c9738ff8.txt', '91bb5060f2f930d1.txt', 'a8042cce7f1cb422.txt', '4d3d3cdcf68ae183.txt', '68f42c5bd9fec4a7.txt', '33f5984924e1a395.txt', '31780c088d1708b4.txt', '0c134d543aa58495.txt', '0ccca12b5aaa0ebc.txt', '9a06dc2325af63da.txt', '0bc9d9520fed2dee.txt', '6c074283d073b1ef.txt', '000bf0ddff4c7310.txt', 'DOR_S1_120.txt', 'images4.txt', '998b674a3855a292.txt', '0ae42210e7fc02af.txt', '0e271dcff55afea7.txt', 'ce9cf42259c1bec8.txt', 'f57bb9c762710434.txt', '397.txt', '625cad7128855737.txt', 'DOR_S3_24.txt', '403.txt', '72180cf6a7b2b492.txt', 'b6748985e452473a.txt', '6819a34f934a686a.txt', '393.txt', '041926a4858c0a9a.txt', '81af0e84d9623957.txt', 'e41227e8569a455f.txt', 'Wood_Mode_Brookhaven_Hardware_Kitchen_Associates-3.txt', '07d963c889fe0158.txt', '26d06e8c8e325e33.txt', 'd157cbf8d7f3c78a.txt', 'e1ca64500fce1157.txt', '007bae2adf43dd31.txt', '3a74f7cdfb3c9a10.txt', '66fa65d19adaa351.txt', '0d57d247bfb1be21.txt', '92a2fd9a41e602a5.txt', '6d8001ea79c02334.txt', '0e527e05c80b2555.txt', 'DOR_S1_105.txt', 'DOR_S3_72.txt', '06844a396f74ecab.txt', '000da932ca7e68e4.txt', '7bd452f46eff74de.txt', '90c4e2fbaae62118.txt', '61f154d20d8b9bf5.txt', '7ab035622c40f329.txt', 'bf9e9a9681561d60.txt', 'a4d4a408e1c3ca35.txt', '2d8c5de6b51f0218.txt', '8da9fc579c830578.txt', 'a698589d8941988e.txt', '0be849b02c044301.txt', '4b0373749941c8b8.txt', '0e1c63e30964dc3b.txt', '06d3587094d5c496.txt', '677369d3bce9d2e1.txt', 'DOR_S1_115.txt', '5dee23ea41a3f27e.txt', '0a98e4fe3ec5592e.txt', 'e97c97c39ade3031.txt', '4f5cb2b206085851.txt', '33504d37e7a2553c.txt', '0e8a150cacc30e88.txt', '46dccf0478d760a5.txt', '51e33ffbe112a894.txt', '0bb80f98e936566d.txt', 'e461e568de435325.txt', '0c4acd50c4430066.txt', '0cda59918e7dee1c.txt', '00ce536d4536805d.txt', '93d8a329cc04bad4.txt', 'a30d502fade25820.txt', '401d7aae63c3b63c.txt', '0a6acb71e9635072.txt', '3d1e219b64f04223.txt', 'ed47757457c3b029.txt', '8e7f1b0dfc18d5ec.txt', '861d0eaaf5535b53.txt', '94e873fde8f1dfc3.txt', '1a16454e64199304.txt', '5ccf71d7e2a93e7d.txt', '00db6b59d3880145.txt', '000e80d9cf37daf3.txt', '0e8a380f9b9511c9.txt', '0e332233f4825d0c.txt', '5cc695cd54ad90a8.txt', '0f3e5d607d82e4e9.txt', '1874dc5efc12d957.txt', '539d933aefb44a68.txt', 'dde951a43a8333ab.txt', '8a70d9f29670b9b5.txt', '0e5eb7939c00eadf.txt', 'DOR_S3_85.txt', '0beb9cbe0c770abf.txt', 'b228d99ee9267a3b.txt', '4c97a04e77fbb839.txt', '4076c48b2cd6bdce.txt', '0d9ded3ee3f70959.txt', '0dba02432495d47a.txt', '0c49829dd1e2d32f.txt', '614.txt', '65fd844bc8bc5666.txt', '69d2b0cab2cdef8b.txt', '1a6fb9d88119d454.txt', '078460e79cf23e5d.txt', '87be6fbef8644926.txt', '742b8684073d6fd6.txt', '0d2e49086e83c259.txt', 'd611a05b7a107509.txt', '3c027963e04af26b.txt', '8cf0d90fadf83514.txt', '0dbae2ad6cb64fbe.txt', '00bfcd25320fd354.txt', 'c403cb050bb590c3.txt', 'b0b08bdfbb3612db.txt', '979c63d91223211c.txt', '610.txt', '4959b7c9afc20cd4.txt', 'c3bb0c3dd9e4a02d.txt', '20755e349ac81f0c.txt', 'cd0f444cde5e6f84.txt', '6a6c4348e1313a0d.txt', '387.txt', '71b2d221719fbef9.txt', '98ecaa1c259e0e7e.txt', '3993068ec38edcda.txt', 'be73b83c3f58d469.txt', 'acfbe51840b6e2df.txt', '3d0e9fdb22c5d471.txt', '120c69125d2577bc.txt', '0eb31e09509587fc.txt', 'bb43aee523a166d6.txt', '16233e1005afe696.txt', '51ecff8aaf1259ee.txt', 'e70c78748ec0fd81.txt', '263523d1754e3381.txt', '0cddd3b472bc04cc.txt', 'b321b5ba60312f26.txt', '0231d1c677d693a4.txt', 'images.txt', '385.txt', '0d6d668e47f2938c.txt', '0ec87d84a014e1e7.txt', '0d065e63cc8f31f6.txt', '10cbf3715b2bcf72.txt', '39e7a25a724c9e8d.txt', 'd10cc9d127fd3a07.txt', 'fe5956b82ea1360d.txt', 'DOR_S3_21.txt', '628.txt', '3d94428eaf8808c2.txt', '32a5a75aff331bbc.txt', '629678c55bd096a9.txt', '6a895268f06332ec.txt', 'c94b9a2fcdd09e2f.txt', '6d2b0a5c859562a5.txt', '0c89be4d66633ce4.txt', '0e759e74589524b3.txt', '0001cb734adac2ee.txt', '02e80ea9ff2add79.txt', '24d85bfa05316aa6.txt', '0bed30d0d60d70e5.txt', '6bfd56bd4442737d.txt', 'd79818a8c7a97ded.txt', '398.txt', '0b84642b319af1f3.txt', '0bdde2f91df4c85a.txt', '364.txt', '9904aa193d787eac.txt', 'a50ceaeef959e452.txt', '0c77673996e69163.txt', '709f5e46880ba7cf.txt', '0072bdea7fb5b94a.txt', '4906acaa9d04d415.txt', '0bf4138d0f052cf6.txt', '8c6d17cf9b79b934.txt', 'Contemporary-Drawer-Pulls-And-Knobs.txt']\n",
            "Valid Images: ['be1ae75c87fb45d1.jpg', '00de93955694a159.jpg', 'DOR_S1_114.jpg', 'a434ac33602740dd.jpg', '4fd46f6ea4f0164c.jpg', '6f50b202b7ae436c.jpg', '0cf65d247223acb4.jpg', '0bbea2cd35fe261d.jpg', '631.png', '5f2598a968b2dd97.jpg', '92d37f69abfba9de.jpg', '1bb158ab4884139f.jpg', '0a5016e04759209d.jpg', '0e36f05b301e8b6d.jpg', '52129dd4d69daa29.jpg', '00cb40d7ea24aa3b.jpg', '4bcd41a81ff6ed9c.jpg', '2dc9dd0bc5e8cfe8.jpg', '592adbb30fa8ae42.jpg', '49758eda4f58306f.jpg', '000cf08de329f81b.jpg', '0accef11d18c2a1d.jpg', '81963c0efe7ebb99.jpg', '8981d04925449de2.jpg', 'e5de51284ebf6ef1.jpg', '41160be1337c198b.jpg', '0896f7f8ba671953.jpg', '4267f2bfb8822d2c.jpg', '0da7328a8d12180f.jpg', '2eedacb1aea229c6.jpg', 'aa1043c40d86c964.jpg', '0e25d39652fdda48.jpg', 'aecc04cc09da6de4.jpg', '06553dad53cd2445.jpg', '7bf4636ef0a35ad2.jpg', '00bb967bc89e040f.jpg', '0fbbdc13b109f257.jpg', '094280157e036eb0.jpg', '6383961ebbfed4bd.jpg', 'c4beca7e09144a81.jpg', '0d61ee61e82202fe.jpg', '96b0ea1e6c7a666f.jpg', '959295031255ac39.jpg', '1bb7f93366ee6094.jpg', 'cc34422d08879446.jpg', 'kitchen-draw-hardware-draw-pulls-for-cabinets-satin-nickel-drawer-cabinet-hardware-knobs-bin-kitchen-drawer-hardware-nz.jpg', 'ae052e44f8260bd0.jpg', 'c509cf7a447a662c.jpg', '5f9cbca55c53abfb.jpg', '637a3adb34196e50.jpg', 'gold-dresser-knobs-cloning-decors-trend-decorative-special-drawer-lively-0.jpg', '748481fab813b3b02a691cf6e22fedf9--brass-hardware-the-copper.jpg', '1b9bcc4bda6a70d7.jpg', '395.png', '1594b7c29a320b0d.jpg', '4244f089ccfaeebb.jpg', '0cb4a797c123d2cf.jpg', 'DOR_S3_70.JPG', '0bc96786d389adbd.jpg', '89878d47328f3ace.jpg', '62f2c77938c834d4.jpg', 'f16defdfcc454f1c.jpg', '665a1159-e3ab-4a7d-8770-e08337767339._SR970,300_.jpg', '03dad3345ad61f8a.jpg', '540d305a2d06c74b.jpg', 'shop-cabinet-hardware-knobs.jpg', '7938dcc23ea839f2.jpg', '0c07f16af20bdc98.jpg', 'DOR_S1_125.jpg', '2192ea511cf0171b.jpg', '30a9c21cc81e94e8.jpg', '520ea55e36aa27c4.jpg', 'DOR_S1_123.jpg', 'd5e54a97c7956ea4.jpg', '421b4b574ae5c7b2.jpg', '5a67af57f20fe7d6.jpg', '0dee4c4650d50ef0.jpg', '0d7a93809484c6e2.jpg', 'DOR_S3_26.JPG', '7dcc6c19e51c0d46.jpg', 'f6ab97836c153c54.jpg', '989b261359f4f8fe.jpg', 'e6b8a2279c09a31b.jpg', 'daa62fa745f83a8e.jpg', '3ed972cc0cf49713.jpg', '6bc2a5f340d507e6.jpg', '38caae234dc51d86.jpg', '8b31b9fd2a48a90f.jpg', 'a12ad8a06226a6dd.jpg', 'af652773266eaea9.jpg', '0cec029cb5070405.jpg', '0523b641cddd9cbb.jpg', '3757c5e77faef926.jpg', 'images14.jpeg', '02d35eb7ad2388f1.jpg', 'b59a0309fa90ab99.jpg', 'cdd575088f05845a.jpg', '022594ed9ec74a86.jpg', '20485139e526d5b4.jpg', '97aaf76bd6fad8a9.jpg', '2607f946dc091571.jpg', '9085bb6608cd6064.jpg', '07229952f81ce2b5.jpg', '54f549c1ef45078c.jpg', '0c0a7b8b641aa601.jpg', 'b53ec1a97df329bd.jpg', '1458ece265475557.jpg', '000d61ba9ffa87db.jpg', '71c9176bb69d5202.jpg', '6683eb9b8babce79.jpg', '5a58c683cb34a227.jpg', '44f8a4a4849b3248.jpg', '19135e910ad435c3.jpg', 'DOR_S3_67.JPG', '0f2f36bf06cc0514.jpg', '3be83abbcf05b421.jpg', 'b49a8bb3e354ddb0.jpg', '0d221032a69a8d24.jpg', '0e363618cb0f9bf8.jpg', '91d9a393482702a4.jpg', '05f98613a5f083d6.jpg', '907f05d19c32cbd5.jpg', 'c4ef271815943292.jpg', '1a3694db5d258218.jpg', 'c691b5ce2c260489.jpg', 'DOR_S3_66.JPG', '0a192c33bfe2430b.jpg', '0d02acee5a7d169c.jpg', '0bf8a1dc0827950f.jpg', '66abb939c8e0ada4.jpg', '28c9da3777a4e41d.jpg', '0c931a871a721815.jpg', '0d67358e7358ee00.jpg', '2334af101eb10dce.jpg', 'c401b6f834724d34.jpg', '0c5f526599f52a41.jpg', 'b6798d4660eb5072.jpg', '87890bb19846608c.jpg', 'refrigerator-pulls-the-refrigerator-pull-is-part-of-the-suite-made-from-solid-brass-and-finished-in-black-modern-refrigerator-pulls.jpg', '0e3bcb67142341af.jpg', '00ce3c2f4657457f.jpg', '188c2d68052cc7b7.jpg', 'oil-rubbed-bronze-cabinet-hardware-knobs-pulls-within-plan-5.jpg', '6eed688c4f49444a.jpg', '5a173d4aecf6ad4d.jpg', '87cf26211cfa78cc.jpg', 'a1e578f266017acd.jpg', 'b11dc1515c647e32.jpg', '66ab92a9c50cd36e.jpg', '0e3381d79d5b1ea1.jpg', '145fdf2ac97867d2.jpg', '24e3ee52ac1821a9.jpg', '8c403c2bca23f224.jpg', 'a4df7917a458194a.jpg', '9891fb8e58773939.jpg', '6d261123912ce177.jpg', '0a4c6b68ca539d0e.jpg', '0ca88a8d6927a8db.jpg', '0c4ba131f41e2176.jpg', '264de7f0e59e9728.jpg', '386.png', 'd4762a12b3b5c825.jpg', '1a7fb2ab751fffac.jpg', '4db90f0bc1f4867e.jpg', '0dc8e08b8c0ee3dd.jpg', '0118064eedc2b2c1.jpg', '2b87c3313f02f803.jpg', 'DOR_S3_20.JPG', '04dcf9e9b7261c3f.jpg', '144b80887ff18655.jpg', '3afcfc94506a6988.jpg', 'd001a876a571ddd6.jpg', '0eb8c615983f8fde.jpg', '0df58ceea75be1cd.jpg', '0563094655976f5c.jpg', 'copper-kitchen-handles-modern-copper-t-pull-handle-drawer-pull-cabinet-hardware-kitchen-cupboard-pulls-cabinet-pull-drawer-handles-knobs-and-pulls-polished-copper-cabinet-handles.jpg', '9b32759af54ad538.jpg', '1b3602269fd10c06.jpg', 'images3.jpeg', '863.png', 'DOR_S1_106.jpg', '0f5294974667221a.jpg', '0e4d682bd3970dc1.jpg', '368626da4509d4b5.jpg', '554982b1d8234ceb.jpg', '0b5e741092cfe9cd.jpg', 'copper-cabinet-hardware-cabinet-door-pulls-brilliant-copper-brushed-cup-pull-handle-knob-bow-in-copper-cabinet-knobs-and-drawer-pulls.jpg', '1b754ea4cbc56db0.jpg', '815fd80ed7a29f21.jpg', 'c777987787fa1284.jpg', '5156f5f4a732cb0b.jpg', '0c6ebfa015012398.jpg', '4073b33c880898a5.jpg', '1b457a5c061c8aa1.jpg', 'e3d2452b2d189b72.jpg', '02e77bf2f790fdbc.jpg', 'ee4168f2dedb6fff.jpg', 'images9.jpeg', '5.png', 'b0c42f6598088fc7.jpg', '0e8a4281ac3e1175.jpg', '0d5e7db77f1c27d8.jpg', '46cf10f214f46947.jpg', 'a7ceb5b7e7c73844.jpg', '50b5d26d980d6b1d.jpg', '78ada2fac6810af8.jpg', '0c2d6412fa30dbaa.jpg', '0dba02f50f63b974.jpg', '0c630c8c338d0542.jpg', '2ee9c57cae6b426a.jpg', '00c4503acd511444.jpg', 'c46bb611a0fc82cb.jpg', '2a241b26477c1799.jpg', '40da7d2ae3dfe2c1.jpg', 'babe8d221fea79cf.jpg', '86496f3f884592bd.jpg', '950697e0a8982df6.jpg', 'a33f34f341215025.jpg', '0ec5e8e7e7d80960.jpg', '1ea9b62381f01a24.jpg', '0c9c9892fcebeea9.jpg', '00dbfb71d81618ea.jpg', '0fb91bd32b39649d.jpg', 'a05b6f6dc45bc772.jpg', '0c1315e74b604511.jpg', '89edeb80dc309ab5.jpg', '850.png', '0d28c6469cdb9621.jpg', 'd3b4109c35d213ac.jpg', '2d40044c792c5d1e.jpg']\n",
            "Valid Labels: ['2192ea511cf0171b.txt', '00bb967bc89e040f.txt', '49758eda4f58306f.txt', '637a3adb34196e50.txt', '8b31b9fd2a48a90f.txt', 'ae052e44f8260bd0.txt', '24e3ee52ac1821a9.txt', '0c6ebfa015012398.txt', '05f98613a5f083d6.txt', '1bb7f93366ee6094.txt', '0cec029cb5070405.txt', '89878d47328f3ace.txt', '06553dad53cd2445.txt', '520ea55e36aa27c4.txt', '0dc8e08b8c0ee3dd.txt', 'b53ec1a97df329bd.txt', '87cf26211cfa78cc.txt', '748481fab813b3b02a691cf6e22fedf9--brass-hardware-the-copper.txt', '386.txt', 'a4df7917a458194a.txt', '0eb8c615983f8fde.txt', '950697e0a8982df6.txt', '0cb4a797c123d2cf.txt', '00c4503acd511444.txt', '368626da4509d4b5.txt', 'c4ef271815943292.txt', '0563094655976f5c.txt', 'ee4168f2dedb6fff.txt', '0118064eedc2b2c1.txt', '6bc2a5f340d507e6.txt', '02e77bf2f790fdbc.txt', 'e3d2452b2d189b72.txt', '000cf08de329f81b.txt', 'DOR_S3_26.txt', '97aaf76bd6fad8a9.txt', '54f549c1ef45078c.txt', '0ec5e8e7e7d80960.txt', '2607f946dc091571.txt', '00cb40d7ea24aa3b.txt', '815fd80ed7a29f21.txt', '0da7328a8d12180f.txt', '96b0ea1e6c7a666f.txt', 'aa1043c40d86c964.txt', '631.txt', '0e363618cb0f9bf8.txt', '0c1315e74b604511.txt', 'DOR_S1_106.txt', '0dee4c4650d50ef0.txt', 'b49a8bb3e354ddb0.txt', '89edeb80dc309ab5.txt', '0a5016e04759209d.txt', 'a434ac33602740dd.txt', '5a173d4aecf6ad4d.txt', '66abb939c8e0ada4.txt', 'images3.txt', 'aecc04cc09da6de4.txt', '07229952f81ce2b5.txt', 'copper-cabinet-hardware-cabinet-door-pulls-brilliant-copper-brushed-cup-pull-handle-knob-bow-in-copper-cabinet-knobs-and-drawer-pulls.txt', '144b80887ff18655.txt', 'd4762a12b3b5c825.txt', 'be1ae75c87fb45d1.txt', '46cf10f214f46947.txt', '91d9a393482702a4.txt', '0dba02f50f63b974.txt', '7bf4636ef0a35ad2.txt', 'b0c42f6598088fc7.txt', '5f2598a968b2dd97.txt', 'shop-cabinet-hardware-knobs.txt', '3be83abbcf05b421.txt', '0cf65d247223acb4.txt', '0c0a7b8b641aa601.txt', '86496f3f884592bd.txt', 'refrigerator-pulls-the-refrigerator-pull-is-part-of-the-suite-made-from-solid-brass-and-finished-in-black-modern-refrigerator-pulls.txt', '62f2c77938c834d4.txt', '2dc9dd0bc5e8cfe8.txt', '540d305a2d06c74b.txt', '6383961ebbfed4bd.txt', 'b6798d4660eb5072.txt', 'babe8d221fea79cf.txt', '1a7fb2ab751fffac.txt', '9891fb8e58773939.txt', '19135e910ad435c3.txt', '000d61ba9ffa87db.txt', '0d02acee5a7d169c.txt', '1ea9b62381f01a24.txt', '4073b33c880898a5.txt', '3afcfc94506a6988.txt', 'DOR_S1_125.txt', '52129dd4d69daa29.txt', 'a33f34f341215025.txt', '8981d04925449de2.txt', '2b87c3313f02f803.txt', '0bbea2cd35fe261d.txt', '5.txt', '0896f7f8ba671953.txt', '1bb158ab4884139f.txt', 'd001a876a571ddd6.txt', '850.txt', '0a4c6b68ca539d0e.txt', 'c691b5ce2c260489.txt', '1458ece265475557.txt', '188c2d68052cc7b7.txt', '0b5e741092cfe9cd.txt', '0d7a93809484c6e2.txt', 'f16defdfcc454f1c.txt', '9b32759af54ad538.txt', '9085bb6608cd6064.txt', '0e3bcb67142341af.txt', 'b59a0309fa90ab99.txt', '1b3602269fd10c06.txt', '0fb91bd32b39649d.txt', 'c4beca7e09144a81.txt', '81963c0efe7ebb99.txt', '71c9176bb69d5202.txt', 'a7ceb5b7e7c73844.txt', '1b9bcc4bda6a70d7.txt', 'DOR_S3_66.txt', '0523b641cddd9cbb.txt', '00dbfb71d81618ea.txt', '7938dcc23ea839f2.txt', 'images9.txt', '0a192c33bfe2430b.txt', '022594ed9ec74a86.txt', '0c9c9892fcebeea9.txt', '5a58c683cb34a227.txt', '959295031255ac39.txt', '5f9cbca55c53abfb.txt', '0f2f36bf06cc0514.txt', '87890bb19846608c.txt', '0e25d39652fdda48.txt', '00de93955694a159.txt', '1a3694db5d258218.txt', 'd5e54a97c7956ea4.txt', '665a1159-e3ab-4a7d-8770-e08337767339._SR970,300_.txt', '0c931a871a721815.txt', '6f50b202b7ae436c.txt', '44f8a4a4849b3248.txt', '4fd46f6ea4f0164c.txt', 'e6b8a2279c09a31b.txt', '00ce3c2f4657457f.txt', '6d261123912ce177.txt', '554982b1d8234ceb.txt', '50b5d26d980d6b1d.txt', 'copper-kitchen-handles-modern-copper-t-pull-handle-drawer-pull-cabinet-hardware-kitchen-cupboard-pulls-cabinet-pull-drawer-handles-knobs-and-pulls-polished-copper-cabinet-handles.txt', '2ee9c57cae6b426a.txt', '0c07f16af20bdc98.txt', '0d67358e7358ee00.txt', '02d35eb7ad2388f1.txt', '907f05d19c32cbd5.txt', 'DOR_S3_70.txt', '6683eb9b8babce79.txt', 'DOR_S1_114.txt', 'c401b6f834724d34.txt', 'f6ab97836c153c54.txt', 'a12ad8a06226a6dd.txt', 'daa62fa745f83a8e.txt', '395.txt', '0e36f05b301e8b6d.txt', '0e4d682bd3970dc1.txt', 'a05b6f6dc45bc772.txt', '421b4b574ae5c7b2.txt', '28c9da3777a4e41d.txt', '0accef11d18c2a1d.txt', '0fbbdc13b109f257.txt', 'c46bb611a0fc82cb.txt', '145fdf2ac97867d2.txt', '03dad3345ad61f8a.txt', '0bf8a1dc0827950f.txt', '1b457a5c061c8aa1.txt', 'd3b4109c35d213ac.txt', '0c4ba131f41e2176.txt', '40da7d2ae3dfe2c1.txt', '4bcd41a81ff6ed9c.txt', '20485139e526d5b4.txt', 'kitchen-draw-hardware-draw-pulls-for-cabinets-satin-nickel-drawer-cabinet-hardware-knobs-bin-kitchen-drawer-hardware-nz.txt', '0e8a4281ac3e1175.txt', '3ed972cc0cf49713.txt', 'e5de51284ebf6ef1.txt', 'cc34422d08879446.txt', '094280157e036eb0.txt', '2334af101eb10dce.txt', 'DOR_S3_20.txt', '5156f5f4a732cb0b.txt', '863.txt', '4db90f0bc1f4867e.txt', '41160be1337c198b.txt', 'b11dc1515c647e32.txt', 'c777987787fa1284.txt', '264de7f0e59e9728.txt', 'images14.txt', '38caae234dc51d86.txt', 'c509cf7a447a662c.txt', 'DOR_S3_67.txt', '0ca88a8d6927a8db.txt', 'oil-rubbed-bronze-cabinet-hardware-knobs-pulls-within-plan-5.txt', '0d221032a69a8d24.txt', '592adbb30fa8ae42.txt', '0d61ee61e82202fe.txt', 'cdd575088f05845a.txt', '92d37f69abfba9de.txt', '4267f2bfb8822d2c.txt', '7dcc6c19e51c0d46.txt', '2a241b26477c1799.txt', '0e3381d79d5b1ea1.txt', '6eed688c4f49444a.txt', '04dcf9e9b7261c3f.txt', '5a67af57f20fe7d6.txt', '0c630c8c338d0542.txt', '0c5f526599f52a41.txt', 'a1e578f266017acd.txt', '4244f089ccfaeebb.txt', '1594b7c29a320b0d.txt', '8c403c2bca23f224.txt', '0d28c6469cdb9621.txt', '0bc96786d389adbd.txt', '0f5294974667221a.txt', '989b261359f4f8fe.txt', '2eedacb1aea229c6.txt', '1b754ea4cbc56db0.txt', '30a9c21cc81e94e8.txt', 'gold-dresser-knobs-cloning-decors-trend-decorative-special-drawer-lively-0.txt', '3757c5e77faef926.txt', '0d5e7db77f1c27d8.txt', '0c2d6412fa30dbaa.txt', '66ab92a9c50cd36e.txt', '0df58ceea75be1cd.txt', 'DOR_S1_123.txt', '78ada2fac6810af8.txt', 'af652773266eaea9.txt', '2d40044c792c5d1e.txt']\n",
            "Test Images: ['954.png', '888.png', '1040.png', '1020.png', '1079.png', '923.png', '1251.png', '126.png', '1045.png', '1352.png', '1138.png', '1160.png', '124.png', '110.png', '127.png', '1116.png', '1112.png', '1145.png', '1207.png', '1300.png', '921.png', '1026.png', '1081.png', '908.png', '1029.png', '1119.png', '1104.png', '1333.png', '1217.png', '1133.png', '1256.png', '1139.png', '1245.png', '998.png', '1093.png', '1253.png', '1187.png', '1345.png', '1065.png', '1122.png', '1239.png', '1137.png', '1003.png', '1089.png', '12.png', '109.png', '1315.png', '1101.png', '1323.png', '1344.png', '1281.png', '1095.png', '133.png', '831.png', '1058.png', '925.png', '1287.png', '1111.png', '1048.png', '1167.png', '1032.png', '1014.png', '1055.png', '1295.png', '1186.png', '1357.png', '1021.png', '1015.png', '116.png', '1232.png', '1123.png', '1311.png', '1054.png', '1195.png', '1027.png', '1320.png', '1382.png', '1280.png', '1174.png', '1047.png', '1071.png', '1302.png', '1337.png', '1206.png', '1052.png', '1290.png', '1342.png', '1278.png', '1125.png', '1329.png', '1069.png', '1339.png', '1176.png', '1338.png', '1043.png', '1171.png', '1209.png', '1023.png', '1269.png', '1154.png', '1028.png', '999.png', '1113.png', '1310.png', '1158.png', '118.png', '1034.png']\n"
          ]
        }
      ]
    },
    {
      "cell_type": "code",
      "source": [
        "# Python code to modify data.yaml\n",
        "with open('/content/indoor-object-detection/data.yaml', 'w') as file:\n",
        "    file.write(\"\"\"train: /content/indoor-object-detection/train/images\n",
        "val: /content/indoor-object-detection/valid/images\n",
        "test: /content/indoor-object-detection/test/images\n",
        "nc: 10\n",
        "names:\n",
        "  - door\n",
        "  - cabinetDoor\n",
        "  - refrigeratorDoor\n",
        "  - window\n",
        "  - chair\n",
        "  - table\n",
        "  - cabinet\n",
        "  - couch\n",
        "  - openedDoor\n",
        "  - pole\n",
        "\"\"\")\n"
      ],
      "metadata": {
        "id": "o-YKF0_DpRgy"
      },
      "execution_count": 16,
      "outputs": []
    },
    {
      "cell_type": "code",
      "source": [
        "# Load the YOLO model\n",
        "model = YOLO(\"yolov8n.pt\")  # You can use a pre-trained model or specify another model variant (e.g., yolov8s.pt for a smaller model)\n",
        "\n",
        "# Train the model\n",
        "model.train(\n",
        "    data='/content/indoor-object-detection/data.yaml',  # Path to the dataset YAML file\n",
        "    epochs=70,  # Number of training epochs (you can adjust)\n",
        "    imgsz=640,  # Image size\n",
        "    batch=8,  # Batch size (adjust based on your GPU)\n",
        "    workers=4,  # Number of workers for data loading\n",
        "    lr0=0.001,  # Learning rate for the initial stage\n",
        "    lrf=0.01,  # Learning rate final stage for warm-up and decay\n",
        ")\n"
      ],
      "metadata": {
        "collapsed": true,
        "id": "B4kprNYLn603",
        "colab": {
          "base_uri": "https://localhost:8080/"
        },
        "outputId": "f2a281f9-1cba-44a3-ed7f-43796d046e99"
      },
      "execution_count": 18,
      "outputs": [
        {
          "output_type": "stream",
          "name": "stdout",
          "text": [
            "Ultralytics 8.3.80 🚀 Python-3.11.11 torch-2.5.1+cu124 CUDA:0 (Tesla T4, 15095MiB)\n",
            "\u001b[34m\u001b[1mengine/trainer: \u001b[0mtask=detect, mode=train, model=yolov8n.pt, data=/content/indoor-object-detection/data.yaml, epochs=70, time=None, patience=100, batch=8, imgsz=640, save=True, save_period=-1, cache=False, device=None, workers=4, project=None, name=train, exist_ok=False, pretrained=True, optimizer=auto, verbose=True, seed=0, deterministic=True, single_cls=False, rect=False, cos_lr=False, close_mosaic=10, resume=False, amp=True, fraction=1.0, profile=False, freeze=None, multi_scale=False, overlap_mask=True, mask_ratio=4, dropout=0.0, val=True, split=val, save_json=False, save_hybrid=False, conf=None, iou=0.7, max_det=300, half=False, dnn=False, plots=True, source=None, vid_stride=1, stream_buffer=False, visualize=False, augment=False, agnostic_nms=False, classes=None, retina_masks=False, embed=None, show=False, save_frames=False, save_txt=False, save_conf=False, save_crop=False, show_labels=True, show_conf=True, show_boxes=True, line_width=None, format=torchscript, keras=False, optimize=False, int8=False, dynamic=False, simplify=True, opset=None, workspace=None, nms=False, lr0=0.001, lrf=0.01, momentum=0.937, weight_decay=0.0005, warmup_epochs=3.0, warmup_momentum=0.8, warmup_bias_lr=0.1, box=7.5, cls=0.5, dfl=1.5, pose=12.0, kobj=1.0, nbs=64, hsv_h=0.015, hsv_s=0.7, hsv_v=0.4, degrees=0.0, translate=0.1, scale=0.5, shear=0.0, perspective=0.0, flipud=0.0, fliplr=0.5, bgr=0.0, mosaic=1.0, mixup=0.0, copy_paste=0.0, copy_paste_mode=flip, auto_augment=randaugment, erasing=0.4, crop_fraction=1.0, cfg=None, tracker=botsort.yaml, save_dir=runs/detect/train\n",
            "Downloading https://ultralytics.com/assets/Arial.ttf to '/root/.config/Ultralytics/Arial.ttf'...\n"
          ]
        },
        {
          "output_type": "stream",
          "name": "stderr",
          "text": [
            "100%|██████████| 755k/755k [00:00<00:00, 14.2MB/s]\n"
          ]
        },
        {
          "output_type": "stream",
          "name": "stdout",
          "text": [
            "Overriding model.yaml nc=80 with nc=10\n",
            "\n",
            "                   from  n    params  module                                       arguments                     \n",
            "  0                  -1  1       464  ultralytics.nn.modules.conv.Conv             [3, 16, 3, 2]                 \n",
            "  1                  -1  1      4672  ultralytics.nn.modules.conv.Conv             [16, 32, 3, 2]                \n",
            "  2                  -1  1      7360  ultralytics.nn.modules.block.C2f             [32, 32, 1, True]             \n",
            "  3                  -1  1     18560  ultralytics.nn.modules.conv.Conv             [32, 64, 3, 2]                \n",
            "  4                  -1  2     49664  ultralytics.nn.modules.block.C2f             [64, 64, 2, True]             \n",
            "  5                  -1  1     73984  ultralytics.nn.modules.conv.Conv             [64, 128, 3, 2]               \n",
            "  6                  -1  2    197632  ultralytics.nn.modules.block.C2f             [128, 128, 2, True]           \n",
            "  7                  -1  1    295424  ultralytics.nn.modules.conv.Conv             [128, 256, 3, 2]              \n",
            "  8                  -1  1    460288  ultralytics.nn.modules.block.C2f             [256, 256, 1, True]           \n",
            "  9                  -1  1    164608  ultralytics.nn.modules.block.SPPF            [256, 256, 5]                 \n",
            " 10                  -1  1         0  torch.nn.modules.upsampling.Upsample         [None, 2, 'nearest']          \n",
            " 11             [-1, 6]  1         0  ultralytics.nn.modules.conv.Concat           [1]                           \n",
            " 12                  -1  1    148224  ultralytics.nn.modules.block.C2f             [384, 128, 1]                 \n",
            " 13                  -1  1         0  torch.nn.modules.upsampling.Upsample         [None, 2, 'nearest']          \n",
            " 14             [-1, 4]  1         0  ultralytics.nn.modules.conv.Concat           [1]                           \n",
            " 15                  -1  1     37248  ultralytics.nn.modules.block.C2f             [192, 64, 1]                  \n",
            " 16                  -1  1     36992  ultralytics.nn.modules.conv.Conv             [64, 64, 3, 2]                \n",
            " 17            [-1, 12]  1         0  ultralytics.nn.modules.conv.Concat           [1]                           \n",
            " 18                  -1  1    123648  ultralytics.nn.modules.block.C2f             [192, 128, 1]                 \n",
            " 19                  -1  1    147712  ultralytics.nn.modules.conv.Conv             [128, 128, 3, 2]              \n",
            " 20             [-1, 9]  1         0  ultralytics.nn.modules.conv.Concat           [1]                           \n",
            " 21                  -1  1    493056  ultralytics.nn.modules.block.C2f             [384, 256, 1]                 \n",
            " 22        [15, 18, 21]  1    753262  ultralytics.nn.modules.head.Detect           [10, [64, 128, 256]]          \n",
            "Model summary: 129 layers, 3,012,798 parameters, 3,012,782 gradients, 8.2 GFLOPs\n",
            "\n",
            "Transferred 319/355 items from pretrained weights\n",
            "\u001b[34m\u001b[1mTensorBoard: \u001b[0mStart with 'tensorboard --logdir runs/detect/train', view at http://localhost:6006/\n",
            "Freezing layer 'model.22.dfl.conv.weight'\n",
            "\u001b[34m\u001b[1mAMP: \u001b[0mrunning Automatic Mixed Precision (AMP) checks...\n",
            "Downloading https://github.com/ultralytics/assets/releases/download/v8.3.0/yolo11n.pt to 'yolo11n.pt'...\n"
          ]
        },
        {
          "output_type": "stream",
          "name": "stderr",
          "text": [
            "100%|██████████| 5.35M/5.35M [00:00<00:00, 67.3MB/s]\n"
          ]
        },
        {
          "output_type": "stream",
          "name": "stdout",
          "text": [
            "\u001b[34m\u001b[1mAMP: \u001b[0mchecks passed ✅\n"
          ]
        },
        {
          "output_type": "stream",
          "name": "stderr",
          "text": [
            "\u001b[34m\u001b[1mtrain: \u001b[0mScanning /content/indoor-object-detection/train/labels... 1008 images, 120 backgrounds, 0 corrupt: 100%|██████████| 1012/1012 [00:00<00:00, 1922.09it/s]"
          ]
        },
        {
          "output_type": "stream",
          "name": "stdout",
          "text": [
            "\u001b[34m\u001b[1mtrain: \u001b[0mNew cache created: /content/indoor-object-detection/train/labels.cache\n"
          ]
        },
        {
          "output_type": "stream",
          "name": "stderr",
          "text": [
            "\n"
          ]
        },
        {
          "output_type": "stream",
          "name": "stdout",
          "text": [
            "\u001b[34m\u001b[1malbumentations: \u001b[0mBlur(p=0.01, blur_limit=(3, 7)), MedianBlur(p=0.01, blur_limit=(3, 7)), ToGray(p=0.01, num_output_channels=3, method='weighted_average'), CLAHE(p=0.01, clip_limit=(1.0, 4.0), tile_grid_size=(8, 8))\n"
          ]
        },
        {
          "output_type": "stream",
          "name": "stderr",
          "text": [
            "\u001b[34m\u001b[1mval: \u001b[0mScanning /content/indoor-object-detection/valid/labels... 230 images, 31 backgrounds, 0 corrupt: 100%|██████████| 230/230 [00:00<00:00, 1194.27it/s]\n"
          ]
        },
        {
          "output_type": "stream",
          "name": "stdout",
          "text": [
            "\u001b[34m\u001b[1mval: \u001b[0mNew cache created: /content/indoor-object-detection/valid/labels.cache\n",
            "Plotting labels to runs/detect/train/labels.jpg... \n",
            "\u001b[34m\u001b[1moptimizer:\u001b[0m 'optimizer=auto' found, ignoring 'lr0=0.001' and 'momentum=0.937' and determining best 'optimizer', 'lr0' and 'momentum' automatically... \n",
            "\u001b[34m\u001b[1moptimizer:\u001b[0m AdamW(lr=0.000714, momentum=0.9) with parameter groups 57 weight(decay=0.0), 64 weight(decay=0.0005), 63 bias(decay=0.0)\n",
            "\u001b[34m\u001b[1mTensorBoard: \u001b[0mmodel graph visualization added ✅\n",
            "Image sizes 640 train, 640 val\n",
            "Using 2 dataloader workers\n",
            "Logging results to \u001b[1mruns/detect/train\u001b[0m\n",
            "Starting training for 70 epochs...\n",
            "\n",
            "      Epoch    GPU_mem   box_loss   cls_loss   dfl_loss  Instances       Size\n"
          ]
        },
        {
          "output_type": "stream",
          "name": "stderr",
          "text": [
            "       1/70      1.23G      1.717       3.63       1.56         24        640: 100%|██████████| 127/127 [00:29<00:00,  4.33it/s]\n",
            "                 Class     Images  Instances      Box(P          R      mAP50  mAP50-95): 100%|██████████| 15/15 [00:04<00:00,  3.12it/s]\n"
          ]
        },
        {
          "output_type": "stream",
          "name": "stdout",
          "text": [
            "                   all        230       1289      0.451      0.184      0.118     0.0649\n",
            "\n",
            "      Epoch    GPU_mem   box_loss   cls_loss   dfl_loss  Instances       Size\n"
          ]
        },
        {
          "output_type": "stream",
          "name": "stderr",
          "text": [
            "       2/70      1.39G      1.601      2.665       1.47         96        640: 100%|██████████| 127/127 [00:26<00:00,  4.82it/s]\n",
            "                 Class     Images  Instances      Box(P          R      mAP50  mAP50-95): 100%|██████████| 15/15 [00:02<00:00,  5.41it/s]\n"
          ]
        },
        {
          "output_type": "stream",
          "name": "stdout",
          "text": [
            "                   all        230       1289      0.491      0.235       0.16     0.0846\n",
            "\n",
            "      Epoch    GPU_mem   box_loss   cls_loss   dfl_loss  Instances       Size\n"
          ]
        },
        {
          "output_type": "stream",
          "name": "stderr",
          "text": [
            "       3/70      1.22G      1.619      2.505       1.48         26        640: 100%|██████████| 127/127 [00:25<00:00,  4.89it/s]\n",
            "                 Class     Images  Instances      Box(P          R      mAP50  mAP50-95): 100%|██████████| 15/15 [00:03<00:00,  3.83it/s]"
          ]
        },
        {
          "output_type": "stream",
          "name": "stdout",
          "text": [
            "                   all        230       1289      0.538      0.218      0.189      0.103\n"
          ]
        },
        {
          "output_type": "stream",
          "name": "stderr",
          "text": [
            "\n"
          ]
        },
        {
          "output_type": "stream",
          "name": "stdout",
          "text": [
            "\n",
            "      Epoch    GPU_mem   box_loss   cls_loss   dfl_loss  Instances       Size\n"
          ]
        },
        {
          "output_type": "stream",
          "name": "stderr",
          "text": [
            "       4/70      1.27G      1.613      2.406      1.472         57        640: 100%|██████████| 127/127 [00:26<00:00,  4.88it/s]\n",
            "                 Class     Images  Instances      Box(P          R      mAP50  mAP50-95): 100%|██████████| 15/15 [00:02<00:00,  5.36it/s]\n"
          ]
        },
        {
          "output_type": "stream",
          "name": "stdout",
          "text": [
            "                   all        230       1289      0.523      0.245      0.193      0.106\n",
            "\n",
            "      Epoch    GPU_mem   box_loss   cls_loss   dfl_loss  Instances       Size\n"
          ]
        },
        {
          "output_type": "stream",
          "name": "stderr",
          "text": [
            "       5/70      1.33G      1.521      2.232      1.409         26        640: 100%|██████████| 127/127 [00:26<00:00,  4.86it/s]\n",
            "                 Class     Images  Instances      Box(P          R      mAP50  mAP50-95): 100%|██████████| 15/15 [00:02<00:00,  5.12it/s]\n"
          ]
        },
        {
          "output_type": "stream",
          "name": "stdout",
          "text": [
            "                   all        230       1289      0.596      0.238      0.241      0.142\n",
            "\n",
            "      Epoch    GPU_mem   box_loss   cls_loss   dfl_loss  Instances       Size\n"
          ]
        },
        {
          "output_type": "stream",
          "name": "stderr",
          "text": [
            "       6/70      1.28G      1.535      2.213      1.419         30        640: 100%|██████████| 127/127 [00:25<00:00,  4.91it/s]\n",
            "                 Class     Images  Instances      Box(P          R      mAP50  mAP50-95): 100%|██████████| 15/15 [00:03<00:00,  4.13it/s]"
          ]
        },
        {
          "output_type": "stream",
          "name": "stdout",
          "text": [
            "                   all        230       1289      0.437      0.314      0.269      0.156\n"
          ]
        },
        {
          "output_type": "stream",
          "name": "stderr",
          "text": [
            "\n"
          ]
        },
        {
          "output_type": "stream",
          "name": "stdout",
          "text": [
            "\n",
            "      Epoch    GPU_mem   box_loss   cls_loss   dfl_loss  Instances       Size\n"
          ]
        },
        {
          "output_type": "stream",
          "name": "stderr",
          "text": [
            "       7/70      1.24G      1.513      2.173      1.403         50        640: 100%|██████████| 127/127 [00:25<00:00,  4.89it/s]\n",
            "                 Class     Images  Instances      Box(P          R      mAP50  mAP50-95): 100%|██████████| 15/15 [00:02<00:00,  5.13it/s]"
          ]
        },
        {
          "output_type": "stream",
          "name": "stdout",
          "text": [
            "                   all        230       1289      0.591      0.276      0.265      0.151\n"
          ]
        },
        {
          "output_type": "stream",
          "name": "stderr",
          "text": [
            "\n"
          ]
        },
        {
          "output_type": "stream",
          "name": "stdout",
          "text": [
            "\n",
            "      Epoch    GPU_mem   box_loss   cls_loss   dfl_loss  Instances       Size\n"
          ]
        },
        {
          "output_type": "stream",
          "name": "stderr",
          "text": [
            "       8/70      1.22G      1.498      2.065      1.387         52        640: 100%|██████████| 127/127 [00:25<00:00,  4.96it/s]\n",
            "                 Class     Images  Instances      Box(P          R      mAP50  mAP50-95): 100%|██████████| 15/15 [00:02<00:00,  5.74it/s]\n"
          ]
        },
        {
          "output_type": "stream",
          "name": "stdout",
          "text": [
            "                   all        230       1289       0.64       0.27      0.275      0.154\n",
            "\n",
            "      Epoch    GPU_mem   box_loss   cls_loss   dfl_loss  Instances       Size\n"
          ]
        },
        {
          "output_type": "stream",
          "name": "stderr",
          "text": [
            "       9/70      1.28G      1.503      2.034      1.393         17        640: 100%|██████████| 127/127 [00:25<00:00,  4.95it/s]\n",
            "                 Class     Images  Instances      Box(P          R      mAP50  mAP50-95): 100%|██████████| 15/15 [00:03<00:00,  4.01it/s]\n"
          ]
        },
        {
          "output_type": "stream",
          "name": "stdout",
          "text": [
            "                   all        230       1289      0.595      0.279      0.264      0.147\n",
            "\n",
            "      Epoch    GPU_mem   box_loss   cls_loss   dfl_loss  Instances       Size\n"
          ]
        },
        {
          "output_type": "stream",
          "name": "stderr",
          "text": [
            "      10/70      1.27G      1.473      1.951      1.374         44        640: 100%|██████████| 127/127 [00:25<00:00,  4.94it/s]\n",
            "                 Class     Images  Instances      Box(P          R      mAP50  mAP50-95): 100%|██████████| 15/15 [00:02<00:00,  5.40it/s]"
          ]
        },
        {
          "output_type": "stream",
          "name": "stdout",
          "text": [
            "                   all        230       1289      0.508      0.284      0.281      0.157\n"
          ]
        },
        {
          "output_type": "stream",
          "name": "stderr",
          "text": [
            "\n"
          ]
        },
        {
          "output_type": "stream",
          "name": "stdout",
          "text": [
            "\n",
            "      Epoch    GPU_mem   box_loss   cls_loss   dfl_loss  Instances       Size\n"
          ]
        },
        {
          "output_type": "stream",
          "name": "stderr",
          "text": [
            "      11/70      1.26G      1.482      1.976      1.368         23        640: 100%|██████████| 127/127 [00:26<00:00,  4.85it/s]\n",
            "                 Class     Images  Instances      Box(P          R      mAP50  mAP50-95): 100%|██████████| 15/15 [00:02<00:00,  5.21it/s]\n"
          ]
        },
        {
          "output_type": "stream",
          "name": "stdout",
          "text": [
            "                   all        230       1289      0.565       0.33       0.28      0.161\n",
            "\n",
            "      Epoch    GPU_mem   box_loss   cls_loss   dfl_loss  Instances       Size\n"
          ]
        },
        {
          "output_type": "stream",
          "name": "stderr",
          "text": [
            "      12/70      1.25G      1.467      1.921      1.361         28        640: 100%|██████████| 127/127 [00:25<00:00,  4.90it/s]\n",
            "                 Class     Images  Instances      Box(P          R      mAP50  mAP50-95): 100%|██████████| 15/15 [00:03<00:00,  4.27it/s]"
          ]
        },
        {
          "output_type": "stream",
          "name": "stdout",
          "text": [
            "                   all        230       1289      0.665      0.287      0.309      0.165\n"
          ]
        },
        {
          "output_type": "stream",
          "name": "stderr",
          "text": [
            "\n"
          ]
        },
        {
          "output_type": "stream",
          "name": "stdout",
          "text": [
            "\n",
            "      Epoch    GPU_mem   box_loss   cls_loss   dfl_loss  Instances       Size\n"
          ]
        },
        {
          "output_type": "stream",
          "name": "stderr",
          "text": [
            "      13/70      1.25G      1.462      1.867      1.356         42        640: 100%|██████████| 127/127 [00:25<00:00,  4.92it/s]\n",
            "                 Class     Images  Instances      Box(P          R      mAP50  mAP50-95): 100%|██████████| 15/15 [00:02<00:00,  5.27it/s]"
          ]
        },
        {
          "output_type": "stream",
          "name": "stdout",
          "text": [
            "                   all        230       1289      0.569      0.289      0.299      0.168\n"
          ]
        },
        {
          "output_type": "stream",
          "name": "stderr",
          "text": [
            "\n"
          ]
        },
        {
          "output_type": "stream",
          "name": "stdout",
          "text": [
            "\n",
            "      Epoch    GPU_mem   box_loss   cls_loss   dfl_loss  Instances       Size\n"
          ]
        },
        {
          "output_type": "stream",
          "name": "stderr",
          "text": [
            "      14/70      1.16G      1.444       1.83      1.351         35        640: 100%|██████████| 127/127 [00:26<00:00,  4.85it/s]\n",
            "                 Class     Images  Instances      Box(P          R      mAP50  mAP50-95): 100%|██████████| 15/15 [00:02<00:00,  5.27it/s]\n"
          ]
        },
        {
          "output_type": "stream",
          "name": "stdout",
          "text": [
            "                   all        230       1289      0.651      0.282      0.295       0.17\n",
            "\n",
            "      Epoch    GPU_mem   box_loss   cls_loss   dfl_loss  Instances       Size\n"
          ]
        },
        {
          "output_type": "stream",
          "name": "stderr",
          "text": [
            "      15/70      1.21G      1.426      1.826      1.345         46        640: 100%|██████████| 127/127 [00:25<00:00,  4.93it/s]\n",
            "                 Class     Images  Instances      Box(P          R      mAP50  mAP50-95): 100%|██████████| 15/15 [00:03<00:00,  4.56it/s]\n"
          ]
        },
        {
          "output_type": "stream",
          "name": "stdout",
          "text": [
            "                   all        230       1289      0.558      0.341      0.306      0.176\n",
            "\n",
            "      Epoch    GPU_mem   box_loss   cls_loss   dfl_loss  Instances       Size\n"
          ]
        },
        {
          "output_type": "stream",
          "name": "stderr",
          "text": [
            "      16/70      1.21G      1.441      1.762      1.335         42        640: 100%|██████████| 127/127 [00:26<00:00,  4.88it/s]\n",
            "                 Class     Images  Instances      Box(P          R      mAP50  mAP50-95): 100%|██████████| 15/15 [00:02<00:00,  5.41it/s]\n"
          ]
        },
        {
          "output_type": "stream",
          "name": "stdout",
          "text": [
            "                   all        230       1289      0.394      0.334      0.314      0.184\n",
            "\n",
            "      Epoch    GPU_mem   box_loss   cls_loss   dfl_loss  Instances       Size\n"
          ]
        },
        {
          "output_type": "stream",
          "name": "stderr",
          "text": [
            "      17/70      1.27G      1.426      1.753      1.338         25        640: 100%|██████████| 127/127 [00:25<00:00,  4.92it/s]\n",
            "                 Class     Images  Instances      Box(P          R      mAP50  mAP50-95): 100%|██████████| 15/15 [00:02<00:00,  5.40it/s]\n"
          ]
        },
        {
          "output_type": "stream",
          "name": "stdout",
          "text": [
            "                   all        230       1289      0.632      0.333      0.315      0.184\n",
            "\n",
            "      Epoch    GPU_mem   box_loss   cls_loss   dfl_loss  Instances       Size\n"
          ]
        },
        {
          "output_type": "stream",
          "name": "stderr",
          "text": [
            "      18/70      1.35G      1.401      1.689      1.318         34        640: 100%|██████████| 127/127 [00:25<00:00,  4.96it/s]\n",
            "                 Class     Images  Instances      Box(P          R      mAP50  mAP50-95): 100%|██████████| 15/15 [00:03<00:00,  4.59it/s]"
          ]
        },
        {
          "output_type": "stream",
          "name": "stdout",
          "text": [
            "                   all        230       1289      0.713      0.293      0.332      0.194\n"
          ]
        },
        {
          "output_type": "stream",
          "name": "stderr",
          "text": [
            "\n"
          ]
        },
        {
          "output_type": "stream",
          "name": "stdout",
          "text": [
            "\n",
            "      Epoch    GPU_mem   box_loss   cls_loss   dfl_loss  Instances       Size\n"
          ]
        },
        {
          "output_type": "stream",
          "name": "stderr",
          "text": [
            "      19/70      1.21G      1.416      1.719      1.325          4        640: 100%|██████████| 127/127 [00:25<00:00,  4.90it/s]\n",
            "                 Class     Images  Instances      Box(P          R      mAP50  mAP50-95): 100%|██████████| 15/15 [00:02<00:00,  5.97it/s]"
          ]
        },
        {
          "output_type": "stream",
          "name": "stdout",
          "text": [
            "                   all        230       1289      0.674      0.312      0.359      0.198\n"
          ]
        },
        {
          "output_type": "stream",
          "name": "stderr",
          "text": [
            "\n"
          ]
        },
        {
          "output_type": "stream",
          "name": "stdout",
          "text": [
            "\n",
            "      Epoch    GPU_mem   box_loss   cls_loss   dfl_loss  Instances       Size\n"
          ]
        },
        {
          "output_type": "stream",
          "name": "stderr",
          "text": [
            "      20/70      1.19G      1.399      1.656      1.308         24        640: 100%|██████████| 127/127 [00:25<00:00,  4.89it/s]\n",
            "                 Class     Images  Instances      Box(P          R      mAP50  mAP50-95): 100%|██████████| 15/15 [00:02<00:00,  5.47it/s]\n"
          ]
        },
        {
          "output_type": "stream",
          "name": "stdout",
          "text": [
            "                   all        230       1289      0.416      0.358      0.357      0.204\n",
            "\n",
            "      Epoch    GPU_mem   box_loss   cls_loss   dfl_loss  Instances       Size\n"
          ]
        },
        {
          "output_type": "stream",
          "name": "stderr",
          "text": [
            "      21/70      1.17G      1.391       1.67       1.31         53        640: 100%|██████████| 127/127 [00:25<00:00,  4.91it/s]\n",
            "                 Class     Images  Instances      Box(P          R      mAP50  mAP50-95): 100%|██████████| 15/15 [00:03<00:00,  4.37it/s]\n"
          ]
        },
        {
          "output_type": "stream",
          "name": "stdout",
          "text": [
            "                   all        230       1289      0.593       0.35      0.367      0.212\n",
            "\n",
            "      Epoch    GPU_mem   box_loss   cls_loss   dfl_loss  Instances       Size\n"
          ]
        },
        {
          "output_type": "stream",
          "name": "stderr",
          "text": [
            "      22/70      1.35G      1.395      1.618      1.305         36        640: 100%|██████████| 127/127 [00:25<00:00,  4.96it/s]\n",
            "                 Class     Images  Instances      Box(P          R      mAP50  mAP50-95): 100%|██████████| 15/15 [00:02<00:00,  5.39it/s]"
          ]
        },
        {
          "output_type": "stream",
          "name": "stdout",
          "text": [
            "                   all        230       1289      0.543      0.331      0.346      0.192\n"
          ]
        },
        {
          "output_type": "stream",
          "name": "stderr",
          "text": [
            "\n"
          ]
        },
        {
          "output_type": "stream",
          "name": "stdout",
          "text": [
            "\n",
            "      Epoch    GPU_mem   box_loss   cls_loss   dfl_loss  Instances       Size\n"
          ]
        },
        {
          "output_type": "stream",
          "name": "stderr",
          "text": [
            "      23/70      1.21G      1.368      1.619      1.294         25        640: 100%|██████████| 127/127 [00:26<00:00,  4.88it/s]\n",
            "                 Class     Images  Instances      Box(P          R      mAP50  mAP50-95): 100%|██████████| 15/15 [00:02<00:00,  5.58it/s]"
          ]
        },
        {
          "output_type": "stream",
          "name": "stdout",
          "text": [
            "                   all        230       1289      0.541      0.336      0.354      0.213\n"
          ]
        },
        {
          "output_type": "stream",
          "name": "stderr",
          "text": [
            "\n"
          ]
        },
        {
          "output_type": "stream",
          "name": "stdout",
          "text": [
            "\n",
            "      Epoch    GPU_mem   box_loss   cls_loss   dfl_loss  Instances       Size\n"
          ]
        },
        {
          "output_type": "stream",
          "name": "stderr",
          "text": [
            "      24/70      1.17G      1.388      1.608      1.304         64        640: 100%|██████████| 127/127 [00:25<00:00,  4.96it/s]\n",
            "                 Class     Images  Instances      Box(P          R      mAP50  mAP50-95): 100%|██████████| 15/15 [00:03<00:00,  4.13it/s]"
          ]
        },
        {
          "output_type": "stream",
          "name": "stdout",
          "text": [
            "                   all        230       1289      0.493      0.296      0.351      0.207\n"
          ]
        },
        {
          "output_type": "stream",
          "name": "stderr",
          "text": [
            "\n"
          ]
        },
        {
          "output_type": "stream",
          "name": "stdout",
          "text": [
            "\n",
            "      Epoch    GPU_mem   box_loss   cls_loss   dfl_loss  Instances       Size\n"
          ]
        },
        {
          "output_type": "stream",
          "name": "stderr",
          "text": [
            "      25/70      1.29G      1.369      1.566      1.285         13        640: 100%|██████████| 127/127 [00:25<00:00,  4.93it/s]\n",
            "                 Class     Images  Instances      Box(P          R      mAP50  mAP50-95): 100%|██████████| 15/15 [00:02<00:00,  5.92it/s]"
          ]
        },
        {
          "output_type": "stream",
          "name": "stdout",
          "text": [
            "                   all        230       1289      0.648      0.331      0.368      0.213\n"
          ]
        },
        {
          "output_type": "stream",
          "name": "stderr",
          "text": [
            "\n"
          ]
        },
        {
          "output_type": "stream",
          "name": "stdout",
          "text": [
            "\n",
            "      Epoch    GPU_mem   box_loss   cls_loss   dfl_loss  Instances       Size\n"
          ]
        },
        {
          "output_type": "stream",
          "name": "stderr",
          "text": [
            "      26/70      1.29G      1.363      1.532      1.281         33        640: 100%|██████████| 127/127 [00:25<00:00,  4.91it/s]\n",
            "                 Class     Images  Instances      Box(P          R      mAP50  mAP50-95): 100%|██████████| 15/15 [00:02<00:00,  5.64it/s]\n"
          ]
        },
        {
          "output_type": "stream",
          "name": "stdout",
          "text": [
            "                   all        230       1289      0.476       0.35      0.371      0.218\n",
            "\n",
            "      Epoch    GPU_mem   box_loss   cls_loss   dfl_loss  Instances       Size\n"
          ]
        },
        {
          "output_type": "stream",
          "name": "stderr",
          "text": [
            "      27/70      1.27G      1.369      1.538      1.278         14        640: 100%|██████████| 127/127 [00:26<00:00,  4.88it/s]\n",
            "                 Class     Images  Instances      Box(P          R      mAP50  mAP50-95): 100%|██████████| 15/15 [00:03<00:00,  4.13it/s]"
          ]
        },
        {
          "output_type": "stream",
          "name": "stdout",
          "text": [
            "                   all        230       1289      0.577      0.325      0.353      0.208\n"
          ]
        },
        {
          "output_type": "stream",
          "name": "stderr",
          "text": [
            "\n"
          ]
        },
        {
          "output_type": "stream",
          "name": "stdout",
          "text": [
            "\n",
            "      Epoch    GPU_mem   box_loss   cls_loss   dfl_loss  Instances       Size\n"
          ]
        },
        {
          "output_type": "stream",
          "name": "stderr",
          "text": [
            "      28/70      1.23G      1.338      1.477      1.266         13        640: 100%|██████████| 127/127 [00:25<00:00,  4.91it/s]\n",
            "                 Class     Images  Instances      Box(P          R      mAP50  mAP50-95): 100%|██████████| 15/15 [00:02<00:00,  5.65it/s]"
          ]
        },
        {
          "output_type": "stream",
          "name": "stdout",
          "text": [
            "                   all        230       1289      0.459      0.378      0.372      0.221\n"
          ]
        },
        {
          "output_type": "stream",
          "name": "stderr",
          "text": [
            "\n"
          ]
        },
        {
          "output_type": "stream",
          "name": "stdout",
          "text": [
            "\n",
            "      Epoch    GPU_mem   box_loss   cls_loss   dfl_loss  Instances       Size\n"
          ]
        },
        {
          "output_type": "stream",
          "name": "stderr",
          "text": [
            "      29/70      1.16G      1.353      1.486      1.283         22        640: 100%|██████████| 127/127 [00:25<00:00,  4.91it/s]\n",
            "                 Class     Images  Instances      Box(P          R      mAP50  mAP50-95): 100%|██████████| 15/15 [00:02<00:00,  5.90it/s]"
          ]
        },
        {
          "output_type": "stream",
          "name": "stdout",
          "text": [
            "                   all        230       1289       0.45      0.346      0.356      0.202\n"
          ]
        },
        {
          "output_type": "stream",
          "name": "stderr",
          "text": [
            "\n"
          ]
        },
        {
          "output_type": "stream",
          "name": "stdout",
          "text": [
            "\n",
            "      Epoch    GPU_mem   box_loss   cls_loss   dfl_loss  Instances       Size\n"
          ]
        },
        {
          "output_type": "stream",
          "name": "stderr",
          "text": [
            "      30/70      1.22G      1.347        1.5       1.28         32        640: 100%|██████████| 127/127 [00:25<00:00,  4.94it/s]\n",
            "                 Class     Images  Instances      Box(P          R      mAP50  mAP50-95): 100%|██████████| 15/15 [00:03<00:00,  3.92it/s]"
          ]
        },
        {
          "output_type": "stream",
          "name": "stdout",
          "text": [
            "                   all        230       1289      0.629      0.309      0.382      0.222\n"
          ]
        },
        {
          "output_type": "stream",
          "name": "stderr",
          "text": [
            "\n"
          ]
        },
        {
          "output_type": "stream",
          "name": "stdout",
          "text": [
            "\n",
            "      Epoch    GPU_mem   box_loss   cls_loss   dfl_loss  Instances       Size\n"
          ]
        },
        {
          "output_type": "stream",
          "name": "stderr",
          "text": [
            "      31/70      1.24G      1.348      1.484      1.268         42        640: 100%|██████████| 127/127 [00:26<00:00,  4.87it/s]\n",
            "                 Class     Images  Instances      Box(P          R      mAP50  mAP50-95): 100%|██████████| 15/15 [00:02<00:00,  5.56it/s]"
          ]
        },
        {
          "output_type": "stream",
          "name": "stdout",
          "text": [
            "                   all        230       1289      0.584      0.335        0.4      0.245\n"
          ]
        },
        {
          "output_type": "stream",
          "name": "stderr",
          "text": [
            "\n"
          ]
        },
        {
          "output_type": "stream",
          "name": "stdout",
          "text": [
            "\n",
            "      Epoch    GPU_mem   box_loss   cls_loss   dfl_loss  Instances       Size\n"
          ]
        },
        {
          "output_type": "stream",
          "name": "stderr",
          "text": [
            "      32/70      1.22G       1.31      1.399      1.244         37        640: 100%|██████████| 127/127 [00:26<00:00,  4.88it/s]\n",
            "                 Class     Images  Instances      Box(P          R      mAP50  mAP50-95): 100%|██████████| 15/15 [00:02<00:00,  5.50it/s]"
          ]
        },
        {
          "output_type": "stream",
          "name": "stdout",
          "text": [
            "                   all        230       1289      0.577      0.401      0.482      0.294\n"
          ]
        },
        {
          "output_type": "stream",
          "name": "stderr",
          "text": [
            "\n"
          ]
        },
        {
          "output_type": "stream",
          "name": "stdout",
          "text": [
            "\n",
            "      Epoch    GPU_mem   box_loss   cls_loss   dfl_loss  Instances       Size\n"
          ]
        },
        {
          "output_type": "stream",
          "name": "stderr",
          "text": [
            "      33/70      1.23G      1.321      1.402      1.249         62        640: 100%|██████████| 127/127 [00:26<00:00,  4.85it/s]\n",
            "                 Class     Images  Instances      Box(P          R      mAP50  mAP50-95): 100%|██████████| 15/15 [00:03<00:00,  4.05it/s]\n"
          ]
        },
        {
          "output_type": "stream",
          "name": "stdout",
          "text": [
            "                   all        230       1289      0.585      0.372      0.374      0.217\n",
            "\n",
            "      Epoch    GPU_mem   box_loss   cls_loss   dfl_loss  Instances       Size\n"
          ]
        },
        {
          "output_type": "stream",
          "name": "stderr",
          "text": [
            "      34/70      1.27G      1.331      1.397      1.255         71        640: 100%|██████████| 127/127 [00:26<00:00,  4.87it/s]\n",
            "                 Class     Images  Instances      Box(P          R      mAP50  mAP50-95): 100%|██████████| 15/15 [00:02<00:00,  5.71it/s]"
          ]
        },
        {
          "output_type": "stream",
          "name": "stdout",
          "text": [
            "                   all        230       1289      0.479        0.5      0.442      0.254\n"
          ]
        },
        {
          "output_type": "stream",
          "name": "stderr",
          "text": [
            "\n"
          ]
        },
        {
          "output_type": "stream",
          "name": "stdout",
          "text": [
            "\n",
            "      Epoch    GPU_mem   box_loss   cls_loss   dfl_loss  Instances       Size\n"
          ]
        },
        {
          "output_type": "stream",
          "name": "stderr",
          "text": [
            "      35/70      1.29G      1.295      1.367      1.239         34        640: 100%|██████████| 127/127 [00:26<00:00,  4.88it/s]\n",
            "                 Class     Images  Instances      Box(P          R      mAP50  mAP50-95): 100%|██████████| 15/15 [00:02<00:00,  5.61it/s]\n"
          ]
        },
        {
          "output_type": "stream",
          "name": "stdout",
          "text": [
            "                   all        230       1289      0.463      0.472      0.413      0.231\n",
            "\n",
            "      Epoch    GPU_mem   box_loss   cls_loss   dfl_loss  Instances       Size\n"
          ]
        },
        {
          "output_type": "stream",
          "name": "stderr",
          "text": [
            "      36/70      1.33G      1.311      1.375      1.242         52        640: 100%|██████████| 127/127 [00:25<00:00,  4.90it/s]\n",
            "                 Class     Images  Instances      Box(P          R      mAP50  mAP50-95): 100%|██████████| 15/15 [00:03<00:00,  3.92it/s]"
          ]
        },
        {
          "output_type": "stream",
          "name": "stdout",
          "text": [
            "                   all        230       1289      0.441      0.505      0.411      0.231\n"
          ]
        },
        {
          "output_type": "stream",
          "name": "stderr",
          "text": [
            "\n"
          ]
        },
        {
          "output_type": "stream",
          "name": "stdout",
          "text": [
            "\n",
            "      Epoch    GPU_mem   box_loss   cls_loss   dfl_loss  Instances       Size\n"
          ]
        },
        {
          "output_type": "stream",
          "name": "stderr",
          "text": [
            "      37/70       1.4G        1.3      1.365      1.242         50        640: 100%|██████████| 127/127 [00:25<00:00,  4.92it/s]\n",
            "                 Class     Images  Instances      Box(P          R      mAP50  mAP50-95): 100%|██████████| 15/15 [00:02<00:00,  5.53it/s]"
          ]
        },
        {
          "output_type": "stream",
          "name": "stdout",
          "text": [
            "                   all        230       1289      0.394      0.539      0.407      0.236\n"
          ]
        },
        {
          "output_type": "stream",
          "name": "stderr",
          "text": [
            "\n"
          ]
        },
        {
          "output_type": "stream",
          "name": "stdout",
          "text": [
            "\n",
            "      Epoch    GPU_mem   box_loss   cls_loss   dfl_loss  Instances       Size\n"
          ]
        },
        {
          "output_type": "stream",
          "name": "stderr",
          "text": [
            "      38/70      1.24G      1.299      1.368      1.245         28        640: 100%|██████████| 127/127 [00:25<00:00,  4.91it/s]\n",
            "                 Class     Images  Instances      Box(P          R      mAP50  mAP50-95): 100%|██████████| 15/15 [00:02<00:00,  5.49it/s]"
          ]
        },
        {
          "output_type": "stream",
          "name": "stdout",
          "text": [
            "                   all        230       1289      0.482      0.462      0.388       0.23\n"
          ]
        },
        {
          "output_type": "stream",
          "name": "stderr",
          "text": [
            "\n"
          ]
        },
        {
          "output_type": "stream",
          "name": "stdout",
          "text": [
            "\n",
            "      Epoch    GPU_mem   box_loss   cls_loss   dfl_loss  Instances       Size\n"
          ]
        },
        {
          "output_type": "stream",
          "name": "stderr",
          "text": [
            "      39/70      1.34G      1.295      1.345      1.239         52        640: 100%|██████████| 127/127 [00:25<00:00,  4.93it/s]\n",
            "                 Class     Images  Instances      Box(P          R      mAP50  mAP50-95): 100%|██████████| 15/15 [00:03<00:00,  4.22it/s]\n"
          ]
        },
        {
          "output_type": "stream",
          "name": "stdout",
          "text": [
            "                   all        230       1289      0.418      0.486      0.432      0.255\n",
            "\n",
            "      Epoch    GPU_mem   box_loss   cls_loss   dfl_loss  Instances       Size\n"
          ]
        },
        {
          "output_type": "stream",
          "name": "stderr",
          "text": [
            "      40/70      1.21G      1.283      1.351      1.233         43        640: 100%|██████████| 127/127 [00:26<00:00,  4.86it/s]\n",
            "                 Class     Images  Instances      Box(P          R      mAP50  mAP50-95): 100%|██████████| 15/15 [00:02<00:00,  5.37it/s]"
          ]
        },
        {
          "output_type": "stream",
          "name": "stdout",
          "text": [
            "                   all        230       1289      0.568       0.41       0.45      0.262\n"
          ]
        },
        {
          "output_type": "stream",
          "name": "stderr",
          "text": [
            "\n"
          ]
        },
        {
          "output_type": "stream",
          "name": "stdout",
          "text": [
            "\n",
            "      Epoch    GPU_mem   box_loss   cls_loss   dfl_loss  Instances       Size\n"
          ]
        },
        {
          "output_type": "stream",
          "name": "stderr",
          "text": [
            "      41/70      1.21G      1.274      1.309      1.224         51        640: 100%|██████████| 127/127 [00:25<00:00,  4.89it/s]\n",
            "                 Class     Images  Instances      Box(P          R      mAP50  mAP50-95): 100%|██████████| 15/15 [00:02<00:00,  5.77it/s]"
          ]
        },
        {
          "output_type": "stream",
          "name": "stdout",
          "text": [
            "                   all        230       1289      0.476      0.465      0.419      0.246\n"
          ]
        },
        {
          "output_type": "stream",
          "name": "stderr",
          "text": [
            "\n"
          ]
        },
        {
          "output_type": "stream",
          "name": "stdout",
          "text": [
            "\n",
            "      Epoch    GPU_mem   box_loss   cls_loss   dfl_loss  Instances       Size\n"
          ]
        },
        {
          "output_type": "stream",
          "name": "stderr",
          "text": [
            "      42/70      1.21G      1.249      1.294       1.22         28        640: 100%|██████████| 127/127 [00:25<00:00,  4.90it/s]\n",
            "                 Class     Images  Instances      Box(P          R      mAP50  mAP50-95): 100%|██████████| 15/15 [00:03<00:00,  4.30it/s]\n"
          ]
        },
        {
          "output_type": "stream",
          "name": "stdout",
          "text": [
            "                   all        230       1289      0.505      0.421      0.397      0.237\n",
            "\n",
            "      Epoch    GPU_mem   box_loss   cls_loss   dfl_loss  Instances       Size\n"
          ]
        },
        {
          "output_type": "stream",
          "name": "stderr",
          "text": [
            "      43/70      1.28G      1.282      1.296      1.227         25        640: 100%|██████████| 127/127 [00:25<00:00,  4.95it/s]\n",
            "                 Class     Images  Instances      Box(P          R      mAP50  mAP50-95): 100%|██████████| 15/15 [00:02<00:00,  5.48it/s]"
          ]
        },
        {
          "output_type": "stream",
          "name": "stdout",
          "text": [
            "                   all        230       1289      0.362      0.508      0.399      0.232\n"
          ]
        },
        {
          "output_type": "stream",
          "name": "stderr",
          "text": [
            "\n"
          ]
        },
        {
          "output_type": "stream",
          "name": "stdout",
          "text": [
            "\n",
            "      Epoch    GPU_mem   box_loss   cls_loss   dfl_loss  Instances       Size\n"
          ]
        },
        {
          "output_type": "stream",
          "name": "stderr",
          "text": [
            "      44/70      1.26G      1.263      1.278      1.225         46        640: 100%|██████████| 127/127 [00:26<00:00,  4.86it/s]\n",
            "                 Class     Images  Instances      Box(P          R      mAP50  mAP50-95): 100%|██████████| 15/15 [00:02<00:00,  5.56it/s]"
          ]
        },
        {
          "output_type": "stream",
          "name": "stdout",
          "text": [
            "                   all        230       1289      0.474      0.513      0.451      0.275\n"
          ]
        },
        {
          "output_type": "stream",
          "name": "stderr",
          "text": [
            "\n"
          ]
        },
        {
          "output_type": "stream",
          "name": "stdout",
          "text": [
            "\n",
            "      Epoch    GPU_mem   box_loss   cls_loss   dfl_loss  Instances       Size\n"
          ]
        },
        {
          "output_type": "stream",
          "name": "stderr",
          "text": [
            "      45/70       1.2G      1.259      1.242      1.212         18        640: 100%|██████████| 127/127 [00:25<00:00,  4.90it/s]\n",
            "                 Class     Images  Instances      Box(P          R      mAP50  mAP50-95): 100%|██████████| 15/15 [00:02<00:00,  5.02it/s]\n"
          ]
        },
        {
          "output_type": "stream",
          "name": "stdout",
          "text": [
            "                   all        230       1289      0.561      0.423      0.413      0.242\n",
            "\n",
            "      Epoch    GPU_mem   box_loss   cls_loss   dfl_loss  Instances       Size\n"
          ]
        },
        {
          "output_type": "stream",
          "name": "stderr",
          "text": [
            "      46/70       1.3G      1.264      1.292      1.222         25        640: 100%|██████████| 127/127 [00:26<00:00,  4.87it/s]\n",
            "                 Class     Images  Instances      Box(P          R      mAP50  mAP50-95): 100%|██████████| 15/15 [00:02<00:00,  5.28it/s]"
          ]
        },
        {
          "output_type": "stream",
          "name": "stdout",
          "text": [
            "                   all        230       1289      0.618      0.389        0.5      0.312\n"
          ]
        },
        {
          "output_type": "stream",
          "name": "stderr",
          "text": [
            "\n"
          ]
        },
        {
          "output_type": "stream",
          "name": "stdout",
          "text": [
            "\n",
            "      Epoch    GPU_mem   box_loss   cls_loss   dfl_loss  Instances       Size\n"
          ]
        },
        {
          "output_type": "stream",
          "name": "stderr",
          "text": [
            "      47/70      1.24G      1.263      1.263      1.224         22        640: 100%|██████████| 127/127 [00:26<00:00,  4.83it/s]\n",
            "                 Class     Images  Instances      Box(P          R      mAP50  mAP50-95): 100%|██████████| 15/15 [00:02<00:00,  5.51it/s]"
          ]
        },
        {
          "output_type": "stream",
          "name": "stdout",
          "text": [
            "                   all        230       1289      0.444      0.484      0.438      0.268\n"
          ]
        },
        {
          "output_type": "stream",
          "name": "stderr",
          "text": [
            "\n"
          ]
        },
        {
          "output_type": "stream",
          "name": "stdout",
          "text": [
            "\n",
            "      Epoch    GPU_mem   box_loss   cls_loss   dfl_loss  Instances       Size\n"
          ]
        },
        {
          "output_type": "stream",
          "name": "stderr",
          "text": [
            "      48/70      1.23G      1.249      1.226      1.209         20        640: 100%|██████████| 127/127 [00:25<00:00,  4.91it/s]\n",
            "                 Class     Images  Instances      Box(P          R      mAP50  mAP50-95): 100%|██████████| 15/15 [00:03<00:00,  4.96it/s]\n"
          ]
        },
        {
          "output_type": "stream",
          "name": "stdout",
          "text": [
            "                   all        230       1289      0.528      0.465      0.458       0.28\n",
            "\n",
            "      Epoch    GPU_mem   box_loss   cls_loss   dfl_loss  Instances       Size\n"
          ]
        },
        {
          "output_type": "stream",
          "name": "stderr",
          "text": [
            "      49/70      1.31G      1.239      1.195      1.197         42        640: 100%|██████████| 127/127 [00:26<00:00,  4.86it/s]\n",
            "                 Class     Images  Instances      Box(P          R      mAP50  mAP50-95): 100%|██████████| 15/15 [00:02<00:00,  5.38it/s]"
          ]
        },
        {
          "output_type": "stream",
          "name": "stdout",
          "text": [
            "                   all        230       1289      0.427      0.526      0.424       0.24\n"
          ]
        },
        {
          "output_type": "stream",
          "name": "stderr",
          "text": [
            "\n"
          ]
        },
        {
          "output_type": "stream",
          "name": "stdout",
          "text": [
            "\n",
            "      Epoch    GPU_mem   box_loss   cls_loss   dfl_loss  Instances       Size\n"
          ]
        },
        {
          "output_type": "stream",
          "name": "stderr",
          "text": [
            "      50/70      1.22G      1.256      1.234      1.211         57        640: 100%|██████████| 127/127 [00:26<00:00,  4.87it/s]\n",
            "                 Class     Images  Instances      Box(P          R      mAP50  mAP50-95): 100%|██████████| 15/15 [00:02<00:00,  5.70it/s]"
          ]
        },
        {
          "output_type": "stream",
          "name": "stdout",
          "text": [
            "                   all        230       1289      0.465       0.37      0.412      0.234\n"
          ]
        },
        {
          "output_type": "stream",
          "name": "stderr",
          "text": [
            "\n"
          ]
        },
        {
          "output_type": "stream",
          "name": "stdout",
          "text": [
            "\n",
            "      Epoch    GPU_mem   box_loss   cls_loss   dfl_loss  Instances       Size\n"
          ]
        },
        {
          "output_type": "stream",
          "name": "stderr",
          "text": [
            "      51/70      1.28G       1.24      1.223      1.207         60        640: 100%|██████████| 127/127 [00:25<00:00,  4.91it/s]\n",
            "                 Class     Images  Instances      Box(P          R      mAP50  mAP50-95): 100%|██████████| 15/15 [00:03<00:00,  4.76it/s]\n"
          ]
        },
        {
          "output_type": "stream",
          "name": "stdout",
          "text": [
            "                   all        230       1289      0.369      0.439      0.417      0.246\n",
            "\n",
            "      Epoch    GPU_mem   box_loss   cls_loss   dfl_loss  Instances       Size\n"
          ]
        },
        {
          "output_type": "stream",
          "name": "stderr",
          "text": [
            "      52/70      1.22G      1.236      1.189      1.191         15        640: 100%|██████████| 127/127 [00:26<00:00,  4.82it/s]\n",
            "                 Class     Images  Instances      Box(P          R      mAP50  mAP50-95): 100%|██████████| 15/15 [00:02<00:00,  5.36it/s]"
          ]
        },
        {
          "output_type": "stream",
          "name": "stdout",
          "text": [
            "                   all        230       1289      0.534      0.354      0.414      0.242\n"
          ]
        },
        {
          "output_type": "stream",
          "name": "stderr",
          "text": [
            "\n"
          ]
        },
        {
          "output_type": "stream",
          "name": "stdout",
          "text": [
            "\n",
            "      Epoch    GPU_mem   box_loss   cls_loss   dfl_loss  Instances       Size\n"
          ]
        },
        {
          "output_type": "stream",
          "name": "stderr",
          "text": [
            "      53/70      1.25G       1.21      1.175      1.187         26        640: 100%|██████████| 127/127 [00:26<00:00,  4.87it/s]\n",
            "                 Class     Images  Instances      Box(P          R      mAP50  mAP50-95): 100%|██████████| 15/15 [00:02<00:00,  5.47it/s]"
          ]
        },
        {
          "output_type": "stream",
          "name": "stdout",
          "text": [
            "                   all        230       1289      0.421      0.429      0.421      0.242\n"
          ]
        },
        {
          "output_type": "stream",
          "name": "stderr",
          "text": [
            "\n"
          ]
        },
        {
          "output_type": "stream",
          "name": "stdout",
          "text": [
            "\n",
            "      Epoch    GPU_mem   box_loss   cls_loss   dfl_loss  Instances       Size\n"
          ]
        },
        {
          "output_type": "stream",
          "name": "stderr",
          "text": [
            "      54/70      1.36G       1.23      1.169      1.192         35        640: 100%|██████████| 127/127 [00:26<00:00,  4.86it/s]\n",
            "                 Class     Images  Instances      Box(P          R      mAP50  mAP50-95): 100%|██████████| 15/15 [00:03<00:00,  4.66it/s]"
          ]
        },
        {
          "output_type": "stream",
          "name": "stdout",
          "text": [
            "                   all        230       1289      0.669      0.398      0.462      0.279\n"
          ]
        },
        {
          "output_type": "stream",
          "name": "stderr",
          "text": [
            "\n"
          ]
        },
        {
          "output_type": "stream",
          "name": "stdout",
          "text": [
            "\n",
            "      Epoch    GPU_mem   box_loss   cls_loss   dfl_loss  Instances       Size\n"
          ]
        },
        {
          "output_type": "stream",
          "name": "stderr",
          "text": [
            "      55/70       1.3G      1.213      1.164      1.188         40        640: 100%|██████████| 127/127 [00:25<00:00,  4.99it/s]\n",
            "                 Class     Images  Instances      Box(P          R      mAP50  mAP50-95): 100%|██████████| 15/15 [00:02<00:00,  5.15it/s]"
          ]
        },
        {
          "output_type": "stream",
          "name": "stdout",
          "text": [
            "                   all        230       1289      0.486      0.467      0.441      0.269\n"
          ]
        },
        {
          "output_type": "stream",
          "name": "stderr",
          "text": [
            "\n"
          ]
        },
        {
          "output_type": "stream",
          "name": "stdout",
          "text": [
            "\n",
            "      Epoch    GPU_mem   box_loss   cls_loss   dfl_loss  Instances       Size\n"
          ]
        },
        {
          "output_type": "stream",
          "name": "stderr",
          "text": [
            "      56/70      1.31G      1.206      1.139      1.175         36        640: 100%|██████████| 127/127 [00:26<00:00,  4.88it/s]\n",
            "                 Class     Images  Instances      Box(P          R      mAP50  mAP50-95): 100%|██████████| 15/15 [00:02<00:00,  5.74it/s]"
          ]
        },
        {
          "output_type": "stream",
          "name": "stdout",
          "text": [
            "                   all        230       1289       0.48        0.5      0.455       0.27\n"
          ]
        },
        {
          "output_type": "stream",
          "name": "stderr",
          "text": [
            "\n"
          ]
        },
        {
          "output_type": "stream",
          "name": "stdout",
          "text": [
            "\n",
            "      Epoch    GPU_mem   box_loss   cls_loss   dfl_loss  Instances       Size\n"
          ]
        },
        {
          "output_type": "stream",
          "name": "stderr",
          "text": [
            "      57/70       1.2G        1.2      1.158      1.185         30        640: 100%|██████████| 127/127 [00:25<00:00,  4.89it/s]\n",
            "                 Class     Images  Instances      Box(P          R      mAP50  mAP50-95): 100%|██████████| 15/15 [00:02<00:00,  5.12it/s]\n"
          ]
        },
        {
          "output_type": "stream",
          "name": "stdout",
          "text": [
            "                   all        230       1289      0.547      0.468       0.47      0.283\n",
            "\n",
            "      Epoch    GPU_mem   box_loss   cls_loss   dfl_loss  Instances       Size\n"
          ]
        },
        {
          "output_type": "stream",
          "name": "stderr",
          "text": [
            "      58/70      1.24G      1.202      1.143      1.186         85        640: 100%|██████████| 127/127 [00:26<00:00,  4.86it/s]\n",
            "                 Class     Images  Instances      Box(P          R      mAP50  mAP50-95): 100%|██████████| 15/15 [00:02<00:00,  5.02it/s]"
          ]
        },
        {
          "output_type": "stream",
          "name": "stdout",
          "text": [
            "                   all        230       1289      0.499      0.491      0.444      0.264\n"
          ]
        },
        {
          "output_type": "stream",
          "name": "stderr",
          "text": [
            "\n"
          ]
        },
        {
          "output_type": "stream",
          "name": "stdout",
          "text": [
            "\n",
            "      Epoch    GPU_mem   box_loss   cls_loss   dfl_loss  Instances       Size\n"
          ]
        },
        {
          "output_type": "stream",
          "name": "stderr",
          "text": [
            "      59/70      1.16G      1.206      1.098      1.181         38        640: 100%|██████████| 127/127 [00:25<00:00,  4.89it/s]\n",
            "                 Class     Images  Instances      Box(P          R      mAP50  mAP50-95): 100%|██████████| 15/15 [00:02<00:00,  5.53it/s]"
          ]
        },
        {
          "output_type": "stream",
          "name": "stdout",
          "text": [
            "                   all        230       1289      0.492      0.491      0.472      0.284\n"
          ]
        },
        {
          "output_type": "stream",
          "name": "stderr",
          "text": [
            "\n"
          ]
        },
        {
          "output_type": "stream",
          "name": "stdout",
          "text": [
            "\n",
            "      Epoch    GPU_mem   box_loss   cls_loss   dfl_loss  Instances       Size\n"
          ]
        },
        {
          "output_type": "stream",
          "name": "stderr",
          "text": [
            "      60/70      1.32G      1.197      1.123      1.173         41        640: 100%|██████████| 127/127 [00:26<00:00,  4.81it/s]\n",
            "                 Class     Images  Instances      Box(P          R      mAP50  mAP50-95): 100%|██████████| 15/15 [00:02<00:00,  5.07it/s]\n"
          ]
        },
        {
          "output_type": "stream",
          "name": "stdout",
          "text": [
            "                   all        230       1289      0.517      0.463      0.451      0.266\n",
            "Closing dataloader mosaic\n",
            "\u001b[34m\u001b[1malbumentations: \u001b[0mBlur(p=0.01, blur_limit=(3, 7)), MedianBlur(p=0.01, blur_limit=(3, 7)), ToGray(p=0.01, num_output_channels=3, method='weighted_average'), CLAHE(p=0.01, clip_limit=(1.0, 4.0), tile_grid_size=(8, 8))\n",
            "\n",
            "      Epoch    GPU_mem   box_loss   cls_loss   dfl_loss  Instances       Size\n"
          ]
        },
        {
          "output_type": "stream",
          "name": "stderr",
          "text": [
            "      61/70      1.16G      1.211      1.145      1.204         24        640: 100%|██████████| 127/127 [00:26<00:00,  4.75it/s]\n",
            "                 Class     Images  Instances      Box(P          R      mAP50  mAP50-95): 100%|██████████| 15/15 [00:02<00:00,  5.03it/s]\n"
          ]
        },
        {
          "output_type": "stream",
          "name": "stdout",
          "text": [
            "                   all        230       1289      0.344      0.531      0.436      0.255\n",
            "\n",
            "      Epoch    GPU_mem   box_loss   cls_loss   dfl_loss  Instances       Size\n"
          ]
        },
        {
          "output_type": "stream",
          "name": "stderr",
          "text": [
            "      62/70      1.15G      1.162      1.049      1.175         16        640: 100%|██████████| 127/127 [00:25<00:00,  4.94it/s]\n",
            "                 Class     Images  Instances      Box(P          R      mAP50  mAP50-95): 100%|██████████| 15/15 [00:02<00:00,  5.56it/s]\n"
          ]
        },
        {
          "output_type": "stream",
          "name": "stdout",
          "text": [
            "                   all        230       1289      0.445      0.519      0.442      0.263\n",
            "\n",
            "      Epoch    GPU_mem   box_loss   cls_loss   dfl_loss  Instances       Size\n"
          ]
        },
        {
          "output_type": "stream",
          "name": "stderr",
          "text": [
            "      63/70      1.17G      1.169       1.02      1.175         31        640: 100%|██████████| 127/127 [00:25<00:00,  5.02it/s]\n",
            "                 Class     Images  Instances      Box(P          R      mAP50  mAP50-95): 100%|██████████| 15/15 [00:02<00:00,  5.02it/s]\n"
          ]
        },
        {
          "output_type": "stream",
          "name": "stdout",
          "text": [
            "                   all        230       1289      0.497      0.391      0.442      0.267\n",
            "\n",
            "      Epoch    GPU_mem   box_loss   cls_loss   dfl_loss  Instances       Size\n"
          ]
        },
        {
          "output_type": "stream",
          "name": "stderr",
          "text": [
            "      64/70      1.11G      1.155      1.011      1.164          6        640: 100%|██████████| 127/127 [00:25<00:00,  5.06it/s]\n",
            "                 Class     Images  Instances      Box(P          R      mAP50  mAP50-95): 100%|██████████| 15/15 [00:02<00:00,  5.02it/s]"
          ]
        },
        {
          "output_type": "stream",
          "name": "stdout",
          "text": [
            "                   all        230       1289      0.545      0.463      0.461      0.274\n"
          ]
        },
        {
          "output_type": "stream",
          "name": "stderr",
          "text": [
            "\n"
          ]
        },
        {
          "output_type": "stream",
          "name": "stdout",
          "text": [
            "\n",
            "      Epoch    GPU_mem   box_loss   cls_loss   dfl_loss  Instances       Size\n"
          ]
        },
        {
          "output_type": "stream",
          "name": "stderr",
          "text": [
            "      65/70      1.16G      1.132     0.9662      1.148         11        640: 100%|██████████| 127/127 [00:25<00:00,  5.02it/s]\n",
            "                 Class     Images  Instances      Box(P          R      mAP50  mAP50-95): 100%|██████████| 15/15 [00:02<00:00,  5.51it/s]\n"
          ]
        },
        {
          "output_type": "stream",
          "name": "stdout",
          "text": [
            "                   all        230       1289      0.404      0.512      0.435      0.261\n",
            "\n",
            "      Epoch    GPU_mem   box_loss   cls_loss   dfl_loss  Instances       Size\n"
          ]
        },
        {
          "output_type": "stream",
          "name": "stderr",
          "text": [
            "      66/70      1.16G      1.149     0.9894       1.16         10        640: 100%|██████████| 127/127 [00:25<00:00,  5.00it/s]\n",
            "                 Class     Images  Instances      Box(P          R      mAP50  mAP50-95): 100%|██████████| 15/15 [00:02<00:00,  5.48it/s]"
          ]
        },
        {
          "output_type": "stream",
          "name": "stdout",
          "text": [
            "                   all        230       1289      0.438      0.542      0.452      0.265\n"
          ]
        },
        {
          "output_type": "stream",
          "name": "stderr",
          "text": [
            "\n"
          ]
        },
        {
          "output_type": "stream",
          "name": "stdout",
          "text": [
            "\n",
            "      Epoch    GPU_mem   box_loss   cls_loss   dfl_loss  Instances       Size\n"
          ]
        },
        {
          "output_type": "stream",
          "name": "stderr",
          "text": [
            "      67/70      1.17G      1.141     0.9645      1.157         22        640: 100%|██████████| 127/127 [00:25<00:00,  5.01it/s]\n",
            "                 Class     Images  Instances      Box(P          R      mAP50  mAP50-95): 100%|██████████| 15/15 [00:03<00:00,  3.86it/s]"
          ]
        },
        {
          "output_type": "stream",
          "name": "stdout",
          "text": [
            "                   all        230       1289       0.47      0.499      0.445      0.259\n"
          ]
        },
        {
          "output_type": "stream",
          "name": "stderr",
          "text": [
            "\n"
          ]
        },
        {
          "output_type": "stream",
          "name": "stdout",
          "text": [
            "\n",
            "      Epoch    GPU_mem   box_loss   cls_loss   dfl_loss  Instances       Size\n"
          ]
        },
        {
          "output_type": "stream",
          "name": "stderr",
          "text": [
            "      68/70      1.13G      1.131     0.9569      1.147         65        640: 100%|██████████| 127/127 [00:25<00:00,  5.03it/s]\n",
            "                 Class     Images  Instances      Box(P          R      mAP50  mAP50-95): 100%|██████████| 15/15 [00:02<00:00,  5.52it/s]"
          ]
        },
        {
          "output_type": "stream",
          "name": "stdout",
          "text": [
            "                   all        230       1289      0.461      0.501      0.453      0.267\n"
          ]
        },
        {
          "output_type": "stream",
          "name": "stderr",
          "text": [
            "\n"
          ]
        },
        {
          "output_type": "stream",
          "name": "stdout",
          "text": [
            "\n",
            "      Epoch    GPU_mem   box_loss   cls_loss   dfl_loss  Instances       Size\n"
          ]
        },
        {
          "output_type": "stream",
          "name": "stderr",
          "text": [
            "      69/70      1.16G       1.13     0.9216      1.145         27        640: 100%|██████████| 127/127 [00:25<00:00,  5.02it/s]\n",
            "                 Class     Images  Instances      Box(P          R      mAP50  mAP50-95): 100%|██████████| 15/15 [00:02<00:00,  5.35it/s]"
          ]
        },
        {
          "output_type": "stream",
          "name": "stdout",
          "text": [
            "                   all        230       1289       0.47      0.499      0.447      0.261\n"
          ]
        },
        {
          "output_type": "stream",
          "name": "stderr",
          "text": [
            "\n"
          ]
        },
        {
          "output_type": "stream",
          "name": "stdout",
          "text": [
            "\n",
            "      Epoch    GPU_mem   box_loss   cls_loss   dfl_loss  Instances       Size\n"
          ]
        },
        {
          "output_type": "stream",
          "name": "stderr",
          "text": [
            "      70/70      1.16G      1.119      0.956      1.149         13        640: 100%|██████████| 127/127 [00:25<00:00,  5.01it/s]\n",
            "                 Class     Images  Instances      Box(P          R      mAP50  mAP50-95): 100%|██████████| 15/15 [00:03<00:00,  4.77it/s]"
          ]
        },
        {
          "output_type": "stream",
          "name": "stdout",
          "text": [
            "                   all        230       1289      0.495      0.484      0.456      0.272\n"
          ]
        },
        {
          "output_type": "stream",
          "name": "stderr",
          "text": [
            "\n"
          ]
        },
        {
          "output_type": "stream",
          "name": "stdout",
          "text": [
            "\n",
            "70 epochs completed in 0.582 hours.\n",
            "Optimizer stripped from runs/detect/train/weights/last.pt, 6.2MB\n",
            "Optimizer stripped from runs/detect/train/weights/best.pt, 6.2MB\n",
            "\n",
            "Validating runs/detect/train/weights/best.pt...\n",
            "Ultralytics 8.3.80 🚀 Python-3.11.11 torch-2.5.1+cu124 CUDA:0 (Tesla T4, 15095MiB)\n",
            "Model summary (fused): 72 layers, 3,007,598 parameters, 0 gradients, 8.1 GFLOPs\n"
          ]
        },
        {
          "output_type": "stream",
          "name": "stderr",
          "text": [
            "                 Class     Images  Instances      Box(P          R      mAP50  mAP50-95): 100%|██████████| 15/15 [00:04<00:00,  3.37it/s]\n"
          ]
        },
        {
          "output_type": "stream",
          "name": "stdout",
          "text": [
            "                   all        230       1289      0.618      0.389      0.501      0.312\n",
            "                  door         63         97      0.645      0.412      0.518      0.321\n",
            "           cabinetDoor         99        765      0.829      0.654      0.797      0.448\n",
            "      refrigeratorDoor         85        192      0.898      0.656      0.808       0.53\n",
            "                window         39         91      0.567      0.259      0.325      0.193\n",
            "                 chair         24         49      0.719      0.418      0.567      0.288\n",
            "                 table         30         40      0.523       0.15      0.222      0.115\n",
            "               cabinet         28         32       0.61      0.344       0.48      0.308\n",
            "                 couch          1          1      0.392          1      0.995      0.796\n",
            "            openedDoor         13         13          0          0     0.0619     0.0326\n",
            "                  pole          4          9          1          0      0.233     0.0855\n",
            "Speed: 0.2ms preprocess, 3.5ms inference, 0.0ms loss, 3.2ms postprocess per image\n",
            "Results saved to \u001b[1mruns/detect/train\u001b[0m\n"
          ]
        },
        {
          "output_type": "execute_result",
          "data": {
            "text/plain": [
              "ultralytics.utils.metrics.DetMetrics object with attributes:\n",
              "\n",
              "ap_class_index: array([0, 1, 2, 3, 4, 5, 6, 7, 8, 9])\n",
              "box: ultralytics.utils.metrics.Metric object\n",
              "confusion_matrix: <ultralytics.utils.metrics.ConfusionMatrix object at 0x7d393cfe7e10>\n",
              "curves: ['Precision-Recall(B)', 'F1-Confidence(B)', 'Precision-Confidence(B)', 'Recall-Confidence(B)']\n",
              "curves_results: [[array([          0,    0.001001,    0.002002,    0.003003,    0.004004,    0.005005,    0.006006,    0.007007,    0.008008,    0.009009,     0.01001,    0.011011,    0.012012,    0.013013,    0.014014,    0.015015,    0.016016,    0.017017,    0.018018,    0.019019,     0.02002,    0.021021,    0.022022,    0.023023,\n",
              "          0.024024,    0.025025,    0.026026,    0.027027,    0.028028,    0.029029,     0.03003,    0.031031,    0.032032,    0.033033,    0.034034,    0.035035,    0.036036,    0.037037,    0.038038,    0.039039,     0.04004,    0.041041,    0.042042,    0.043043,    0.044044,    0.045045,    0.046046,    0.047047,\n",
              "          0.048048,    0.049049,     0.05005,    0.051051,    0.052052,    0.053053,    0.054054,    0.055055,    0.056056,    0.057057,    0.058058,    0.059059,     0.06006,    0.061061,    0.062062,    0.063063,    0.064064,    0.065065,    0.066066,    0.067067,    0.068068,    0.069069,     0.07007,    0.071071,\n",
              "          0.072072,    0.073073,    0.074074,    0.075075,    0.076076,    0.077077,    0.078078,    0.079079,     0.08008,    0.081081,    0.082082,    0.083083,    0.084084,    0.085085,    0.086086,    0.087087,    0.088088,    0.089089,     0.09009,    0.091091,    0.092092,    0.093093,    0.094094,    0.095095,\n",
              "          0.096096,    0.097097,    0.098098,    0.099099,      0.1001,      0.1011,      0.1021,      0.1031,      0.1041,     0.10511,     0.10611,     0.10711,     0.10811,     0.10911,     0.11011,     0.11111,     0.11211,     0.11311,     0.11411,     0.11512,     0.11612,     0.11712,     0.11812,     0.11912,\n",
              "           0.12012,     0.12112,     0.12212,     0.12312,     0.12412,     0.12513,     0.12613,     0.12713,     0.12813,     0.12913,     0.13013,     0.13113,     0.13213,     0.13313,     0.13413,     0.13514,     0.13614,     0.13714,     0.13814,     0.13914,     0.14014,     0.14114,     0.14214,     0.14314,\n",
              "           0.14414,     0.14515,     0.14615,     0.14715,     0.14815,     0.14915,     0.15015,     0.15115,     0.15215,     0.15315,     0.15415,     0.15516,     0.15616,     0.15716,     0.15816,     0.15916,     0.16016,     0.16116,     0.16216,     0.16316,     0.16416,     0.16517,     0.16617,     0.16717,\n",
              "           0.16817,     0.16917,     0.17017,     0.17117,     0.17217,     0.17317,     0.17417,     0.17518,     0.17618,     0.17718,     0.17818,     0.17918,     0.18018,     0.18118,     0.18218,     0.18318,     0.18418,     0.18519,     0.18619,     0.18719,     0.18819,     0.18919,     0.19019,     0.19119,\n",
              "           0.19219,     0.19319,     0.19419,      0.1952,      0.1962,      0.1972,      0.1982,      0.1992,      0.2002,      0.2012,      0.2022,      0.2032,      0.2042,     0.20521,     0.20621,     0.20721,     0.20821,     0.20921,     0.21021,     0.21121,     0.21221,     0.21321,     0.21421,     0.21522,\n",
              "           0.21622,     0.21722,     0.21822,     0.21922,     0.22022,     0.22122,     0.22222,     0.22322,     0.22422,     0.22523,     0.22623,     0.22723,     0.22823,     0.22923,     0.23023,     0.23123,     0.23223,     0.23323,     0.23423,     0.23524,     0.23624,     0.23724,     0.23824,     0.23924,\n",
              "           0.24024,     0.24124,     0.24224,     0.24324,     0.24424,     0.24525,     0.24625,     0.24725,     0.24825,     0.24925,     0.25025,     0.25125,     0.25225,     0.25325,     0.25425,     0.25526,     0.25626,     0.25726,     0.25826,     0.25926,     0.26026,     0.26126,     0.26226,     0.26326,\n",
              "           0.26426,     0.26527,     0.26627,     0.26727,     0.26827,     0.26927,     0.27027,     0.27127,     0.27227,     0.27327,     0.27427,     0.27528,     0.27628,     0.27728,     0.27828,     0.27928,     0.28028,     0.28128,     0.28228,     0.28328,     0.28428,     0.28529,     0.28629,     0.28729,\n",
              "           0.28829,     0.28929,     0.29029,     0.29129,     0.29229,     0.29329,     0.29429,      0.2953,      0.2963,      0.2973,      0.2983,      0.2993,      0.3003,      0.3013,      0.3023,      0.3033,      0.3043,     0.30531,     0.30631,     0.30731,     0.30831,     0.30931,     0.31031,     0.31131,\n",
              "           0.31231,     0.31331,     0.31431,     0.31532,     0.31632,     0.31732,     0.31832,     0.31932,     0.32032,     0.32132,     0.32232,     0.32332,     0.32432,     0.32533,     0.32633,     0.32733,     0.32833,     0.32933,     0.33033,     0.33133,     0.33233,     0.33333,     0.33433,     0.33534,\n",
              "           0.33634,     0.33734,     0.33834,     0.33934,     0.34034,     0.34134,     0.34234,     0.34334,     0.34434,     0.34535,     0.34635,     0.34735,     0.34835,     0.34935,     0.35035,     0.35135,     0.35235,     0.35335,     0.35435,     0.35536,     0.35636,     0.35736,     0.35836,     0.35936,\n",
              "           0.36036,     0.36136,     0.36236,     0.36336,     0.36436,     0.36537,     0.36637,     0.36737,     0.36837,     0.36937,     0.37037,     0.37137,     0.37237,     0.37337,     0.37437,     0.37538,     0.37638,     0.37738,     0.37838,     0.37938,     0.38038,     0.38138,     0.38238,     0.38338,\n",
              "           0.38438,     0.38539,     0.38639,     0.38739,     0.38839,     0.38939,     0.39039,     0.39139,     0.39239,     0.39339,     0.39439,      0.3954,      0.3964,      0.3974,      0.3984,      0.3994,      0.4004,      0.4014,      0.4024,      0.4034,      0.4044,     0.40541,     0.40641,     0.40741,\n",
              "           0.40841,     0.40941,     0.41041,     0.41141,     0.41241,     0.41341,     0.41441,     0.41542,     0.41642,     0.41742,     0.41842,     0.41942,     0.42042,     0.42142,     0.42242,     0.42342,     0.42442,     0.42543,     0.42643,     0.42743,     0.42843,     0.42943,     0.43043,     0.43143,\n",
              "           0.43243,     0.43343,     0.43443,     0.43544,     0.43644,     0.43744,     0.43844,     0.43944,     0.44044,     0.44144,     0.44244,     0.44344,     0.44444,     0.44545,     0.44645,     0.44745,     0.44845,     0.44945,     0.45045,     0.45145,     0.45245,     0.45345,     0.45445,     0.45546,\n",
              "           0.45646,     0.45746,     0.45846,     0.45946,     0.46046,     0.46146,     0.46246,     0.46346,     0.46446,     0.46547,     0.46647,     0.46747,     0.46847,     0.46947,     0.47047,     0.47147,     0.47247,     0.47347,     0.47447,     0.47548,     0.47648,     0.47748,     0.47848,     0.47948,\n",
              "           0.48048,     0.48148,     0.48248,     0.48348,     0.48448,     0.48549,     0.48649,     0.48749,     0.48849,     0.48949,     0.49049,     0.49149,     0.49249,     0.49349,     0.49449,      0.4955,      0.4965,      0.4975,      0.4985,      0.4995,      0.5005,      0.5015,      0.5025,      0.5035,\n",
              "            0.5045,     0.50551,     0.50651,     0.50751,     0.50851,     0.50951,     0.51051,     0.51151,     0.51251,     0.51351,     0.51451,     0.51552,     0.51652,     0.51752,     0.51852,     0.51952,     0.52052,     0.52152,     0.52252,     0.52352,     0.52452,     0.52553,     0.52653,     0.52753,\n",
              "           0.52853,     0.52953,     0.53053,     0.53153,     0.53253,     0.53353,     0.53453,     0.53554,     0.53654,     0.53754,     0.53854,     0.53954,     0.54054,     0.54154,     0.54254,     0.54354,     0.54454,     0.54555,     0.54655,     0.54755,     0.54855,     0.54955,     0.55055,     0.55155,\n",
              "           0.55255,     0.55355,     0.55455,     0.55556,     0.55656,     0.55756,     0.55856,     0.55956,     0.56056,     0.56156,     0.56256,     0.56356,     0.56456,     0.56557,     0.56657,     0.56757,     0.56857,     0.56957,     0.57057,     0.57157,     0.57257,     0.57357,     0.57457,     0.57558,\n",
              "           0.57658,     0.57758,     0.57858,     0.57958,     0.58058,     0.58158,     0.58258,     0.58358,     0.58458,     0.58559,     0.58659,     0.58759,     0.58859,     0.58959,     0.59059,     0.59159,     0.59259,     0.59359,     0.59459,      0.5956,      0.5966,      0.5976,      0.5986,      0.5996,\n",
              "            0.6006,      0.6016,      0.6026,      0.6036,      0.6046,     0.60561,     0.60661,     0.60761,     0.60861,     0.60961,     0.61061,     0.61161,     0.61261,     0.61361,     0.61461,     0.61562,     0.61662,     0.61762,     0.61862,     0.61962,     0.62062,     0.62162,     0.62262,     0.62362,\n",
              "           0.62462,     0.62563,     0.62663,     0.62763,     0.62863,     0.62963,     0.63063,     0.63163,     0.63263,     0.63363,     0.63463,     0.63564,     0.63664,     0.63764,     0.63864,     0.63964,     0.64064,     0.64164,     0.64264,     0.64364,     0.64464,     0.64565,     0.64665,     0.64765,\n",
              "           0.64865,     0.64965,     0.65065,     0.65165,     0.65265,     0.65365,     0.65465,     0.65566,     0.65666,     0.65766,     0.65866,     0.65966,     0.66066,     0.66166,     0.66266,     0.66366,     0.66466,     0.66567,     0.66667,     0.66767,     0.66867,     0.66967,     0.67067,     0.67167,\n",
              "           0.67267,     0.67367,     0.67467,     0.67568,     0.67668,     0.67768,     0.67868,     0.67968,     0.68068,     0.68168,     0.68268,     0.68368,     0.68468,     0.68569,     0.68669,     0.68769,     0.68869,     0.68969,     0.69069,     0.69169,     0.69269,     0.69369,     0.69469,      0.6957,\n",
              "            0.6967,      0.6977,      0.6987,      0.6997,      0.7007,      0.7017,      0.7027,      0.7037,      0.7047,     0.70571,     0.70671,     0.70771,     0.70871,     0.70971,     0.71071,     0.71171,     0.71271,     0.71371,     0.71471,     0.71572,     0.71672,     0.71772,     0.71872,     0.71972,\n",
              "           0.72072,     0.72172,     0.72272,     0.72372,     0.72472,     0.72573,     0.72673,     0.72773,     0.72873,     0.72973,     0.73073,     0.73173,     0.73273,     0.73373,     0.73473,     0.73574,     0.73674,     0.73774,     0.73874,     0.73974,     0.74074,     0.74174,     0.74274,     0.74374,\n",
              "           0.74474,     0.74575,     0.74675,     0.74775,     0.74875,     0.74975,     0.75075,     0.75175,     0.75275,     0.75375,     0.75475,     0.75576,     0.75676,     0.75776,     0.75876,     0.75976,     0.76076,     0.76176,     0.76276,     0.76376,     0.76476,     0.76577,     0.76677,     0.76777,\n",
              "           0.76877,     0.76977,     0.77077,     0.77177,     0.77277,     0.77377,     0.77477,     0.77578,     0.77678,     0.77778,     0.77878,     0.77978,     0.78078,     0.78178,     0.78278,     0.78378,     0.78478,     0.78579,     0.78679,     0.78779,     0.78879,     0.78979,     0.79079,     0.79179,\n",
              "           0.79279,     0.79379,     0.79479,      0.7958,      0.7968,      0.7978,      0.7988,      0.7998,      0.8008,      0.8018,      0.8028,      0.8038,      0.8048,     0.80581,     0.80681,     0.80781,     0.80881,     0.80981,     0.81081,     0.81181,     0.81281,     0.81381,     0.81481,     0.81582,\n",
              "           0.81682,     0.81782,     0.81882,     0.81982,     0.82082,     0.82182,     0.82282,     0.82382,     0.82482,     0.82583,     0.82683,     0.82783,     0.82883,     0.82983,     0.83083,     0.83183,     0.83283,     0.83383,     0.83483,     0.83584,     0.83684,     0.83784,     0.83884,     0.83984,\n",
              "           0.84084,     0.84184,     0.84284,     0.84384,     0.84484,     0.84585,     0.84685,     0.84785,     0.84885,     0.84985,     0.85085,     0.85185,     0.85285,     0.85385,     0.85485,     0.85586,     0.85686,     0.85786,     0.85886,     0.85986,     0.86086,     0.86186,     0.86286,     0.86386,\n",
              "           0.86486,     0.86587,     0.86687,     0.86787,     0.86887,     0.86987,     0.87087,     0.87187,     0.87287,     0.87387,     0.87487,     0.87588,     0.87688,     0.87788,     0.87888,     0.87988,     0.88088,     0.88188,     0.88288,     0.88388,     0.88488,     0.88589,     0.88689,     0.88789,\n",
              "           0.88889,     0.88989,     0.89089,     0.89189,     0.89289,     0.89389,     0.89489,      0.8959,      0.8969,      0.8979,      0.8989,      0.8999,      0.9009,      0.9019,      0.9029,      0.9039,      0.9049,     0.90591,     0.90691,     0.90791,     0.90891,     0.90991,     0.91091,     0.91191,\n",
              "           0.91291,     0.91391,     0.91491,     0.91592,     0.91692,     0.91792,     0.91892,     0.91992,     0.92092,     0.92192,     0.92292,     0.92392,     0.92492,     0.92593,     0.92693,     0.92793,     0.92893,     0.92993,     0.93093,     0.93193,     0.93293,     0.93393,     0.93493,     0.93594,\n",
              "           0.93694,     0.93794,     0.93894,     0.93994,     0.94094,     0.94194,     0.94294,     0.94394,     0.94494,     0.94595,     0.94695,     0.94795,     0.94895,     0.94995,     0.95095,     0.95195,     0.95295,     0.95395,     0.95495,     0.95596,     0.95696,     0.95796,     0.95896,     0.95996,\n",
              "           0.96096,     0.96196,     0.96296,     0.96396,     0.96496,     0.96597,     0.96697,     0.96797,     0.96897,     0.96997,     0.97097,     0.97197,     0.97297,     0.97397,     0.97497,     0.97598,     0.97698,     0.97798,     0.97898,     0.97998,     0.98098,     0.98198,     0.98298,     0.98398,\n",
              "           0.98498,     0.98599,     0.98699,     0.98799,     0.98899,     0.98999,     0.99099,     0.99199,     0.99299,     0.99399,     0.99499,       0.996,       0.997,       0.998,       0.999,           1]), array([[          1,           1,           1, ...,   0.0039522,   0.0019761,           0],\n",
              "       [          1,           1,           1, ...,   0.0053834,   0.0026917,           0],\n",
              "       [          1,           1,           1, ...,   0.0023241,    0.001162,           0],\n",
              "       ...,\n",
              "       [          1,           1,           1, ...,           1,           1,           0],\n",
              "       [    0.13043,     0.13043,     0.13043, ...,  4.4262e-05,  2.2131e-05,           0],\n",
              "       [          1,           1,           1, ...,  0.00019426,  9.7132e-05,           0]]), 'Recall', 'Precision'], [array([          0,    0.001001,    0.002002,    0.003003,    0.004004,    0.005005,    0.006006,    0.007007,    0.008008,    0.009009,     0.01001,    0.011011,    0.012012,    0.013013,    0.014014,    0.015015,    0.016016,    0.017017,    0.018018,    0.019019,     0.02002,    0.021021,    0.022022,    0.023023,\n",
              "          0.024024,    0.025025,    0.026026,    0.027027,    0.028028,    0.029029,     0.03003,    0.031031,    0.032032,    0.033033,    0.034034,    0.035035,    0.036036,    0.037037,    0.038038,    0.039039,     0.04004,    0.041041,    0.042042,    0.043043,    0.044044,    0.045045,    0.046046,    0.047047,\n",
              "          0.048048,    0.049049,     0.05005,    0.051051,    0.052052,    0.053053,    0.054054,    0.055055,    0.056056,    0.057057,    0.058058,    0.059059,     0.06006,    0.061061,    0.062062,    0.063063,    0.064064,    0.065065,    0.066066,    0.067067,    0.068068,    0.069069,     0.07007,    0.071071,\n",
              "          0.072072,    0.073073,    0.074074,    0.075075,    0.076076,    0.077077,    0.078078,    0.079079,     0.08008,    0.081081,    0.082082,    0.083083,    0.084084,    0.085085,    0.086086,    0.087087,    0.088088,    0.089089,     0.09009,    0.091091,    0.092092,    0.093093,    0.094094,    0.095095,\n",
              "          0.096096,    0.097097,    0.098098,    0.099099,      0.1001,      0.1011,      0.1021,      0.1031,      0.1041,     0.10511,     0.10611,     0.10711,     0.10811,     0.10911,     0.11011,     0.11111,     0.11211,     0.11311,     0.11411,     0.11512,     0.11612,     0.11712,     0.11812,     0.11912,\n",
              "           0.12012,     0.12112,     0.12212,     0.12312,     0.12412,     0.12513,     0.12613,     0.12713,     0.12813,     0.12913,     0.13013,     0.13113,     0.13213,     0.13313,     0.13413,     0.13514,     0.13614,     0.13714,     0.13814,     0.13914,     0.14014,     0.14114,     0.14214,     0.14314,\n",
              "           0.14414,     0.14515,     0.14615,     0.14715,     0.14815,     0.14915,     0.15015,     0.15115,     0.15215,     0.15315,     0.15415,     0.15516,     0.15616,     0.15716,     0.15816,     0.15916,     0.16016,     0.16116,     0.16216,     0.16316,     0.16416,     0.16517,     0.16617,     0.16717,\n",
              "           0.16817,     0.16917,     0.17017,     0.17117,     0.17217,     0.17317,     0.17417,     0.17518,     0.17618,     0.17718,     0.17818,     0.17918,     0.18018,     0.18118,     0.18218,     0.18318,     0.18418,     0.18519,     0.18619,     0.18719,     0.18819,     0.18919,     0.19019,     0.19119,\n",
              "           0.19219,     0.19319,     0.19419,      0.1952,      0.1962,      0.1972,      0.1982,      0.1992,      0.2002,      0.2012,      0.2022,      0.2032,      0.2042,     0.20521,     0.20621,     0.20721,     0.20821,     0.20921,     0.21021,     0.21121,     0.21221,     0.21321,     0.21421,     0.21522,\n",
              "           0.21622,     0.21722,     0.21822,     0.21922,     0.22022,     0.22122,     0.22222,     0.22322,     0.22422,     0.22523,     0.22623,     0.22723,     0.22823,     0.22923,     0.23023,     0.23123,     0.23223,     0.23323,     0.23423,     0.23524,     0.23624,     0.23724,     0.23824,     0.23924,\n",
              "           0.24024,     0.24124,     0.24224,     0.24324,     0.24424,     0.24525,     0.24625,     0.24725,     0.24825,     0.24925,     0.25025,     0.25125,     0.25225,     0.25325,     0.25425,     0.25526,     0.25626,     0.25726,     0.25826,     0.25926,     0.26026,     0.26126,     0.26226,     0.26326,\n",
              "           0.26426,     0.26527,     0.26627,     0.26727,     0.26827,     0.26927,     0.27027,     0.27127,     0.27227,     0.27327,     0.27427,     0.27528,     0.27628,     0.27728,     0.27828,     0.27928,     0.28028,     0.28128,     0.28228,     0.28328,     0.28428,     0.28529,     0.28629,     0.28729,\n",
              "           0.28829,     0.28929,     0.29029,     0.29129,     0.29229,     0.29329,     0.29429,      0.2953,      0.2963,      0.2973,      0.2983,      0.2993,      0.3003,      0.3013,      0.3023,      0.3033,      0.3043,     0.30531,     0.30631,     0.30731,     0.30831,     0.30931,     0.31031,     0.31131,\n",
              "           0.31231,     0.31331,     0.31431,     0.31532,     0.31632,     0.31732,     0.31832,     0.31932,     0.32032,     0.32132,     0.32232,     0.32332,     0.32432,     0.32533,     0.32633,     0.32733,     0.32833,     0.32933,     0.33033,     0.33133,     0.33233,     0.33333,     0.33433,     0.33534,\n",
              "           0.33634,     0.33734,     0.33834,     0.33934,     0.34034,     0.34134,     0.34234,     0.34334,     0.34434,     0.34535,     0.34635,     0.34735,     0.34835,     0.34935,     0.35035,     0.35135,     0.35235,     0.35335,     0.35435,     0.35536,     0.35636,     0.35736,     0.35836,     0.35936,\n",
              "           0.36036,     0.36136,     0.36236,     0.36336,     0.36436,     0.36537,     0.36637,     0.36737,     0.36837,     0.36937,     0.37037,     0.37137,     0.37237,     0.37337,     0.37437,     0.37538,     0.37638,     0.37738,     0.37838,     0.37938,     0.38038,     0.38138,     0.38238,     0.38338,\n",
              "           0.38438,     0.38539,     0.38639,     0.38739,     0.38839,     0.38939,     0.39039,     0.39139,     0.39239,     0.39339,     0.39439,      0.3954,      0.3964,      0.3974,      0.3984,      0.3994,      0.4004,      0.4014,      0.4024,      0.4034,      0.4044,     0.40541,     0.40641,     0.40741,\n",
              "           0.40841,     0.40941,     0.41041,     0.41141,     0.41241,     0.41341,     0.41441,     0.41542,     0.41642,     0.41742,     0.41842,     0.41942,     0.42042,     0.42142,     0.42242,     0.42342,     0.42442,     0.42543,     0.42643,     0.42743,     0.42843,     0.42943,     0.43043,     0.43143,\n",
              "           0.43243,     0.43343,     0.43443,     0.43544,     0.43644,     0.43744,     0.43844,     0.43944,     0.44044,     0.44144,     0.44244,     0.44344,     0.44444,     0.44545,     0.44645,     0.44745,     0.44845,     0.44945,     0.45045,     0.45145,     0.45245,     0.45345,     0.45445,     0.45546,\n",
              "           0.45646,     0.45746,     0.45846,     0.45946,     0.46046,     0.46146,     0.46246,     0.46346,     0.46446,     0.46547,     0.46647,     0.46747,     0.46847,     0.46947,     0.47047,     0.47147,     0.47247,     0.47347,     0.47447,     0.47548,     0.47648,     0.47748,     0.47848,     0.47948,\n",
              "           0.48048,     0.48148,     0.48248,     0.48348,     0.48448,     0.48549,     0.48649,     0.48749,     0.48849,     0.48949,     0.49049,     0.49149,     0.49249,     0.49349,     0.49449,      0.4955,      0.4965,      0.4975,      0.4985,      0.4995,      0.5005,      0.5015,      0.5025,      0.5035,\n",
              "            0.5045,     0.50551,     0.50651,     0.50751,     0.50851,     0.50951,     0.51051,     0.51151,     0.51251,     0.51351,     0.51451,     0.51552,     0.51652,     0.51752,     0.51852,     0.51952,     0.52052,     0.52152,     0.52252,     0.52352,     0.52452,     0.52553,     0.52653,     0.52753,\n",
              "           0.52853,     0.52953,     0.53053,     0.53153,     0.53253,     0.53353,     0.53453,     0.53554,     0.53654,     0.53754,     0.53854,     0.53954,     0.54054,     0.54154,     0.54254,     0.54354,     0.54454,     0.54555,     0.54655,     0.54755,     0.54855,     0.54955,     0.55055,     0.55155,\n",
              "           0.55255,     0.55355,     0.55455,     0.55556,     0.55656,     0.55756,     0.55856,     0.55956,     0.56056,     0.56156,     0.56256,     0.56356,     0.56456,     0.56557,     0.56657,     0.56757,     0.56857,     0.56957,     0.57057,     0.57157,     0.57257,     0.57357,     0.57457,     0.57558,\n",
              "           0.57658,     0.57758,     0.57858,     0.57958,     0.58058,     0.58158,     0.58258,     0.58358,     0.58458,     0.58559,     0.58659,     0.58759,     0.58859,     0.58959,     0.59059,     0.59159,     0.59259,     0.59359,     0.59459,      0.5956,      0.5966,      0.5976,      0.5986,      0.5996,\n",
              "            0.6006,      0.6016,      0.6026,      0.6036,      0.6046,     0.60561,     0.60661,     0.60761,     0.60861,     0.60961,     0.61061,     0.61161,     0.61261,     0.61361,     0.61461,     0.61562,     0.61662,     0.61762,     0.61862,     0.61962,     0.62062,     0.62162,     0.62262,     0.62362,\n",
              "           0.62462,     0.62563,     0.62663,     0.62763,     0.62863,     0.62963,     0.63063,     0.63163,     0.63263,     0.63363,     0.63463,     0.63564,     0.63664,     0.63764,     0.63864,     0.63964,     0.64064,     0.64164,     0.64264,     0.64364,     0.64464,     0.64565,     0.64665,     0.64765,\n",
              "           0.64865,     0.64965,     0.65065,     0.65165,     0.65265,     0.65365,     0.65465,     0.65566,     0.65666,     0.65766,     0.65866,     0.65966,     0.66066,     0.66166,     0.66266,     0.66366,     0.66466,     0.66567,     0.66667,     0.66767,     0.66867,     0.66967,     0.67067,     0.67167,\n",
              "           0.67267,     0.67367,     0.67467,     0.67568,     0.67668,     0.67768,     0.67868,     0.67968,     0.68068,     0.68168,     0.68268,     0.68368,     0.68468,     0.68569,     0.68669,     0.68769,     0.68869,     0.68969,     0.69069,     0.69169,     0.69269,     0.69369,     0.69469,      0.6957,\n",
              "            0.6967,      0.6977,      0.6987,      0.6997,      0.7007,      0.7017,      0.7027,      0.7037,      0.7047,     0.70571,     0.70671,     0.70771,     0.70871,     0.70971,     0.71071,     0.71171,     0.71271,     0.71371,     0.71471,     0.71572,     0.71672,     0.71772,     0.71872,     0.71972,\n",
              "           0.72072,     0.72172,     0.72272,     0.72372,     0.72472,     0.72573,     0.72673,     0.72773,     0.72873,     0.72973,     0.73073,     0.73173,     0.73273,     0.73373,     0.73473,     0.73574,     0.73674,     0.73774,     0.73874,     0.73974,     0.74074,     0.74174,     0.74274,     0.74374,\n",
              "           0.74474,     0.74575,     0.74675,     0.74775,     0.74875,     0.74975,     0.75075,     0.75175,     0.75275,     0.75375,     0.75475,     0.75576,     0.75676,     0.75776,     0.75876,     0.75976,     0.76076,     0.76176,     0.76276,     0.76376,     0.76476,     0.76577,     0.76677,     0.76777,\n",
              "           0.76877,     0.76977,     0.77077,     0.77177,     0.77277,     0.77377,     0.77477,     0.77578,     0.77678,     0.77778,     0.77878,     0.77978,     0.78078,     0.78178,     0.78278,     0.78378,     0.78478,     0.78579,     0.78679,     0.78779,     0.78879,     0.78979,     0.79079,     0.79179,\n",
              "           0.79279,     0.79379,     0.79479,      0.7958,      0.7968,      0.7978,      0.7988,      0.7998,      0.8008,      0.8018,      0.8028,      0.8038,      0.8048,     0.80581,     0.80681,     0.80781,     0.80881,     0.80981,     0.81081,     0.81181,     0.81281,     0.81381,     0.81481,     0.81582,\n",
              "           0.81682,     0.81782,     0.81882,     0.81982,     0.82082,     0.82182,     0.82282,     0.82382,     0.82482,     0.82583,     0.82683,     0.82783,     0.82883,     0.82983,     0.83083,     0.83183,     0.83283,     0.83383,     0.83483,     0.83584,     0.83684,     0.83784,     0.83884,     0.83984,\n",
              "           0.84084,     0.84184,     0.84284,     0.84384,     0.84484,     0.84585,     0.84685,     0.84785,     0.84885,     0.84985,     0.85085,     0.85185,     0.85285,     0.85385,     0.85485,     0.85586,     0.85686,     0.85786,     0.85886,     0.85986,     0.86086,     0.86186,     0.86286,     0.86386,\n",
              "           0.86486,     0.86587,     0.86687,     0.86787,     0.86887,     0.86987,     0.87087,     0.87187,     0.87287,     0.87387,     0.87487,     0.87588,     0.87688,     0.87788,     0.87888,     0.87988,     0.88088,     0.88188,     0.88288,     0.88388,     0.88488,     0.88589,     0.88689,     0.88789,\n",
              "           0.88889,     0.88989,     0.89089,     0.89189,     0.89289,     0.89389,     0.89489,      0.8959,      0.8969,      0.8979,      0.8989,      0.8999,      0.9009,      0.9019,      0.9029,      0.9039,      0.9049,     0.90591,     0.90691,     0.90791,     0.90891,     0.90991,     0.91091,     0.91191,\n",
              "           0.91291,     0.91391,     0.91491,     0.91592,     0.91692,     0.91792,     0.91892,     0.91992,     0.92092,     0.92192,     0.92292,     0.92392,     0.92492,     0.92593,     0.92693,     0.92793,     0.92893,     0.92993,     0.93093,     0.93193,     0.93293,     0.93393,     0.93493,     0.93594,\n",
              "           0.93694,     0.93794,     0.93894,     0.93994,     0.94094,     0.94194,     0.94294,     0.94394,     0.94494,     0.94595,     0.94695,     0.94795,     0.94895,     0.94995,     0.95095,     0.95195,     0.95295,     0.95395,     0.95495,     0.95596,     0.95696,     0.95796,     0.95896,     0.95996,\n",
              "           0.96096,     0.96196,     0.96296,     0.96396,     0.96496,     0.96597,     0.96697,     0.96797,     0.96897,     0.96997,     0.97097,     0.97197,     0.97297,     0.97397,     0.97497,     0.97598,     0.97698,     0.97798,     0.97898,     0.97998,     0.98098,     0.98198,     0.98298,     0.98398,\n",
              "           0.98498,     0.98599,     0.98699,     0.98799,     0.98899,     0.98999,     0.99099,     0.99199,     0.99299,     0.99399,     0.99499,       0.996,       0.997,       0.998,       0.999,           1]), array([[   0.039884,    0.039884,    0.056226, ...,           0,           0,           0],\n",
              "       [    0.14326,     0.14326,     0.19802, ...,           0,           0,           0],\n",
              "       [   0.092092,    0.092092,     0.13684, ...,           0,           0,           0],\n",
              "       ...,\n",
              "       [  0.0054945,   0.0054945,   0.0091441, ...,           0,           0,           0],\n",
              "       [   0.010137,    0.010137,    0.014598, ...,           0,           0,           0],\n",
              "       [   0.021305,    0.021305,    0.038361, ...,           0,           0,           0]]), 'Confidence', 'F1'], [array([          0,    0.001001,    0.002002,    0.003003,    0.004004,    0.005005,    0.006006,    0.007007,    0.008008,    0.009009,     0.01001,    0.011011,    0.012012,    0.013013,    0.014014,    0.015015,    0.016016,    0.017017,    0.018018,    0.019019,     0.02002,    0.021021,    0.022022,    0.023023,\n",
              "          0.024024,    0.025025,    0.026026,    0.027027,    0.028028,    0.029029,     0.03003,    0.031031,    0.032032,    0.033033,    0.034034,    0.035035,    0.036036,    0.037037,    0.038038,    0.039039,     0.04004,    0.041041,    0.042042,    0.043043,    0.044044,    0.045045,    0.046046,    0.047047,\n",
              "          0.048048,    0.049049,     0.05005,    0.051051,    0.052052,    0.053053,    0.054054,    0.055055,    0.056056,    0.057057,    0.058058,    0.059059,     0.06006,    0.061061,    0.062062,    0.063063,    0.064064,    0.065065,    0.066066,    0.067067,    0.068068,    0.069069,     0.07007,    0.071071,\n",
              "          0.072072,    0.073073,    0.074074,    0.075075,    0.076076,    0.077077,    0.078078,    0.079079,     0.08008,    0.081081,    0.082082,    0.083083,    0.084084,    0.085085,    0.086086,    0.087087,    0.088088,    0.089089,     0.09009,    0.091091,    0.092092,    0.093093,    0.094094,    0.095095,\n",
              "          0.096096,    0.097097,    0.098098,    0.099099,      0.1001,      0.1011,      0.1021,      0.1031,      0.1041,     0.10511,     0.10611,     0.10711,     0.10811,     0.10911,     0.11011,     0.11111,     0.11211,     0.11311,     0.11411,     0.11512,     0.11612,     0.11712,     0.11812,     0.11912,\n",
              "           0.12012,     0.12112,     0.12212,     0.12312,     0.12412,     0.12513,     0.12613,     0.12713,     0.12813,     0.12913,     0.13013,     0.13113,     0.13213,     0.13313,     0.13413,     0.13514,     0.13614,     0.13714,     0.13814,     0.13914,     0.14014,     0.14114,     0.14214,     0.14314,\n",
              "           0.14414,     0.14515,     0.14615,     0.14715,     0.14815,     0.14915,     0.15015,     0.15115,     0.15215,     0.15315,     0.15415,     0.15516,     0.15616,     0.15716,     0.15816,     0.15916,     0.16016,     0.16116,     0.16216,     0.16316,     0.16416,     0.16517,     0.16617,     0.16717,\n",
              "           0.16817,     0.16917,     0.17017,     0.17117,     0.17217,     0.17317,     0.17417,     0.17518,     0.17618,     0.17718,     0.17818,     0.17918,     0.18018,     0.18118,     0.18218,     0.18318,     0.18418,     0.18519,     0.18619,     0.18719,     0.18819,     0.18919,     0.19019,     0.19119,\n",
              "           0.19219,     0.19319,     0.19419,      0.1952,      0.1962,      0.1972,      0.1982,      0.1992,      0.2002,      0.2012,      0.2022,      0.2032,      0.2042,     0.20521,     0.20621,     0.20721,     0.20821,     0.20921,     0.21021,     0.21121,     0.21221,     0.21321,     0.21421,     0.21522,\n",
              "           0.21622,     0.21722,     0.21822,     0.21922,     0.22022,     0.22122,     0.22222,     0.22322,     0.22422,     0.22523,     0.22623,     0.22723,     0.22823,     0.22923,     0.23023,     0.23123,     0.23223,     0.23323,     0.23423,     0.23524,     0.23624,     0.23724,     0.23824,     0.23924,\n",
              "           0.24024,     0.24124,     0.24224,     0.24324,     0.24424,     0.24525,     0.24625,     0.24725,     0.24825,     0.24925,     0.25025,     0.25125,     0.25225,     0.25325,     0.25425,     0.25526,     0.25626,     0.25726,     0.25826,     0.25926,     0.26026,     0.26126,     0.26226,     0.26326,\n",
              "           0.26426,     0.26527,     0.26627,     0.26727,     0.26827,     0.26927,     0.27027,     0.27127,     0.27227,     0.27327,     0.27427,     0.27528,     0.27628,     0.27728,     0.27828,     0.27928,     0.28028,     0.28128,     0.28228,     0.28328,     0.28428,     0.28529,     0.28629,     0.28729,\n",
              "           0.28829,     0.28929,     0.29029,     0.29129,     0.29229,     0.29329,     0.29429,      0.2953,      0.2963,      0.2973,      0.2983,      0.2993,      0.3003,      0.3013,      0.3023,      0.3033,      0.3043,     0.30531,     0.30631,     0.30731,     0.30831,     0.30931,     0.31031,     0.31131,\n",
              "           0.31231,     0.31331,     0.31431,     0.31532,     0.31632,     0.31732,     0.31832,     0.31932,     0.32032,     0.32132,     0.32232,     0.32332,     0.32432,     0.32533,     0.32633,     0.32733,     0.32833,     0.32933,     0.33033,     0.33133,     0.33233,     0.33333,     0.33433,     0.33534,\n",
              "           0.33634,     0.33734,     0.33834,     0.33934,     0.34034,     0.34134,     0.34234,     0.34334,     0.34434,     0.34535,     0.34635,     0.34735,     0.34835,     0.34935,     0.35035,     0.35135,     0.35235,     0.35335,     0.35435,     0.35536,     0.35636,     0.35736,     0.35836,     0.35936,\n",
              "           0.36036,     0.36136,     0.36236,     0.36336,     0.36436,     0.36537,     0.36637,     0.36737,     0.36837,     0.36937,     0.37037,     0.37137,     0.37237,     0.37337,     0.37437,     0.37538,     0.37638,     0.37738,     0.37838,     0.37938,     0.38038,     0.38138,     0.38238,     0.38338,\n",
              "           0.38438,     0.38539,     0.38639,     0.38739,     0.38839,     0.38939,     0.39039,     0.39139,     0.39239,     0.39339,     0.39439,      0.3954,      0.3964,      0.3974,      0.3984,      0.3994,      0.4004,      0.4014,      0.4024,      0.4034,      0.4044,     0.40541,     0.40641,     0.40741,\n",
              "           0.40841,     0.40941,     0.41041,     0.41141,     0.41241,     0.41341,     0.41441,     0.41542,     0.41642,     0.41742,     0.41842,     0.41942,     0.42042,     0.42142,     0.42242,     0.42342,     0.42442,     0.42543,     0.42643,     0.42743,     0.42843,     0.42943,     0.43043,     0.43143,\n",
              "           0.43243,     0.43343,     0.43443,     0.43544,     0.43644,     0.43744,     0.43844,     0.43944,     0.44044,     0.44144,     0.44244,     0.44344,     0.44444,     0.44545,     0.44645,     0.44745,     0.44845,     0.44945,     0.45045,     0.45145,     0.45245,     0.45345,     0.45445,     0.45546,\n",
              "           0.45646,     0.45746,     0.45846,     0.45946,     0.46046,     0.46146,     0.46246,     0.46346,     0.46446,     0.46547,     0.46647,     0.46747,     0.46847,     0.46947,     0.47047,     0.47147,     0.47247,     0.47347,     0.47447,     0.47548,     0.47648,     0.47748,     0.47848,     0.47948,\n",
              "           0.48048,     0.48148,     0.48248,     0.48348,     0.48448,     0.48549,     0.48649,     0.48749,     0.48849,     0.48949,     0.49049,     0.49149,     0.49249,     0.49349,     0.49449,      0.4955,      0.4965,      0.4975,      0.4985,      0.4995,      0.5005,      0.5015,      0.5025,      0.5035,\n",
              "            0.5045,     0.50551,     0.50651,     0.50751,     0.50851,     0.50951,     0.51051,     0.51151,     0.51251,     0.51351,     0.51451,     0.51552,     0.51652,     0.51752,     0.51852,     0.51952,     0.52052,     0.52152,     0.52252,     0.52352,     0.52452,     0.52553,     0.52653,     0.52753,\n",
              "           0.52853,     0.52953,     0.53053,     0.53153,     0.53253,     0.53353,     0.53453,     0.53554,     0.53654,     0.53754,     0.53854,     0.53954,     0.54054,     0.54154,     0.54254,     0.54354,     0.54454,     0.54555,     0.54655,     0.54755,     0.54855,     0.54955,     0.55055,     0.55155,\n",
              "           0.55255,     0.55355,     0.55455,     0.55556,     0.55656,     0.55756,     0.55856,     0.55956,     0.56056,     0.56156,     0.56256,     0.56356,     0.56456,     0.56557,     0.56657,     0.56757,     0.56857,     0.56957,     0.57057,     0.57157,     0.57257,     0.57357,     0.57457,     0.57558,\n",
              "           0.57658,     0.57758,     0.57858,     0.57958,     0.58058,     0.58158,     0.58258,     0.58358,     0.58458,     0.58559,     0.58659,     0.58759,     0.58859,     0.58959,     0.59059,     0.59159,     0.59259,     0.59359,     0.59459,      0.5956,      0.5966,      0.5976,      0.5986,      0.5996,\n",
              "            0.6006,      0.6016,      0.6026,      0.6036,      0.6046,     0.60561,     0.60661,     0.60761,     0.60861,     0.60961,     0.61061,     0.61161,     0.61261,     0.61361,     0.61461,     0.61562,     0.61662,     0.61762,     0.61862,     0.61962,     0.62062,     0.62162,     0.62262,     0.62362,\n",
              "           0.62462,     0.62563,     0.62663,     0.62763,     0.62863,     0.62963,     0.63063,     0.63163,     0.63263,     0.63363,     0.63463,     0.63564,     0.63664,     0.63764,     0.63864,     0.63964,     0.64064,     0.64164,     0.64264,     0.64364,     0.64464,     0.64565,     0.64665,     0.64765,\n",
              "           0.64865,     0.64965,     0.65065,     0.65165,     0.65265,     0.65365,     0.65465,     0.65566,     0.65666,     0.65766,     0.65866,     0.65966,     0.66066,     0.66166,     0.66266,     0.66366,     0.66466,     0.66567,     0.66667,     0.66767,     0.66867,     0.66967,     0.67067,     0.67167,\n",
              "           0.67267,     0.67367,     0.67467,     0.67568,     0.67668,     0.67768,     0.67868,     0.67968,     0.68068,     0.68168,     0.68268,     0.68368,     0.68468,     0.68569,     0.68669,     0.68769,     0.68869,     0.68969,     0.69069,     0.69169,     0.69269,     0.69369,     0.69469,      0.6957,\n",
              "            0.6967,      0.6977,      0.6987,      0.6997,      0.7007,      0.7017,      0.7027,      0.7037,      0.7047,     0.70571,     0.70671,     0.70771,     0.70871,     0.70971,     0.71071,     0.71171,     0.71271,     0.71371,     0.71471,     0.71572,     0.71672,     0.71772,     0.71872,     0.71972,\n",
              "           0.72072,     0.72172,     0.72272,     0.72372,     0.72472,     0.72573,     0.72673,     0.72773,     0.72873,     0.72973,     0.73073,     0.73173,     0.73273,     0.73373,     0.73473,     0.73574,     0.73674,     0.73774,     0.73874,     0.73974,     0.74074,     0.74174,     0.74274,     0.74374,\n",
              "           0.74474,     0.74575,     0.74675,     0.74775,     0.74875,     0.74975,     0.75075,     0.75175,     0.75275,     0.75375,     0.75475,     0.75576,     0.75676,     0.75776,     0.75876,     0.75976,     0.76076,     0.76176,     0.76276,     0.76376,     0.76476,     0.76577,     0.76677,     0.76777,\n",
              "           0.76877,     0.76977,     0.77077,     0.77177,     0.77277,     0.77377,     0.77477,     0.77578,     0.77678,     0.77778,     0.77878,     0.77978,     0.78078,     0.78178,     0.78278,     0.78378,     0.78478,     0.78579,     0.78679,     0.78779,     0.78879,     0.78979,     0.79079,     0.79179,\n",
              "           0.79279,     0.79379,     0.79479,      0.7958,      0.7968,      0.7978,      0.7988,      0.7998,      0.8008,      0.8018,      0.8028,      0.8038,      0.8048,     0.80581,     0.80681,     0.80781,     0.80881,     0.80981,     0.81081,     0.81181,     0.81281,     0.81381,     0.81481,     0.81582,\n",
              "           0.81682,     0.81782,     0.81882,     0.81982,     0.82082,     0.82182,     0.82282,     0.82382,     0.82482,     0.82583,     0.82683,     0.82783,     0.82883,     0.82983,     0.83083,     0.83183,     0.83283,     0.83383,     0.83483,     0.83584,     0.83684,     0.83784,     0.83884,     0.83984,\n",
              "           0.84084,     0.84184,     0.84284,     0.84384,     0.84484,     0.84585,     0.84685,     0.84785,     0.84885,     0.84985,     0.85085,     0.85185,     0.85285,     0.85385,     0.85485,     0.85586,     0.85686,     0.85786,     0.85886,     0.85986,     0.86086,     0.86186,     0.86286,     0.86386,\n",
              "           0.86486,     0.86587,     0.86687,     0.86787,     0.86887,     0.86987,     0.87087,     0.87187,     0.87287,     0.87387,     0.87487,     0.87588,     0.87688,     0.87788,     0.87888,     0.87988,     0.88088,     0.88188,     0.88288,     0.88388,     0.88488,     0.88589,     0.88689,     0.88789,\n",
              "           0.88889,     0.88989,     0.89089,     0.89189,     0.89289,     0.89389,     0.89489,      0.8959,      0.8969,      0.8979,      0.8989,      0.8999,      0.9009,      0.9019,      0.9029,      0.9039,      0.9049,     0.90591,     0.90691,     0.90791,     0.90891,     0.90991,     0.91091,     0.91191,\n",
              "           0.91291,     0.91391,     0.91491,     0.91592,     0.91692,     0.91792,     0.91892,     0.91992,     0.92092,     0.92192,     0.92292,     0.92392,     0.92492,     0.92593,     0.92693,     0.92793,     0.92893,     0.92993,     0.93093,     0.93193,     0.93293,     0.93393,     0.93493,     0.93594,\n",
              "           0.93694,     0.93794,     0.93894,     0.93994,     0.94094,     0.94194,     0.94294,     0.94394,     0.94494,     0.94595,     0.94695,     0.94795,     0.94895,     0.94995,     0.95095,     0.95195,     0.95295,     0.95395,     0.95495,     0.95596,     0.95696,     0.95796,     0.95896,     0.95996,\n",
              "           0.96096,     0.96196,     0.96296,     0.96396,     0.96496,     0.96597,     0.96697,     0.96797,     0.96897,     0.96997,     0.97097,     0.97197,     0.97297,     0.97397,     0.97497,     0.97598,     0.97698,     0.97798,     0.97898,     0.97998,     0.98098,     0.98198,     0.98298,     0.98398,\n",
              "           0.98498,     0.98599,     0.98699,     0.98799,     0.98899,     0.98999,     0.99099,     0.99199,     0.99299,     0.99399,     0.99499,       0.996,       0.997,       0.998,       0.999,           1]), array([[   0.020352,    0.020352,    0.028962, ...,           1,           1,           1],\n",
              "       [   0.077331,    0.077331,     0.11044, ...,           1,           1,           1],\n",
              "       [    0.04837,     0.04837,    0.073741, ...,           1,           1,           1],\n",
              "       ...,\n",
              "       [  0.0027548,   0.0027548,   0.0045931, ...,           1,           1,           1],\n",
              "       [   0.005102,    0.005102,   0.0073687, ...,           1,           1,           1],\n",
              "       [   0.010782,    0.010782,    0.019603, ...,           1,           1,           1]]), 'Confidence', 'Precision'], [array([          0,    0.001001,    0.002002,    0.003003,    0.004004,    0.005005,    0.006006,    0.007007,    0.008008,    0.009009,     0.01001,    0.011011,    0.012012,    0.013013,    0.014014,    0.015015,    0.016016,    0.017017,    0.018018,    0.019019,     0.02002,    0.021021,    0.022022,    0.023023,\n",
              "          0.024024,    0.025025,    0.026026,    0.027027,    0.028028,    0.029029,     0.03003,    0.031031,    0.032032,    0.033033,    0.034034,    0.035035,    0.036036,    0.037037,    0.038038,    0.039039,     0.04004,    0.041041,    0.042042,    0.043043,    0.044044,    0.045045,    0.046046,    0.047047,\n",
              "          0.048048,    0.049049,     0.05005,    0.051051,    0.052052,    0.053053,    0.054054,    0.055055,    0.056056,    0.057057,    0.058058,    0.059059,     0.06006,    0.061061,    0.062062,    0.063063,    0.064064,    0.065065,    0.066066,    0.067067,    0.068068,    0.069069,     0.07007,    0.071071,\n",
              "          0.072072,    0.073073,    0.074074,    0.075075,    0.076076,    0.077077,    0.078078,    0.079079,     0.08008,    0.081081,    0.082082,    0.083083,    0.084084,    0.085085,    0.086086,    0.087087,    0.088088,    0.089089,     0.09009,    0.091091,    0.092092,    0.093093,    0.094094,    0.095095,\n",
              "          0.096096,    0.097097,    0.098098,    0.099099,      0.1001,      0.1011,      0.1021,      0.1031,      0.1041,     0.10511,     0.10611,     0.10711,     0.10811,     0.10911,     0.11011,     0.11111,     0.11211,     0.11311,     0.11411,     0.11512,     0.11612,     0.11712,     0.11812,     0.11912,\n",
              "           0.12012,     0.12112,     0.12212,     0.12312,     0.12412,     0.12513,     0.12613,     0.12713,     0.12813,     0.12913,     0.13013,     0.13113,     0.13213,     0.13313,     0.13413,     0.13514,     0.13614,     0.13714,     0.13814,     0.13914,     0.14014,     0.14114,     0.14214,     0.14314,\n",
              "           0.14414,     0.14515,     0.14615,     0.14715,     0.14815,     0.14915,     0.15015,     0.15115,     0.15215,     0.15315,     0.15415,     0.15516,     0.15616,     0.15716,     0.15816,     0.15916,     0.16016,     0.16116,     0.16216,     0.16316,     0.16416,     0.16517,     0.16617,     0.16717,\n",
              "           0.16817,     0.16917,     0.17017,     0.17117,     0.17217,     0.17317,     0.17417,     0.17518,     0.17618,     0.17718,     0.17818,     0.17918,     0.18018,     0.18118,     0.18218,     0.18318,     0.18418,     0.18519,     0.18619,     0.18719,     0.18819,     0.18919,     0.19019,     0.19119,\n",
              "           0.19219,     0.19319,     0.19419,      0.1952,      0.1962,      0.1972,      0.1982,      0.1992,      0.2002,      0.2012,      0.2022,      0.2032,      0.2042,     0.20521,     0.20621,     0.20721,     0.20821,     0.20921,     0.21021,     0.21121,     0.21221,     0.21321,     0.21421,     0.21522,\n",
              "           0.21622,     0.21722,     0.21822,     0.21922,     0.22022,     0.22122,     0.22222,     0.22322,     0.22422,     0.22523,     0.22623,     0.22723,     0.22823,     0.22923,     0.23023,     0.23123,     0.23223,     0.23323,     0.23423,     0.23524,     0.23624,     0.23724,     0.23824,     0.23924,\n",
              "           0.24024,     0.24124,     0.24224,     0.24324,     0.24424,     0.24525,     0.24625,     0.24725,     0.24825,     0.24925,     0.25025,     0.25125,     0.25225,     0.25325,     0.25425,     0.25526,     0.25626,     0.25726,     0.25826,     0.25926,     0.26026,     0.26126,     0.26226,     0.26326,\n",
              "           0.26426,     0.26527,     0.26627,     0.26727,     0.26827,     0.26927,     0.27027,     0.27127,     0.27227,     0.27327,     0.27427,     0.27528,     0.27628,     0.27728,     0.27828,     0.27928,     0.28028,     0.28128,     0.28228,     0.28328,     0.28428,     0.28529,     0.28629,     0.28729,\n",
              "           0.28829,     0.28929,     0.29029,     0.29129,     0.29229,     0.29329,     0.29429,      0.2953,      0.2963,      0.2973,      0.2983,      0.2993,      0.3003,      0.3013,      0.3023,      0.3033,      0.3043,     0.30531,     0.30631,     0.30731,     0.30831,     0.30931,     0.31031,     0.31131,\n",
              "           0.31231,     0.31331,     0.31431,     0.31532,     0.31632,     0.31732,     0.31832,     0.31932,     0.32032,     0.32132,     0.32232,     0.32332,     0.32432,     0.32533,     0.32633,     0.32733,     0.32833,     0.32933,     0.33033,     0.33133,     0.33233,     0.33333,     0.33433,     0.33534,\n",
              "           0.33634,     0.33734,     0.33834,     0.33934,     0.34034,     0.34134,     0.34234,     0.34334,     0.34434,     0.34535,     0.34635,     0.34735,     0.34835,     0.34935,     0.35035,     0.35135,     0.35235,     0.35335,     0.35435,     0.35536,     0.35636,     0.35736,     0.35836,     0.35936,\n",
              "           0.36036,     0.36136,     0.36236,     0.36336,     0.36436,     0.36537,     0.36637,     0.36737,     0.36837,     0.36937,     0.37037,     0.37137,     0.37237,     0.37337,     0.37437,     0.37538,     0.37638,     0.37738,     0.37838,     0.37938,     0.38038,     0.38138,     0.38238,     0.38338,\n",
              "           0.38438,     0.38539,     0.38639,     0.38739,     0.38839,     0.38939,     0.39039,     0.39139,     0.39239,     0.39339,     0.39439,      0.3954,      0.3964,      0.3974,      0.3984,      0.3994,      0.4004,      0.4014,      0.4024,      0.4034,      0.4044,     0.40541,     0.40641,     0.40741,\n",
              "           0.40841,     0.40941,     0.41041,     0.41141,     0.41241,     0.41341,     0.41441,     0.41542,     0.41642,     0.41742,     0.41842,     0.41942,     0.42042,     0.42142,     0.42242,     0.42342,     0.42442,     0.42543,     0.42643,     0.42743,     0.42843,     0.42943,     0.43043,     0.43143,\n",
              "           0.43243,     0.43343,     0.43443,     0.43544,     0.43644,     0.43744,     0.43844,     0.43944,     0.44044,     0.44144,     0.44244,     0.44344,     0.44444,     0.44545,     0.44645,     0.44745,     0.44845,     0.44945,     0.45045,     0.45145,     0.45245,     0.45345,     0.45445,     0.45546,\n",
              "           0.45646,     0.45746,     0.45846,     0.45946,     0.46046,     0.46146,     0.46246,     0.46346,     0.46446,     0.46547,     0.46647,     0.46747,     0.46847,     0.46947,     0.47047,     0.47147,     0.47247,     0.47347,     0.47447,     0.47548,     0.47648,     0.47748,     0.47848,     0.47948,\n",
              "           0.48048,     0.48148,     0.48248,     0.48348,     0.48448,     0.48549,     0.48649,     0.48749,     0.48849,     0.48949,     0.49049,     0.49149,     0.49249,     0.49349,     0.49449,      0.4955,      0.4965,      0.4975,      0.4985,      0.4995,      0.5005,      0.5015,      0.5025,      0.5035,\n",
              "            0.5045,     0.50551,     0.50651,     0.50751,     0.50851,     0.50951,     0.51051,     0.51151,     0.51251,     0.51351,     0.51451,     0.51552,     0.51652,     0.51752,     0.51852,     0.51952,     0.52052,     0.52152,     0.52252,     0.52352,     0.52452,     0.52553,     0.52653,     0.52753,\n",
              "           0.52853,     0.52953,     0.53053,     0.53153,     0.53253,     0.53353,     0.53453,     0.53554,     0.53654,     0.53754,     0.53854,     0.53954,     0.54054,     0.54154,     0.54254,     0.54354,     0.54454,     0.54555,     0.54655,     0.54755,     0.54855,     0.54955,     0.55055,     0.55155,\n",
              "           0.55255,     0.55355,     0.55455,     0.55556,     0.55656,     0.55756,     0.55856,     0.55956,     0.56056,     0.56156,     0.56256,     0.56356,     0.56456,     0.56557,     0.56657,     0.56757,     0.56857,     0.56957,     0.57057,     0.57157,     0.57257,     0.57357,     0.57457,     0.57558,\n",
              "           0.57658,     0.57758,     0.57858,     0.57958,     0.58058,     0.58158,     0.58258,     0.58358,     0.58458,     0.58559,     0.58659,     0.58759,     0.58859,     0.58959,     0.59059,     0.59159,     0.59259,     0.59359,     0.59459,      0.5956,      0.5966,      0.5976,      0.5986,      0.5996,\n",
              "            0.6006,      0.6016,      0.6026,      0.6036,      0.6046,     0.60561,     0.60661,     0.60761,     0.60861,     0.60961,     0.61061,     0.61161,     0.61261,     0.61361,     0.61461,     0.61562,     0.61662,     0.61762,     0.61862,     0.61962,     0.62062,     0.62162,     0.62262,     0.62362,\n",
              "           0.62462,     0.62563,     0.62663,     0.62763,     0.62863,     0.62963,     0.63063,     0.63163,     0.63263,     0.63363,     0.63463,     0.63564,     0.63664,     0.63764,     0.63864,     0.63964,     0.64064,     0.64164,     0.64264,     0.64364,     0.64464,     0.64565,     0.64665,     0.64765,\n",
              "           0.64865,     0.64965,     0.65065,     0.65165,     0.65265,     0.65365,     0.65465,     0.65566,     0.65666,     0.65766,     0.65866,     0.65966,     0.66066,     0.66166,     0.66266,     0.66366,     0.66466,     0.66567,     0.66667,     0.66767,     0.66867,     0.66967,     0.67067,     0.67167,\n",
              "           0.67267,     0.67367,     0.67467,     0.67568,     0.67668,     0.67768,     0.67868,     0.67968,     0.68068,     0.68168,     0.68268,     0.68368,     0.68468,     0.68569,     0.68669,     0.68769,     0.68869,     0.68969,     0.69069,     0.69169,     0.69269,     0.69369,     0.69469,      0.6957,\n",
              "            0.6967,      0.6977,      0.6987,      0.6997,      0.7007,      0.7017,      0.7027,      0.7037,      0.7047,     0.70571,     0.70671,     0.70771,     0.70871,     0.70971,     0.71071,     0.71171,     0.71271,     0.71371,     0.71471,     0.71572,     0.71672,     0.71772,     0.71872,     0.71972,\n",
              "           0.72072,     0.72172,     0.72272,     0.72372,     0.72472,     0.72573,     0.72673,     0.72773,     0.72873,     0.72973,     0.73073,     0.73173,     0.73273,     0.73373,     0.73473,     0.73574,     0.73674,     0.73774,     0.73874,     0.73974,     0.74074,     0.74174,     0.74274,     0.74374,\n",
              "           0.74474,     0.74575,     0.74675,     0.74775,     0.74875,     0.74975,     0.75075,     0.75175,     0.75275,     0.75375,     0.75475,     0.75576,     0.75676,     0.75776,     0.75876,     0.75976,     0.76076,     0.76176,     0.76276,     0.76376,     0.76476,     0.76577,     0.76677,     0.76777,\n",
              "           0.76877,     0.76977,     0.77077,     0.77177,     0.77277,     0.77377,     0.77477,     0.77578,     0.77678,     0.77778,     0.77878,     0.77978,     0.78078,     0.78178,     0.78278,     0.78378,     0.78478,     0.78579,     0.78679,     0.78779,     0.78879,     0.78979,     0.79079,     0.79179,\n",
              "           0.79279,     0.79379,     0.79479,      0.7958,      0.7968,      0.7978,      0.7988,      0.7998,      0.8008,      0.8018,      0.8028,      0.8038,      0.8048,     0.80581,     0.80681,     0.80781,     0.80881,     0.80981,     0.81081,     0.81181,     0.81281,     0.81381,     0.81481,     0.81582,\n",
              "           0.81682,     0.81782,     0.81882,     0.81982,     0.82082,     0.82182,     0.82282,     0.82382,     0.82482,     0.82583,     0.82683,     0.82783,     0.82883,     0.82983,     0.83083,     0.83183,     0.83283,     0.83383,     0.83483,     0.83584,     0.83684,     0.83784,     0.83884,     0.83984,\n",
              "           0.84084,     0.84184,     0.84284,     0.84384,     0.84484,     0.84585,     0.84685,     0.84785,     0.84885,     0.84985,     0.85085,     0.85185,     0.85285,     0.85385,     0.85485,     0.85586,     0.85686,     0.85786,     0.85886,     0.85986,     0.86086,     0.86186,     0.86286,     0.86386,\n",
              "           0.86486,     0.86587,     0.86687,     0.86787,     0.86887,     0.86987,     0.87087,     0.87187,     0.87287,     0.87387,     0.87487,     0.87588,     0.87688,     0.87788,     0.87888,     0.87988,     0.88088,     0.88188,     0.88288,     0.88388,     0.88488,     0.88589,     0.88689,     0.88789,\n",
              "           0.88889,     0.88989,     0.89089,     0.89189,     0.89289,     0.89389,     0.89489,      0.8959,      0.8969,      0.8979,      0.8989,      0.8999,      0.9009,      0.9019,      0.9029,      0.9039,      0.9049,     0.90591,     0.90691,     0.90791,     0.90891,     0.90991,     0.91091,     0.91191,\n",
              "           0.91291,     0.91391,     0.91491,     0.91592,     0.91692,     0.91792,     0.91892,     0.91992,     0.92092,     0.92192,     0.92292,     0.92392,     0.92492,     0.92593,     0.92693,     0.92793,     0.92893,     0.92993,     0.93093,     0.93193,     0.93293,     0.93393,     0.93493,     0.93594,\n",
              "           0.93694,     0.93794,     0.93894,     0.93994,     0.94094,     0.94194,     0.94294,     0.94394,     0.94494,     0.94595,     0.94695,     0.94795,     0.94895,     0.94995,     0.95095,     0.95195,     0.95295,     0.95395,     0.95495,     0.95596,     0.95696,     0.95796,     0.95896,     0.95996,\n",
              "           0.96096,     0.96196,     0.96296,     0.96396,     0.96496,     0.96597,     0.96697,     0.96797,     0.96897,     0.96997,     0.97097,     0.97197,     0.97297,     0.97397,     0.97497,     0.97598,     0.97698,     0.97798,     0.97898,     0.97998,     0.98098,     0.98198,     0.98298,     0.98398,\n",
              "           0.98498,     0.98599,     0.98699,     0.98799,     0.98899,     0.98999,     0.99099,     0.99199,     0.99299,     0.99399,     0.99499,       0.996,       0.997,       0.998,       0.999,           1]), array([[    0.98969,     0.98969,     0.95876, ...,           0,           0,           0],\n",
              "       [    0.97124,     0.97124,     0.95686, ...,           0,           0,           0],\n",
              "       [    0.95833,     0.95833,     0.94792, ...,           0,           0,           0],\n",
              "       ...,\n",
              "       [          1,           1,           1, ...,           0,           0,           0],\n",
              "       [    0.76923,     0.76923,     0.76923, ...,           0,           0,           0],\n",
              "       [    0.88889,     0.88889,     0.88889, ...,           0,           0,           0]]), 'Confidence', 'Recall']]\n",
              "fitness: 0.33063546803110144\n",
              "keys: ['metrics/precision(B)', 'metrics/recall(B)', 'metrics/mAP50(B)', 'metrics/mAP50-95(B)']\n",
              "maps: array([    0.32137,     0.44781,     0.53019,     0.19342,      0.2878,     0.11512,      0.3077,       0.796,    0.032642,    0.085498])\n",
              "names: {0: 'door', 1: 'cabinetDoor', 2: 'refrigeratorDoor', 3: 'window', 4: 'chair', 5: 'table', 6: 'cabinet', 7: 'couch', 8: 'openedDoor', 9: 'pole'}\n",
              "plot: True\n",
              "results_dict: {'metrics/precision(B)': 0.6184047674681091, 'metrics/recall(B)': 0.3893780402124564, 'metrics/mAP50(B)': 0.5005637749338205, 'metrics/mAP50-95(B)': 0.3117545450419104, 'fitness': 0.33063546803110144}\n",
              "save_dir: PosixPath('runs/detect/train')\n",
              "speed: {'preprocess': 0.24859530434617266, 'inference': 3.493135939132354, 'loss': 0.0008453043471451131, 'postprocess': 3.216589626087981}\n",
              "task: 'detect'"
            ]
          },
          "metadata": {},
          "execution_count": 18
        }
      ]
    },
    {
      "cell_type": "code",
      "source": [
        "metrics = model.val()  # This will compute metrics like mAP, precision, and recall\n",
        "print(metrics)"
      ],
      "metadata": {
        "id": "epnpCRtXJ0Dw",
        "colab": {
          "base_uri": "https://localhost:8080/"
        },
        "outputId": "36397b5d-edce-4fd7-daa2-caa9d3b1fd06",
        "collapsed": true
      },
      "execution_count": 19,
      "outputs": [
        {
          "output_type": "stream",
          "name": "stdout",
          "text": [
            "Ultralytics 8.3.80 🚀 Python-3.11.11 torch-2.5.1+cu124 CUDA:0 (Tesla T4, 15095MiB)\n",
            "Model summary (fused): 72 layers, 3,007,598 parameters, 0 gradients, 8.1 GFLOPs\n"
          ]
        },
        {
          "output_type": "stream",
          "name": "stderr",
          "text": [
            "\u001b[34m\u001b[1mval: \u001b[0mScanning /content/indoor-object-detection/valid/labels.cache... 230 images, 31 backgrounds, 0 corrupt: 100%|██████████| 230/230 [00:00<?, ?it/s]\n",
            "                 Class     Images  Instances      Box(P          R      mAP50  mAP50-95): 100%|██████████| 29/29 [00:04<00:00,  5.95it/s]\n"
          ]
        },
        {
          "output_type": "stream",
          "name": "stdout",
          "text": [
            "                   all        230       1289      0.619      0.386      0.499      0.312\n",
            "                  door         63         97       0.64      0.403      0.519      0.324\n",
            "           cabinetDoor         99        765      0.835      0.654      0.796      0.449\n",
            "      refrigeratorDoor         85        192      0.893      0.656      0.807       0.53\n",
            "                window         39         91       0.59      0.253      0.328      0.198\n",
            "                 chair         24         49      0.687      0.403      0.547      0.288\n",
            "                 table         30         40      0.529       0.15      0.221      0.115\n",
            "               cabinet         28         32      0.624      0.344      0.477      0.305\n",
            "                 couch          1          1      0.397          1      0.995      0.796\n",
            "            openedDoor         13         13          0          0     0.0662     0.0346\n",
            "                  pole          4          9          1          0      0.232     0.0854\n",
            "Speed: 1.0ms preprocess, 6.9ms inference, 0.0ms loss, 2.3ms postprocess per image\n",
            "Results saved to \u001b[1mruns/detect/train2\u001b[0m\n",
            "ultralytics.utils.metrics.DetMetrics object with attributes:\n",
            "\n",
            "ap_class_index: array([0, 1, 2, 3, 4, 5, 6, 7, 8, 9])\n",
            "box: ultralytics.utils.metrics.Metric object\n",
            "confusion_matrix: <ultralytics.utils.metrics.ConfusionMatrix object at 0x7d3a1890e110>\n",
            "curves: ['Precision-Recall(B)', 'F1-Confidence(B)', 'Precision-Confidence(B)', 'Recall-Confidence(B)']\n",
            "curves_results: [[array([          0,    0.001001,    0.002002,    0.003003,    0.004004,    0.005005,    0.006006,    0.007007,    0.008008,    0.009009,     0.01001,    0.011011,    0.012012,    0.013013,    0.014014,    0.015015,    0.016016,    0.017017,    0.018018,    0.019019,     0.02002,    0.021021,    0.022022,    0.023023,\n",
            "          0.024024,    0.025025,    0.026026,    0.027027,    0.028028,    0.029029,     0.03003,    0.031031,    0.032032,    0.033033,    0.034034,    0.035035,    0.036036,    0.037037,    0.038038,    0.039039,     0.04004,    0.041041,    0.042042,    0.043043,    0.044044,    0.045045,    0.046046,    0.047047,\n",
            "          0.048048,    0.049049,     0.05005,    0.051051,    0.052052,    0.053053,    0.054054,    0.055055,    0.056056,    0.057057,    0.058058,    0.059059,     0.06006,    0.061061,    0.062062,    0.063063,    0.064064,    0.065065,    0.066066,    0.067067,    0.068068,    0.069069,     0.07007,    0.071071,\n",
            "          0.072072,    0.073073,    0.074074,    0.075075,    0.076076,    0.077077,    0.078078,    0.079079,     0.08008,    0.081081,    0.082082,    0.083083,    0.084084,    0.085085,    0.086086,    0.087087,    0.088088,    0.089089,     0.09009,    0.091091,    0.092092,    0.093093,    0.094094,    0.095095,\n",
            "          0.096096,    0.097097,    0.098098,    0.099099,      0.1001,      0.1011,      0.1021,      0.1031,      0.1041,     0.10511,     0.10611,     0.10711,     0.10811,     0.10911,     0.11011,     0.11111,     0.11211,     0.11311,     0.11411,     0.11512,     0.11612,     0.11712,     0.11812,     0.11912,\n",
            "           0.12012,     0.12112,     0.12212,     0.12312,     0.12412,     0.12513,     0.12613,     0.12713,     0.12813,     0.12913,     0.13013,     0.13113,     0.13213,     0.13313,     0.13413,     0.13514,     0.13614,     0.13714,     0.13814,     0.13914,     0.14014,     0.14114,     0.14214,     0.14314,\n",
            "           0.14414,     0.14515,     0.14615,     0.14715,     0.14815,     0.14915,     0.15015,     0.15115,     0.15215,     0.15315,     0.15415,     0.15516,     0.15616,     0.15716,     0.15816,     0.15916,     0.16016,     0.16116,     0.16216,     0.16316,     0.16416,     0.16517,     0.16617,     0.16717,\n",
            "           0.16817,     0.16917,     0.17017,     0.17117,     0.17217,     0.17317,     0.17417,     0.17518,     0.17618,     0.17718,     0.17818,     0.17918,     0.18018,     0.18118,     0.18218,     0.18318,     0.18418,     0.18519,     0.18619,     0.18719,     0.18819,     0.18919,     0.19019,     0.19119,\n",
            "           0.19219,     0.19319,     0.19419,      0.1952,      0.1962,      0.1972,      0.1982,      0.1992,      0.2002,      0.2012,      0.2022,      0.2032,      0.2042,     0.20521,     0.20621,     0.20721,     0.20821,     0.20921,     0.21021,     0.21121,     0.21221,     0.21321,     0.21421,     0.21522,\n",
            "           0.21622,     0.21722,     0.21822,     0.21922,     0.22022,     0.22122,     0.22222,     0.22322,     0.22422,     0.22523,     0.22623,     0.22723,     0.22823,     0.22923,     0.23023,     0.23123,     0.23223,     0.23323,     0.23423,     0.23524,     0.23624,     0.23724,     0.23824,     0.23924,\n",
            "           0.24024,     0.24124,     0.24224,     0.24324,     0.24424,     0.24525,     0.24625,     0.24725,     0.24825,     0.24925,     0.25025,     0.25125,     0.25225,     0.25325,     0.25425,     0.25526,     0.25626,     0.25726,     0.25826,     0.25926,     0.26026,     0.26126,     0.26226,     0.26326,\n",
            "           0.26426,     0.26527,     0.26627,     0.26727,     0.26827,     0.26927,     0.27027,     0.27127,     0.27227,     0.27327,     0.27427,     0.27528,     0.27628,     0.27728,     0.27828,     0.27928,     0.28028,     0.28128,     0.28228,     0.28328,     0.28428,     0.28529,     0.28629,     0.28729,\n",
            "           0.28829,     0.28929,     0.29029,     0.29129,     0.29229,     0.29329,     0.29429,      0.2953,      0.2963,      0.2973,      0.2983,      0.2993,      0.3003,      0.3013,      0.3023,      0.3033,      0.3043,     0.30531,     0.30631,     0.30731,     0.30831,     0.30931,     0.31031,     0.31131,\n",
            "           0.31231,     0.31331,     0.31431,     0.31532,     0.31632,     0.31732,     0.31832,     0.31932,     0.32032,     0.32132,     0.32232,     0.32332,     0.32432,     0.32533,     0.32633,     0.32733,     0.32833,     0.32933,     0.33033,     0.33133,     0.33233,     0.33333,     0.33433,     0.33534,\n",
            "           0.33634,     0.33734,     0.33834,     0.33934,     0.34034,     0.34134,     0.34234,     0.34334,     0.34434,     0.34535,     0.34635,     0.34735,     0.34835,     0.34935,     0.35035,     0.35135,     0.35235,     0.35335,     0.35435,     0.35536,     0.35636,     0.35736,     0.35836,     0.35936,\n",
            "           0.36036,     0.36136,     0.36236,     0.36336,     0.36436,     0.36537,     0.36637,     0.36737,     0.36837,     0.36937,     0.37037,     0.37137,     0.37237,     0.37337,     0.37437,     0.37538,     0.37638,     0.37738,     0.37838,     0.37938,     0.38038,     0.38138,     0.38238,     0.38338,\n",
            "           0.38438,     0.38539,     0.38639,     0.38739,     0.38839,     0.38939,     0.39039,     0.39139,     0.39239,     0.39339,     0.39439,      0.3954,      0.3964,      0.3974,      0.3984,      0.3994,      0.4004,      0.4014,      0.4024,      0.4034,      0.4044,     0.40541,     0.40641,     0.40741,\n",
            "           0.40841,     0.40941,     0.41041,     0.41141,     0.41241,     0.41341,     0.41441,     0.41542,     0.41642,     0.41742,     0.41842,     0.41942,     0.42042,     0.42142,     0.42242,     0.42342,     0.42442,     0.42543,     0.42643,     0.42743,     0.42843,     0.42943,     0.43043,     0.43143,\n",
            "           0.43243,     0.43343,     0.43443,     0.43544,     0.43644,     0.43744,     0.43844,     0.43944,     0.44044,     0.44144,     0.44244,     0.44344,     0.44444,     0.44545,     0.44645,     0.44745,     0.44845,     0.44945,     0.45045,     0.45145,     0.45245,     0.45345,     0.45445,     0.45546,\n",
            "           0.45646,     0.45746,     0.45846,     0.45946,     0.46046,     0.46146,     0.46246,     0.46346,     0.46446,     0.46547,     0.46647,     0.46747,     0.46847,     0.46947,     0.47047,     0.47147,     0.47247,     0.47347,     0.47447,     0.47548,     0.47648,     0.47748,     0.47848,     0.47948,\n",
            "           0.48048,     0.48148,     0.48248,     0.48348,     0.48448,     0.48549,     0.48649,     0.48749,     0.48849,     0.48949,     0.49049,     0.49149,     0.49249,     0.49349,     0.49449,      0.4955,      0.4965,      0.4975,      0.4985,      0.4995,      0.5005,      0.5015,      0.5025,      0.5035,\n",
            "            0.5045,     0.50551,     0.50651,     0.50751,     0.50851,     0.50951,     0.51051,     0.51151,     0.51251,     0.51351,     0.51451,     0.51552,     0.51652,     0.51752,     0.51852,     0.51952,     0.52052,     0.52152,     0.52252,     0.52352,     0.52452,     0.52553,     0.52653,     0.52753,\n",
            "           0.52853,     0.52953,     0.53053,     0.53153,     0.53253,     0.53353,     0.53453,     0.53554,     0.53654,     0.53754,     0.53854,     0.53954,     0.54054,     0.54154,     0.54254,     0.54354,     0.54454,     0.54555,     0.54655,     0.54755,     0.54855,     0.54955,     0.55055,     0.55155,\n",
            "           0.55255,     0.55355,     0.55455,     0.55556,     0.55656,     0.55756,     0.55856,     0.55956,     0.56056,     0.56156,     0.56256,     0.56356,     0.56456,     0.56557,     0.56657,     0.56757,     0.56857,     0.56957,     0.57057,     0.57157,     0.57257,     0.57357,     0.57457,     0.57558,\n",
            "           0.57658,     0.57758,     0.57858,     0.57958,     0.58058,     0.58158,     0.58258,     0.58358,     0.58458,     0.58559,     0.58659,     0.58759,     0.58859,     0.58959,     0.59059,     0.59159,     0.59259,     0.59359,     0.59459,      0.5956,      0.5966,      0.5976,      0.5986,      0.5996,\n",
            "            0.6006,      0.6016,      0.6026,      0.6036,      0.6046,     0.60561,     0.60661,     0.60761,     0.60861,     0.60961,     0.61061,     0.61161,     0.61261,     0.61361,     0.61461,     0.61562,     0.61662,     0.61762,     0.61862,     0.61962,     0.62062,     0.62162,     0.62262,     0.62362,\n",
            "           0.62462,     0.62563,     0.62663,     0.62763,     0.62863,     0.62963,     0.63063,     0.63163,     0.63263,     0.63363,     0.63463,     0.63564,     0.63664,     0.63764,     0.63864,     0.63964,     0.64064,     0.64164,     0.64264,     0.64364,     0.64464,     0.64565,     0.64665,     0.64765,\n",
            "           0.64865,     0.64965,     0.65065,     0.65165,     0.65265,     0.65365,     0.65465,     0.65566,     0.65666,     0.65766,     0.65866,     0.65966,     0.66066,     0.66166,     0.66266,     0.66366,     0.66466,     0.66567,     0.66667,     0.66767,     0.66867,     0.66967,     0.67067,     0.67167,\n",
            "           0.67267,     0.67367,     0.67467,     0.67568,     0.67668,     0.67768,     0.67868,     0.67968,     0.68068,     0.68168,     0.68268,     0.68368,     0.68468,     0.68569,     0.68669,     0.68769,     0.68869,     0.68969,     0.69069,     0.69169,     0.69269,     0.69369,     0.69469,      0.6957,\n",
            "            0.6967,      0.6977,      0.6987,      0.6997,      0.7007,      0.7017,      0.7027,      0.7037,      0.7047,     0.70571,     0.70671,     0.70771,     0.70871,     0.70971,     0.71071,     0.71171,     0.71271,     0.71371,     0.71471,     0.71572,     0.71672,     0.71772,     0.71872,     0.71972,\n",
            "           0.72072,     0.72172,     0.72272,     0.72372,     0.72472,     0.72573,     0.72673,     0.72773,     0.72873,     0.72973,     0.73073,     0.73173,     0.73273,     0.73373,     0.73473,     0.73574,     0.73674,     0.73774,     0.73874,     0.73974,     0.74074,     0.74174,     0.74274,     0.74374,\n",
            "           0.74474,     0.74575,     0.74675,     0.74775,     0.74875,     0.74975,     0.75075,     0.75175,     0.75275,     0.75375,     0.75475,     0.75576,     0.75676,     0.75776,     0.75876,     0.75976,     0.76076,     0.76176,     0.76276,     0.76376,     0.76476,     0.76577,     0.76677,     0.76777,\n",
            "           0.76877,     0.76977,     0.77077,     0.77177,     0.77277,     0.77377,     0.77477,     0.77578,     0.77678,     0.77778,     0.77878,     0.77978,     0.78078,     0.78178,     0.78278,     0.78378,     0.78478,     0.78579,     0.78679,     0.78779,     0.78879,     0.78979,     0.79079,     0.79179,\n",
            "           0.79279,     0.79379,     0.79479,      0.7958,      0.7968,      0.7978,      0.7988,      0.7998,      0.8008,      0.8018,      0.8028,      0.8038,      0.8048,     0.80581,     0.80681,     0.80781,     0.80881,     0.80981,     0.81081,     0.81181,     0.81281,     0.81381,     0.81481,     0.81582,\n",
            "           0.81682,     0.81782,     0.81882,     0.81982,     0.82082,     0.82182,     0.82282,     0.82382,     0.82482,     0.82583,     0.82683,     0.82783,     0.82883,     0.82983,     0.83083,     0.83183,     0.83283,     0.83383,     0.83483,     0.83584,     0.83684,     0.83784,     0.83884,     0.83984,\n",
            "           0.84084,     0.84184,     0.84284,     0.84384,     0.84484,     0.84585,     0.84685,     0.84785,     0.84885,     0.84985,     0.85085,     0.85185,     0.85285,     0.85385,     0.85485,     0.85586,     0.85686,     0.85786,     0.85886,     0.85986,     0.86086,     0.86186,     0.86286,     0.86386,\n",
            "           0.86486,     0.86587,     0.86687,     0.86787,     0.86887,     0.86987,     0.87087,     0.87187,     0.87287,     0.87387,     0.87487,     0.87588,     0.87688,     0.87788,     0.87888,     0.87988,     0.88088,     0.88188,     0.88288,     0.88388,     0.88488,     0.88589,     0.88689,     0.88789,\n",
            "           0.88889,     0.88989,     0.89089,     0.89189,     0.89289,     0.89389,     0.89489,      0.8959,      0.8969,      0.8979,      0.8989,      0.8999,      0.9009,      0.9019,      0.9029,      0.9039,      0.9049,     0.90591,     0.90691,     0.90791,     0.90891,     0.90991,     0.91091,     0.91191,\n",
            "           0.91291,     0.91391,     0.91491,     0.91592,     0.91692,     0.91792,     0.91892,     0.91992,     0.92092,     0.92192,     0.92292,     0.92392,     0.92492,     0.92593,     0.92693,     0.92793,     0.92893,     0.92993,     0.93093,     0.93193,     0.93293,     0.93393,     0.93493,     0.93594,\n",
            "           0.93694,     0.93794,     0.93894,     0.93994,     0.94094,     0.94194,     0.94294,     0.94394,     0.94494,     0.94595,     0.94695,     0.94795,     0.94895,     0.94995,     0.95095,     0.95195,     0.95295,     0.95395,     0.95495,     0.95596,     0.95696,     0.95796,     0.95896,     0.95996,\n",
            "           0.96096,     0.96196,     0.96296,     0.96396,     0.96496,     0.96597,     0.96697,     0.96797,     0.96897,     0.96997,     0.97097,     0.97197,     0.97297,     0.97397,     0.97497,     0.97598,     0.97698,     0.97798,     0.97898,     0.97998,     0.98098,     0.98198,     0.98298,     0.98398,\n",
            "           0.98498,     0.98599,     0.98699,     0.98799,     0.98899,     0.98999,     0.99099,     0.99199,     0.99299,     0.99399,     0.99499,       0.996,       0.997,       0.998,       0.999,           1]), array([[          1,           1,           1, ...,   0.0019593,  0.00097963,           0],\n",
            "       [          1,           1,           1, ...,   0.0051521,    0.002576,           0],\n",
            "       [          1,           1,           1, ...,   0.0023265,   0.0011633,           0],\n",
            "       ...,\n",
            "       [          1,           1,           1, ...,           1,           1,           0],\n",
            "       [    0.12903,     0.12903,     0.12903, ...,  4.4352e-05,  2.2176e-05,           0],\n",
            "       [          1,           1,           1, ...,  0.00019611,  9.8057e-05,           0]]), 'Recall', 'Precision'], [array([          0,    0.001001,    0.002002,    0.003003,    0.004004,    0.005005,    0.006006,    0.007007,    0.008008,    0.009009,     0.01001,    0.011011,    0.012012,    0.013013,    0.014014,    0.015015,    0.016016,    0.017017,    0.018018,    0.019019,     0.02002,    0.021021,    0.022022,    0.023023,\n",
            "          0.024024,    0.025025,    0.026026,    0.027027,    0.028028,    0.029029,     0.03003,    0.031031,    0.032032,    0.033033,    0.034034,    0.035035,    0.036036,    0.037037,    0.038038,    0.039039,     0.04004,    0.041041,    0.042042,    0.043043,    0.044044,    0.045045,    0.046046,    0.047047,\n",
            "          0.048048,    0.049049,     0.05005,    0.051051,    0.052052,    0.053053,    0.054054,    0.055055,    0.056056,    0.057057,    0.058058,    0.059059,     0.06006,    0.061061,    0.062062,    0.063063,    0.064064,    0.065065,    0.066066,    0.067067,    0.068068,    0.069069,     0.07007,    0.071071,\n",
            "          0.072072,    0.073073,    0.074074,    0.075075,    0.076076,    0.077077,    0.078078,    0.079079,     0.08008,    0.081081,    0.082082,    0.083083,    0.084084,    0.085085,    0.086086,    0.087087,    0.088088,    0.089089,     0.09009,    0.091091,    0.092092,    0.093093,    0.094094,    0.095095,\n",
            "          0.096096,    0.097097,    0.098098,    0.099099,      0.1001,      0.1011,      0.1021,      0.1031,      0.1041,     0.10511,     0.10611,     0.10711,     0.10811,     0.10911,     0.11011,     0.11111,     0.11211,     0.11311,     0.11411,     0.11512,     0.11612,     0.11712,     0.11812,     0.11912,\n",
            "           0.12012,     0.12112,     0.12212,     0.12312,     0.12412,     0.12513,     0.12613,     0.12713,     0.12813,     0.12913,     0.13013,     0.13113,     0.13213,     0.13313,     0.13413,     0.13514,     0.13614,     0.13714,     0.13814,     0.13914,     0.14014,     0.14114,     0.14214,     0.14314,\n",
            "           0.14414,     0.14515,     0.14615,     0.14715,     0.14815,     0.14915,     0.15015,     0.15115,     0.15215,     0.15315,     0.15415,     0.15516,     0.15616,     0.15716,     0.15816,     0.15916,     0.16016,     0.16116,     0.16216,     0.16316,     0.16416,     0.16517,     0.16617,     0.16717,\n",
            "           0.16817,     0.16917,     0.17017,     0.17117,     0.17217,     0.17317,     0.17417,     0.17518,     0.17618,     0.17718,     0.17818,     0.17918,     0.18018,     0.18118,     0.18218,     0.18318,     0.18418,     0.18519,     0.18619,     0.18719,     0.18819,     0.18919,     0.19019,     0.19119,\n",
            "           0.19219,     0.19319,     0.19419,      0.1952,      0.1962,      0.1972,      0.1982,      0.1992,      0.2002,      0.2012,      0.2022,      0.2032,      0.2042,     0.20521,     0.20621,     0.20721,     0.20821,     0.20921,     0.21021,     0.21121,     0.21221,     0.21321,     0.21421,     0.21522,\n",
            "           0.21622,     0.21722,     0.21822,     0.21922,     0.22022,     0.22122,     0.22222,     0.22322,     0.22422,     0.22523,     0.22623,     0.22723,     0.22823,     0.22923,     0.23023,     0.23123,     0.23223,     0.23323,     0.23423,     0.23524,     0.23624,     0.23724,     0.23824,     0.23924,\n",
            "           0.24024,     0.24124,     0.24224,     0.24324,     0.24424,     0.24525,     0.24625,     0.24725,     0.24825,     0.24925,     0.25025,     0.25125,     0.25225,     0.25325,     0.25425,     0.25526,     0.25626,     0.25726,     0.25826,     0.25926,     0.26026,     0.26126,     0.26226,     0.26326,\n",
            "           0.26426,     0.26527,     0.26627,     0.26727,     0.26827,     0.26927,     0.27027,     0.27127,     0.27227,     0.27327,     0.27427,     0.27528,     0.27628,     0.27728,     0.27828,     0.27928,     0.28028,     0.28128,     0.28228,     0.28328,     0.28428,     0.28529,     0.28629,     0.28729,\n",
            "           0.28829,     0.28929,     0.29029,     0.29129,     0.29229,     0.29329,     0.29429,      0.2953,      0.2963,      0.2973,      0.2983,      0.2993,      0.3003,      0.3013,      0.3023,      0.3033,      0.3043,     0.30531,     0.30631,     0.30731,     0.30831,     0.30931,     0.31031,     0.31131,\n",
            "           0.31231,     0.31331,     0.31431,     0.31532,     0.31632,     0.31732,     0.31832,     0.31932,     0.32032,     0.32132,     0.32232,     0.32332,     0.32432,     0.32533,     0.32633,     0.32733,     0.32833,     0.32933,     0.33033,     0.33133,     0.33233,     0.33333,     0.33433,     0.33534,\n",
            "           0.33634,     0.33734,     0.33834,     0.33934,     0.34034,     0.34134,     0.34234,     0.34334,     0.34434,     0.34535,     0.34635,     0.34735,     0.34835,     0.34935,     0.35035,     0.35135,     0.35235,     0.35335,     0.35435,     0.35536,     0.35636,     0.35736,     0.35836,     0.35936,\n",
            "           0.36036,     0.36136,     0.36236,     0.36336,     0.36436,     0.36537,     0.36637,     0.36737,     0.36837,     0.36937,     0.37037,     0.37137,     0.37237,     0.37337,     0.37437,     0.37538,     0.37638,     0.37738,     0.37838,     0.37938,     0.38038,     0.38138,     0.38238,     0.38338,\n",
            "           0.38438,     0.38539,     0.38639,     0.38739,     0.38839,     0.38939,     0.39039,     0.39139,     0.39239,     0.39339,     0.39439,      0.3954,      0.3964,      0.3974,      0.3984,      0.3994,      0.4004,      0.4014,      0.4024,      0.4034,      0.4044,     0.40541,     0.40641,     0.40741,\n",
            "           0.40841,     0.40941,     0.41041,     0.41141,     0.41241,     0.41341,     0.41441,     0.41542,     0.41642,     0.41742,     0.41842,     0.41942,     0.42042,     0.42142,     0.42242,     0.42342,     0.42442,     0.42543,     0.42643,     0.42743,     0.42843,     0.42943,     0.43043,     0.43143,\n",
            "           0.43243,     0.43343,     0.43443,     0.43544,     0.43644,     0.43744,     0.43844,     0.43944,     0.44044,     0.44144,     0.44244,     0.44344,     0.44444,     0.44545,     0.44645,     0.44745,     0.44845,     0.44945,     0.45045,     0.45145,     0.45245,     0.45345,     0.45445,     0.45546,\n",
            "           0.45646,     0.45746,     0.45846,     0.45946,     0.46046,     0.46146,     0.46246,     0.46346,     0.46446,     0.46547,     0.46647,     0.46747,     0.46847,     0.46947,     0.47047,     0.47147,     0.47247,     0.47347,     0.47447,     0.47548,     0.47648,     0.47748,     0.47848,     0.47948,\n",
            "           0.48048,     0.48148,     0.48248,     0.48348,     0.48448,     0.48549,     0.48649,     0.48749,     0.48849,     0.48949,     0.49049,     0.49149,     0.49249,     0.49349,     0.49449,      0.4955,      0.4965,      0.4975,      0.4985,      0.4995,      0.5005,      0.5015,      0.5025,      0.5035,\n",
            "            0.5045,     0.50551,     0.50651,     0.50751,     0.50851,     0.50951,     0.51051,     0.51151,     0.51251,     0.51351,     0.51451,     0.51552,     0.51652,     0.51752,     0.51852,     0.51952,     0.52052,     0.52152,     0.52252,     0.52352,     0.52452,     0.52553,     0.52653,     0.52753,\n",
            "           0.52853,     0.52953,     0.53053,     0.53153,     0.53253,     0.53353,     0.53453,     0.53554,     0.53654,     0.53754,     0.53854,     0.53954,     0.54054,     0.54154,     0.54254,     0.54354,     0.54454,     0.54555,     0.54655,     0.54755,     0.54855,     0.54955,     0.55055,     0.55155,\n",
            "           0.55255,     0.55355,     0.55455,     0.55556,     0.55656,     0.55756,     0.55856,     0.55956,     0.56056,     0.56156,     0.56256,     0.56356,     0.56456,     0.56557,     0.56657,     0.56757,     0.56857,     0.56957,     0.57057,     0.57157,     0.57257,     0.57357,     0.57457,     0.57558,\n",
            "           0.57658,     0.57758,     0.57858,     0.57958,     0.58058,     0.58158,     0.58258,     0.58358,     0.58458,     0.58559,     0.58659,     0.58759,     0.58859,     0.58959,     0.59059,     0.59159,     0.59259,     0.59359,     0.59459,      0.5956,      0.5966,      0.5976,      0.5986,      0.5996,\n",
            "            0.6006,      0.6016,      0.6026,      0.6036,      0.6046,     0.60561,     0.60661,     0.60761,     0.60861,     0.60961,     0.61061,     0.61161,     0.61261,     0.61361,     0.61461,     0.61562,     0.61662,     0.61762,     0.61862,     0.61962,     0.62062,     0.62162,     0.62262,     0.62362,\n",
            "           0.62462,     0.62563,     0.62663,     0.62763,     0.62863,     0.62963,     0.63063,     0.63163,     0.63263,     0.63363,     0.63463,     0.63564,     0.63664,     0.63764,     0.63864,     0.63964,     0.64064,     0.64164,     0.64264,     0.64364,     0.64464,     0.64565,     0.64665,     0.64765,\n",
            "           0.64865,     0.64965,     0.65065,     0.65165,     0.65265,     0.65365,     0.65465,     0.65566,     0.65666,     0.65766,     0.65866,     0.65966,     0.66066,     0.66166,     0.66266,     0.66366,     0.66466,     0.66567,     0.66667,     0.66767,     0.66867,     0.66967,     0.67067,     0.67167,\n",
            "           0.67267,     0.67367,     0.67467,     0.67568,     0.67668,     0.67768,     0.67868,     0.67968,     0.68068,     0.68168,     0.68268,     0.68368,     0.68468,     0.68569,     0.68669,     0.68769,     0.68869,     0.68969,     0.69069,     0.69169,     0.69269,     0.69369,     0.69469,      0.6957,\n",
            "            0.6967,      0.6977,      0.6987,      0.6997,      0.7007,      0.7017,      0.7027,      0.7037,      0.7047,     0.70571,     0.70671,     0.70771,     0.70871,     0.70971,     0.71071,     0.71171,     0.71271,     0.71371,     0.71471,     0.71572,     0.71672,     0.71772,     0.71872,     0.71972,\n",
            "           0.72072,     0.72172,     0.72272,     0.72372,     0.72472,     0.72573,     0.72673,     0.72773,     0.72873,     0.72973,     0.73073,     0.73173,     0.73273,     0.73373,     0.73473,     0.73574,     0.73674,     0.73774,     0.73874,     0.73974,     0.74074,     0.74174,     0.74274,     0.74374,\n",
            "           0.74474,     0.74575,     0.74675,     0.74775,     0.74875,     0.74975,     0.75075,     0.75175,     0.75275,     0.75375,     0.75475,     0.75576,     0.75676,     0.75776,     0.75876,     0.75976,     0.76076,     0.76176,     0.76276,     0.76376,     0.76476,     0.76577,     0.76677,     0.76777,\n",
            "           0.76877,     0.76977,     0.77077,     0.77177,     0.77277,     0.77377,     0.77477,     0.77578,     0.77678,     0.77778,     0.77878,     0.77978,     0.78078,     0.78178,     0.78278,     0.78378,     0.78478,     0.78579,     0.78679,     0.78779,     0.78879,     0.78979,     0.79079,     0.79179,\n",
            "           0.79279,     0.79379,     0.79479,      0.7958,      0.7968,      0.7978,      0.7988,      0.7998,      0.8008,      0.8018,      0.8028,      0.8038,      0.8048,     0.80581,     0.80681,     0.80781,     0.80881,     0.80981,     0.81081,     0.81181,     0.81281,     0.81381,     0.81481,     0.81582,\n",
            "           0.81682,     0.81782,     0.81882,     0.81982,     0.82082,     0.82182,     0.82282,     0.82382,     0.82482,     0.82583,     0.82683,     0.82783,     0.82883,     0.82983,     0.83083,     0.83183,     0.83283,     0.83383,     0.83483,     0.83584,     0.83684,     0.83784,     0.83884,     0.83984,\n",
            "           0.84084,     0.84184,     0.84284,     0.84384,     0.84484,     0.84585,     0.84685,     0.84785,     0.84885,     0.84985,     0.85085,     0.85185,     0.85285,     0.85385,     0.85485,     0.85586,     0.85686,     0.85786,     0.85886,     0.85986,     0.86086,     0.86186,     0.86286,     0.86386,\n",
            "           0.86486,     0.86587,     0.86687,     0.86787,     0.86887,     0.86987,     0.87087,     0.87187,     0.87287,     0.87387,     0.87487,     0.87588,     0.87688,     0.87788,     0.87888,     0.87988,     0.88088,     0.88188,     0.88288,     0.88388,     0.88488,     0.88589,     0.88689,     0.88789,\n",
            "           0.88889,     0.88989,     0.89089,     0.89189,     0.89289,     0.89389,     0.89489,      0.8959,      0.8969,      0.8979,      0.8989,      0.8999,      0.9009,      0.9019,      0.9029,      0.9039,      0.9049,     0.90591,     0.90691,     0.90791,     0.90891,     0.90991,     0.91091,     0.91191,\n",
            "           0.91291,     0.91391,     0.91491,     0.91592,     0.91692,     0.91792,     0.91892,     0.91992,     0.92092,     0.92192,     0.92292,     0.92392,     0.92492,     0.92593,     0.92693,     0.92793,     0.92893,     0.92993,     0.93093,     0.93193,     0.93293,     0.93393,     0.93493,     0.93594,\n",
            "           0.93694,     0.93794,     0.93894,     0.93994,     0.94094,     0.94194,     0.94294,     0.94394,     0.94494,     0.94595,     0.94695,     0.94795,     0.94895,     0.94995,     0.95095,     0.95195,     0.95295,     0.95395,     0.95495,     0.95596,     0.95696,     0.95796,     0.95896,     0.95996,\n",
            "           0.96096,     0.96196,     0.96296,     0.96396,     0.96496,     0.96597,     0.96697,     0.96797,     0.96897,     0.96997,     0.97097,     0.97197,     0.97297,     0.97397,     0.97497,     0.97598,     0.97698,     0.97798,     0.97898,     0.97998,     0.98098,     0.98198,     0.98298,     0.98398,\n",
            "           0.98498,     0.98599,     0.98699,     0.98799,     0.98899,     0.98999,     0.99099,     0.99199,     0.99299,     0.99399,     0.99499,       0.996,       0.997,       0.998,       0.999,           1]), array([[   0.039542,    0.039546,    0.055836, ...,           0,           0,           0],\n",
            "       [    0.14331,     0.14333,     0.19903, ...,           0,           0,           0],\n",
            "       [   0.092184,    0.092231,     0.13685, ...,           0,           0,           0],\n",
            "       ...,\n",
            "       [  0.0053908,   0.0053908,   0.0091495, ...,           0,           0,           0],\n",
            "       [   0.010157,    0.010164,    0.014645, ...,           0,           0,           0],\n",
            "       [   0.021505,    0.021505,    0.038229, ...,           0,           0,           0]]), 'Confidence', 'F1'], [array([          0,    0.001001,    0.002002,    0.003003,    0.004004,    0.005005,    0.006006,    0.007007,    0.008008,    0.009009,     0.01001,    0.011011,    0.012012,    0.013013,    0.014014,    0.015015,    0.016016,    0.017017,    0.018018,    0.019019,     0.02002,    0.021021,    0.022022,    0.023023,\n",
            "          0.024024,    0.025025,    0.026026,    0.027027,    0.028028,    0.029029,     0.03003,    0.031031,    0.032032,    0.033033,    0.034034,    0.035035,    0.036036,    0.037037,    0.038038,    0.039039,     0.04004,    0.041041,    0.042042,    0.043043,    0.044044,    0.045045,    0.046046,    0.047047,\n",
            "          0.048048,    0.049049,     0.05005,    0.051051,    0.052052,    0.053053,    0.054054,    0.055055,    0.056056,    0.057057,    0.058058,    0.059059,     0.06006,    0.061061,    0.062062,    0.063063,    0.064064,    0.065065,    0.066066,    0.067067,    0.068068,    0.069069,     0.07007,    0.071071,\n",
            "          0.072072,    0.073073,    0.074074,    0.075075,    0.076076,    0.077077,    0.078078,    0.079079,     0.08008,    0.081081,    0.082082,    0.083083,    0.084084,    0.085085,    0.086086,    0.087087,    0.088088,    0.089089,     0.09009,    0.091091,    0.092092,    0.093093,    0.094094,    0.095095,\n",
            "          0.096096,    0.097097,    0.098098,    0.099099,      0.1001,      0.1011,      0.1021,      0.1031,      0.1041,     0.10511,     0.10611,     0.10711,     0.10811,     0.10911,     0.11011,     0.11111,     0.11211,     0.11311,     0.11411,     0.11512,     0.11612,     0.11712,     0.11812,     0.11912,\n",
            "           0.12012,     0.12112,     0.12212,     0.12312,     0.12412,     0.12513,     0.12613,     0.12713,     0.12813,     0.12913,     0.13013,     0.13113,     0.13213,     0.13313,     0.13413,     0.13514,     0.13614,     0.13714,     0.13814,     0.13914,     0.14014,     0.14114,     0.14214,     0.14314,\n",
            "           0.14414,     0.14515,     0.14615,     0.14715,     0.14815,     0.14915,     0.15015,     0.15115,     0.15215,     0.15315,     0.15415,     0.15516,     0.15616,     0.15716,     0.15816,     0.15916,     0.16016,     0.16116,     0.16216,     0.16316,     0.16416,     0.16517,     0.16617,     0.16717,\n",
            "           0.16817,     0.16917,     0.17017,     0.17117,     0.17217,     0.17317,     0.17417,     0.17518,     0.17618,     0.17718,     0.17818,     0.17918,     0.18018,     0.18118,     0.18218,     0.18318,     0.18418,     0.18519,     0.18619,     0.18719,     0.18819,     0.18919,     0.19019,     0.19119,\n",
            "           0.19219,     0.19319,     0.19419,      0.1952,      0.1962,      0.1972,      0.1982,      0.1992,      0.2002,      0.2012,      0.2022,      0.2032,      0.2042,     0.20521,     0.20621,     0.20721,     0.20821,     0.20921,     0.21021,     0.21121,     0.21221,     0.21321,     0.21421,     0.21522,\n",
            "           0.21622,     0.21722,     0.21822,     0.21922,     0.22022,     0.22122,     0.22222,     0.22322,     0.22422,     0.22523,     0.22623,     0.22723,     0.22823,     0.22923,     0.23023,     0.23123,     0.23223,     0.23323,     0.23423,     0.23524,     0.23624,     0.23724,     0.23824,     0.23924,\n",
            "           0.24024,     0.24124,     0.24224,     0.24324,     0.24424,     0.24525,     0.24625,     0.24725,     0.24825,     0.24925,     0.25025,     0.25125,     0.25225,     0.25325,     0.25425,     0.25526,     0.25626,     0.25726,     0.25826,     0.25926,     0.26026,     0.26126,     0.26226,     0.26326,\n",
            "           0.26426,     0.26527,     0.26627,     0.26727,     0.26827,     0.26927,     0.27027,     0.27127,     0.27227,     0.27327,     0.27427,     0.27528,     0.27628,     0.27728,     0.27828,     0.27928,     0.28028,     0.28128,     0.28228,     0.28328,     0.28428,     0.28529,     0.28629,     0.28729,\n",
            "           0.28829,     0.28929,     0.29029,     0.29129,     0.29229,     0.29329,     0.29429,      0.2953,      0.2963,      0.2973,      0.2983,      0.2993,      0.3003,      0.3013,      0.3023,      0.3033,      0.3043,     0.30531,     0.30631,     0.30731,     0.30831,     0.30931,     0.31031,     0.31131,\n",
            "           0.31231,     0.31331,     0.31431,     0.31532,     0.31632,     0.31732,     0.31832,     0.31932,     0.32032,     0.32132,     0.32232,     0.32332,     0.32432,     0.32533,     0.32633,     0.32733,     0.32833,     0.32933,     0.33033,     0.33133,     0.33233,     0.33333,     0.33433,     0.33534,\n",
            "           0.33634,     0.33734,     0.33834,     0.33934,     0.34034,     0.34134,     0.34234,     0.34334,     0.34434,     0.34535,     0.34635,     0.34735,     0.34835,     0.34935,     0.35035,     0.35135,     0.35235,     0.35335,     0.35435,     0.35536,     0.35636,     0.35736,     0.35836,     0.35936,\n",
            "           0.36036,     0.36136,     0.36236,     0.36336,     0.36436,     0.36537,     0.36637,     0.36737,     0.36837,     0.36937,     0.37037,     0.37137,     0.37237,     0.37337,     0.37437,     0.37538,     0.37638,     0.37738,     0.37838,     0.37938,     0.38038,     0.38138,     0.38238,     0.38338,\n",
            "           0.38438,     0.38539,     0.38639,     0.38739,     0.38839,     0.38939,     0.39039,     0.39139,     0.39239,     0.39339,     0.39439,      0.3954,      0.3964,      0.3974,      0.3984,      0.3994,      0.4004,      0.4014,      0.4024,      0.4034,      0.4044,     0.40541,     0.40641,     0.40741,\n",
            "           0.40841,     0.40941,     0.41041,     0.41141,     0.41241,     0.41341,     0.41441,     0.41542,     0.41642,     0.41742,     0.41842,     0.41942,     0.42042,     0.42142,     0.42242,     0.42342,     0.42442,     0.42543,     0.42643,     0.42743,     0.42843,     0.42943,     0.43043,     0.43143,\n",
            "           0.43243,     0.43343,     0.43443,     0.43544,     0.43644,     0.43744,     0.43844,     0.43944,     0.44044,     0.44144,     0.44244,     0.44344,     0.44444,     0.44545,     0.44645,     0.44745,     0.44845,     0.44945,     0.45045,     0.45145,     0.45245,     0.45345,     0.45445,     0.45546,\n",
            "           0.45646,     0.45746,     0.45846,     0.45946,     0.46046,     0.46146,     0.46246,     0.46346,     0.46446,     0.46547,     0.46647,     0.46747,     0.46847,     0.46947,     0.47047,     0.47147,     0.47247,     0.47347,     0.47447,     0.47548,     0.47648,     0.47748,     0.47848,     0.47948,\n",
            "           0.48048,     0.48148,     0.48248,     0.48348,     0.48448,     0.48549,     0.48649,     0.48749,     0.48849,     0.48949,     0.49049,     0.49149,     0.49249,     0.49349,     0.49449,      0.4955,      0.4965,      0.4975,      0.4985,      0.4995,      0.5005,      0.5015,      0.5025,      0.5035,\n",
            "            0.5045,     0.50551,     0.50651,     0.50751,     0.50851,     0.50951,     0.51051,     0.51151,     0.51251,     0.51351,     0.51451,     0.51552,     0.51652,     0.51752,     0.51852,     0.51952,     0.52052,     0.52152,     0.52252,     0.52352,     0.52452,     0.52553,     0.52653,     0.52753,\n",
            "           0.52853,     0.52953,     0.53053,     0.53153,     0.53253,     0.53353,     0.53453,     0.53554,     0.53654,     0.53754,     0.53854,     0.53954,     0.54054,     0.54154,     0.54254,     0.54354,     0.54454,     0.54555,     0.54655,     0.54755,     0.54855,     0.54955,     0.55055,     0.55155,\n",
            "           0.55255,     0.55355,     0.55455,     0.55556,     0.55656,     0.55756,     0.55856,     0.55956,     0.56056,     0.56156,     0.56256,     0.56356,     0.56456,     0.56557,     0.56657,     0.56757,     0.56857,     0.56957,     0.57057,     0.57157,     0.57257,     0.57357,     0.57457,     0.57558,\n",
            "           0.57658,     0.57758,     0.57858,     0.57958,     0.58058,     0.58158,     0.58258,     0.58358,     0.58458,     0.58559,     0.58659,     0.58759,     0.58859,     0.58959,     0.59059,     0.59159,     0.59259,     0.59359,     0.59459,      0.5956,      0.5966,      0.5976,      0.5986,      0.5996,\n",
            "            0.6006,      0.6016,      0.6026,      0.6036,      0.6046,     0.60561,     0.60661,     0.60761,     0.60861,     0.60961,     0.61061,     0.61161,     0.61261,     0.61361,     0.61461,     0.61562,     0.61662,     0.61762,     0.61862,     0.61962,     0.62062,     0.62162,     0.62262,     0.62362,\n",
            "           0.62462,     0.62563,     0.62663,     0.62763,     0.62863,     0.62963,     0.63063,     0.63163,     0.63263,     0.63363,     0.63463,     0.63564,     0.63664,     0.63764,     0.63864,     0.63964,     0.64064,     0.64164,     0.64264,     0.64364,     0.64464,     0.64565,     0.64665,     0.64765,\n",
            "           0.64865,     0.64965,     0.65065,     0.65165,     0.65265,     0.65365,     0.65465,     0.65566,     0.65666,     0.65766,     0.65866,     0.65966,     0.66066,     0.66166,     0.66266,     0.66366,     0.66466,     0.66567,     0.66667,     0.66767,     0.66867,     0.66967,     0.67067,     0.67167,\n",
            "           0.67267,     0.67367,     0.67467,     0.67568,     0.67668,     0.67768,     0.67868,     0.67968,     0.68068,     0.68168,     0.68268,     0.68368,     0.68468,     0.68569,     0.68669,     0.68769,     0.68869,     0.68969,     0.69069,     0.69169,     0.69269,     0.69369,     0.69469,      0.6957,\n",
            "            0.6967,      0.6977,      0.6987,      0.6997,      0.7007,      0.7017,      0.7027,      0.7037,      0.7047,     0.70571,     0.70671,     0.70771,     0.70871,     0.70971,     0.71071,     0.71171,     0.71271,     0.71371,     0.71471,     0.71572,     0.71672,     0.71772,     0.71872,     0.71972,\n",
            "           0.72072,     0.72172,     0.72272,     0.72372,     0.72472,     0.72573,     0.72673,     0.72773,     0.72873,     0.72973,     0.73073,     0.73173,     0.73273,     0.73373,     0.73473,     0.73574,     0.73674,     0.73774,     0.73874,     0.73974,     0.74074,     0.74174,     0.74274,     0.74374,\n",
            "           0.74474,     0.74575,     0.74675,     0.74775,     0.74875,     0.74975,     0.75075,     0.75175,     0.75275,     0.75375,     0.75475,     0.75576,     0.75676,     0.75776,     0.75876,     0.75976,     0.76076,     0.76176,     0.76276,     0.76376,     0.76476,     0.76577,     0.76677,     0.76777,\n",
            "           0.76877,     0.76977,     0.77077,     0.77177,     0.77277,     0.77377,     0.77477,     0.77578,     0.77678,     0.77778,     0.77878,     0.77978,     0.78078,     0.78178,     0.78278,     0.78378,     0.78478,     0.78579,     0.78679,     0.78779,     0.78879,     0.78979,     0.79079,     0.79179,\n",
            "           0.79279,     0.79379,     0.79479,      0.7958,      0.7968,      0.7978,      0.7988,      0.7998,      0.8008,      0.8018,      0.8028,      0.8038,      0.8048,     0.80581,     0.80681,     0.80781,     0.80881,     0.80981,     0.81081,     0.81181,     0.81281,     0.81381,     0.81481,     0.81582,\n",
            "           0.81682,     0.81782,     0.81882,     0.81982,     0.82082,     0.82182,     0.82282,     0.82382,     0.82482,     0.82583,     0.82683,     0.82783,     0.82883,     0.82983,     0.83083,     0.83183,     0.83283,     0.83383,     0.83483,     0.83584,     0.83684,     0.83784,     0.83884,     0.83984,\n",
            "           0.84084,     0.84184,     0.84284,     0.84384,     0.84484,     0.84585,     0.84685,     0.84785,     0.84885,     0.84985,     0.85085,     0.85185,     0.85285,     0.85385,     0.85485,     0.85586,     0.85686,     0.85786,     0.85886,     0.85986,     0.86086,     0.86186,     0.86286,     0.86386,\n",
            "           0.86486,     0.86587,     0.86687,     0.86787,     0.86887,     0.86987,     0.87087,     0.87187,     0.87287,     0.87387,     0.87487,     0.87588,     0.87688,     0.87788,     0.87888,     0.87988,     0.88088,     0.88188,     0.88288,     0.88388,     0.88488,     0.88589,     0.88689,     0.88789,\n",
            "           0.88889,     0.88989,     0.89089,     0.89189,     0.89289,     0.89389,     0.89489,      0.8959,      0.8969,      0.8979,      0.8989,      0.8999,      0.9009,      0.9019,      0.9029,      0.9039,      0.9049,     0.90591,     0.90691,     0.90791,     0.90891,     0.90991,     0.91091,     0.91191,\n",
            "           0.91291,     0.91391,     0.91491,     0.91592,     0.91692,     0.91792,     0.91892,     0.91992,     0.92092,     0.92192,     0.92292,     0.92392,     0.92492,     0.92593,     0.92693,     0.92793,     0.92893,     0.92993,     0.93093,     0.93193,     0.93293,     0.93393,     0.93493,     0.93594,\n",
            "           0.93694,     0.93794,     0.93894,     0.93994,     0.94094,     0.94194,     0.94294,     0.94394,     0.94494,     0.94595,     0.94695,     0.94795,     0.94895,     0.94995,     0.95095,     0.95195,     0.95295,     0.95395,     0.95495,     0.95596,     0.95696,     0.95796,     0.95896,     0.95996,\n",
            "           0.96096,     0.96196,     0.96296,     0.96396,     0.96496,     0.96597,     0.96697,     0.96797,     0.96897,     0.96997,     0.97097,     0.97197,     0.97297,     0.97397,     0.97497,     0.97598,     0.97698,     0.97798,     0.97898,     0.97998,     0.98098,     0.98198,     0.98298,     0.98398,\n",
            "           0.98498,     0.98599,     0.98699,     0.98799,     0.98899,     0.98999,     0.99099,     0.99199,     0.99299,     0.99399,     0.99499,       0.996,       0.997,       0.998,       0.999,           1]), array([[   0.020178,     0.02018,    0.028765, ...,           1,           1,           1],\n",
            "       [   0.077372,    0.077385,     0.11108, ...,           1,           1,           1],\n",
            "       [   0.048421,    0.048447,     0.07375, ...,           1,           1,           1],\n",
            "       ...,\n",
            "       [  0.0027027,   0.0027027,   0.0045958, ...,           1,           1,           1],\n",
            "       [  0.0051125,    0.005116,   0.0073931, ...,           1,           1,           1],\n",
            "       [   0.010884,    0.010884,    0.019534, ...,           1,           1,           1]]), 'Confidence', 'Precision'], [array([          0,    0.001001,    0.002002,    0.003003,    0.004004,    0.005005,    0.006006,    0.007007,    0.008008,    0.009009,     0.01001,    0.011011,    0.012012,    0.013013,    0.014014,    0.015015,    0.016016,    0.017017,    0.018018,    0.019019,     0.02002,    0.021021,    0.022022,    0.023023,\n",
            "          0.024024,    0.025025,    0.026026,    0.027027,    0.028028,    0.029029,     0.03003,    0.031031,    0.032032,    0.033033,    0.034034,    0.035035,    0.036036,    0.037037,    0.038038,    0.039039,     0.04004,    0.041041,    0.042042,    0.043043,    0.044044,    0.045045,    0.046046,    0.047047,\n",
            "          0.048048,    0.049049,     0.05005,    0.051051,    0.052052,    0.053053,    0.054054,    0.055055,    0.056056,    0.057057,    0.058058,    0.059059,     0.06006,    0.061061,    0.062062,    0.063063,    0.064064,    0.065065,    0.066066,    0.067067,    0.068068,    0.069069,     0.07007,    0.071071,\n",
            "          0.072072,    0.073073,    0.074074,    0.075075,    0.076076,    0.077077,    0.078078,    0.079079,     0.08008,    0.081081,    0.082082,    0.083083,    0.084084,    0.085085,    0.086086,    0.087087,    0.088088,    0.089089,     0.09009,    0.091091,    0.092092,    0.093093,    0.094094,    0.095095,\n",
            "          0.096096,    0.097097,    0.098098,    0.099099,      0.1001,      0.1011,      0.1021,      0.1031,      0.1041,     0.10511,     0.10611,     0.10711,     0.10811,     0.10911,     0.11011,     0.11111,     0.11211,     0.11311,     0.11411,     0.11512,     0.11612,     0.11712,     0.11812,     0.11912,\n",
            "           0.12012,     0.12112,     0.12212,     0.12312,     0.12412,     0.12513,     0.12613,     0.12713,     0.12813,     0.12913,     0.13013,     0.13113,     0.13213,     0.13313,     0.13413,     0.13514,     0.13614,     0.13714,     0.13814,     0.13914,     0.14014,     0.14114,     0.14214,     0.14314,\n",
            "           0.14414,     0.14515,     0.14615,     0.14715,     0.14815,     0.14915,     0.15015,     0.15115,     0.15215,     0.15315,     0.15415,     0.15516,     0.15616,     0.15716,     0.15816,     0.15916,     0.16016,     0.16116,     0.16216,     0.16316,     0.16416,     0.16517,     0.16617,     0.16717,\n",
            "           0.16817,     0.16917,     0.17017,     0.17117,     0.17217,     0.17317,     0.17417,     0.17518,     0.17618,     0.17718,     0.17818,     0.17918,     0.18018,     0.18118,     0.18218,     0.18318,     0.18418,     0.18519,     0.18619,     0.18719,     0.18819,     0.18919,     0.19019,     0.19119,\n",
            "           0.19219,     0.19319,     0.19419,      0.1952,      0.1962,      0.1972,      0.1982,      0.1992,      0.2002,      0.2012,      0.2022,      0.2032,      0.2042,     0.20521,     0.20621,     0.20721,     0.20821,     0.20921,     0.21021,     0.21121,     0.21221,     0.21321,     0.21421,     0.21522,\n",
            "           0.21622,     0.21722,     0.21822,     0.21922,     0.22022,     0.22122,     0.22222,     0.22322,     0.22422,     0.22523,     0.22623,     0.22723,     0.22823,     0.22923,     0.23023,     0.23123,     0.23223,     0.23323,     0.23423,     0.23524,     0.23624,     0.23724,     0.23824,     0.23924,\n",
            "           0.24024,     0.24124,     0.24224,     0.24324,     0.24424,     0.24525,     0.24625,     0.24725,     0.24825,     0.24925,     0.25025,     0.25125,     0.25225,     0.25325,     0.25425,     0.25526,     0.25626,     0.25726,     0.25826,     0.25926,     0.26026,     0.26126,     0.26226,     0.26326,\n",
            "           0.26426,     0.26527,     0.26627,     0.26727,     0.26827,     0.26927,     0.27027,     0.27127,     0.27227,     0.27327,     0.27427,     0.27528,     0.27628,     0.27728,     0.27828,     0.27928,     0.28028,     0.28128,     0.28228,     0.28328,     0.28428,     0.28529,     0.28629,     0.28729,\n",
            "           0.28829,     0.28929,     0.29029,     0.29129,     0.29229,     0.29329,     0.29429,      0.2953,      0.2963,      0.2973,      0.2983,      0.2993,      0.3003,      0.3013,      0.3023,      0.3033,      0.3043,     0.30531,     0.30631,     0.30731,     0.30831,     0.30931,     0.31031,     0.31131,\n",
            "           0.31231,     0.31331,     0.31431,     0.31532,     0.31632,     0.31732,     0.31832,     0.31932,     0.32032,     0.32132,     0.32232,     0.32332,     0.32432,     0.32533,     0.32633,     0.32733,     0.32833,     0.32933,     0.33033,     0.33133,     0.33233,     0.33333,     0.33433,     0.33534,\n",
            "           0.33634,     0.33734,     0.33834,     0.33934,     0.34034,     0.34134,     0.34234,     0.34334,     0.34434,     0.34535,     0.34635,     0.34735,     0.34835,     0.34935,     0.35035,     0.35135,     0.35235,     0.35335,     0.35435,     0.35536,     0.35636,     0.35736,     0.35836,     0.35936,\n",
            "           0.36036,     0.36136,     0.36236,     0.36336,     0.36436,     0.36537,     0.36637,     0.36737,     0.36837,     0.36937,     0.37037,     0.37137,     0.37237,     0.37337,     0.37437,     0.37538,     0.37638,     0.37738,     0.37838,     0.37938,     0.38038,     0.38138,     0.38238,     0.38338,\n",
            "           0.38438,     0.38539,     0.38639,     0.38739,     0.38839,     0.38939,     0.39039,     0.39139,     0.39239,     0.39339,     0.39439,      0.3954,      0.3964,      0.3974,      0.3984,      0.3994,      0.4004,      0.4014,      0.4024,      0.4034,      0.4044,     0.40541,     0.40641,     0.40741,\n",
            "           0.40841,     0.40941,     0.41041,     0.41141,     0.41241,     0.41341,     0.41441,     0.41542,     0.41642,     0.41742,     0.41842,     0.41942,     0.42042,     0.42142,     0.42242,     0.42342,     0.42442,     0.42543,     0.42643,     0.42743,     0.42843,     0.42943,     0.43043,     0.43143,\n",
            "           0.43243,     0.43343,     0.43443,     0.43544,     0.43644,     0.43744,     0.43844,     0.43944,     0.44044,     0.44144,     0.44244,     0.44344,     0.44444,     0.44545,     0.44645,     0.44745,     0.44845,     0.44945,     0.45045,     0.45145,     0.45245,     0.45345,     0.45445,     0.45546,\n",
            "           0.45646,     0.45746,     0.45846,     0.45946,     0.46046,     0.46146,     0.46246,     0.46346,     0.46446,     0.46547,     0.46647,     0.46747,     0.46847,     0.46947,     0.47047,     0.47147,     0.47247,     0.47347,     0.47447,     0.47548,     0.47648,     0.47748,     0.47848,     0.47948,\n",
            "           0.48048,     0.48148,     0.48248,     0.48348,     0.48448,     0.48549,     0.48649,     0.48749,     0.48849,     0.48949,     0.49049,     0.49149,     0.49249,     0.49349,     0.49449,      0.4955,      0.4965,      0.4975,      0.4985,      0.4995,      0.5005,      0.5015,      0.5025,      0.5035,\n",
            "            0.5045,     0.50551,     0.50651,     0.50751,     0.50851,     0.50951,     0.51051,     0.51151,     0.51251,     0.51351,     0.51451,     0.51552,     0.51652,     0.51752,     0.51852,     0.51952,     0.52052,     0.52152,     0.52252,     0.52352,     0.52452,     0.52553,     0.52653,     0.52753,\n",
            "           0.52853,     0.52953,     0.53053,     0.53153,     0.53253,     0.53353,     0.53453,     0.53554,     0.53654,     0.53754,     0.53854,     0.53954,     0.54054,     0.54154,     0.54254,     0.54354,     0.54454,     0.54555,     0.54655,     0.54755,     0.54855,     0.54955,     0.55055,     0.55155,\n",
            "           0.55255,     0.55355,     0.55455,     0.55556,     0.55656,     0.55756,     0.55856,     0.55956,     0.56056,     0.56156,     0.56256,     0.56356,     0.56456,     0.56557,     0.56657,     0.56757,     0.56857,     0.56957,     0.57057,     0.57157,     0.57257,     0.57357,     0.57457,     0.57558,\n",
            "           0.57658,     0.57758,     0.57858,     0.57958,     0.58058,     0.58158,     0.58258,     0.58358,     0.58458,     0.58559,     0.58659,     0.58759,     0.58859,     0.58959,     0.59059,     0.59159,     0.59259,     0.59359,     0.59459,      0.5956,      0.5966,      0.5976,      0.5986,      0.5996,\n",
            "            0.6006,      0.6016,      0.6026,      0.6036,      0.6046,     0.60561,     0.60661,     0.60761,     0.60861,     0.60961,     0.61061,     0.61161,     0.61261,     0.61361,     0.61461,     0.61562,     0.61662,     0.61762,     0.61862,     0.61962,     0.62062,     0.62162,     0.62262,     0.62362,\n",
            "           0.62462,     0.62563,     0.62663,     0.62763,     0.62863,     0.62963,     0.63063,     0.63163,     0.63263,     0.63363,     0.63463,     0.63564,     0.63664,     0.63764,     0.63864,     0.63964,     0.64064,     0.64164,     0.64264,     0.64364,     0.64464,     0.64565,     0.64665,     0.64765,\n",
            "           0.64865,     0.64965,     0.65065,     0.65165,     0.65265,     0.65365,     0.65465,     0.65566,     0.65666,     0.65766,     0.65866,     0.65966,     0.66066,     0.66166,     0.66266,     0.66366,     0.66466,     0.66567,     0.66667,     0.66767,     0.66867,     0.66967,     0.67067,     0.67167,\n",
            "           0.67267,     0.67367,     0.67467,     0.67568,     0.67668,     0.67768,     0.67868,     0.67968,     0.68068,     0.68168,     0.68268,     0.68368,     0.68468,     0.68569,     0.68669,     0.68769,     0.68869,     0.68969,     0.69069,     0.69169,     0.69269,     0.69369,     0.69469,      0.6957,\n",
            "            0.6967,      0.6977,      0.6987,      0.6997,      0.7007,      0.7017,      0.7027,      0.7037,      0.7047,     0.70571,     0.70671,     0.70771,     0.70871,     0.70971,     0.71071,     0.71171,     0.71271,     0.71371,     0.71471,     0.71572,     0.71672,     0.71772,     0.71872,     0.71972,\n",
            "           0.72072,     0.72172,     0.72272,     0.72372,     0.72472,     0.72573,     0.72673,     0.72773,     0.72873,     0.72973,     0.73073,     0.73173,     0.73273,     0.73373,     0.73473,     0.73574,     0.73674,     0.73774,     0.73874,     0.73974,     0.74074,     0.74174,     0.74274,     0.74374,\n",
            "           0.74474,     0.74575,     0.74675,     0.74775,     0.74875,     0.74975,     0.75075,     0.75175,     0.75275,     0.75375,     0.75475,     0.75576,     0.75676,     0.75776,     0.75876,     0.75976,     0.76076,     0.76176,     0.76276,     0.76376,     0.76476,     0.76577,     0.76677,     0.76777,\n",
            "           0.76877,     0.76977,     0.77077,     0.77177,     0.77277,     0.77377,     0.77477,     0.77578,     0.77678,     0.77778,     0.77878,     0.77978,     0.78078,     0.78178,     0.78278,     0.78378,     0.78478,     0.78579,     0.78679,     0.78779,     0.78879,     0.78979,     0.79079,     0.79179,\n",
            "           0.79279,     0.79379,     0.79479,      0.7958,      0.7968,      0.7978,      0.7988,      0.7998,      0.8008,      0.8018,      0.8028,      0.8038,      0.8048,     0.80581,     0.80681,     0.80781,     0.80881,     0.80981,     0.81081,     0.81181,     0.81281,     0.81381,     0.81481,     0.81582,\n",
            "           0.81682,     0.81782,     0.81882,     0.81982,     0.82082,     0.82182,     0.82282,     0.82382,     0.82482,     0.82583,     0.82683,     0.82783,     0.82883,     0.82983,     0.83083,     0.83183,     0.83283,     0.83383,     0.83483,     0.83584,     0.83684,     0.83784,     0.83884,     0.83984,\n",
            "           0.84084,     0.84184,     0.84284,     0.84384,     0.84484,     0.84585,     0.84685,     0.84785,     0.84885,     0.84985,     0.85085,     0.85185,     0.85285,     0.85385,     0.85485,     0.85586,     0.85686,     0.85786,     0.85886,     0.85986,     0.86086,     0.86186,     0.86286,     0.86386,\n",
            "           0.86486,     0.86587,     0.86687,     0.86787,     0.86887,     0.86987,     0.87087,     0.87187,     0.87287,     0.87387,     0.87487,     0.87588,     0.87688,     0.87788,     0.87888,     0.87988,     0.88088,     0.88188,     0.88288,     0.88388,     0.88488,     0.88589,     0.88689,     0.88789,\n",
            "           0.88889,     0.88989,     0.89089,     0.89189,     0.89289,     0.89389,     0.89489,      0.8959,      0.8969,      0.8979,      0.8989,      0.8999,      0.9009,      0.9019,      0.9029,      0.9039,      0.9049,     0.90591,     0.90691,     0.90791,     0.90891,     0.90991,     0.91091,     0.91191,\n",
            "           0.91291,     0.91391,     0.91491,     0.91592,     0.91692,     0.91792,     0.91892,     0.91992,     0.92092,     0.92192,     0.92292,     0.92392,     0.92492,     0.92593,     0.92693,     0.92793,     0.92893,     0.92993,     0.93093,     0.93193,     0.93293,     0.93393,     0.93493,     0.93594,\n",
            "           0.93694,     0.93794,     0.93894,     0.93994,     0.94094,     0.94194,     0.94294,     0.94394,     0.94494,     0.94595,     0.94695,     0.94795,     0.94895,     0.94995,     0.95095,     0.95195,     0.95295,     0.95395,     0.95495,     0.95596,     0.95696,     0.95796,     0.95896,     0.95996,\n",
            "           0.96096,     0.96196,     0.96296,     0.96396,     0.96496,     0.96597,     0.96697,     0.96797,     0.96897,     0.96997,     0.97097,     0.97197,     0.97297,     0.97397,     0.97497,     0.97598,     0.97698,     0.97798,     0.97898,     0.97998,     0.98098,     0.98198,     0.98298,     0.98398,\n",
            "           0.98498,     0.98599,     0.98699,     0.98799,     0.98899,     0.98999,     0.99099,     0.99199,     0.99299,     0.99399,     0.99499,       0.996,       0.997,       0.998,       0.999,           1]), array([[    0.97938,     0.97938,     0.94845, ...,           0,           0,           0],\n",
            "       [    0.96993,     0.96993,     0.95556, ...,           0,           0,           0],\n",
            "       [    0.95833,     0.95833,     0.94792, ...,           0,           0,           0],\n",
            "       ...,\n",
            "       [          1,           1,           1, ...,           0,           0,           0],\n",
            "       [    0.76923,     0.76923,     0.76923, ...,           0,           0,           0],\n",
            "       [    0.88889,     0.88889,     0.88889, ...,           0,           0,           0]]), 'Confidence', 'Recall']]\n",
            "fitness: 0.33110651861588714\n",
            "keys: ['metrics/precision(B)', 'metrics/recall(B)', 'metrics/mAP50(B)', 'metrics/mAP50-95(B)']\n",
            "maps: array([    0.32428,     0.44866,      0.5295,     0.19846,     0.28847,     0.11457,     0.30475,       0.796,    0.034601,    0.085413])\n",
            "names: {0: 'door', 1: 'cabinetDoor', 2: 'refrigeratorDoor', 3: 'window', 4: 'chair', 5: 'table', 6: 'cabinet', 7: 'couch', 8: 'openedDoor', 9: 'pole'}\n",
            "plot: True\n",
            "results_dict: {'metrics/precision(B)': 0.6194911400811892, 'metrics/recall(B)': 0.38629795210868717, 'metrics/mAP50(B)': 0.49882013238192735, 'metrics/mAP50-95(B)': 0.31247167264188264, 'fitness': 0.33110651861588714}\n",
            "save_dir: PosixPath('runs/detect/train2')\n",
            "speed: {'preprocess': 0.9899375782563016, 'inference': 6.8864702695721105, 'loss': 0.033847782606244436, 'postprocess': 2.251261295647134}\n",
            "task: 'detect'\n"
          ]
        }
      ]
    },
    {
      "cell_type": "code",
      "source": [
        "model.save(\"yolov8n_trained.pt\")  # Save the trained model"
      ],
      "metadata": {
        "id": "EpqmQsgOJ-9f"
      },
      "execution_count": 20,
      "outputs": []
    },
    {
      "cell_type": "code",
      "source": [
        "from google.colab import files\n",
        "uploaded = files.upload()"
      ],
      "metadata": {
        "id": "plNHPIQ_MwSg",
        "colab": {
          "base_uri": "https://localhost:8080/",
          "height": 73
        },
        "outputId": "808175ca-2ce7-4f11-d54e-475d5744670f"
      },
      "execution_count": 26,
      "outputs": [
        {
          "output_type": "display_data",
          "data": {
            "text/plain": [
              "<IPython.core.display.HTML object>"
            ],
            "text/html": [
              "\n",
              "     <input type=\"file\" id=\"files-5a69413b-4e87-45ed-a76e-c712f42db6c5\" name=\"files[]\" multiple disabled\n",
              "        style=\"border:none\" />\n",
              "     <output id=\"result-5a69413b-4e87-45ed-a76e-c712f42db6c5\">\n",
              "      Upload widget is only available when the cell has been executed in the\n",
              "      current browser session. Please rerun this cell to enable.\n",
              "      </output>\n",
              "      <script>// Copyright 2017 Google LLC\n",
              "//\n",
              "// Licensed under the Apache License, Version 2.0 (the \"License\");\n",
              "// you may not use this file except in compliance with the License.\n",
              "// You may obtain a copy of the License at\n",
              "//\n",
              "//      http://www.apache.org/licenses/LICENSE-2.0\n",
              "//\n",
              "// Unless required by applicable law or agreed to in writing, software\n",
              "// distributed under the License is distributed on an \"AS IS\" BASIS,\n",
              "// WITHOUT WARRANTIES OR CONDITIONS OF ANY KIND, either express or implied.\n",
              "// See the License for the specific language governing permissions and\n",
              "// limitations under the License.\n",
              "\n",
              "/**\n",
              " * @fileoverview Helpers for google.colab Python module.\n",
              " */\n",
              "(function(scope) {\n",
              "function span(text, styleAttributes = {}) {\n",
              "  const element = document.createElement('span');\n",
              "  element.textContent = text;\n",
              "  for (const key of Object.keys(styleAttributes)) {\n",
              "    element.style[key] = styleAttributes[key];\n",
              "  }\n",
              "  return element;\n",
              "}\n",
              "\n",
              "// Max number of bytes which will be uploaded at a time.\n",
              "const MAX_PAYLOAD_SIZE = 100 * 1024;\n",
              "\n",
              "function _uploadFiles(inputId, outputId) {\n",
              "  const steps = uploadFilesStep(inputId, outputId);\n",
              "  const outputElement = document.getElementById(outputId);\n",
              "  // Cache steps on the outputElement to make it available for the next call\n",
              "  // to uploadFilesContinue from Python.\n",
              "  outputElement.steps = steps;\n",
              "\n",
              "  return _uploadFilesContinue(outputId);\n",
              "}\n",
              "\n",
              "// This is roughly an async generator (not supported in the browser yet),\n",
              "// where there are multiple asynchronous steps and the Python side is going\n",
              "// to poll for completion of each step.\n",
              "// This uses a Promise to block the python side on completion of each step,\n",
              "// then passes the result of the previous step as the input to the next step.\n",
              "function _uploadFilesContinue(outputId) {\n",
              "  const outputElement = document.getElementById(outputId);\n",
              "  const steps = outputElement.steps;\n",
              "\n",
              "  const next = steps.next(outputElement.lastPromiseValue);\n",
              "  return Promise.resolve(next.value.promise).then((value) => {\n",
              "    // Cache the last promise value to make it available to the next\n",
              "    // step of the generator.\n",
              "    outputElement.lastPromiseValue = value;\n",
              "    return next.value.response;\n",
              "  });\n",
              "}\n",
              "\n",
              "/**\n",
              " * Generator function which is called between each async step of the upload\n",
              " * process.\n",
              " * @param {string} inputId Element ID of the input file picker element.\n",
              " * @param {string} outputId Element ID of the output display.\n",
              " * @return {!Iterable<!Object>} Iterable of next steps.\n",
              " */\n",
              "function* uploadFilesStep(inputId, outputId) {\n",
              "  const inputElement = document.getElementById(inputId);\n",
              "  inputElement.disabled = false;\n",
              "\n",
              "  const outputElement = document.getElementById(outputId);\n",
              "  outputElement.innerHTML = '';\n",
              "\n",
              "  const pickedPromise = new Promise((resolve) => {\n",
              "    inputElement.addEventListener('change', (e) => {\n",
              "      resolve(e.target.files);\n",
              "    });\n",
              "  });\n",
              "\n",
              "  const cancel = document.createElement('button');\n",
              "  inputElement.parentElement.appendChild(cancel);\n",
              "  cancel.textContent = 'Cancel upload';\n",
              "  const cancelPromise = new Promise((resolve) => {\n",
              "    cancel.onclick = () => {\n",
              "      resolve(null);\n",
              "    };\n",
              "  });\n",
              "\n",
              "  // Wait for the user to pick the files.\n",
              "  const files = yield {\n",
              "    promise: Promise.race([pickedPromise, cancelPromise]),\n",
              "    response: {\n",
              "      action: 'starting',\n",
              "    }\n",
              "  };\n",
              "\n",
              "  cancel.remove();\n",
              "\n",
              "  // Disable the input element since further picks are not allowed.\n",
              "  inputElement.disabled = true;\n",
              "\n",
              "  if (!files) {\n",
              "    return {\n",
              "      response: {\n",
              "        action: 'complete',\n",
              "      }\n",
              "    };\n",
              "  }\n",
              "\n",
              "  for (const file of files) {\n",
              "    const li = document.createElement('li');\n",
              "    li.append(span(file.name, {fontWeight: 'bold'}));\n",
              "    li.append(span(\n",
              "        `(${file.type || 'n/a'}) - ${file.size} bytes, ` +\n",
              "        `last modified: ${\n",
              "            file.lastModifiedDate ? file.lastModifiedDate.toLocaleDateString() :\n",
              "                                    'n/a'} - `));\n",
              "    const percent = span('0% done');\n",
              "    li.appendChild(percent);\n",
              "\n",
              "    outputElement.appendChild(li);\n",
              "\n",
              "    const fileDataPromise = new Promise((resolve) => {\n",
              "      const reader = new FileReader();\n",
              "      reader.onload = (e) => {\n",
              "        resolve(e.target.result);\n",
              "      };\n",
              "      reader.readAsArrayBuffer(file);\n",
              "    });\n",
              "    // Wait for the data to be ready.\n",
              "    let fileData = yield {\n",
              "      promise: fileDataPromise,\n",
              "      response: {\n",
              "        action: 'continue',\n",
              "      }\n",
              "    };\n",
              "\n",
              "    // Use a chunked sending to avoid message size limits. See b/62115660.\n",
              "    let position = 0;\n",
              "    do {\n",
              "      const length = Math.min(fileData.byteLength - position, MAX_PAYLOAD_SIZE);\n",
              "      const chunk = new Uint8Array(fileData, position, length);\n",
              "      position += length;\n",
              "\n",
              "      const base64 = btoa(String.fromCharCode.apply(null, chunk));\n",
              "      yield {\n",
              "        response: {\n",
              "          action: 'append',\n",
              "          file: file.name,\n",
              "          data: base64,\n",
              "        },\n",
              "      };\n",
              "\n",
              "      let percentDone = fileData.byteLength === 0 ?\n",
              "          100 :\n",
              "          Math.round((position / fileData.byteLength) * 100);\n",
              "      percent.textContent = `${percentDone}% done`;\n",
              "\n",
              "    } while (position < fileData.byteLength);\n",
              "  }\n",
              "\n",
              "  // All done.\n",
              "  yield {\n",
              "    response: {\n",
              "      action: 'complete',\n",
              "    }\n",
              "  };\n",
              "}\n",
              "\n",
              "scope.google = scope.google || {};\n",
              "scope.google.colab = scope.google.colab || {};\n",
              "scope.google.colab._files = {\n",
              "  _uploadFiles,\n",
              "  _uploadFilesContinue,\n",
              "};\n",
              "})(self);\n",
              "</script> "
            ]
          },
          "metadata": {}
        },
        {
          "output_type": "stream",
          "name": "stdout",
          "text": [
            "Saving cabinet.jpeg to cabinet (2).jpeg\n"
          ]
        }
      ]
    },
    {
      "cell_type": "code",
      "source": [
        "# Load the trained model\n",
        "model = YOLO(\"yolov8n_trained.pt\")  # Make sure this is the correct path to your model file\n",
        "\n",
        "# Perform inference on the uploaded image\n",
        "results = model.predict(\"cabinet.jpeg\")  # Use the name of your uploaded image file\n",
        "\n",
        "# Display results\n",
        "result = results[0]  # Access the first result\n",
        "result.show()  # This will show the image with bounding boxes\n",
        "\n",
        "# Step 7: Get detected objects\n",
        "detected_objects = result.boxes.xyxy  # Get detections in xyxy format\n",
        "confidences = result.boxes.conf  # Get confidences\n",
        "classes = result.boxes.cls  # Get class indices\n",
        "\n",
        "# Step 8: Prepare a summary of detected objects\n",
        "summary = []\n",
        "for i in range(len(detected_objects)):\n",
        "    label = model.names[int(classes[i])]  # Convert class index to label\n",
        "    confidence = confidences[i].item()  # Get confidence as a float\n",
        "    summary.append(f\"Detected {label} with confidence {confidence:.2f}\")\n",
        "\n",
        "# Combine the summary into a single string\n",
        "summary_text = \" \".join(summary) if summary else \"No objects detected.\"\n",
        "\n",
        "# Step 9: Use text-to-speech to read out the summary\n",
        "def text_to_speech(text, filename='output.mp3'):\n",
        "    tts = gTTS(text=text, lang='en')\n",
        "    tts.save(filename)\n",
        "    return filename\n",
        "\n",
        "audio_file = text_to_speech(summary_text)\n",
        "audio = Audio(audio_file, autoplay=True)\n",
        "\n",
        "# Step 10: Play the audio\n",
        "display(audio)  # Display the audio widget"
      ],
      "metadata": {
        "id": "ATl0W111LFLr",
        "colab": {
          "base_uri": "https://localhost:8080/",
          "height": 353
        },
        "outputId": "f8c4ec2b-0628-4bfc-87ec-1afcaa2c4642"
      },
      "execution_count": 29,
      "outputs": [
        {
          "output_type": "stream",
          "name": "stdout",
          "text": [
            "\n",
            "image 1/1 /content/cabinet.jpeg: 640x640 (no detections), 10.9ms\n",
            "Speed: 4.2ms preprocess, 10.9ms inference, 1.1ms postprocess per image at shape (1, 3, 640, 640)\n"
          ]
        },
        {
          "output_type": "display_data",
          "data": {
            "text/plain": [
              "<PIL.Image.Image image mode=RGB size=225x225>"
            ],
            "image/png": "[encoded data removed]",
            "image/jpeg": "[encoded data removed]"
          },
          "metadata": {}
        },
        {
          "output_type": "display_data",
          "data": {
            "text/plain": [
              "<IPython.lib.display.Audio object>"
            ],
            "text/html": [
              "\n",
              "                <audio  controls=\"controls\" autoplay=\"autoplay\">\n",
              "                    <source src=\"data:audio/mpeg;base64,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\" type=\"audio/mpeg\" />\n",
              "                    Your browser does not support the audio element.\n",
              "                </audio>\n",
              "              "
            ]
          },
          "metadata": {}
        }
      ]
    }
  ]
}